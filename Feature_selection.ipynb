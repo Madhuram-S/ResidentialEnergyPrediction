{
 "cells": [
  {
   "cell_type": "code",
   "execution_count": 27,
   "metadata": {},
   "outputs": [],
   "source": [
    "import pandas as pd\n",
    "import matplotlib.pyplot as plt"
   ]
  },
  {
   "cell_type": "code",
   "execution_count": 28,
   "metadata": {},
   "outputs": [],
   "source": [
    "import seaborn as sns"
   ]
  },
  {
   "cell_type": "code",
   "execution_count": 29,
   "metadata": {},
   "outputs": [],
   "source": [
    "from feature_selector import FeatureSelector"
   ]
  },
  {
   "cell_type": "code",
   "execution_count": 30,
   "metadata": {},
   "outputs": [],
   "source": [
    "from sklearn.preprocessing import StandardScaler"
   ]
  },
  {
   "cell_type": "code",
   "execution_count": 31,
   "metadata": {},
   "outputs": [
    {
     "name": "stderr",
     "output_type": "stream",
     "text": [
      "C:\\Users\\lalit\\Anaconda3\\envs\\pythondata\\lib\\site-packages\\IPython\\core\\interactiveshell.py:3020: DtypeWarning: Columns (145,146,147,148) have mixed types. Specify dtype option on import or set low_memory=False.\n",
      "  interactivity=interactivity, compiler=compiler, result=result)\n"
     ]
    },
    {
     "data": {
      "text/html": [
       "<div>\n",
       "<style scoped>\n",
       "    .dataframe tbody tr th:only-of-type {\n",
       "        vertical-align: middle;\n",
       "    }\n",
       "\n",
       "    .dataframe tbody tr th {\n",
       "        vertical-align: top;\n",
       "    }\n",
       "\n",
       "    .dataframe thead th {\n",
       "        text-align: right;\n",
       "    }\n",
       "</style>\n",
       "<table border=\"1\" class=\"dataframe\">\n",
       "  <thead>\n",
       "    <tr style=\"text-align: right;\">\n",
       "      <th></th>\n",
       "      <th>RECSYEAR</th>\n",
       "      <th>COUNTRY</th>\n",
       "      <th>DOEID</th>\n",
       "      <th>REGIONC</th>\n",
       "      <th>REGIONNAME</th>\n",
       "      <th>DIVISION</th>\n",
       "      <th>DIVISIONNAME</th>\n",
       "      <th>TYPEHUQ</th>\n",
       "      <th>CELLAR</th>\n",
       "      <th>STORIES</th>\n",
       "      <th>...</th>\n",
       "      <th>WDPELLET</th>\n",
       "      <th>WDOTHER</th>\n",
       "      <th>WDWARM</th>\n",
       "      <th>WDWATER</th>\n",
       "      <th>USESOLAR</th>\n",
       "      <th>SOLWATER</th>\n",
       "      <th>SOLOTHER</th>\n",
       "      <th>TVAUDIOEQUIP</th>\n",
       "      <th>PCOFFEQUIP</th>\n",
       "      <th>PHONE</th>\n",
       "    </tr>\n",
       "  </thead>\n",
       "  <tbody>\n",
       "    <tr>\n",
       "      <th>0</th>\n",
       "      <td>2001</td>\n",
       "      <td>United States</td>\n",
       "      <td>1001</td>\n",
       "      <td>1</td>\n",
       "      <td>Northeast</td>\n",
       "      <td>1</td>\n",
       "      <td>New England</td>\n",
       "      <td>2</td>\n",
       "      <td>1</td>\n",
       "      <td>31</td>\n",
       "      <td>...</td>\n",
       "      <td>9</td>\n",
       "      <td>0</td>\n",
       "      <td>0</td>\n",
       "      <td>0</td>\n",
       "      <td>0</td>\n",
       "      <td>0</td>\n",
       "      <td>0</td>\n",
       "      <td>8</td>\n",
       "      <td>2</td>\n",
       "      <td>3</td>\n",
       "    </tr>\n",
       "    <tr>\n",
       "      <th>1</th>\n",
       "      <td>2001</td>\n",
       "      <td>United States</td>\n",
       "      <td>1002</td>\n",
       "      <td>3</td>\n",
       "      <td>South</td>\n",
       "      <td>7</td>\n",
       "      <td>West South Central</td>\n",
       "      <td>2</td>\n",
       "      <td>0</td>\n",
       "      <td>10</td>\n",
       "      <td>...</td>\n",
       "      <td>9</td>\n",
       "      <td>0</td>\n",
       "      <td>0</td>\n",
       "      <td>0</td>\n",
       "      <td>0</td>\n",
       "      <td>0</td>\n",
       "      <td>0</td>\n",
       "      <td>7</td>\n",
       "      <td>2</td>\n",
       "      <td>3</td>\n",
       "    </tr>\n",
       "    <tr>\n",
       "      <th>2</th>\n",
       "      <td>2001</td>\n",
       "      <td>United States</td>\n",
       "      <td>1003</td>\n",
       "      <td>4</td>\n",
       "      <td>West</td>\n",
       "      <td>9</td>\n",
       "      <td>Mountain</td>\n",
       "      <td>2</td>\n",
       "      <td>0</td>\n",
       "      <td>20</td>\n",
       "      <td>...</td>\n",
       "      <td>9</td>\n",
       "      <td>0</td>\n",
       "      <td>0</td>\n",
       "      <td>0</td>\n",
       "      <td>0</td>\n",
       "      <td>0</td>\n",
       "      <td>0</td>\n",
       "      <td>9</td>\n",
       "      <td>0</td>\n",
       "      <td>3</td>\n",
       "    </tr>\n",
       "    <tr>\n",
       "      <th>3</th>\n",
       "      <td>2001</td>\n",
       "      <td>United States</td>\n",
       "      <td>1005</td>\n",
       "      <td>4</td>\n",
       "      <td>West</td>\n",
       "      <td>9</td>\n",
       "      <td>Mountain</td>\n",
       "      <td>2</td>\n",
       "      <td>0</td>\n",
       "      <td>10</td>\n",
       "      <td>...</td>\n",
       "      <td>9</td>\n",
       "      <td>0</td>\n",
       "      <td>0</td>\n",
       "      <td>0</td>\n",
       "      <td>0</td>\n",
       "      <td>0</td>\n",
       "      <td>0</td>\n",
       "      <td>6</td>\n",
       "      <td>2</td>\n",
       "      <td>3</td>\n",
       "    </tr>\n",
       "    <tr>\n",
       "      <th>4</th>\n",
       "      <td>2001</td>\n",
       "      <td>United States</td>\n",
       "      <td>1006</td>\n",
       "      <td>4</td>\n",
       "      <td>West</td>\n",
       "      <td>9</td>\n",
       "      <td>Mountain</td>\n",
       "      <td>2</td>\n",
       "      <td>0</td>\n",
       "      <td>10</td>\n",
       "      <td>...</td>\n",
       "      <td>9</td>\n",
       "      <td>0</td>\n",
       "      <td>0</td>\n",
       "      <td>0</td>\n",
       "      <td>0</td>\n",
       "      <td>0</td>\n",
       "      <td>0</td>\n",
       "      <td>2</td>\n",
       "      <td>1</td>\n",
       "      <td>0</td>\n",
       "    </tr>\n",
       "  </tbody>\n",
       "</table>\n",
       "<p>5 rows × 196 columns</p>\n",
       "</div>"
      ],
      "text/plain": [
       "   RECSYEAR        COUNTRY  DOEID  REGIONC REGIONNAME  DIVISION  \\\n",
       "0      2001  United States   1001        1  Northeast         1   \n",
       "1      2001  United States   1002        3      South         7   \n",
       "2      2001  United States   1003        4       West         9   \n",
       "3      2001  United States   1005        4       West         9   \n",
       "4      2001  United States   1006        4       West         9   \n",
       "\n",
       "         DIVISIONNAME  TYPEHUQ  CELLAR  STORIES  ...    WDPELLET  WDOTHER  \\\n",
       "0         New England        2       1       31  ...           9        0   \n",
       "1  West South Central        2       0       10  ...           9        0   \n",
       "2            Mountain        2       0       20  ...           9        0   \n",
       "3            Mountain        2       0       10  ...           9        0   \n",
       "4            Mountain        2       0       10  ...           9        0   \n",
       "\n",
       "   WDWARM  WDWATER  USESOLAR  SOLWATER  SOLOTHER  TVAUDIOEQUIP  PCOFFEQUIP  \\\n",
       "0       0        0         0         0         0             8           2   \n",
       "1       0        0         0         0         0             7           2   \n",
       "2       0        0         0         0         0             9           0   \n",
       "3       0        0         0         0         0             6           2   \n",
       "4       0        0         0         0         0             2           1   \n",
       "\n",
       "   PHONE  \n",
       "0      3  \n",
       "1      3  \n",
       "2      3  \n",
       "3      3  \n",
       "4      0  \n",
       "\n",
       "[5 rows x 196 columns]"
      ]
     },
     "execution_count": 31,
     "metadata": {},
     "output_type": "execute_result"
    }
   ],
   "source": [
    "train = pd.read_csv('dataforfinalproject\\RECS_COMBINED_DATA.csv')\n",
    "train_labels = train['TOTALDOLLAR']\n",
    "train.head()"
   ]
  },
  {
   "cell_type": "code",
   "execution_count": 32,
   "metadata": {},
   "outputs": [],
   "source": [
    "train = train.drop(columns = ['RECSYEAR','DOEID'])"
   ]
  },
  {
   "cell_type": "code",
   "execution_count": 33,
   "metadata": {},
   "outputs": [],
   "source": [
    "train = train.drop(columns = ['PERIODFO','PERIODLP','PERIODEL','PERIODNG','NWEIGHT','COUNTRY','REGIONNAME','DIVISIONNAME','TOTALDOLLAR'])"
   ]
  },
  {
   "cell_type": "code",
   "execution_count": 34,
   "metadata": {},
   "outputs": [],
   "source": [
    "train_bk=train\n",
    "#train=train.drop(columns=['DOEID','METROMICRO','UATYP10','CLIMATE_REGION_PUB','IECC_CLIMATE_PUB','NGXBTU'])"
   ]
  },
  {
   "cell_type": "code",
   "execution_count": 35,
   "metadata": {
    "scrolled": true
   },
   "outputs": [
    {
     "data": {
      "text/plain": [
       "REGIONC         int64\n",
       "DIVISION        int64\n",
       "TYPEHUQ         int64\n",
       "CELLAR          int64\n",
       "STORIES         int64\n",
       "PRKGPLC1        int64\n",
       "YEARMADE        int64\n",
       "OCCUPYY         int64\n",
       "BEDROOMS        int64\n",
       "NCOMBATH        int64\n",
       "NHAFBATH        int64\n",
       "OTHROOMS        int64\n",
       "TOTROOMS        int64\n",
       "DOOR1SUM        int64\n",
       "WINDOWS         int64\n",
       "ADQINSUL        int64\n",
       "DRAFTY          int64\n",
       "UGASHERE        int64\n",
       "FUELPOOL        int64\n",
       "SIZRFRI1        int64\n",
       "TYPERFR1        int64\n",
       "AGERFRI1        int64\n",
       "ICE             int64\n",
       "SIZRFRI2        int64\n",
       "TYPERFR2        int64\n",
       "AGERFRI2        int64\n",
       "NUMFREEZ        int64\n",
       "SIZFREEZ        int64\n",
       "AGEFRZR         int64\n",
       "STOVENFUEL      int64\n",
       "                ...  \n",
       "AIRCOND         int64\n",
       "CENACHP         int64\n",
       "USEEL           int64\n",
       "ELWARM          int64\n",
       "ELCOOL          int64\n",
       "ELFOOD          int64\n",
       "ELOTHER         int64\n",
       "UGWARM          int64\n",
       "UGWATER         int64\n",
       "UGCOOK          int64\n",
       "UGOTH           int64\n",
       "USELP           int64\n",
       "LPWARM          int64\n",
       "LPWATER         int64\n",
       "LPCOOK          int64\n",
       "USEFO           int64\n",
       "FOWARM          int64\n",
       "FOWATER         int64\n",
       "USEWOOD         int64\n",
       "WOODLOGS        int64\n",
       "WDPELLET        int64\n",
       "WDOTHER         int64\n",
       "WDWARM          int64\n",
       "WDWATER         int64\n",
       "USESOLAR        int64\n",
       "SOLWATER        int64\n",
       "SOLOTHER        int64\n",
       "TVAUDIOEQUIP    int64\n",
       "PCOFFEQUIP      int64\n",
       "PHONE           int64\n",
       "Length: 185, dtype: object"
      ]
     },
     "execution_count": 35,
     "metadata": {},
     "output_type": "execute_result"
    }
   ],
   "source": [
    "train.dtypes"
   ]
  },
  {
   "cell_type": "code",
   "execution_count": 36,
   "metadata": {},
   "outputs": [],
   "source": [
    "for col in train :\n",
    "        if (train[col].dtype == 'object'): # for object type\n",
    "            print(col)"
   ]
  },
  {
   "cell_type": "code",
   "execution_count": 37,
   "metadata": {},
   "outputs": [],
   "source": [
    "train_scaler = pd.DataFrame(StandardScaler().fit_transform(train.values), columns=train.columns, index=train.index)"
   ]
  },
  {
   "cell_type": "code",
   "execution_count": 38,
   "metadata": {},
   "outputs": [],
   "source": [
    "train_labels_scaler = StandardScaler().fit_transform(train_labels.values.reshape(-1,1))"
   ]
  },
  {
   "cell_type": "code",
   "execution_count": 39,
   "metadata": {},
   "outputs": [],
   "source": [
    "fs = FeatureSelector(data = train, labels = train_labels)"
   ]
  },
  {
   "cell_type": "code",
   "execution_count": 40,
   "metadata": {},
   "outputs": [],
   "source": [
    "# fs.identify_all(selection_params = {'missing_threshold': 0.6, 'correlation_threshold': 0.98, \n",
    "#                                     'task': 'classification', 'eval_metric': 'auc', \n",
    "#                                      'cumulative_importance': 0.99})"
   ]
  },
  {
   "cell_type": "code",
   "execution_count": 41,
   "metadata": {},
   "outputs": [
    {
     "name": "stdout",
     "output_type": "stream",
     "text": [
      "0 features with greater than 0.60 missing values.\n",
      "\n"
     ]
    }
   ],
   "source": [
    "fs.identify_missing(missing_threshold=0.6)"
   ]
  },
  {
   "cell_type": "code",
   "execution_count": 42,
   "metadata": {},
   "outputs": [
    {
     "name": "stdout",
     "output_type": "stream",
     "text": [
      "0 features with a single unique value.\n",
      "\n"
     ]
    }
   ],
   "source": [
    "fs.identify_single_unique()"
   ]
  },
  {
   "cell_type": "code",
   "execution_count": 43,
   "metadata": {},
   "outputs": [
    {
     "data": {
      "text/plain": [
       "[]"
      ]
     },
     "execution_count": 43,
     "metadata": {},
     "output_type": "execute_result"
    }
   ],
   "source": [
    "single_unique = fs.ops['single_unique']\n",
    "single_unique"
   ]
  },
  {
   "cell_type": "code",
   "execution_count": 44,
   "metadata": {},
   "outputs": [
    {
     "data": {
      "text/html": [
       "<div>\n",
       "<style scoped>\n",
       "    .dataframe tbody tr th:only-of-type {\n",
       "        vertical-align: middle;\n",
       "    }\n",
       "\n",
       "    .dataframe tbody tr th {\n",
       "        vertical-align: top;\n",
       "    }\n",
       "\n",
       "    .dataframe thead th {\n",
       "        text-align: right;\n",
       "    }\n",
       "</style>\n",
       "<table border=\"1\" class=\"dataframe\">\n",
       "  <thead>\n",
       "    <tr style=\"text-align: right;\">\n",
       "      <th></th>\n",
       "      <th>nunique</th>\n",
       "    </tr>\n",
       "  </thead>\n",
       "  <tbody>\n",
       "    <tr>\n",
       "      <th>BTUFOSPH</th>\n",
       "      <td>1402</td>\n",
       "    </tr>\n",
       "    <tr>\n",
       "      <th>WASHLOAD</th>\n",
       "      <td>24</td>\n",
       "    </tr>\n",
       "    <tr>\n",
       "      <th>AMTMICRO</th>\n",
       "      <td>50</td>\n",
       "    </tr>\n",
       "    <tr>\n",
       "      <th>PROTHERM</th>\n",
       "      <td>4</td>\n",
       "    </tr>\n",
       "    <tr>\n",
       "      <th>FOKRAUX</th>\n",
       "      <td>2</td>\n",
       "    </tr>\n",
       "  </tbody>\n",
       "</table>\n",
       "</div>"
      ],
      "text/plain": [
       "          nunique\n",
       "BTUFOSPH     1402\n",
       "WASHLOAD       24\n",
       "AMTMICRO       50\n",
       "PROTHERM        4\n",
       "FOKRAUX         2"
      ]
     },
     "execution_count": 44,
     "metadata": {},
     "output_type": "execute_result"
    }
   ],
   "source": [
    "\n",
    "fs.unique_stats.sample(5)"
   ]
  },
  {
   "cell_type": "code",
   "execution_count": 45,
   "metadata": {},
   "outputs": [
    {
     "name": "stdout",
     "output_type": "stream",
     "text": [
      "6 features with a correlation magnitude greater than 0.98.\n",
      "\n"
     ]
    }
   ],
   "source": [
    "fs.identify_collinear(correlation_threshold=0.98)"
   ]
  },
  {
   "cell_type": "code",
   "execution_count": 46,
   "metadata": {},
   "outputs": [
    {
     "data": {
      "text/plain": [
       "['BTULP', 'BTUNG', 'DOLFOOTH', 'GALLONFO', 'DNTHEAT']"
      ]
     },
     "execution_count": 46,
     "metadata": {},
     "output_type": "execute_result"
    }
   ],
   "source": [
    "\n",
    "correlated_features = fs.ops['collinear']\n",
    "correlated_features[:5]"
   ]
  },
  {
   "cell_type": "code",
   "execution_count": 47,
   "metadata": {},
   "outputs": [
    {
     "name": "stdout",
     "output_type": "stream",
     "text": [
      "0    GALLONLP\n",
      "1    CUFEETNG\n",
      "2    BTUFOOTH\n",
      "3       BTUFO\n",
      "4    FUELPOOL\n",
      "5    WOODLOGS\n",
      "Name: corr_feature, dtype: object\n"
     ]
    }
   ],
   "source": [
    "print(fs.record_collinear['corr_feature'])"
   ]
  },
  {
   "cell_type": "code",
   "execution_count": 48,
   "metadata": {},
   "outputs": [
    {
     "data": {
      "text/plain": [
       "<matplotlib.axes._subplots.AxesSubplot at 0x29de5780358>"
      ]
     },
     "execution_count": 48,
     "metadata": {},
     "output_type": "execute_result"
    },
    {
     "data": {
      "image/png": "[encoded data removed]",
      "text/plain": [
       "<Figure size 1000x1000 with 2 Axes>"
      ]
     },
     "metadata": {},
     "output_type": "display_data"
    }
   ],
   "source": [
    "#corr_mat_plt= fs.corr_matrix\n",
    "corr_mat_plt = fs.corr_matrix.loc[list(set(fs.record_collinear['corr_feature'])), \n",
    "\t                                                list(set(fs.record_collinear['drop_feature']))]\n",
    "f, ax = plt.subplots(figsize=(10,10))\n",
    "        \n",
    "        # Diverging colormap\n",
    "cmap = sns.diverging_palette(220, 10, as_cmap=True)\n",
    "\n",
    "        # Draw the heatmap with a color bar\n",
    "sns.heatmap(corr_mat_plt, cmap=cmap, center=0,\n",
    "                    linewidths=.25, cbar_kws={\"shrink\": 0.6})\n"
   ]
  },
  {
   "cell_type": "code",
   "execution_count": 49,
   "metadata": {},
   "outputs": [
    {
     "data": {
      "text/html": [
       "<div>\n",
       "<style scoped>\n",
       "    .dataframe tbody tr th:only-of-type {\n",
       "        vertical-align: middle;\n",
       "    }\n",
       "\n",
       "    .dataframe tbody tr th {\n",
       "        vertical-align: top;\n",
       "    }\n",
       "\n",
       "    .dataframe thead th {\n",
       "        text-align: right;\n",
       "    }\n",
       "</style>\n",
       "<table border=\"1\" class=\"dataframe\">\n",
       "  <thead>\n",
       "    <tr style=\"text-align: right;\">\n",
       "      <th></th>\n",
       "      <th>drop_feature</th>\n",
       "      <th>corr_feature</th>\n",
       "      <th>corr_value</th>\n",
       "    </tr>\n",
       "  </thead>\n",
       "  <tbody>\n",
       "    <tr>\n",
       "      <th>0</th>\n",
       "      <td>BTULP</td>\n",
       "      <td>GALLONLP</td>\n",
       "      <td>1.000000</td>\n",
       "    </tr>\n",
       "    <tr>\n",
       "      <th>1</th>\n",
       "      <td>BTUNG</td>\n",
       "      <td>CUFEETNG</td>\n",
       "      <td>0.999332</td>\n",
       "    </tr>\n",
       "    <tr>\n",
       "      <th>2</th>\n",
       "      <td>DOLFOOTH</td>\n",
       "      <td>BTUFOOTH</td>\n",
       "      <td>0.992998</td>\n",
       "    </tr>\n",
       "    <tr>\n",
       "      <th>3</th>\n",
       "      <td>GALLONFO</td>\n",
       "      <td>BTUFO</td>\n",
       "      <td>0.999991</td>\n",
       "    </tr>\n",
       "    <tr>\n",
       "      <th>4</th>\n",
       "      <td>DNTHEAT</td>\n",
       "      <td>FUELPOOL</td>\n",
       "      <td>0.984424</td>\n",
       "    </tr>\n",
       "    <tr>\n",
       "      <th>5</th>\n",
       "      <td>WDPELLET</td>\n",
       "      <td>WOODLOGS</td>\n",
       "      <td>0.997150</td>\n",
       "    </tr>\n",
       "  </tbody>\n",
       "</table>\n",
       "</div>"
      ],
      "text/plain": [
       "  drop_feature corr_feature  corr_value\n",
       "0        BTULP     GALLONLP    1.000000\n",
       "1        BTUNG     CUFEETNG    0.999332\n",
       "2     DOLFOOTH     BTUFOOTH    0.992998\n",
       "3     GALLONFO        BTUFO    0.999991\n",
       "4      DNTHEAT     FUELPOOL    0.984424\n",
       "5     WDPELLET     WOODLOGS    0.997150"
      ]
     },
     "execution_count": 49,
     "metadata": {},
     "output_type": "execute_result"
    }
   ],
   "source": [
    "\n",
    "fs.record_collinear"
   ]
  },
  {
   "cell_type": "code",
   "execution_count": 50,
   "metadata": {},
   "outputs": [
    {
     "name": "stdout",
     "output_type": "stream",
     "text": [
      "Training Gradient Boosting Model\n",
      "\n",
      "Training until validation scores don't improve for 100 rounds.\n",
      "Did not meet early stopping. Best iteration is:\n",
      "[1000]\tvalid_0's l2: 2103.11\tvalid_0's l2: 2103.11\n",
      "Training until validation scores don't improve for 100 rounds.\n",
      "Did not meet early stopping. Best iteration is:\n",
      "[997]\tvalid_0's l2: 2260.82\tvalid_0's l2: 2260.82\n",
      "Training until validation scores don't improve for 100 rounds.\n",
      "Did not meet early stopping. Best iteration is:\n",
      "[999]\tvalid_0's l2: 2080.37\tvalid_0's l2: 2080.37\n",
      "Training until validation scores don't improve for 100 rounds.\n",
      "Did not meet early stopping. Best iteration is:\n",
      "[998]\tvalid_0's l2: 2064.04\tvalid_0's l2: 2064.04\n",
      "Training until validation scores don't improve for 100 rounds.\n",
      "Did not meet early stopping. Best iteration is:\n",
      "[1000]\tvalid_0's l2: 2356.59\tvalid_0's l2: 2356.59\n",
      "Training until validation scores don't improve for 100 rounds.\n",
      "Did not meet early stopping. Best iteration is:\n",
      "[997]\tvalid_0's l2: 2097.17\tvalid_0's l2: 2097.17\n",
      "Training until validation scores don't improve for 100 rounds.\n",
      "Did not meet early stopping. Best iteration is:\n",
      "[1000]\tvalid_0's l2: 2343.49\tvalid_0's l2: 2343.49\n",
      "Training until validation scores don't improve for 100 rounds.\n",
      "Did not meet early stopping. Best iteration is:\n",
      "[1000]\tvalid_0's l2: 2153.08\tvalid_0's l2: 2153.08\n",
      "Training until validation scores don't improve for 100 rounds.\n",
      "Did not meet early stopping. Best iteration is:\n",
      "[995]\tvalid_0's l2: 2370.52\tvalid_0's l2: 2370.52\n",
      "Training until validation scores don't improve for 100 rounds.\n",
      "Did not meet early stopping. Best iteration is:\n",
      "[1000]\tvalid_0's l2: 2286.89\tvalid_0's l2: 2286.89\n",
      "\n",
      "5 features with zero importance after one-hot encoding.\n",
      "\n"
     ]
    }
   ],
   "source": [
    "fs.identify_zero_importance(task = 'regression', eval_metric = 'l2', \n",
    "                            n_iterations = 10, early_stopping = True)"
   ]
  },
  {
   "cell_type": "code",
   "execution_count": 24,
   "metadata": {},
   "outputs": [
    {
     "name": "stdout",
     "output_type": "stream",
     "text": [
      "There are 186 original features\n",
      "There are 0 one-hot features\n"
     ]
    }
   ],
   "source": [
    "one_hot_features = fs.one_hot_features\n",
    "base_features = fs.base_features\n",
    "print('There are %d original features' % len(base_features))\n",
    "print('There are %d one-hot features' % len(one_hot_features))"
   ]
  },
  {
   "cell_type": "code",
   "execution_count": 51,
   "metadata": {},
   "outputs": [
    {
     "data": {
      "text/plain": [
       "['LPWATER', 'UGWATER', 'ELOTHER', 'SOLWATER', 'USEEL']"
      ]
     },
     "execution_count": 51,
     "metadata": {},
     "output_type": "execute_result"
    }
   ],
   "source": [
    "\n",
    "zero_importance_features = fs.ops['zero_importance']\n",
    "zero_importance_features"
   ]
  },
  {
   "cell_type": "code",
   "execution_count": 53,
   "metadata": {},
   "outputs": [
    {
     "data": {
      "image/png": "[encoded data removed]",
      "text/plain": [
       "<Figure size 1000x600 with 1 Axes>"
      ]
     },
     "metadata": {},
     "output_type": "display_data"
    },
    {
     "data": {
      "image/png": "[encoded data removed]",
      "text/plain": [
       "<Figure size 600x400 with 1 Axes>"
      ]
     },
     "metadata": {},
     "output_type": "display_data"
    },
    {
     "name": "stdout",
     "output_type": "stream",
     "text": [
      "96 features required for 0.95 of cumulative importance\n"
     ]
    }
   ],
   "source": [
    "\n",
    "fs.plot_feature_importances(threshold = 0.95, plot_n = 20)"
   ]
  },
  {
   "cell_type": "code",
   "execution_count": 54,
   "metadata": {},
   "outputs": [
    {
     "data": {
      "text/plain": [
       "feature                  185\n",
       "importance               185\n",
       "normalized_importance    185\n",
       "cumulative_importance    185\n",
       "dtype: int64"
      ]
     },
     "execution_count": 54,
     "metadata": {},
     "output_type": "execute_result"
    }
   ],
   "source": [
    "fs.feature_importances.count()"
   ]
  },
  {
   "cell_type": "code",
   "execution_count": 55,
   "metadata": {},
   "outputs": [
    {
     "data": {
      "text/plain": [
       "156"
      ]
     },
     "execution_count": 55,
     "metadata": {},
     "output_type": "execute_result"
    }
   ],
   "source": [
    "\n",
    "top_features = list(fs.feature_importances.loc[:155, 'feature'])\n",
    "len(top_features)"
   ]
  },
  {
   "cell_type": "code",
   "execution_count": 56,
   "metadata": {
    "scrolled": true
   },
   "outputs": [
    {
     "data": {
      "text/plain": [
       "['DOLLAREL',\n",
       " 'TOTALBTU',\n",
       " 'DOLLARNG',\n",
       " 'DOLELOTH',\n",
       " 'BTUELOTH',\n",
       " 'DOLLARLP',\n",
       " 'BTUEL',\n",
       " 'DOLLARFO',\n",
       " 'DOLELRFG',\n",
       " 'BTUELRFG',\n",
       " 'CUFEETNG',\n",
       " 'BTUNG',\n",
       " 'DOLNGSPH',\n",
       " 'HDD65',\n",
       " 'DOLELCOL',\n",
       " 'REGIONC',\n",
       " 'CDD65',\n",
       " 'TOTHSQFT',\n",
       " 'DOLNGWTH',\n",
       " 'HHAGE',\n",
       " 'BTUELCOL',\n",
       " 'BTUNGWTH',\n",
       " 'DOLFOSPH',\n",
       " 'DOLELWTH',\n",
       " 'GALLONLP',\n",
       " 'DOLELSPH',\n",
       " 'TOTCSQFT',\n",
       " 'BTUFO',\n",
       " 'BTUNGSPH',\n",
       " 'TOTUSQFT',\n",
       " 'DOLNGOTH',\n",
       " 'DOLLPSPH',\n",
       " 'BTUFOSPH',\n",
       " 'PGASHEAT',\n",
       " 'MONEYPY',\n",
       " 'BTUELSPH',\n",
       " 'TVAUDIOEQUIP',\n",
       " 'BTUNGOTH',\n",
       " 'BTUELWTH',\n",
       " 'TEMPNITE',\n",
       " 'TEMPGONE',\n",
       " 'AMTMICRO',\n",
       " 'TEMPHOME',\n",
       " 'NUMCFAN',\n",
       " 'PCOFFEQUIP',\n",
       " 'DWASHUSE',\n",
       " 'OVENUSE',\n",
       " 'WHEATAGE',\n",
       " 'BTULPSPH',\n",
       " 'AGERFRI1',\n",
       " 'DOLLPOTH',\n",
       " 'YEARMADE',\n",
       " 'EQUIPAGE',\n",
       " 'DOLFOWTH',\n",
       " 'TOTROOMS',\n",
       " 'WINDOWS',\n",
       " 'FUELHEAT',\n",
       " 'OCCUPYY',\n",
       " 'BTULPOTH',\n",
       " 'DIVISION',\n",
       " 'DOLLPWTH',\n",
       " 'OTHROOMS',\n",
       " 'WASHLOAD',\n",
       " 'NHSLDMEM',\n",
       " 'FOPAY',\n",
       " 'BTUFOWTH',\n",
       " 'TYPERFR1',\n",
       " 'AGECENAC',\n",
       " 'PHONE',\n",
       " 'AGEFRZR',\n",
       " 'NUMMEAL',\n",
       " 'BTULP',\n",
       " 'LGTOUTNUM',\n",
       " 'ATHOME',\n",
       " 'SIZFREEZ',\n",
       " 'NUMFREEZ',\n",
       " 'EQUIPM',\n",
       " 'WHEATSIZ',\n",
       " 'DRYRUSE',\n",
       " 'TYPERFR2',\n",
       " 'LPGPAY',\n",
       " 'ESDISHW',\n",
       " 'BEDROOMS',\n",
       " 'NUMBERAC',\n",
       " 'SIZRFRI1',\n",
       " 'BTULPWTH',\n",
       " 'AGERFRI2',\n",
       " 'DRAFTY',\n",
       " 'DNTHEAT',\n",
       " 'ADQINSUL',\n",
       " 'GALLONFO',\n",
       " 'WOODAMT',\n",
       " 'WASHTEMP',\n",
       " 'SIZRFRI2',\n",
       " 'WWACAGE',\n",
       " 'STOVENFUEL',\n",
       " 'PROTHERM',\n",
       " 'DOOR1SUM',\n",
       " 'EMPLOYHH',\n",
       " 'STORIES',\n",
       " 'USECENAC',\n",
       " 'NCOMBATH',\n",
       " 'TOASTER',\n",
       " 'ATTCHEAT',\n",
       " 'FUELH2O',\n",
       " 'HHSEX',\n",
       " 'USEWWAC',\n",
       " 'FUELTUB',\n",
       " 'CELLAR',\n",
       " 'NHAFBATH',\n",
       " 'EQUIPAUX',\n",
       " 'GARGHEAT',\n",
       " 'HOUSEHOLDER_RACE',\n",
       " 'RNSETEMP',\n",
       " 'COFFEE',\n",
       " 'UPRTFRZR',\n",
       " 'DRYRFUEL',\n",
       " 'LPOTHER',\n",
       " 'TYPEHUQ',\n",
       " 'ICE',\n",
       " 'COOLTYPE',\n",
       " 'PRKGPLC1',\n",
       " 'ELFOOD',\n",
       " 'UGASHERE',\n",
       " 'POOL',\n",
       " 'USELP',\n",
       " 'THERMAIN',\n",
       " 'NUMFRIG',\n",
       " 'WOODLOGS',\n",
       " 'FOKRAUX',\n",
       " 'KOWNRENT',\n",
       " 'FUELPOOL',\n",
       " 'UGOTH',\n",
       " 'CARRYEL',\n",
       " 'CENACHP',\n",
       " 'DISHWASH',\n",
       " 'CHIMNEY',\n",
       " 'OVEN',\n",
       " 'ROOMHEAT',\n",
       " 'LPCOOK',\n",
       " 'BTUFOOTH',\n",
       " 'LPGAUX',\n",
       " 'UGASAUX',\n",
       " 'SWIMPOOL',\n",
       " 'WOODAUX',\n",
       " 'STOVE',\n",
       " 'UGCOOK',\n",
       " 'ELCOOL',\n",
       " 'STOVEN',\n",
       " 'RECBATH',\n",
       " 'MICRO',\n",
       " 'DIFEQUIP',\n",
       " 'ELECAUX',\n",
       " 'WDOTHER',\n",
       " 'WDPELLET',\n",
       " 'WDWARM']"
      ]
     },
     "execution_count": 56,
     "metadata": {},
     "output_type": "execute_result"
    }
   ],
   "source": [
    "top_features"
   ]
  },
  {
   "cell_type": "code",
   "execution_count": 57,
   "metadata": {},
   "outputs": [
    {
     "name": "stdout",
     "output_type": "stream",
     "text": [
      "95 features required for cumulative importance of 0.95 after one hot encoding.\n",
      "90 features do not contribute to cumulative importance of 0.95.\n",
      "\n"
     ]
    }
   ],
   "source": [
    "\n",
    "fs.identify_low_importance(cumulative_importance = 0.95)"
   ]
  },
  {
   "cell_type": "code",
   "execution_count": 58,
   "metadata": {},
   "outputs": [
    {
     "name": "stdout",
     "output_type": "stream",
     "text": [
      "['missing', 'single_unique', 'collinear', 'zero_importance', 'low_importance'] methods have been run\n",
      "\n",
      "Removed 94 features.\n"
     ]
    }
   ],
   "source": [
    "train_removed = fs.remove(methods = 'all')"
   ]
  },
  {
   "cell_type": "code",
   "execution_count": 59,
   "metadata": {},
   "outputs": [
    {
     "data": {
      "text/plain": [
       "Index(['REGIONC', 'DIVISION', 'YEARMADE', 'OCCUPYY', 'BEDROOMS', 'OTHROOMS',\n",
       "       'TOTROOMS', 'WINDOWS', 'ADQINSUL', 'DRAFTY', 'SIZRFRI1', 'TYPERFR1',\n",
       "       'AGERFRI1', 'SIZRFRI2', 'TYPERFR2', 'AGERFRI2', 'NUMFREEZ', 'SIZFREEZ',\n",
       "       'AGEFRZR', 'OVENUSE', 'AMTMICRO', 'NUMMEAL', 'DWASHUSE', 'WASHLOAD',\n",
       "       'WASHTEMP', 'DRYRUSE', 'EQUIPM', 'FUELHEAT', 'EQUIPAGE', 'TEMPHOME',\n",
       "       'TEMPGONE', 'TEMPNITE', 'AGECENAC', 'NUMBERAC', 'WWACAGE', 'NUMCFAN',\n",
       "       'WHEATAGE', 'WHEATSIZ', 'LGTOUTNUM', 'ESDISHW', 'PGASHEAT', 'LPGPAY',\n",
       "       'FOPAY', 'HHAGE', 'NHSLDMEM', 'ATHOME', 'MONEYPY', 'TOTCSQFT',\n",
       "       'TOTHSQFT', 'TOTUSQFT', 'CDD65', 'HDD65', 'GALLONLP', 'CUFEETNG',\n",
       "       'BTUEL', 'BTUELSPH', 'BTUELCOL', 'BTUELWTH', 'BTUELRFG', 'BTUELOTH',\n",
       "       'BTULPSPH', 'BTULPWTH', 'BTULPOTH', 'BTUNGSPH', 'BTUNGWTH', 'BTUNGOTH',\n",
       "       'BTUFO', 'BTUFOSPH', 'BTUFOWTH', 'DOLLARNG', 'DOLNGSPH', 'DOLNGWTH',\n",
       "       'DOLNGOTH', 'DOLLAREL', 'DOLELSPH', 'DOLELCOL', 'DOLELWTH', 'DOLELRFG',\n",
       "       'DOLELOTH', 'DOLLARLP', 'DOLLPSPH', 'DOLLPWTH', 'DOLLPOTH', 'DOLLARFO',\n",
       "       'DOLFOSPH', 'DOLFOWTH', 'TOTALBTU', 'WOODAMT', 'TVAUDIOEQUIP',\n",
       "       'PCOFFEQUIP', 'PHONE'],\n",
       "      dtype='object')"
      ]
     },
     "execution_count": 59,
     "metadata": {},
     "output_type": "execute_result"
    }
   ],
   "source": [
    "train_removed.columns"
   ]
  },
  {
   "cell_type": "code",
   "execution_count": 60,
   "metadata": {},
   "outputs": [
    {
     "data": {
      "text/plain": [
       "Index(['REGIONC', 'DIVISION', 'TYPEHUQ', 'CELLAR', 'STORIES', 'PRKGPLC1',\n",
       "       'YEARMADE', 'OCCUPYY', 'BEDROOMS', 'NCOMBATH',\n",
       "       ...\n",
       "       'WDPELLET', 'WDOTHER', 'WDWARM', 'WDWATER', 'USESOLAR', 'SOLWATER',\n",
       "       'SOLOTHER', 'TVAUDIOEQUIP', 'PCOFFEQUIP', 'PHONE'],\n",
       "      dtype='object', length=185)"
      ]
     },
     "execution_count": 60,
     "metadata": {},
     "output_type": "execute_result"
    }
   ],
   "source": [
    "train.columns"
   ]
  },
  {
   "cell_type": "code",
   "execution_count": 61,
   "metadata": {},
   "outputs": [
    {
     "name": "stdout",
     "output_type": "stream",
     "text": [
      "['missing', 'single_unique', 'collinear', 'zero_importance', 'low_importance'] methods have been run\n",
      "\n",
      "Removed 94 features including one-hot features.\n"
     ]
    }
   ],
   "source": [
    "train_removed_all = fs.remove(methods = 'all', keep_one_hot=False)"
   ]
  },
  {
   "cell_type": "code",
   "execution_count": 62,
   "metadata": {},
   "outputs": [
    {
     "name": "stdout",
     "output_type": "stream",
     "text": [
      "Original Number of Features 185\n",
      "Final Number of Features:  91\n"
     ]
    }
   ],
   "source": [
    "print('Original Number of Features', train.shape[1])\n",
    "print('Final Number of Features: ', train_removed_all.shape[1])"
   ]
  },
  {
   "cell_type": "code",
   "execution_count": 63,
   "metadata": {},
   "outputs": [],
   "source": [
    "train_removed_all.to_csv('final_feature_selection_price.csv1',index=False)"
   ]
  },
  {
   "cell_type": "code",
   "execution_count": null,
   "metadata": {},
   "outputs": [],
   "source": []
  }
 ],
 "metadata": {
  "kernelspec": {
   "display_name": "Python 3",
   "language": "python",
   "name": "python3"
  },
  "language_info": {
   "codemirror_mode": {
    "name": "ipython",
    "version": 3
   },
   "file_extension": ".py",
   "mimetype": "text/x-python",
   "name": "python",
   "nbconvert_exporter": "python",
   "pygments_lexer": "ipython3",
   "version": "3.7.0"
  }
 },
 "nbformat": 4,
 "nbformat_minor": 2
}
