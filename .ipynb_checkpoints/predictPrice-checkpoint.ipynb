{
 "cells": [
  {
   "cell_type": "code",
   "execution_count": 1,
   "metadata": {},
   "outputs": [],
   "source": [
    "# Generic Dependencies\n",
    "import numpy as np\n",
    "from numpy import arange\n",
    "import pandas as pd\n",
    "from pandas import set_option\n",
    "# from pandas.tools.plotting import scatter_matrix\n",
    "import os\n",
    "\n",
    "# Plotting Libraries\n",
    "from matplotlib import pyplot as plt\n",
    "import seaborn as sns\n",
    "\n",
    "# SKLearn Libraries\n",
    "from sklearn import preprocessing\n",
    "from sklearn.preprocessing import StandardScaler\n",
    "from sklearn.model_selection import train_test_split\n",
    "from sklearn.model_selection import KFold\n",
    "from sklearn.model_selection import cross_val_score\n",
    "from sklearn.model_selection import GridSearchCV\n",
    "from sklearn.linear_model import LinearRegression\n",
    "from sklearn.linear_model import Lasso\n",
    "from sklearn.linear_model import ElasticNet\n",
    "from sklearn.linear_model import Lasso, LassoCV, Ridge,RidgeCV\n",
    "from sklearn.model_selection import cross_validate\n",
    "\n",
    "# library for saving models\n",
    "from sklearn.externals import joblib\n",
    "\n",
    "from sklearn.svm import SVR\n",
    "from sklearn.pipeline import Pipeline\n",
    "from sklearn.ensemble import RandomForestRegressor\n",
    "from sklearn.ensemble import GradientBoostingRegressor\n",
    "from sklearn.ensemble import ExtraTreesRegressor\n",
    "from sklearn.ensemble import AdaBoostRegressor\n",
    "from sklearn.metrics import mean_squared_error\n",
    "\n",
    "# DictVectorizer\n",
    "from sklearn.feature_extraction import DictVectorizer\n",
    "\n",
    "#XGBoost libraries\n",
    "import xgboost as xgb\n",
    "\n",
    "# explain xgboost preiction and model\n",
    "import shap\n",
    "\n",
    "\n",
    "# import generateXdata.py to prepare the data\n",
    "# from generateXdata import generateX\n",
    "from generateXdata import generateX\n",
    "\n",
    "#Import Custom ml models\n",
    "from Cls_ml_models import ml_models_tuned\n"
   ]
  },
  {
   "cell_type": "code",
   "execution_count": 2,
   "metadata": {},
   "outputs": [],
   "source": [
    "def generateX_sample(ohe = True, target = \"BTU\"):    \n",
    "\n",
    "    dataFilePath = \"dataforfinalproject\"\n",
    "    filename = \"predict_sample.csv\"\n",
    "    cols_file = \"Final_Columns_withCat.csv\"\n",
    "\n",
    "    # read dataset wih all years combined data\n",
    "    df_recs = pd.read_csv(os.path.join(dataFilePath, filename), low_memory= False)\n",
    "\n",
    "\n",
    "    # read the columns from Columns csv\n",
    "    df_cols = pd.read_csv(os.path.join(dataFilePath, cols_file))\n",
    "#     df_cols.columns\n",
    "\n",
    "    # Whittle down the dataset to contain only Features required for modeling - X \n",
    "    modelDF = df_recs[df_cols[df_cols.FEATURES_MODEL == \"Y\"].COLUMN_NAME]\n",
    "    print(f\" X Features shape : {modelDF.shape}\")\n",
    "\n",
    "    y_label = df_recs['TOTALBTU']\n",
    "    print(f\"y label shape : {y_label.shape}\")\n",
    "\n",
    "    ### Prepare Data\n",
    "\n",
    "    # describe the dataframe that will be used for model\n",
    "    descrDF = modelDF[df_cols[(df_cols.FEATURES_MODEL == \"Y\")].COLUMN_NAME].describe()\n",
    "    \n",
    "    # transpose to make it easier to obtain columns with values of 99 and <0\n",
    "    descrDF = descrDF.transpose().reset_index()\n",
    "\n",
    "    # obtain column names with values 99. 99 indicates missing or unavailable info. this needs to be replaced with MOde\n",
    "    cols99_2 = descrDF[(descrDF['max'] == 99.0) | (descrDF['min'] < 0) ]['index'].tolist()\n",
    "    print(f\"cols with values as 99 and -2: {cols99_2} \\n\")\n",
    "\n",
    "   \n",
    "    # For all categorical columns, that have 99 and -2 , replace with Columns Mode value#\n",
    "    # step 1 - Fill na for thse values of 99 and -2\n",
    "    # Step 2: Fillna with mode\n",
    "\n",
    "    # step1 \n",
    "    modelCopy = modelDF.copy()\n",
    "    modelDF[cols99_2] = modelDF[cols99_2].applymap(lambda r : None if r in [99,-2] else r)\n",
    "\n",
    "\n",
    "    #step2 :\n",
    "    modelDF[cols99_2] = modelDF[cols99_2].fillna(modelDF.min().iloc[0])\n",
    "\n",
    "    # just for Col EDishw, the values are in -ve  (-9, -8 )so replace it in a separate line\n",
    "    modelDF['ESDISHW'] = modelDF['ESDISHW'].apply(lambda r : 0 if (r < 0) else r)\n",
    "\n",
    "    # check if NAN exists\n",
    "    print(f\"Duplicate Count : {modelDF.isnull().values.sum()}\")\n",
    "\n",
    "\n",
    "    modelDF[df_cols[(df_cols.FEATURES_MODEL == \"Y\") & (df_cols.COLUMN_TYPE == \"Categorical\")].COLUMN_NAME].describe()\n",
    "\n",
    "    if(target == \"BTU\"):\n",
    "        # Drop Price / Cost related Columns as it is only Consumption we are interested in \n",
    "        cost_cols = df_cols[(df_cols['COLUMN_NAME'].str.find(\"DOL\") != -1) & (df_cols.FEATURES_MODEL == \"Y\")].COLUMN_NAME.tolist()\n",
    "        modelDF.drop(cost_cols, axis = 1, inplace = True)\n",
    "        # Drop All BTU related cols too\n",
    "        btu_cols = df_cols[(df_cols['COLUMN_NAME'].str.find(\"BTU\") != -1) & (df_cols.FEATURES_MODEL == \"Y\")].COLUMN_NAME.tolist()\n",
    "        modelDF.drop(btu_cols, axis = 1, inplace = True)\n",
    "        \n",
    "        # and drop TOTAL BTU from X set\n",
    "#         X = modelDF.drop(['TOTALBTU'], axis = 1)\n",
    "    else:\n",
    "        # Drop Price / Cost related Columns as it is only Consumption we are interested in \n",
    "        cost_cols = df_cols[(df_cols['COLUMN_NAME'].str.find(\"DOL\") != -1) & (df_cols.FEATURES_MODEL == \"Y\")].COLUMN_NAME.tolist()\n",
    "        modelDF.drop(cost_cols, axis = 1, inplace = True)\n",
    "        \n",
    "        # Also drop the Total BTU cols \n",
    "        btu_cols = df_cols[(df_cols['COLUMN_NAME'].str.find(\"TOTALBTU\") != -1) & (df_cols.FEATURES_MODEL == \"Y\")].COLUMN_NAME.tolist()\n",
    "        modelDF.drop(btu_cols, axis = 1, inplace = True)\n",
    "\n",
    "\n",
    "            # and drop TOTAL BTU from X set\n",
    "#         X = modelDF.drop(['TOTALDOLLAR'], axis = 1)\n",
    "        \n",
    "    X = modelDF\n",
    "    print(f\"shape of X is {X.shape}\")\n",
    "\n",
    "    if(ohe):\n",
    "        ### Apply dict vectorizer \n",
    "        # convert the X array into a dict\n",
    "        X_dict = X.to_dict(orient = \"records\")\n",
    "       \n",
    "\n",
    "        # instantiate a Dictvectorizer object for X\n",
    "        dv_X = DictVectorizer(sparse=False)   # sparse = False makes the output is not a sparse matrix\n",
    "\n",
    "        # apply dv_X on X_dict\n",
    "        X_encoded = dv_X.fit_transform(X_dict)\n",
    "        \n",
    "        vocab = dv_X.get_feature_names()\n",
    "        # return X_encoded and its vocab\n",
    "        return (X_encoded, vocab)\n",
    "    else:\n",
    "        return (X, X.columns)\n"
   ]
  },
  {
   "cell_type": "code",
   "execution_count": 3,
   "metadata": {},
   "outputs": [],
   "source": [
    "# gobal variables\n",
    "dataFilePath = \"dataforfinalproject\"\n",
    "filename = \"predict_sample.csv\"\n",
    "cols_file = \"Final_Columns_withCat.csv\"\n",
    "\n",
    " \n"
   ]
  },
  {
   "cell_type": "code",
   "execution_count": 4,
   "metadata": {},
   "outputs": [
    {
     "name": "stdout",
     "output_type": "stream",
     "text": [
      " X Features shape : (4, 87)\n",
      "y label shape : (4,)\n",
      "cols with values as 99 and -2: ['FUELPOOL', 'AGERFRI2', 'AGEFRZR', 'DWASHUSE', 'AGECENAC', 'NUMBERAC', 'WWACAGE', 'USEWWAC', 'ESDISHW', 'WOODAMT'] \n",
      "\n",
      "Duplicate Count : 0\n",
      "shape of X is (4, 79)\n"
     ]
    }
   ],
   "source": [
    "X, vocab = generateX_sample(ohe = True, target = \"DOLLAR\")"
   ]
  },
  {
   "cell_type": "code",
   "execution_count": 5,
   "metadata": {},
   "outputs": [],
   "source": [
    "y = pd.read_csv(os.path.join(dataFilePath,filename), low_memory = False)['TOTALDOLLAR']"
   ]
  },
  {
   "cell_type": "code",
   "execution_count": 6,
   "metadata": {},
   "outputs": [],
   "source": [
    "# load the model into a list\n",
    "model_name = [\"Classic Lasso\",\"Elasticnet\", \"LassoCV\", \"LR\",\"RF\", \"RidgeCV\",\"XGB\"]\n",
    "models = [joblib.load(os.path.join(\"final_models\",file)) for file in os.listdir(\"final_models\") if file.endswith(\"sav\")]"
   ]
  },
  {
   "cell_type": "code",
   "execution_count": 7,
   "metadata": {},
   "outputs": [
    {
     "data": {
      "text/plain": [
       "[Lasso(alpha=0.01, copy_X=True, fit_intercept=True, max_iter=1000,\n",
       "    normalize=False, positive=False, precompute=False, random_state=None,\n",
       "    selection='cyclic', tol=0.0001, warm_start=False),\n",
       " ElasticNet(alpha=0.003, copy_X=True, fit_intercept=True, l1_ratio=0.5,\n",
       "       max_iter=1000, normalize=False, positive=False, precompute=False,\n",
       "       random_state=None, selection='cyclic', tol=0.0001, warm_start=False),\n",
       " LassoCV(alphas=None, copy_X=True, cv=10, eps=0.001, fit_intercept=True,\n",
       "     max_iter=100000, n_alphas=100, n_jobs=None, normalize=True,\n",
       "     positive=False, precompute='auto', random_state=None,\n",
       "     selection='cyclic', tol=0.0001, verbose=False),\n",
       " LinearRegression(copy_X=True, fit_intercept=True, n_jobs=None,\n",
       "          normalize=False),\n",
       " RandomForestRegressor(bootstrap=True, criterion='mse', max_depth=11,\n",
       "            max_features='auto', max_leaf_nodes=None,\n",
       "            min_impurity_decrease=0.0, min_impurity_split=None,\n",
       "            min_samples_leaf=1, min_samples_split=2,\n",
       "            min_weight_fraction_leaf=0.0, n_estimators=50, n_jobs=None,\n",
       "            oob_score=False, random_state=30, verbose=0, warm_start=False),\n",
       " RidgeCV(alphas=array([0.   , 0.003, 0.006, 0.009, 0.012, 0.015, 0.018, 0.021, 0.024,\n",
       "        0.027, 0.03 , 0.033, 0.036, 0.039, 0.042, 0.045, 0.048]),\n",
       "     cv=30, fit_intercept=True, gcv_mode=None, normalize=True, scoring=None,\n",
       "     store_cv_values=False),\n",
       " XGBRegressor(alpha=10, base_score=0.5, booster='gbtree', colsample_bylevel=1,\n",
       "        colsample_bytree=0.9, gamma=0, importance_type='gain',\n",
       "        learning_rate=0.05, max_delta_step=0, max_depth=8,\n",
       "        min_child_weight=5, missing=nan, n_estimators=300, n_jobs=1,\n",
       "        nthread=2, objective='reg:linear', random_state=0, reg_alpha=0,\n",
       "        reg_lambda=1, scale_pos_weight=1, seed=42, silent=1, subsample=0.7)]"
      ]
     },
     "execution_count": 7,
     "metadata": {},
     "output_type": "execute_result"
    }
   ],
   "source": [
    "models"
   ]
  },
  {
   "cell_type": "code",
   "execution_count": 8,
   "metadata": {},
   "outputs": [
    {
     "data": {
      "text/plain": [
       "(4, 79)"
      ]
     },
     "execution_count": 8,
     "metadata": {},
     "output_type": "execute_result"
    }
   ],
   "source": [
    "X.shape"
   ]
  },
  {
   "cell_type": "code",
   "execution_count": 9,
   "metadata": {},
   "outputs": [
    {
     "data": {
      "text/html": [
       "<div>\n",
       "<style scoped>\n",
       "    .dataframe tbody tr th:only-of-type {\n",
       "        vertical-align: middle;\n",
       "    }\n",
       "\n",
       "    .dataframe tbody tr th {\n",
       "        vertical-align: top;\n",
       "    }\n",
       "\n",
       "    .dataframe thead th {\n",
       "        text-align: right;\n",
       "    }\n",
       "</style>\n",
       "<table border=\"1\" class=\"dataframe\">\n",
       "  <thead>\n",
       "    <tr style=\"text-align: right;\">\n",
       "      <th></th>\n",
       "      <th>Actual</th>\n",
       "    </tr>\n",
       "  </thead>\n",
       "  <tbody>\n",
       "    <tr>\n",
       "      <th>0</th>\n",
       "      <td>1885.00</td>\n",
       "    </tr>\n",
       "    <tr>\n",
       "      <th>1</th>\n",
       "      <td>1598.29</td>\n",
       "    </tr>\n",
       "    <tr>\n",
       "      <th>2</th>\n",
       "      <td>1996.64</td>\n",
       "    </tr>\n",
       "    <tr>\n",
       "      <th>3</th>\n",
       "      <td>2767.00</td>\n",
       "    </tr>\n",
       "  </tbody>\n",
       "</table>\n",
       "</div>"
      ],
      "text/plain": [
       "    Actual\n",
       "0  1885.00\n",
       "1  1598.29\n",
       "2  1996.64\n",
       "3  2767.00"
      ]
     },
     "execution_count": 9,
     "metadata": {},
     "output_type": "execute_result"
    }
   ],
   "source": [
    "results_data = pd.DataFrame(columns = [\"Actual\"])\n",
    "results_score = pd.DataFrame(columns = [\"Model\",\"R2\", \"RMSE\"])\n",
    "\n",
    "results_data['Actual'] = y\n",
    "results_data"
   ]
  },
  {
   "cell_type": "code",
   "execution_count": 10,
   "metadata": {},
   "outputs": [
    {
     "name": "stdout",
     "output_type": "stream",
     "text": [
      "Classic Lasso\n",
      "Predicted Price is [1988.60863599 1641.40194513 1744.41741234 2410.47603955]\n",
      "R2 value is 72.81\n",
      "Elasticnet\n",
      "Predicted Price is [1988.43986068 1641.17646777 1746.22608845 2409.06463704]\n",
      "R2 value is 72.8\n",
      "LassoCV\n",
      "Predicted Price is [1983.85733479 1644.80341361 1741.72111697 2424.62338928]\n",
      "R2 value is 74.03\n",
      "LR\n",
      "Predicted Price is [1988.60252695 1641.50386484 1744.38963165 2410.45929351]\n",
      "R2 value is 72.8\n",
      "RF\n",
      "Predicted Price is [1797.27862791 1580.20205859 1945.17761561 2602.46756515]\n",
      "R2 value is 94.95\n",
      "RidgeCV\n",
      "Predicted Price is [1988.60252695 1641.50386484 1744.38963165 2410.45929351]\n",
      "R2 value is 72.8\n",
      "XGB\n",
      "Predicted Price is [1810.1459 1514.4484 1874.6632 2780.7053]\n",
      "R2 value is 96.3\n"
     ]
    }
   ],
   "source": [
    "for i, model in enumerate(models):\n",
    "    print(model_name[i])\n",
    "    \n",
    "    pred_price = model.predict(X)\n",
    "    r2 = round(model.score(X, y)*100,2)\n",
    "    rmse = round(np.sqrt(mean_squared_error(y,pred_price)))\n",
    "    \n",
    "    print(f\"Predicted Price is {pred_price}\")\n",
    "    print(f\"R2 value is {r2}\")\n",
    "    \n",
    "    results_data[model_name[i]] = pred_price\n",
    "    \n",
    "    results_score['Model'] = model_name[i]\n",
    "    results_score['R2'] = r2\n",
    "    results_score['RMSE'] = rmse\n",
    "    \n",
    "    \n",
    "    \n",
    "    "
   ]
  },
  {
   "cell_type": "code",
   "execution_count": 11,
   "metadata": {},
   "outputs": [
    {
     "data": {
      "text/html": [
       "<div>\n",
       "<style scoped>\n",
       "    .dataframe tbody tr th:only-of-type {\n",
       "        vertical-align: middle;\n",
       "    }\n",
       "\n",
       "    .dataframe tbody tr th {\n",
       "        vertical-align: top;\n",
       "    }\n",
       "\n",
       "    .dataframe thead th {\n",
       "        text-align: right;\n",
       "    }\n",
       "</style>\n",
       "<table border=\"1\" class=\"dataframe\">\n",
       "  <thead>\n",
       "    <tr style=\"text-align: right;\">\n",
       "      <th></th>\n",
       "      <th>Actual</th>\n",
       "      <th>Classic Lasso</th>\n",
       "      <th>Elasticnet</th>\n",
       "      <th>LassoCV</th>\n",
       "      <th>LR</th>\n",
       "      <th>RF</th>\n",
       "      <th>RidgeCV</th>\n",
       "      <th>XGB</th>\n",
       "    </tr>\n",
       "  </thead>\n",
       "  <tbody>\n",
       "    <tr>\n",
       "      <th>0</th>\n",
       "      <td>1885.00</td>\n",
       "      <td>1988.608636</td>\n",
       "      <td>1988.439861</td>\n",
       "      <td>1983.857335</td>\n",
       "      <td>1988.602527</td>\n",
       "      <td>1797.278628</td>\n",
       "      <td>1988.602527</td>\n",
       "      <td>1810.145874</td>\n",
       "    </tr>\n",
       "    <tr>\n",
       "      <th>1</th>\n",
       "      <td>1598.29</td>\n",
       "      <td>1641.401945</td>\n",
       "      <td>1641.176468</td>\n",
       "      <td>1644.803414</td>\n",
       "      <td>1641.503865</td>\n",
       "      <td>1580.202059</td>\n",
       "      <td>1641.503865</td>\n",
       "      <td>1514.448364</td>\n",
       "    </tr>\n",
       "    <tr>\n",
       "      <th>2</th>\n",
       "      <td>1996.64</td>\n",
       "      <td>1744.417412</td>\n",
       "      <td>1746.226088</td>\n",
       "      <td>1741.721117</td>\n",
       "      <td>1744.389632</td>\n",
       "      <td>1945.177616</td>\n",
       "      <td>1744.389632</td>\n",
       "      <td>1874.663208</td>\n",
       "    </tr>\n",
       "    <tr>\n",
       "      <th>3</th>\n",
       "      <td>2767.00</td>\n",
       "      <td>2410.476040</td>\n",
       "      <td>2409.064637</td>\n",
       "      <td>2424.623389</td>\n",
       "      <td>2410.459294</td>\n",
       "      <td>2602.467565</td>\n",
       "      <td>2410.459294</td>\n",
       "      <td>2780.705322</td>\n",
       "    </tr>\n",
       "  </tbody>\n",
       "</table>\n",
       "</div>"
      ],
      "text/plain": [
       "    Actual  Classic Lasso   Elasticnet      LassoCV           LR           RF  \\\n",
       "0  1885.00    1988.608636  1988.439861  1983.857335  1988.602527  1797.278628   \n",
       "1  1598.29    1641.401945  1641.176468  1644.803414  1641.503865  1580.202059   \n",
       "2  1996.64    1744.417412  1746.226088  1741.721117  1744.389632  1945.177616   \n",
       "3  2767.00    2410.476040  2409.064637  2424.623389  2410.459294  2602.467565   \n",
       "\n",
       "       RidgeCV          XGB  \n",
       "0  1988.602527  1810.145874  \n",
       "1  1641.503865  1514.448364  \n",
       "2  1744.389632  1874.663208  \n",
       "3  2410.459294  2780.705322  "
      ]
     },
     "execution_count": 11,
     "metadata": {},
     "output_type": "execute_result"
    }
   ],
   "source": [
    "results_data"
   ]
  },
  {
   "cell_type": "code",
   "execution_count": 29,
   "metadata": {},
   "outputs": [],
   "source": [
    "results1 = pd.DataFrame(results_data.stack(), columns = [\"Price\"])"
   ]
  },
  {
   "cell_type": "code",
   "execution_count": 30,
   "metadata": {},
   "outputs": [],
   "source": [
    "results1.reset_index(inplace = True)"
   ]
  },
  {
   "cell_type": "code",
   "execution_count": 23,
   "metadata": {},
   "outputs": [],
   "source": [
    "# results1.drop(\"level_0\", axis = 1, inplace = True)"
   ]
  },
  {
   "cell_type": "code",
   "execution_count": 35,
   "metadata": {},
   "outputs": [],
   "source": [
    "results1.columns = ['SampleNum','Model','Price']"
   ]
  },
  {
   "cell_type": "code",
   "execution_count": 36,
   "metadata": {},
   "outputs": [
    {
     "data": {
      "text/html": [
       "<div>\n",
       "<style scoped>\n",
       "    .dataframe tbody tr th:only-of-type {\n",
       "        vertical-align: middle;\n",
       "    }\n",
       "\n",
       "    .dataframe tbody tr th {\n",
       "        vertical-align: top;\n",
       "    }\n",
       "\n",
       "    .dataframe thead th {\n",
       "        text-align: right;\n",
       "    }\n",
       "</style>\n",
       "<table border=\"1\" class=\"dataframe\">\n",
       "  <thead>\n",
       "    <tr style=\"text-align: right;\">\n",
       "      <th></th>\n",
       "      <th>SampleNum</th>\n",
       "      <th>Model</th>\n",
       "      <th>Price</th>\n",
       "    </tr>\n",
       "  </thead>\n",
       "  <tbody>\n",
       "    <tr>\n",
       "      <th>0</th>\n",
       "      <td>0</td>\n",
       "      <td>Actual</td>\n",
       "      <td>1885.000000</td>\n",
       "    </tr>\n",
       "    <tr>\n",
       "      <th>1</th>\n",
       "      <td>0</td>\n",
       "      <td>Classic Lasso</td>\n",
       "      <td>1988.608636</td>\n",
       "    </tr>\n",
       "    <tr>\n",
       "      <th>2</th>\n",
       "      <td>0</td>\n",
       "      <td>Elasticnet</td>\n",
       "      <td>1988.439861</td>\n",
       "    </tr>\n",
       "    <tr>\n",
       "      <th>3</th>\n",
       "      <td>0</td>\n",
       "      <td>LassoCV</td>\n",
       "      <td>1983.857335</td>\n",
       "    </tr>\n",
       "    <tr>\n",
       "      <th>4</th>\n",
       "      <td>0</td>\n",
       "      <td>LR</td>\n",
       "      <td>1988.602527</td>\n",
       "    </tr>\n",
       "  </tbody>\n",
       "</table>\n",
       "</div>"
      ],
      "text/plain": [
       "   SampleNum          Model        Price\n",
       "0          0         Actual  1885.000000\n",
       "1          0  Classic Lasso  1988.608636\n",
       "2          0     Elasticnet  1988.439861\n",
       "3          0        LassoCV  1983.857335\n",
       "4          0             LR  1988.602527"
      ]
     },
     "execution_count": 36,
     "metadata": {},
     "output_type": "execute_result"
    }
   ],
   "source": [
    "results1.head()"
   ]
  },
  {
   "cell_type": "code",
   "execution_count": 61,
   "metadata": {},
   "outputs": [
    {
     "data": {
      "image/png": "[encoded data removed]",
      "text/plain": [
       "<Figure size 864x576 with 1 Axes>"
      ]
     },
     "metadata": {
      "needs_background": "light"
     },
     "output_type": "display_data"
    }
   ],
   "source": [
    "fig, ax = plt.subplots(figsize = (12, 8))\n",
    "sns.scatterplot(x = \"SampleNum\", y = \"Price\", data = results1, hue = results1.Model, ax = ax, style = \"Model\", s = 150, palette = \"gist_rainbow\")\n",
    "plt.legend(loc = \"best\")\n",
    "plt.ylim(min(results1.Price)-60, max(results1.Price)+60)\n",
    "plt.show()"
   ]
  },
  {
   "cell_type": "code",
   "execution_count": 60,
   "metadata": {},
   "outputs": [
    {
     "data": {
      "text/plain": [
       "<seaborn.axisgrid.FacetGrid at 0x2286e8ea2e8>"
      ]
     },
     "execution_count": 60,
     "metadata": {},
     "output_type": "execute_result"
    },
    {
     "data": {
      "image/png": "[encoded data removed]",
      "text/plain": [
       "<Figure size 534x432 with 1 Axes>"
      ]
     },
     "metadata": {
      "needs_background": "light"
     },
     "output_type": "display_data"
    }
   ],
   "source": [
    "# fig, ax1 = plt.subplots(figsize = (12, 8))\n",
    "g = sns.catplot(x = \"SampleNum\", y = \"Price\",hue = \"Model\",  data = results1, height=6, kind=\"bar\", palette=\"muted\")\n",
    "\n",
    "g.despine(left=True)\n",
    "g.set_ylabels(\"Predicted vs actual Price\")"
   ]
  },
  {
   "cell_type": "code",
   "execution_count": null,
   "metadata": {},
   "outputs": [],
   "source": []
  }
 ],
 "metadata": {
  "kernelspec": {
   "display_name": "Python 3",
   "language": "python",
   "name": "python3"
  },
  "language_info": {
   "codemirror_mode": {
    "name": "ipython",
    "version": 3
   },
   "file_extension": ".py",
   "mimetype": "text/x-python",
   "name": "python",
   "nbconvert_exporter": "python",
   "pygments_lexer": "ipython3",
   "version": "3.6.8"
  }
 },
 "nbformat": 4,
 "nbformat_minor": 2
}
