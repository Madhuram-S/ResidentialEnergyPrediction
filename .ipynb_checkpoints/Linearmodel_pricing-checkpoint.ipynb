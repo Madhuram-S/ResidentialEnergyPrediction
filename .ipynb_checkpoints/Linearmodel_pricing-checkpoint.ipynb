{
 "cells": [
  {
   "cell_type": "code",
   "execution_count": 1,
   "metadata": {},
   "outputs": [],
   "source": [
    "import numpy as np\n",
    "from numpy import arange\n",
    "import matplotlib.pyplot as plt\n",
    "import seaborn as sns\n",
    "import pandas as pd\n",
    "from pandas import read_csv\n",
    "from pandas import set_option\n",
    "from pandas.tools.plotting import scatter_matrix\n",
    "from sklearn.preprocessing import StandardScaler\n",
    "from sklearn.model_selection import train_test_split\n",
    "from sklearn.model_selection import KFold\n",
    "from sklearn.model_selection import cross_val_score\n",
    "from sklearn.model_selection import GridSearchCV\n",
    "from sklearn.linear_model import LinearRegression\n",
    "from sklearn.linear_model import Lasso\n",
    "from sklearn.linear_model import ElasticNet\n",
    "from generateXdata import generateX\n",
    "import os\n",
    "from sklearn.linear_model import Lasso, LassoCV\n",
    "from sklearn.model_selection import cross_validate\n",
    "\n",
    "from sklearn.linear_model import Ridge,RidgeCV\n",
    "from sklearn.metrics import mean_squared_error\n"
   ]
  },
  {
   "cell_type": "code",
   "execution_count": 2,
   "metadata": {},
   "outputs": [],
   "source": [
    "\n",
    "filename = os.path.join(\"dataforfinalproject\",\"RECS_COMBINED_DATA.csv\")\n",
    "dataset=read_csv(filename)"
   ]
  },
  {
   "cell_type": "code",
   "execution_count": 3,
   "metadata": {},
   "outputs": [
    {
     "data": {
      "text/html": [
       "<div>\n",
       "<style scoped>\n",
       "    .dataframe tbody tr th:only-of-type {\n",
       "        vertical-align: middle;\n",
       "    }\n",
       "\n",
       "    .dataframe tbody tr th {\n",
       "        vertical-align: top;\n",
       "    }\n",
       "\n",
       "    .dataframe thead th {\n",
       "        text-align: right;\n",
       "    }\n",
       "</style>\n",
       "<table border=\"1\" class=\"dataframe\">\n",
       "  <thead>\n",
       "    <tr style=\"text-align: right;\">\n",
       "      <th></th>\n",
       "      <th>RECSYEAR</th>\n",
       "      <th>DOEID</th>\n",
       "      <th>REGIONC</th>\n",
       "      <th>DIVISION</th>\n",
       "      <th>TYPEHUQ</th>\n",
       "      <th>CELLAR</th>\n",
       "      <th>STORIES</th>\n",
       "      <th>PRKGPLC1</th>\n",
       "      <th>YEARMADE</th>\n",
       "      <th>OCCUPYY</th>\n",
       "      <th>...</th>\n",
       "      <th>WDPELLET</th>\n",
       "      <th>WDOTHER</th>\n",
       "      <th>WDWARM</th>\n",
       "      <th>WDWATER</th>\n",
       "      <th>USESOLAR</th>\n",
       "      <th>SOLWATER</th>\n",
       "      <th>SOLOTHER</th>\n",
       "      <th>TVAUDIOEQUIP</th>\n",
       "      <th>PCOFFEQUIP</th>\n",
       "      <th>PHONE</th>\n",
       "    </tr>\n",
       "  </thead>\n",
       "  <tbody>\n",
       "    <tr>\n",
       "      <th>count</th>\n",
       "      <td>21430.000000</td>\n",
       "      <td>21430.000000</td>\n",
       "      <td>21430.000000</td>\n",
       "      <td>21430.000000</td>\n",
       "      <td>21430.000000</td>\n",
       "      <td>21430.000000</td>\n",
       "      <td>21430.000000</td>\n",
       "      <td>21430.000000</td>\n",
       "      <td>21430.000000</td>\n",
       "      <td>21430.000000</td>\n",
       "      <td>...</td>\n",
       "      <td>21430.000000</td>\n",
       "      <td>21430.000000</td>\n",
       "      <td>21430.000000</td>\n",
       "      <td>21430.000000</td>\n",
       "      <td>21430.000000</td>\n",
       "      <td>21430.000000</td>\n",
       "      <td>21430.000000</td>\n",
       "      <td>21430.000000</td>\n",
       "      <td>21430.000000</td>\n",
       "      <td>21430.000000</td>\n",
       "    </tr>\n",
       "    <tr>\n",
       "      <th>mean</th>\n",
       "      <td>2008.789827</td>\n",
       "      <td>7205.857863</td>\n",
       "      <td>2.679888</td>\n",
       "      <td>5.453010</td>\n",
       "      <td>2.666636</td>\n",
       "      <td>0.126832</td>\n",
       "      <td>15.122912</td>\n",
       "      <td>0.468735</td>\n",
       "      <td>4.062529</td>\n",
       "      <td>6.808166</td>\n",
       "      <td>...</td>\n",
       "      <td>0.295194</td>\n",
       "      <td>-1.385768</td>\n",
       "      <td>0.112179</td>\n",
       "      <td>0.001260</td>\n",
       "      <td>0.009846</td>\n",
       "      <td>0.002427</td>\n",
       "      <td>0.006300</td>\n",
       "      <td>6.524078</td>\n",
       "      <td>2.665982</td>\n",
       "      <td>1.516472</td>\n",
       "    </tr>\n",
       "    <tr>\n",
       "      <th>std</th>\n",
       "      <td>4.803271</td>\n",
       "      <td>4406.168345</td>\n",
       "      <td>1.035783</td>\n",
       "      <td>2.806848</td>\n",
       "      <td>1.205252</td>\n",
       "      <td>2.300688</td>\n",
       "      <td>20.558255</td>\n",
       "      <td>2.286153</td>\n",
       "      <td>2.237875</td>\n",
       "      <td>2.003827</td>\n",
       "      <td>...</td>\n",
       "      <td>4.218022</td>\n",
       "      <td>0.927989</td>\n",
       "      <td>0.315594</td>\n",
       "      <td>0.035474</td>\n",
       "      <td>0.098740</td>\n",
       "      <td>0.049201</td>\n",
       "      <td>0.079121</td>\n",
       "      <td>3.612805</td>\n",
       "      <td>2.276647</td>\n",
       "      <td>1.118314</td>\n",
       "    </tr>\n",
       "    <tr>\n",
       "      <th>min</th>\n",
       "      <td>2001.000000</td>\n",
       "      <td>1.000000</td>\n",
       "      <td>1.000000</td>\n",
       "      <td>1.000000</td>\n",
       "      <td>1.000000</td>\n",
       "      <td>-2.000000</td>\n",
       "      <td>-2.000000</td>\n",
       "      <td>-2.000000</td>\n",
       "      <td>1.000000</td>\n",
       "      <td>1.000000</td>\n",
       "      <td>...</td>\n",
       "      <td>-2.000000</td>\n",
       "      <td>-2.000000</td>\n",
       "      <td>0.000000</td>\n",
       "      <td>0.000000</td>\n",
       "      <td>0.000000</td>\n",
       "      <td>0.000000</td>\n",
       "      <td>0.000000</td>\n",
       "      <td>0.000000</td>\n",
       "      <td>0.000000</td>\n",
       "      <td>0.000000</td>\n",
       "    </tr>\n",
       "    <tr>\n",
       "      <th>25%</th>\n",
       "      <td>2009.000000</td>\n",
       "      <td>3336.250000</td>\n",
       "      <td>2.000000</td>\n",
       "      <td>3.000000</td>\n",
       "      <td>2.000000</td>\n",
       "      <td>-2.000000</td>\n",
       "      <td>10.000000</td>\n",
       "      <td>0.000000</td>\n",
       "      <td>2.000000</td>\n",
       "      <td>6.000000</td>\n",
       "      <td>...</td>\n",
       "      <td>-2.000000</td>\n",
       "      <td>-2.000000</td>\n",
       "      <td>0.000000</td>\n",
       "      <td>0.000000</td>\n",
       "      <td>0.000000</td>\n",
       "      <td>0.000000</td>\n",
       "      <td>0.000000</td>\n",
       "      <td>4.000000</td>\n",
       "      <td>1.000000</td>\n",
       "      <td>1.000000</td>\n",
       "    </tr>\n",
       "    <tr>\n",
       "      <th>50%</th>\n",
       "      <td>2009.000000</td>\n",
       "      <td>6481.500000</td>\n",
       "      <td>3.000000</td>\n",
       "      <td>5.000000</td>\n",
       "      <td>2.000000</td>\n",
       "      <td>0.000000</td>\n",
       "      <td>10.000000</td>\n",
       "      <td>0.000000</td>\n",
       "      <td>4.000000</td>\n",
       "      <td>8.000000</td>\n",
       "      <td>...</td>\n",
       "      <td>-2.000000</td>\n",
       "      <td>-2.000000</td>\n",
       "      <td>0.000000</td>\n",
       "      <td>0.000000</td>\n",
       "      <td>0.000000</td>\n",
       "      <td>0.000000</td>\n",
       "      <td>0.000000</td>\n",
       "      <td>6.000000</td>\n",
       "      <td>3.000000</td>\n",
       "      <td>2.000000</td>\n",
       "    </tr>\n",
       "    <tr>\n",
       "      <th>75%</th>\n",
       "      <td>2015.000000</td>\n",
       "      <td>11072.750000</td>\n",
       "      <td>4.000000</td>\n",
       "      <td>8.000000</td>\n",
       "      <td>3.000000</td>\n",
       "      <td>1.000000</td>\n",
       "      <td>20.000000</td>\n",
       "      <td>1.000000</td>\n",
       "      <td>6.000000</td>\n",
       "      <td>8.000000</td>\n",
       "      <td>...</td>\n",
       "      <td>0.000000</td>\n",
       "      <td>0.000000</td>\n",
       "      <td>0.000000</td>\n",
       "      <td>0.000000</td>\n",
       "      <td>0.000000</td>\n",
       "      <td>0.000000</td>\n",
       "      <td>0.000000</td>\n",
       "      <td>9.000000</td>\n",
       "      <td>4.000000</td>\n",
       "      <td>2.000000</td>\n",
       "    </tr>\n",
       "    <tr>\n",
       "      <th>max</th>\n",
       "      <td>2015.000000</td>\n",
       "      <td>15686.000000</td>\n",
       "      <td>4.000000</td>\n",
       "      <td>10.000000</td>\n",
       "      <td>5.000000</td>\n",
       "      <td>9.000000</td>\n",
       "      <td>99.000000</td>\n",
       "      <td>9.000000</td>\n",
       "      <td>13.000000</td>\n",
       "      <td>9.000000</td>\n",
       "      <td>...</td>\n",
       "      <td>9.000000</td>\n",
       "      <td>1.000000</td>\n",
       "      <td>1.000000</td>\n",
       "      <td>1.000000</td>\n",
       "      <td>1.000000</td>\n",
       "      <td>1.000000</td>\n",
       "      <td>1.000000</td>\n",
       "      <td>33.000000</td>\n",
       "      <td>23.000000</td>\n",
       "      <td>10.000000</td>\n",
       "    </tr>\n",
       "  </tbody>\n",
       "</table>\n",
       "<p>8 rows × 189 columns</p>\n",
       "</div>"
      ],
      "text/plain": [
       "           RECSYEAR         DOEID       REGIONC      DIVISION       TYPEHUQ  \\\n",
       "count  21430.000000  21430.000000  21430.000000  21430.000000  21430.000000   \n",
       "mean    2008.789827   7205.857863      2.679888      5.453010      2.666636   \n",
       "std        4.803271   4406.168345      1.035783      2.806848      1.205252   \n",
       "min     2001.000000      1.000000      1.000000      1.000000      1.000000   \n",
       "25%     2009.000000   3336.250000      2.000000      3.000000      2.000000   \n",
       "50%     2009.000000   6481.500000      3.000000      5.000000      2.000000   \n",
       "75%     2015.000000  11072.750000      4.000000      8.000000      3.000000   \n",
       "max     2015.000000  15686.000000      4.000000     10.000000      5.000000   \n",
       "\n",
       "             CELLAR       STORIES      PRKGPLC1      YEARMADE       OCCUPYY  \\\n",
       "count  21430.000000  21430.000000  21430.000000  21430.000000  21430.000000   \n",
       "mean       0.126832     15.122912      0.468735      4.062529      6.808166   \n",
       "std        2.300688     20.558255      2.286153      2.237875      2.003827   \n",
       "min       -2.000000     -2.000000     -2.000000      1.000000      1.000000   \n",
       "25%       -2.000000     10.000000      0.000000      2.000000      6.000000   \n",
       "50%        0.000000     10.000000      0.000000      4.000000      8.000000   \n",
       "75%        1.000000     20.000000      1.000000      6.000000      8.000000   \n",
       "max        9.000000     99.000000      9.000000     13.000000      9.000000   \n",
       "\n",
       "           ...           WDPELLET       WDOTHER        WDWARM       WDWATER  \\\n",
       "count      ...       21430.000000  21430.000000  21430.000000  21430.000000   \n",
       "mean       ...           0.295194     -1.385768      0.112179      0.001260   \n",
       "std        ...           4.218022      0.927989      0.315594      0.035474   \n",
       "min        ...          -2.000000     -2.000000      0.000000      0.000000   \n",
       "25%        ...          -2.000000     -2.000000      0.000000      0.000000   \n",
       "50%        ...          -2.000000     -2.000000      0.000000      0.000000   \n",
       "75%        ...           0.000000      0.000000      0.000000      0.000000   \n",
       "max        ...           9.000000      1.000000      1.000000      1.000000   \n",
       "\n",
       "           USESOLAR      SOLWATER      SOLOTHER  TVAUDIOEQUIP    PCOFFEQUIP  \\\n",
       "count  21430.000000  21430.000000  21430.000000  21430.000000  21430.000000   \n",
       "mean       0.009846      0.002427      0.006300      6.524078      2.665982   \n",
       "std        0.098740      0.049201      0.079121      3.612805      2.276647   \n",
       "min        0.000000      0.000000      0.000000      0.000000      0.000000   \n",
       "25%        0.000000      0.000000      0.000000      4.000000      1.000000   \n",
       "50%        0.000000      0.000000      0.000000      6.000000      3.000000   \n",
       "75%        0.000000      0.000000      0.000000      9.000000      4.000000   \n",
       "max        1.000000      1.000000      1.000000     33.000000     23.000000   \n",
       "\n",
       "              PHONE  \n",
       "count  21430.000000  \n",
       "mean       1.516472  \n",
       "std        1.118314  \n",
       "min        0.000000  \n",
       "25%        1.000000  \n",
       "50%        2.000000  \n",
       "75%        2.000000  \n",
       "max       10.000000  \n",
       "\n",
       "[8 rows x 189 columns]"
      ]
     },
     "execution_count": 3,
     "metadata": {},
     "output_type": "execute_result"
    }
   ],
   "source": [
    "dataset.describe()"
   ]
  },
  {
   "cell_type": "code",
   "execution_count": 4,
   "metadata": {},
   "outputs": [],
   "source": [
    "#set_option('precision', 2)\n",
    "#dataset.corr(method='spearman')"
   ]
  },
  {
   "cell_type": "code",
   "execution_count": 4,
   "metadata": {},
   "outputs": [],
   "source": [
    "cost=dataset['TOTALDOLLAR']\n",
    "\n",
    "energy_exp= dataset['TOTALBTU']"
   ]
  },
  {
   "cell_type": "code",
   "execution_count": 5,
   "metadata": {},
   "outputs": [
    {
     "name": "stdout",
     "output_type": "stream",
     "text": [
      " X Features shape : (21430, 87)\n",
      "y label shape : (21430,)\n",
      "cols with values as 99 and -2: ['CELLAR', 'STORIES', 'PRKGPLC1', 'BEDROOMS', 'FUELPOOL', 'SIZRFRI1', 'TYPERFR1', 'AGERFRI1', 'SIZRFRI2', 'TYPERFR2', 'AGERFRI2', 'NUMFREEZ', 'SIZFREEZ', 'AGEFRZR', 'STOVENFUEL', 'OVENUSE', 'AMTMICRO', 'DWASHUSE', 'WASHLOAD', 'WASHTEMP', 'EQUIPM', 'FUELHEAT', 'EQUIPAGE', 'PROTHERM', 'TEMPHOME', 'TEMPGONE', 'TEMPNITE', 'AGECENAC', 'USECENAC', 'NUMBERAC', 'WWACAGE', 'USEWWAC', 'FUELH2O', 'WHEATAGE', 'WHEATSIZ', 'LGTOUTNUM', 'ESDISHW', 'PGASHEAT', 'WOODAMT'] \n",
      "\n",
      "Duplicate Count : 0\n",
      "shape of X is (21430, 79)\n"
     ]
    }
   ],
   "source": [
    "features,columns=generateX(True,'DOLLAR')"
   ]
  },
  {
   "cell_type": "code",
   "execution_count": 6,
   "metadata": {},
   "outputs": [
    {
     "data": {
      "image/png": "[encoded data removed]",
      "text/plain": [
       "<Figure size 432x288 with 1 Axes>"
      ]
     },
     "metadata": {
      "needs_background": "light"
     },
     "output_type": "display_data"
    }
   ],
   "source": [
    "sns.distplot(dataset['TOTALDOLLAR']);"
   ]
  },
  {
   "cell_type": "code",
   "execution_count": 7,
   "metadata": {},
   "outputs": [],
   "source": [
    "X=features"
   ]
  },
  {
   "cell_type": "code",
   "execution_count": 8,
   "metadata": {},
   "outputs": [],
   "source": [
    "y = dataset['TOTALDOLLAR'].values.reshape(-1, 1)\n",
    "#y =dataset['TOTALBTU'].values.reshape(-1, 1)"
   ]
  },
  {
   "cell_type": "code",
   "execution_count": 9,
   "metadata": {},
   "outputs": [
    {
     "name": "stdout",
     "output_type": "stream",
     "text": [
      "(21430, 79) (21430, 1)\n"
     ]
    }
   ],
   "source": [
    "print(X.shape, y.shape)\n"
   ]
  },
  {
   "cell_type": "code",
   "execution_count": 10,
   "metadata": {},
   "outputs": [],
   "source": [
    "X_train, X_test, y_train, y_test = train_test_split(X, y, test_size=0.2,random_state=30)"
   ]
  },
  {
   "cell_type": "code",
   "execution_count": 24,
   "metadata": {},
   "outputs": [],
   "source": [
    "def linearmodel(X_train,y_train,X_test,y_test):\n",
    "    model = LinearRegression()\n",
    "    model.fit(X_train, y_train)\n",
    "    predictions=model.predict(X_test)\n",
    "    plt.scatter(model.predict(X_train), model.predict(X_train) - y_train, c=\"blue\", label=\"Training Data\")\n",
    "    plt.scatter(model.predict(X_test), model.predict(X_test) - y_test, c=\"orange\", label=\"Testing Data\")\n",
    "    plt.xlabel(\"Predicted Y\")\n",
    "    plt.ylabel(\"Residual Error\")\n",
    "    plt.legend()\n",
    "    plt.hlines(y=0, xmin=y_test.min(), xmax=y_test.max())\n",
    "    plt.title(\"Residual Plot\")\n",
    "    plt.show()\n",
    "    RMSE = np.sqrt(mean_squared_error(y_test, predictions))\n",
    "    r2 = model.score(X_test, y_test)\n",
    "    column_series = list(predictions)\n",
    "    df_modelresults=pd.DataFrame()\n",
    "    df_modelresults = df_modelresults.assign(LinearPredictedY=column_series)\n",
    "    print(f\"MSE: {RMSE}, R2: {r2}\")\n",
    "    return(df_modelresults, RMSE, r2)"
   ]
  },
  {
   "cell_type": "code",
   "execution_count": 25,
   "metadata": {},
   "outputs": [
    {
     "data": {
      "image/png": "[encoded data removed]",
      "text/plain": [
       "<Figure size 432x288 with 1 Axes>"
      ]
     },
     "metadata": {
      "needs_background": "light"
     },
     "output_type": "display_data"
    },
    {
     "name": "stdout",
     "output_type": "stream",
     "text": [
      "MSE: 346.4495036924357, R2: 0.8107907153572882\n"
     ]
    }
   ],
   "source": [
    "Linear_Predicted,RMSE,r2=linearmodel(X_train,y_train,X_test,y_test)"
   ]
  },
  {
   "cell_type": "code",
   "execution_count": 18,
   "metadata": {},
   "outputs": [
    {
     "name": "stdout",
     "output_type": "stream",
     "text": [
      "14153.0\n"
     ]
    }
   ],
   "source": [
    "print(y_test.max())"
   ]
  },
  {
   "cell_type": "code",
   "execution_count": 13,
   "metadata": {},
   "outputs": [],
   "source": [
    "def classic_lasso_model(X_train,y_train, X_test,y_test):\n",
    "    lasso = Lasso().fit(X_train, y_train)\n",
    "    predictions_train = lasso.predict(X_train)\n",
    "    RMSE_train = np.sqrt(mean_squared_error(y_train, predictions_train))\n",
    "    r2_train = lasso.score(X_train, y_train)\n",
    "    predictions = lasso.predict(X_test)\n",
    "    RMSE_test = np.sqrt(mean_squared_error(y_test, predictions))\n",
    "    r2_test= lasso.score(X_test, y_test)\n",
    "    df_modelresults=pd.DataFrame(predictions,columns=['Classic_Lasso_predicted'])\n",
    "    print(f\"RMSE_classic_Lasso={RMSE_test},R2_Classic_Lasso={r2_test}\")\n",
    "    return(df_modelresults, RMSE_test,r2_test)"
   ]
  },
  {
   "cell_type": "code",
   "execution_count": 14,
   "metadata": {},
   "outputs": [
    {
     "name": "stdout",
     "output_type": "stream",
     "text": [
      "RMSE_classic_Lasso=346.90972535555017,R2_Classic_Lasso=0.8102876922740337\n"
     ]
    }
   ],
   "source": [
    "classic_lasso_predicted,RMSE_lasso,R2_Lasso=classic_lasso_model(X_train,y_train, X_test,y_test)"
   ]
  },
  {
   "cell_type": "code",
   "execution_count": 15,
   "metadata": {
    "scrolled": true
   },
   "outputs": [],
   "source": [
    "def lasso_CV(X,y,test_size,seed):\n",
    "    X_train, X_test , y_train, y_test = train_test_split(X, y, test_size=test_size, random_state=seed)\n",
    "    #lasso = Lasso(max_iter=10000, normalize=True)\n",
    "    lassocv = LassoCV(alphas=N\n",
    "                      one, cv=5, max_iter=100000, normalize=True)\n",
    "    lassocv.fit(X_train, y_train)\n",
    "    #lasso.set_params(alpha=lassocv.alpha_)\n",
    "    print(\"Alpha=\", lassocv.alpha_)\n",
    "    #lasso.fit(X_train, y_train)\n",
    "    print(\"best model coefficients:\")\n",
    "    pd.Series(lassocv.coef_)\n",
    "    predictions = lassocv.predict(X_test)\n",
    "    RMSE_test = np.sqrt(mean_squared_error(y_test, predictions))\n",
    "    r2 = lassocv.score(X_test, y_test)\n",
    "    print(f\"RMSE_Lasso_CV: {RMSE_test}, R2_Lasso_CV: {r2}\")\n",
    "    df_modelresults=pd.DataFrame(predictions,columns=['Lasso_CV_predicted'])\n",
    "    return(df_modelresults,RMSE_test,r2)"
   ]
  },
  {
   "cell_type": "code",
   "execution_count": 16,
   "metadata": {},
   "outputs": [
    {
     "name": "stdout",
     "output_type": "stream",
     "text": [
      "Alpha= 0.0038336724929266164\n",
      "best model coefficients:\n",
      "RMSE_Lasso_CV: 346.2504973834136, R2_Lasso_CV: 0.8110080227944444\n"
     ]
    }
   ],
   "source": [
    "Lasso_CV_predicted,RMSE_lasso_CV,R2_Lasso_CV=lasso_CV(X,y,0.2,30)"
   ]
  },
  {
   "cell_type": "code",
   "execution_count": 60,
   "metadata": {},
   "outputs": [
    {
     "name": "stdout",
     "output_type": "stream",
     "text": [
      "[0.    0.003 0.006 0.009 0.012 0.015 0.018 0.021 0.024 0.027 0.03  0.033\n",
      " 0.036 0.039 0.042 0.045 0.048]\n"
     ]
    }
   ],
   "source": [
    "model = Lasso()\n",
    "alpha=np.arange(0.0,0.05,.003)\n",
    "print(alpha)"
   ]
  },
  {
   "cell_type": "code",
   "execution_count": 61,
   "metadata": {},
   "outputs": [
    {
     "data": {
      "text/plain": [
       "GridSearchCV(cv=5, error_score='raise',\n",
       "       estimator=Lasso(alpha=1.0, copy_X=True, fit_intercept=True, max_iter=1000,\n",
       "   normalize=False, positive=False, precompute=False, random_state=None,\n",
       "   selection='cyclic', tol=0.0001, warm_start=False),\n",
       "       fit_params=None, iid=True, n_jobs=1,\n",
       "       param_grid=[{'alpha': array([0.   , 0.003, 0.006, 0.009, 0.012, 0.015, 0.018, 0.021, 0.024,\n",
       "       0.027, 0.03 , 0.033, 0.036, 0.039, 0.042, 0.045, 0.048])}],\n",
       "       pre_dispatch='2*n_jobs', refit=True, return_train_score='warn',\n",
       "       scoring='r2', verbose=0)"
      ]
     },
     "execution_count": 61,
     "metadata": {},
     "output_type": "execute_result"
    }
   ],
   "source": [
    "param_grid = [{'alpha':alpha}]\n",
    "pricing_grid  = GridSearchCV(model, param_grid, cv=5,scoring='r2')\n",
    "pricing_grid.fit(X_train, y_train)"
   ]
  },
  {
   "cell_type": "code",
   "execution_count": 62,
   "metadata": {
    "scrolled": true
   },
   "outputs": [
    {
     "data": {
      "text/plain": [
       "Lasso(alpha=0.048, copy_X=True, fit_intercept=True, max_iter=1000,\n",
       "   normalize=False, positive=False, precompute=False, random_state=None,\n",
       "   selection='cyclic', tol=0.0001, warm_start=False)"
      ]
     },
     "execution_count": 62,
     "metadata": {},
     "output_type": "execute_result"
    }
   ],
   "source": [
    "pricing_grid.best_estimator_"
   ]
  },
  {
   "cell_type": "code",
   "execution_count": 63,
   "metadata": {
    "scrolled": true
   },
   "outputs": [
    {
     "data": {
      "text/plain": [
       "{'mean_fit_time': array([2.47148924, 2.41911545, 2.43768907, 2.4395052 , 2.42307768,\n",
       "        2.47311673, 2.44483075, 2.40899887, 2.4452312 , 2.45993705,\n",
       "        2.39869852, 2.40894938, 2.49632206, 2.43246369, 2.43106623,\n",
       "        2.67298679, 2.4451086 ]),\n",
       " 'std_fit_time': array([0.14257311, 0.08705859, 0.1290342 , 0.09925854, 0.07727568,\n",
       "        0.19010875, 0.138044  , 0.10860083, 0.13592364, 0.20235786,\n",
       "        0.1279269 , 0.12010531, 0.17482408, 0.12702435, 0.12360233,\n",
       "        0.16516727, 0.11021911]),\n",
       " 'mean_score_time': array([0.00099497, 0.00096741, 0.00059876, 0.00113211, 0.00076566,\n",
       "        0.00098009, 0.00076742, 0.00099783, 0.00095139, 0.00110464,\n",
       "        0.00099072, 0.00097437, 0.00104833, 0.0009882 , 0.00113115,\n",
       "        0.00119739, 0.00079021]),\n",
       " 'std_score_time': array([6.23253710e-06, 2.60854769e-05, 4.88889132e-04, 2.69723966e-04,\n",
       "        3.85420003e-04, 2.21759527e-05, 3.84497500e-04, 7.44843452e-07,\n",
       "        5.89823857e-05, 3.02017281e-04, 1.50710719e-05, 4.61233420e-05,\n",
       "        1.49052996e-04, 1.47768750e-05, 2.72945880e-04, 3.97420312e-04,\n",
       "        3.95436792e-04]),\n",
       " 'param_alpha': masked_array(data=[0.0, 0.003, 0.006, 0.009000000000000001, 0.012, 0.015,\n",
       "                    0.018000000000000002, 0.021, 0.024, 0.027, 0.03, 0.033,\n",
       "                    0.036000000000000004, 0.039, 0.042, 0.045, 0.048],\n",
       "              mask=[False, False, False, False, False, False, False, False,\n",
       "                    False, False, False, False, False, False, False, False,\n",
       "                    False],\n",
       "        fill_value='?',\n",
       "             dtype=object),\n",
       " 'params': [{'alpha': 0.0},\n",
       "  {'alpha': 0.003},\n",
       "  {'alpha': 0.006},\n",
       "  {'alpha': 0.009000000000000001},\n",
       "  {'alpha': 0.012},\n",
       "  {'alpha': 0.015},\n",
       "  {'alpha': 0.018000000000000002},\n",
       "  {'alpha': 0.021},\n",
       "  {'alpha': 0.024},\n",
       "  {'alpha': 0.027},\n",
       "  {'alpha': 0.03},\n",
       "  {'alpha': 0.033},\n",
       "  {'alpha': 0.036000000000000004},\n",
       "  {'alpha': 0.039},\n",
       "  {'alpha': 0.042},\n",
       "  {'alpha': 0.045},\n",
       "  {'alpha': 0.048}],\n",
       " 'split0_test_score': array([0.96633323, 0.96633337, 0.9663335 , 0.96633362, 0.96633375,\n",
       "        0.96633387, 0.96633399, 0.9663341 , 0.96633421, 0.96633432,\n",
       "        0.96633443, 0.96633453, 0.96633463, 0.96633474, 0.96633485,\n",
       "        0.96633498, 0.96633517]),\n",
       " 'split1_test_score': array([0.96564533, 0.96564607, 0.96564681, 0.96564755, 0.96564828,\n",
       "        0.96564901, 0.96564974, 0.96565047, 0.96565119, 0.96565191,\n",
       "        0.96565262, 0.96565334, 0.96565405, 0.96565476, 0.96565547,\n",
       "        0.96565618, 0.96565688]),\n",
       " 'split2_test_score': array([0.96278831, 0.96278849, 0.96278867, 0.96278884, 0.962789  ,\n",
       "        0.96278917, 0.96278933, 0.96278948, 0.96278964, 0.96278979,\n",
       "        0.96278994, 0.9627901 , 0.96279025, 0.96279039, 0.96279054,\n",
       "        0.9627907 , 0.96279086]),\n",
       " 'split3_test_score': array([0.96525867, 0.96525918, 0.96525969, 0.96526019, 0.96526069,\n",
       "        0.96526118, 0.96526167, 0.96526216, 0.96526264, 0.96526312,\n",
       "        0.96526359, 0.96526406, 0.96526453, 0.96526499, 0.96526545,\n",
       "        0.96526591, 0.96526636]),\n",
       " 'split4_test_score': array([0.95827024, 0.95827054, 0.95827083, 0.95827112, 0.95827141,\n",
       "        0.95827169, 0.95827197, 0.95827225, 0.95827252, 0.95827278,\n",
       "        0.95827305, 0.95827331, 0.95827357, 0.95827382, 0.95827407,\n",
       "        0.95827431, 0.95827455]),\n",
       " 'mean_test_score': array([0.96365916, 0.96365953, 0.9636599 , 0.96366027, 0.96366063,\n",
       "        0.96366099, 0.96366134, 0.96366169, 0.96366204, 0.96366238,\n",
       "        0.96366273, 0.96366307, 0.9636634 , 0.96366374, 0.96366408,\n",
       "        0.96366442, 0.96366476]),\n",
       " 'std_test_score': array([0.00294798, 0.00294804, 0.0029481 , 0.00294816, 0.00294822,\n",
       "        0.00294828, 0.00294834, 0.0029484 , 0.00294846, 0.00294852,\n",
       "        0.00294859, 0.00294865, 0.00294871, 0.00294878, 0.00294884,\n",
       "        0.00294891, 0.00294899]),\n",
       " 'rank_test_score': array([17, 16, 15, 14, 13, 12, 11, 10,  9,  8,  7,  6,  5,  4,  3,  2,  1]),\n",
       " 'split0_train_score': array([0.96416287, 0.96416292, 0.96416295, 0.96416299, 0.96416302,\n",
       "        0.96416305, 0.96416308, 0.9641631 , 0.96416312, 0.96416313,\n",
       "        0.96416314, 0.96416315, 0.96416315, 0.96416315, 0.96416314,\n",
       "        0.96416313, 0.9641631 ]),\n",
       " 'split1_train_score': array([0.96428498, 0.96428501, 0.96428503, 0.96428505, 0.96428506,\n",
       "        0.96428508, 0.96428509, 0.96428509, 0.96428509, 0.96428509,\n",
       "        0.96428509, 0.96428509, 0.96428508, 0.96428507, 0.96428506,\n",
       "        0.96428505, 0.96428503]),\n",
       " 'split2_train_score': array([0.96488303, 0.96488304, 0.96488305, 0.96488305, 0.96488305,\n",
       "        0.96488305, 0.96488304, 0.96488303, 0.96488301, 0.96488299,\n",
       "        0.96488297, 0.96488295, 0.96488293, 0.9648829 , 0.96488287,\n",
       "        0.96488284, 0.96488281]),\n",
       " 'split3_train_score': array([0.96435801, 0.96435805, 0.96435808, 0.96435812, 0.96435815,\n",
       "        0.96435817, 0.96435819, 0.96435821, 0.96435823, 0.96435824,\n",
       "        0.96435825, 0.96435825, 0.96435826, 0.96435825, 0.96435825,\n",
       "        0.96435824, 0.96435823]),\n",
       " 'split4_train_score': array([0.96588887, 0.9658889 , 0.96588893, 0.96588896, 0.96588899,\n",
       "        0.96588901, 0.96588903, 0.96588904, 0.96588905, 0.96588906,\n",
       "        0.96588907, 0.96588907, 0.96588907, 0.96588906, 0.96588906,\n",
       "        0.96588904, 0.96588903]),\n",
       " 'mean_train_score': array([0.96471555, 0.96471558, 0.96471561, 0.96471563, 0.96471565,\n",
       "        0.96471567, 0.96471568, 0.96471569, 0.9647157 , 0.9647157 ,\n",
       "        0.9647157 , 0.9647157 , 0.9647157 , 0.96471569, 0.96471568,\n",
       "        0.96471566, 0.96471564]),\n",
       " 'std_train_score': array([0.00063614, 0.00063614, 0.00063614, 0.00063614, 0.00063614,\n",
       "        0.00063613, 0.00063613, 0.00063613, 0.00063613, 0.00063613,\n",
       "        0.00063613, 0.00063612, 0.00063612, 0.00063612, 0.00063612,\n",
       "        0.00063612, 0.00063612])}"
      ]
     },
     "execution_count": 63,
     "metadata": {},
     "output_type": "execute_result"
    }
   ],
   "source": [
    "test_scores = pricing_grid.cv_results_\n",
    "test_scores"
   ]
  },
  {
   "cell_type": "code",
   "execution_count": 64,
   "metadata": {},
   "outputs": [
    {
     "name": "stdout",
     "output_type": "stream",
     "text": [
      "0.9636647633806548\n"
     ]
    }
   ],
   "source": [
    "print(pricing_grid.best_score_)"
   ]
  },
  {
   "cell_type": "code",
   "execution_count": 65,
   "metadata": {},
   "outputs": [],
   "source": [
    "predictions = pricing_grid.predict(X_test)"
   ]
  },
  {
   "cell_type": "code",
   "execution_count": 66,
   "metadata": {},
   "outputs": [
    {
     "data": {
      "text/plain": [
       "array([ 711.96853017, 5442.43138906, 3763.91894635, ..., 2824.16827007,\n",
       "       1649.20992642,  796.84231635])"
      ]
     },
     "execution_count": 66,
     "metadata": {},
     "output_type": "execute_result"
    }
   ],
   "source": [
    "predictions"
   ]
  },
  {
   "cell_type": "code",
   "execution_count": 67,
   "metadata": {
    "scrolled": true
   },
   "outputs": [
    {
     "data": {
      "text/plain": [
       "array([[ 724.],\n",
       "       [5529.],\n",
       "       [4314.],\n",
       "       ...,\n",
       "       [2727.],\n",
       "       [1430.],\n",
       "       [ 981.]])"
      ]
     },
     "execution_count": 67,
     "metadata": {},
     "output_type": "execute_result"
    }
   ],
   "source": [
    "y_test"
   ]
  },
  {
   "cell_type": "code",
   "execution_count": 68,
   "metadata": {},
   "outputs": [
    {
     "data": {
      "text/plain": [
       "<matplotlib.collections.PathCollection at 0x29789475438>"
      ]
     },
     "execution_count": 68,
     "metadata": {},
     "output_type": "execute_result"
    },
    {
     "data": {
      "image/png": "[encoded data removed]",
      "text/plain": [
       "<Figure size 432x288 with 1 Axes>"
      ]
     },
     "metadata": {
      "needs_background": "light"
     },
     "output_type": "display_data"
    }
   ],
   "source": [
    "plt.scatter(range(len(predictions)), y_test, c=\"blue\", marker='o',label=\"Actual Price\",alpha=0.5)\n",
    "plt.scatter(range(len(predictions)), predictions, c=\"orange\",marker='o', label=\"Predicted Price\",alpha=0.5)"
   ]
  },
  {
   "cell_type": "code",
   "execution_count": 20,
   "metadata": {},
   "outputs": [
    {
     "name": "stdout",
     "output_type": "stream",
     "text": [
      "[0.    0.003 0.006 0.009 0.012 0.015 0.018 0.021 0.024 0.027 0.03  0.033\n",
      " 0.036 0.039 0.042 0.045 0.048]\n",
      " Elastinet Score: (0.8107873507739053, 346.45258401976565)\n"
     ]
    }
   ],
   "source": [
    "alpha=np.arange(0.0,0.05,.003)\n",
    "print(alpha)\n",
    "enet = ElasticNet()\n",
    "param_grid = [{'alpha':alpha}]\n",
    "enet_grid  = GridSearchCV(enet, param_grid, cv=5)\n",
    "\n",
    "enet_grid.fit(X_train, y_train)\n",
    "ebest=enet_grid.best_estimator_\n",
    "\n",
    "ebest.fit(X_train, y_train)\n",
    "predictions = ebest.predict(X_test)\n",
    "RMSE = np.sqrt(mean_squared_error(y_test, predictions))\n",
    "r2 = ebest.score(X_test, y_test)\n",
    "#grid_results = pd.DataFrame(enet_grid.cv_results_) \n",
    "print(f\" Elastinet Score: {r2, RMSE}\")"
   ]
  },
  {
   "cell_type": "code",
   "execution_count": 21,
   "metadata": {},
   "outputs": [
    {
     "name": "stdout",
     "output_type": "stream",
     "text": [
      "ElasticNet(alpha=0.003, copy_X=True, fit_intercept=True, l1_ratio=0.5,\n",
      "      max_iter=1000, normalize=False, positive=False, precompute=False,\n",
      "      random_state=None, selection='cyclic', tol=0.0001, warm_start=False)\n"
     ]
    }
   ],
   "source": [
    "print(ebest)"
   ]
  },
  {
   "cell_type": "code",
   "execution_count": 27,
   "metadata": {},
   "outputs": [
    {
     "name": "stdout",
     "output_type": "stream",
     "text": [
      "346.45258401976565\n"
     ]
    }
   ],
   "source": [
    "RMSE = np.sqrt(mean_squared_error(y_test, predictions))\n",
    "print(RMSE)"
   ]
  },
  {
   "cell_type": "code",
   "execution_count": 29,
   "metadata": {},
   "outputs": [],
   "source": [
    "enet_grid.best_estimator_\n",
    "ebest=enet_grid.best_estimator_\n",
    "ebest.fit(X_train,y_train)\n",
    "ebest_predictions = ebest.predict(X_test)\n",
    "ebest_MSE = mean_squared_error(y_test, predictions)\n",
    "ebest_r2 = ebest.score(X_test, y_test)\n",
    "#grid_results = pd.DataFrame(enet_grid.cv_results_) "
   ]
  },
  {
   "cell_type": "code",
   "execution_count": 31,
   "metadata": {},
   "outputs": [
    {
     "name": "stdout",
     "output_type": "stream",
     "text": [
      "120029.39297397279 0.8107873507739053\n"
     ]
    }
   ],
   "source": [
    "print(ebest_MSE,ebest_r2)"
   ]
  },
  {
   "cell_type": "code",
   "execution_count": 28,
   "metadata": {},
   "outputs": [
    {
     "name": "stdout",
     "output_type": "stream",
     "text": [
      "17\n",
      "17\n"
     ]
    }
   ],
   "source": [
    "print(len(alpha))\n",
    "print(len(results_dict[\"mean_test_score\"]))"
   ]
  },
  {
   "cell_type": "code",
   "execution_count": 44,
   "metadata": {},
   "outputs": [
    {
     "name": "stdout",
     "output_type": "stream",
     "text": [
      "[0.8150435  0.81505156 0.81505139 0.8150455  0.81503543 0.81502221\n",
      " 0.81500649 0.81498903 0.81497013 0.81495011 0.81492918 0.81490754\n",
      " 0.81488532 0.81486267 0.81483961 0.81481634 0.81479287] [0.81765286 0.8176482  0.81763629 0.81761937 0.81759892 0.81757591\n",
      " 0.81755104 0.81752479 0.81749753 0.81746951 0.81744094 0.81741197\n",
      " 0.81738276 0.81735336 0.81732387 0.81729432 0.81726479]\n"
     ]
    },
    {
     "data": {
      "text/plain": [
       "[<matplotlib.lines.Line2D at 0x28b966bc2e8>]"
      ]
     },
     "execution_count": 44,
     "metadata": {},
     "output_type": "execute_result"
    },
    {
     "data": {
      "image/png": "[encoded data removed]",
      "text/plain": [
       "<Figure size 432x288 with 1 Axes>"
      ]
     },
     "metadata": {
      "needs_background": "light"
     },
     "output_type": "display_data"
    }
   ],
   "source": [
    "results_dict=enet_grid.cv_results_\n",
    "print(results_dict[\"mean_test_score\"],results_dict[\"mean_train_score\"])\n",
    "plt.ylim(min(results_dict[\"mean_test_score\"]-0.0015),max(results_dict[\"mean_train_score\"]+0.0015))\n",
    "plt.plot(alpha,results_dict[\"mean_test_score\"])\n",
    "plt.plot(alpha,results_dict[\"mean_train_score\"],c='orange')\n",
    "#plt.ylim(0.8,.85)"
   ]
  },
  {
   "cell_type": "code",
   "execution_count": 30,
   "metadata": {},
   "outputs": [
    {
     "name": "stdout",
     "output_type": "stream",
     "text": [
      "MSE: 346.44940735134713, R2: 0.8107908205883578\n"
     ]
    }
   ],
   "source": [
    "from sklearn.linear_model import Ridge\n",
    "\n",
    "ridge = Ridge().fit(X_train, y_train)\n",
    "predictions = ridge.predict(X_test)\n",
    "MSE = np.sqrt(mean_squared_error(y_test, predictions))\n",
    "r2 = ridge.score(X_test, y_test)\n",
    "\n",
    "\n",
    "print(f\"MSE: {MSE}, R2: {r2}\")"
   ]
  },
  {
   "cell_type": "code",
   "execution_count": 31,
   "metadata": {},
   "outputs": [],
   "source": [
    "def Ridge_CV(X,y,test_size,seed):\n",
    "    X_train, X_test , y_train, y_test = train_test_split(X, y, test_size=test_size, random_state=seed)\n",
    "    alpha=np.arange(0.0,0.05,.003)\n",
    "    print(alpha)\n",
    "\n",
    "    Ridgecv = RidgeCV(alphas=alpha, cv=5, normalize=True)\n",
    "    Ridgecv.fit(X_train, y_train)\n",
    "    #lasso.set_params(alpha=lassocv.alpha_)\n",
    "   #lasso.fit(X_train, y_train)\n",
    "    print(\"Alpha=\", Ridgecv.alpha_)\n",
    "    print(\"best model coefficients:\")\n",
    "    print(Ridgecv.coef_)\n",
    "    predictions = Ridgecv.predict(X_test)\n",
    "    RMSE_test_ridgecv = np.sqrt(mean_squared_error(y_test, predictions))\n",
    "    r2_ridgecv = Ridgecv.score(X_test, y_test)\n",
    "    print(f\"RMSE_Ridge_CV: {RMSE_test_ridgecv}, R2_Ridge_CV: {r2_ridgecv}\")\n",
    "    df_modelresults=pd.DataFrame(predictions,columns=['Ridge_CV_predicted'])\n",
    "    return(df_modelresults,RMSE_test_ridgecv,r2_ridgecv)       \n"
   ]
  },
  {
   "cell_type": "code",
   "execution_count": 27,
   "metadata": {},
   "outputs": [
    {
     "name": "stdout",
     "output_type": "stream",
     "text": [
      "[0.    0.003 0.006 0.009 0.012 0.015 0.018 0.021 0.024 0.027 0.03  0.033\n",
      " 0.036 0.039 0.042 0.045 0.048]\n",
      "Alpha= 0.0\n",
      "best model coefficients:\n",
      "[[ 4.97122045e+00  5.29064775e-02 -1.67178178e-01  3.11097907e-01\n",
      "   1.09458854e+00  2.61256744e+00  3.06232885e+01  3.63068319e-02\n",
      "  -4.11792513e-03 -1.09296910e-02 -2.07024244e-02 -1.63219554e-02\n",
      "  -1.41786704e-02  1.42099992e-02 -1.90716284e-02 -4.33579373e+00\n",
      "   9.67324103e-01 -1.26424095e+00 -1.23047668e+00 -3.35324908e+00\n",
      "   2.43529883e+01  2.39261063e+00  2.32155854e-01 -4.53587647e+00\n",
      "   3.07677297e+01  2.21377884e+00  3.14469637e+00  1.65132535e+01\n",
      "   1.58687497e+00 -6.88119397e-02  8.34594771e-01 -1.00962819e+01\n",
      "   2.31878710e+00  4.40376559e+00  1.29917768e+02  5.69586124e+00\n",
      "   2.55147781e+01  1.64298766e+01  1.50344838e+01  3.70303948e+01\n",
      "  -4.48790365e+00 -1.52724451e+01  1.92967128e+01 -4.36224277e+00\n",
      "  -5.57885256e+00  2.35434288e+01  9.86065473e-02  1.10020087e+01\n",
      "  -2.63972472e+01  8.40482537e+00  4.59789571e+00  3.76482678e+00\n",
      "   6.83081811e+01 -1.48601653e+02 -4.22207255e-01  2.01180748e+01\n",
      "  -1.70623287e+00  1.56133584e+00 -2.24127206e+00  2.07400240e+00\n",
      "  -1.85475437e+00 -1.03405877e+00 -6.54095862e-02  1.90108793e-02\n",
      "  -3.40552547e+01  1.69094918e-02  2.25150035e+00  2.34831970e+00\n",
      "   1.58747591e+00 -1.04432541e+01  7.57199455e-01  2.01108692e+00\n",
      "   6.68207186e-02  5.75957250e-02  1.08761129e+01  4.40799035e+00\n",
      "   3.46131408e-02 -3.61917123e-02  9.89491353e-01]]\n",
      "RMSE_Ridge_CV: 346.44950369243264, R2_Ridge_CV: 0.8107907153572915\n"
     ]
    }
   ],
   "source": [
    "Ridge_CV_predicted,RMSE_Ridgecv_CV,R2_Ridge_CV=Ridge_CV(X,y,0.2,30)"
   ]
  },
  {
   "cell_type": "code",
   "execution_count": 32,
   "metadata": {},
   "outputs": [],
   "source": [
    "def classic_ridge_model(X_train,y_train, X_test,y_test):\n",
    "    ridge = Ridge().fit(X_train, y_train)\n",
    "    predictions_train = ridge.predict(X_train)\n",
    "    RMSE_train = np.sqrt(mean_squared_error(y_train, predictions_train))\n",
    "    r2_train = ridge.score(X_train, y_train)\n",
    "    predictions = ridge.predict(X_test)\n",
    "    RMSE_test_ridge = np.sqrt(mean_squared_error(y_test, predictions))\n",
    "    r2_test_ridge= ridge.score(X_test, y_test)\n",
    "    df_modelresults=pd.DataFrame(predictions,columns=['Classic_Ridge_predicted'])\n",
    "    print(f\"RMSE_classic_ridge={RMSE_test_ridge},R2_Classic_Ridge={r2_test_ridge}\")\n",
    "    return(df_modelresults, RMSE_test_ridge,r2_test_ridge)"
   ]
  },
  {
   "cell_type": "code",
   "execution_count": 33,
   "metadata": {},
   "outputs": [
    {
     "name": "stdout",
     "output_type": "stream",
     "text": [
      "RMSE_classic_ridge=346.44940735134713,R2_Classic_Ridge=0.8107908205883578\n"
     ]
    }
   ],
   "source": [
    "classic_ridge_predicted,RMSE_classic_ridge,R2_ridge=classic_ridge_model(X_train,y_train, X_test,y_test)"
   ]
  },
  {
   "cell_type": "code",
   "execution_count": null,
   "metadata": {},
   "outputs": [],
   "source": []
  }
 ],
 "metadata": {
  "kernelspec": {
   "display_name": "Python 3",
   "language": "python",
   "name": "python3"
  },
  "language_info": {
   "codemirror_mode": {
    "name": "ipython",
    "version": 3
   },
   "file_extension": ".py",
   "mimetype": "text/x-python",
   "name": "python",
   "nbconvert_exporter": "python",
   "pygments_lexer": "ipython3",
   "version": "3.6.7"
  }
 },
 "nbformat": 4,
 "nbformat_minor": 2
}
