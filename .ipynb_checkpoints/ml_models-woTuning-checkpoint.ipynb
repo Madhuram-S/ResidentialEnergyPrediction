{
 "cells": [
  {
   "cell_type": "markdown",
   "metadata": {},
   "source": [
    "## Create Pipeline for run and comparing models\n"
   ]
  },
  {
   "cell_type": "code",
   "execution_count": 4,
   "metadata": {
    "scrolled": true
   },
   "outputs": [],
   "source": [
    "# Generic Dependencies\n",
    "import numpy as np\n",
    "from numpy import arange\n",
    "import pandas as pd\n",
    "from pandas import set_option\n",
    "from pandas.tools.plotting import scatter_matrix\n",
    "import os\n",
    "\n",
    "# Plotting Libraries\n",
    "from matplotlib import pyplot as plt\n",
    "import seaborn as sns\n",
    "\n",
    "# SKLearn Libraries\n",
    "from sklearn import preprocessing\n",
    "from sklearn.preprocessing import StandardScaler\n",
    "from sklearn.model_selection import train_test_split\n",
    "from sklearn.model_selection import KFold, cross_val_score,cross_validate, GridSearchCV\n",
    "\n",
    "from sklearn.linear_model import LinearRegression\n",
    "from sklearn.linear_model import Lasso\n",
    "from sklearn.linear_model import ElasticNet\n",
    "from sklearn.linear_model import Lasso, LassoCV\n",
    "\n",
    "\n",
    "from sklearn.svm import SVR\n",
    "from sklearn.pipeline import Pipeline\n",
    "from sklearn.ensemble import RandomForestRegressor\n",
    "from sklearn.ensemble import GradientBoostingRegressor\n",
    "from sklearn.ensemble import ExtraTreesRegressor\n",
    "from sklearn.ensemble import AdaBoostRegressor\n",
    "from sklearn.metrics import mean_squared_error\n",
    "\n",
    "#XGBoost libraries\n",
    "import xgboost as xgb\n",
    "\n",
    "# import generateXdata.py to prepare the data\n",
    "# from generateXdata import generateX\n",
    "from generateXdata import generateX\n"
   ]
  },
  {
   "cell_type": "code",
   "execution_count": 5,
   "metadata": {},
   "outputs": [],
   "source": [
    "# gobal variables\n",
    "dataFilePath = \"dataforfinalproject\"\n",
    "filename = \"RECS_COMBINED_DATA.csv\"\n",
    "cols_file = \"Final_Columns_withCat.csv\"\n",
    "\n",
    " \n",
    "\n",
    "# delcare target variables\n",
    "target = {\"BTU\":\"TOTALBTU\", \"DOLLAR\":\"TOTALDOLLAR\"}\n",
    "modelsList = {\"LR\": \"Linear Regression\", \n",
    "          \"CLasso\": \"Classic Lasso\", \n",
    "          \"CV_Lasso\":\"Lasso with CV\",          \n",
    "          \"RF\":\"Random Forest\", \n",
    "          \"XG\":\"XGBoost\",\n",
    "          \"EN_GR\" : \"ElasticNet with GridSearch\",}\n",
    "\n",
    "# modelsList = {\"LR\": \"Linear Regression\", \n",
    "#           \"CLasso\": \"Classic Lasso\", \n",
    "#           \"CV_Lasso\":\"Lasso with CV\", \n",
    "#             \"RF\":\"Random Forest\",\n",
    "#           \"XG\":\"XGBoost\"}\n",
    "\n",
    "# common model params\n",
    "folds = 5\n",
    "seed = 30\n",
    "test_size = 0.2\n",
    "\n",
    "\n",
    "\n",
    "\n"
   ]
  },
  {
   "cell_type": "markdown",
   "metadata": {},
   "source": [
    "### Prepare Data"
   ]
  },
  {
   "cell_type": "code",
   "execution_count": 6,
   "metadata": {},
   "outputs": [
    {
     "name": "stdout",
     "output_type": "stream",
     "text": [
      "\n",
      "Extracting data for target : BTU........\n",
      "\n",
      " X Features shape : (21430, 87)\n",
      "y label shape : (21430,)\n",
      "cols with values as 99 and -2: ['CELLAR', 'STORIES', 'PRKGPLC1', 'BEDROOMS', 'FUELPOOL', 'SIZRFRI1', 'TYPERFR1', 'AGERFRI1', 'SIZRFRI2', 'TYPERFR2', 'AGERFRI2', 'NUMFREEZ', 'SIZFREEZ', 'AGEFRZR', 'STOVENFUEL', 'OVENUSE', 'AMTMICRO', 'DWASHUSE', 'WASHLOAD', 'WASHTEMP', 'EQUIPM', 'FUELHEAT', 'EQUIPAGE', 'PROTHERM', 'TEMPHOME', 'TEMPGONE', 'TEMPNITE', 'AGECENAC', 'USECENAC', 'NUMBERAC', 'WWACAGE', 'USEWWAC', 'FUELH2O', 'WHEATAGE', 'WHEATSIZ', 'LGTOUTNUM', 'ESDISHW', 'PGASHEAT', 'WOODAMT'] \n",
      "\n",
      "Duplicate Count : 0\n",
      "shape of X is (21430, 72)\n",
      "\n",
      "Extracting data for target : DOLLAR........\n",
      "\n",
      " X Features shape : (21430, 87)\n",
      "y label shape : (21430,)\n",
      "cols with values as 99 and -2: ['CELLAR', 'STORIES', 'PRKGPLC1', 'BEDROOMS', 'FUELPOOL', 'SIZRFRI1', 'TYPERFR1', 'AGERFRI1', 'SIZRFRI2', 'TYPERFR2', 'AGERFRI2', 'NUMFREEZ', 'SIZFREEZ', 'AGEFRZR', 'STOVENFUEL', 'OVENUSE', 'AMTMICRO', 'DWASHUSE', 'WASHLOAD', 'WASHTEMP', 'EQUIPM', 'FUELHEAT', 'EQUIPAGE', 'PROTHERM', 'TEMPHOME', 'TEMPGONE', 'TEMPNITE', 'AGECENAC', 'USECENAC', 'NUMBERAC', 'WWACAGE', 'USEWWAC', 'FUELH2O', 'WHEATAGE', 'WHEATSIZ', 'LGTOUTNUM', 'ESDISHW', 'PGASHEAT', 'WOODAMT'] \n",
      "\n",
      "Duplicate Count : 0\n",
      "shape of X is (21430, 79)\n"
     ]
    }
   ],
   "source": [
    "X = {}\n",
    "y = {}\n",
    "vocab = {}\n",
    "# obtain features contributing to the Y = BTU or DOllar\n",
    "for t, col in target.items():\n",
    "    print(f\"\\nExtracting data for target : {t}........\\n\")\n",
    "    X[t], vocab[t] = generateX(ohe = True, target = t)\n",
    "    y[t] = pd.read_csv(os.path.join(dataFilePath,filename), low_memory = False)[col]\n",
    "    "
   ]
  },
  {
   "cell_type": "code",
   "execution_count": 9,
   "metadata": {},
   "outputs": [
    {
     "data": {
      "text/plain": [
       "4000.0"
      ]
     },
     "execution_count": 9,
     "metadata": {},
     "output_type": "execute_result"
    }
   ],
   "source": [
    "y['DOLLAR'].max()"
   ]
  },
  {
   "cell_type": "code",
   "execution_count": 10,
   "metadata": {},
   "outputs": [
    {
     "name": "stdout",
     "output_type": "stream",
     "text": [
      "Shape of X values for DOLLAR as target : (21430, 79)\n",
      "Shape of X values for BTU as target : (21430, 72)\n",
      "Shape of y values for DOLLAR as target : (21430,)\n",
      "Shape of y values for DOLLAR as target : (21430,)\n"
     ]
    }
   ],
   "source": [
    "print(f\"Shape of X values for DOLLAR as target : {X['DOLLAR'].shape}\")\n",
    "print(f\"Shape of X values for BTU as target : {X['BTU'].shape}\")\n",
    "print(f\"Shape of y values for DOLLAR as target : {y['DOLLAR'].shape}\")\n",
    "print(f\"Shape of y values for DOLLAR as target : {y['BTU'].shape}\")\n"
   ]
  },
  {
   "cell_type": "markdown",
   "metadata": {},
   "source": [
    "### Define model functions with default params (no configuration changes)\n"
   ]
  },
  {
   "cell_type": "code",
   "execution_count": 11,
   "metadata": {},
   "outputs": [],
   "source": [
    "# prepare models\n",
    "models = []\n",
    "models.append(('LR', LinearRegression()))\n",
    "models.append(('Lasso', Lasso()))\n",
    "models.append(('LassoCV', LassoCV()))\n",
    "models.append(('RF', RandomForestRegressor()))\n",
    "models.append(('xgb', xgb.XGBRegressor(objective = \"reg:linear\")))\n",
    "models.append(('eNet', ElasticNet()))"
   ]
  },
  {
   "cell_type": "code",
   "execution_count": 12,
   "metadata": {},
   "outputs": [],
   "source": [
    "# evaluate each model in turn\n",
    "results_mse = []\n",
    "results_r2 = []\n",
    "names = []\n",
    "scoring = {'mse': 'neg_mean_squared_error',\n",
    "           'r2': 'r2',\n",
    "           'exp_var': 'explained_variance'}"
   ]
  },
  {
   "cell_type": "markdown",
   "metadata": {},
   "source": [
    "### Create the list of Models that will be run in sequence\n"
   ]
  },
  {
   "cell_type": "code",
   "execution_count": 13,
   "metadata": {
    "scrolled": true
   },
   "outputs": [
    {
     "name": "stdout",
     "output_type": "stream",
     "text": [
      "['fit_time', 'score_time', 'test_exp_var', 'test_mse', 'test_r2', 'train_exp_var', 'train_mse', 'train_r2']\n",
      "['fit_time', 'score_time', 'test_exp_var', 'test_mse', 'test_r2', 'train_exp_var', 'train_mse', 'train_r2']\n",
      "['fit_time', 'score_time', 'test_exp_var', 'test_mse', 'test_r2', 'train_exp_var', 'train_mse', 'train_r2']\n",
      "['fit_time', 'score_time', 'test_exp_var', 'test_mse', 'test_r2', 'train_exp_var', 'train_mse', 'train_r2']\n",
      "['fit_time', 'score_time', 'test_exp_var', 'test_mse', 'test_r2', 'train_exp_var', 'train_mse', 'train_r2']\n",
      "['fit_time', 'score_time', 'test_exp_var', 'test_mse', 'test_r2', 'train_exp_var', 'train_mse', 'train_r2']\n"
     ]
    }
   ],
   "source": [
    "for name, model in models:\n",
    "    kfold = KFold(n_splits=5, random_state=seed)\n",
    "    cv_results = cross_validate(model, X[\"DOLLAR\"], y[\"DOLLAR\"], cv=kfold, scoring=scoring)\n",
    "    print(sorted(cv_results.keys())  )\n",
    "    results_mse.append(cv_results['test_mse'])\n",
    "    results_r2.append(cv_results['test_r2'])\n",
    "    names.append(name)\n",
    "#     msg = \"%s: %f (%f)\" % (name, cv_results.mean(), cv_results.std())\n",
    "#     print(msg)"
   ]
  },
  {
   "cell_type": "code",
   "execution_count": 14,
   "metadata": {},
   "outputs": [
    {
     "data": {
      "text/plain": [
       "[array([-143742.12188133, -123411.83626789, -125356.78754217,\n",
       "        -120124.68326446, -137472.7221027 ]),\n",
       " array([-147492.03304035, -123783.03537687, -125911.61314421,\n",
       "        -120330.50040065, -138238.51356139]),\n",
       " array([-390956.1915722 , -179660.56907255, -181710.01441399,\n",
       "        -177098.52792728, -235867.98618094]),\n",
       " array([-265740.52781455, -109773.72019188, -113967.42966844,\n",
       "        -110493.63480698, -134329.78141816]),\n",
       " array([-125983.24904397, -106236.73242219, -110204.046214  ,\n",
       "        -110703.41245376, -130616.30522731]),\n",
       " array([-158827.13114745, -127678.12171747, -129497.08987843,\n",
       "        -122816.95506659, -141101.74064738])]"
      ]
     },
     "execution_count": 14,
     "metadata": {},
     "output_type": "execute_result"
    }
   ],
   "source": [
    "results_mse"
   ]
  },
  {
   "cell_type": "code",
   "execution_count": 15,
   "metadata": {},
   "outputs": [
    {
     "data": {
      "image/png": "[encoded data removed]",
      "text/plain": [
       "<Figure size 432x288 with 1 Axes>"
      ]
     },
     "metadata": {
      "needs_background": "light"
     },
     "output_type": "display_data"
    }
   ],
   "source": [
    "# boxplot algorithm comparison\n",
    "fig = plt.figure()\n",
    "fig.suptitle('Algorithm Comparison')\n",
    "ax = fig.add_subplot(111)\n",
    "plt.boxplot(results_mse)\n",
    "ax.set_xticklabels(names)\n",
    "plt.show()"
   ]
  },
  {
   "cell_type": "code",
   "execution_count": 16,
   "metadata": {},
   "outputs": [
    {
     "data": {
      "image/png": "[encoded data removed]",
      "text/plain": [
       "<Figure size 432x288 with 1 Axes>"
      ]
     },
     "metadata": {
      "needs_background": "light"
     },
     "output_type": "display_data"
    }
   ],
   "source": [
    "# boxplot algorithm comparison\n",
    "fig = plt.figure()\n",
    "fig.suptitle('Algorithm Comparison')\n",
    "ax = fig.add_subplot(111)\n",
    "plt.boxplot(results_r2)\n",
    "ax.set_xticklabels(names)\n",
    "plt.show()"
   ]
  },
  {
   "cell_type": "code",
   "execution_count": 43,
   "metadata": {},
   "outputs": [],
   "source": [
    "class ml_models_tuned(object):\n",
    "    def __init__(self, X, y, seed, folds, test_size, early_stop):\n",
    "        self.X = X\n",
    "        self.y = y\n",
    "        self.seed = seed\n",
    "        self.folds = folds\n",
    "        self.test_size = test_size\n",
    "        self.early_stop = early_stop\n",
    "        \n",
    "        self.dMatrix = xgb.DMatrix(data = self.X,label = self.y)\n",
    "        self.X_train, self.X_test, self.y_train, self.y_test = train_test_split(self.X, self.y, random_state = self.seed, \n",
    "                                                                              test_size = self.test_size)\n",
    "    def ret_LR_tunedModel(self):        \n",
    "        model = LinearRegression()\n",
    "        print(f\"Best Linear Regression model {model}\")\n",
    "        return model\n",
    "    \n",
    "    def ret_Classo_tunedModel(self):\n",
    "        print(\"\\n Begining to tune Lasso Regression Model.................................\\n\")\n",
    "        # perform a grid search with different alpha values to find the best fit\n",
    "#         model = Lasso()\n",
    "#         alpha=np.arange(0.0,0.05,.003)\n",
    "        \n",
    "#         param_grid = [{'alpha':alpha}]\n",
    "#         pricing_grid  = GridSearchCV(model, param_grid, cv=5,scoring='r2')\n",
    "#         pricing_grid.fit(self.X_train, self.y_train)\n",
    "        \n",
    "#         model = pricing_grid.best_estimator_\n",
    "        model = Lasso(alpha=0.01)\n",
    "        print(f\"Best Lasso model with alpha = 0.01 is {model}\")\n",
    "        return model\n",
    "    \n",
    "    def ret_LassoCV_tunedModel(self):\n",
    "        lasso = Lasso(max_iter=10000, normalize=True)\n",
    "        lassocv = LassoCV(alphas=None, cv=10, max_iter=100000, normalize=True)\n",
    "        lassocv.fit(self.X_train, self.y_train)        \n",
    "        lasso.set_params(alpha=lassocv.alpha_)\n",
    "        \n",
    "        model = lasso\n",
    "        print(f\"Best LassoCV model with alpha {lassocv.alpha_} is {model}\")\n",
    "        return model\n",
    "    \n",
    "    def ret_RF_tunedModel(self):\n",
    "        model = RandomForestRegressor(n_estimators = 50, random_state = self.seed, max_depth = 11)\n",
    "        print(f\"Best RF model obtained is with n_estimators at 50 and max_depth at 11 is {model}\")\n",
    "        return model\n",
    "    \n",
    "    def ret_xgb_tunedModel(self):\n",
    "#         model = xgb.XGBRegressor(objective ='reg:linear', colsample_bytree = 0.8, learning_rate = 0.25,min_child_weight=3,\n",
    "#                 max_depth = 5, alpha = 10, n_estimators = 150, subsample = 0.8, silent = 1)\n",
    "        \n",
    "#         xgb_param = model.get_xgb_params()\n",
    "#         cvresult = xgb.cv(params = xgb_param, dtrain = self.dMatrix, num_boost_round=model.get_params()['n_estimators'], \n",
    "#                           nfold=self.folds, metrics='rmse', early_stopping_rounds=self.early_stop, verbose_eval=False)\n",
    "        \n",
    "#         model.set_params(n_estimators=cvresult.shape[0])\n",
    "        model = xgb.XGBRegressor(alpha=10, base_score=0.5, booster='gbtree',\n",
    "       colsample_bylevel=1, colsample_bytree=0.9, gamma=0,\n",
    "       importance_type='gain', learning_rate=0.05, max_delta_step=0,\n",
    "       max_depth=8, min_child_weight=5, missing=None, n_estimators=300,\n",
    "       n_jobs=1, nthread=2, objective='reg:linear', random_state=0,\n",
    "       reg_alpha=0, reg_lambda=1, scale_pos_weight=1, seed=42, silent=1,\n",
    "       subsample=0.7)\n",
    "        \n",
    "        print(f\"Best xgBoost model obtained is with n_estimators at {cvresult.shape[0]} and learning_rate at 0.25 is {model}\")\n",
    "    \n",
    "        return model\n",
    "    \n",
    "    def ret_eNet_tunedModel(self):\n",
    "        alpha=np.arange(0.0,0.05,.003)\n",
    "\n",
    "        enet = ElasticNet()\n",
    "        \n",
    "#         print(\"Configuring and finding best model using GridSearchCV.....................\\n\")        \n",
    "        param_grid = [{'alpha':alpha}]\n",
    "        enet_grid  = GridSearchCV(enet, param_grid, cv=self.folds)\n",
    "        \n",
    "        print(f\"Best elasticNet model obtained is {enet_grid}\")\n",
    "        return enet_grid\n",
    "        \n",
    "    def linearmodel(self):\n",
    "        print(\"Begining to run Linear regression Model.................................\\n\")\n",
    "                \n",
    "        print(\"Configuring the model.....................\\n\")\n",
    "        model = LinearRegression()\n",
    "        \n",
    "        print(\"Fit train data to the model.....................\\n\")\n",
    "        model.fit(self.X_train, self.y_train)\n",
    "        \n",
    "        print(\"Predict Y values for test data.....................\\n\")\n",
    "        predictions_train = model.predict(self.X_train)\n",
    "        predictions= model.predict(self.X_test)\n",
    "        \n",
    "        RMSE_train = np.sqrt(mean_squared_error(self.y_test, predictions))\n",
    "        r2_train = model.score(self.X_test, self.y_test)\n",
    "        \n",
    "        RMSE_test = np.sqrt(mean_squared_error(self.y_test, predictions))\n",
    "        r2_test = model.score(self.X_test, self.y_test)\n",
    "        \n",
    "        column_series = list(predictions)\n",
    "        df_modelresults=pd.DataFrame()\n",
    "        df_modelresults = df_modelresults.assign(LinearPredictedY=column_series)\n",
    "        \n",
    "        print(\"Linear Regression Model report\")\n",
    "        print(\"----------------------------------------------------------------\\n\")\n",
    "        \n",
    "        print(\"Test RMSE: %f\" % (RMSE_test))\n",
    "        print('The accuracy of the linear regressor is {:.2f} out of 1 on the testing data'.format(r2_test))\n",
    "        \n",
    "        plt.scatter(predictions_train, predictions_train - self.y_train, c=\"blue\", label=\"Training Data\")\n",
    "        plt.scatter(predictions, predictions - self.y_test, c=\"orange\", label=\"Testing Data\")\n",
    "        plt.legend()\n",
    "        plt.hlines(y=0, xmin=self.y_test.min(), xmax=self.y_test.max())\n",
    "        plt.title(\"Residual Plot\")\n",
    "        plt.show()\n",
    "        \n",
    "                \n",
    "        return(predictions, RMSE_test, r2_test)\n",
    "    \n",
    "    def classic_lasso_model(self):\n",
    "        print(\"\\nBegining to run Classic Lasso regression Model (alpha = 0.01).................................\\n\")                \n",
    "        print(\"Configuring and fit training data to the model.....................\\n\")\n",
    "        lasso = Lasso(alpha=0.01).fit(self.X_train, self.y_train)\n",
    "        \n",
    "        print(\"Predict y values for train and test data.....................\\n\")\n",
    "        predictions_train = lasso.predict(self.X_train)\n",
    "        \n",
    "        RMSE_train = np.sqrt(mean_squared_error(self.y_train, predictions_train))\n",
    "        r2_train = lasso.score(self.X_train, self.y_train)\n",
    "        \n",
    "        predictions = lasso.predict(self.X_test)\n",
    "        RMSE_test = np.sqrt(mean_squared_error(self.y_test, predictions))\n",
    "        r2_test= lasso.score(self.X_test, self.y_test)\n",
    "        \n",
    "        print(\"Classic Lasso Regresion Model report\")\n",
    "        print(\"----------------------------------------------------------------\\n\")\n",
    "        print(\"Train RMSE: %f\" % (RMSE_train))\n",
    "        print(\"Test RMSE: %f\" % (RMSE_test))\n",
    "        print('The accuracy of the Classic Lasso regressor is {:.2f} out of 1 on the training data'.format(r2_train))\n",
    "        print('The accuracy of the Classic Lasso regressor is {:.2f} out of 1 on the test data'.format(r2_test))\n",
    "        \n",
    "        df_modelresults=pd.DataFrame(predictions,columns=['Classic_Lasso_predicted'])\n",
    "\n",
    "        return(df_modelresults, RMSE_test,r2_test)\n",
    "    \n",
    "    def lasso_CV(self):\n",
    "        print(\"\\nBegining to run Lasso CV regression Model (alpha = determined by K-Folds).................................\\n\")                \n",
    "        print(\"Run cross validation on training data to get best model iteration.....................\\n\")\n",
    "        \n",
    "#         X_train, X_test , y_train, y_test = cross_validation.train_test_split(X, y, test_size=test_size, random_state=seed)\n",
    "        lasso = Lasso(max_iter=10000, normalize=True)\n",
    "        lassocv = LassoCV(alphas=None, cv=10, max_iter=100000, normalize=True)\n",
    "        \n",
    "        \n",
    "        lassocv.fit(self.X_train, self.y_train)\n",
    "        \n",
    "        lasso.set_params(alpha=lassocv.alpha_)\n",
    "        print(\"The best model's Alpha is \", lassocv.alpha_)\n",
    "        \n",
    "        print(\"Fit the best model from k-folds to training data................\")\n",
    "        lasso.fit(self.X_train, self.y_train)\n",
    "        print(\"best model coefficients:\")\n",
    "        print(pd.Series(lasso.coef_).tolist())\n",
    "        \n",
    "        print(\"\\nPredict data using testing data................\")\n",
    "        predictions = lasso.predict(self.X_test)\n",
    "        RMSE_test = np.sqrt(mean_squared_error(self.y_test, predictions))\n",
    "        r2 = lasso.score(self.X_test, self.y_test)\n",
    "        \n",
    "        print(\"Lasso CV Regresion Model report\")\n",
    "        print(\"----------------------------------------------------------------\\n\")\n",
    "        \n",
    "        print(\"Test RMSE: %f\" % (RMSE_test))\n",
    "        print('The accuracy of the LassoCV regressor is {:.2f} out of 1 on the test data'.format(r2))\n",
    "        \n",
    "        df_modelresults=pd.DataFrame(predictions,columns=['Lasso_CV_predicted'])\n",
    "        \n",
    "        return(df_modelresults,RMSE_test,r2)\n",
    "\n",
    "    def RF_model(self):\n",
    "        print(\"\\nBegining to run RandomForest regression Model.................................\\n\")                \n",
    "        print(\"Configuring and fit training data to the model.....................\\n\")\n",
    "\n",
    "        rf = RandomForestRegressor(n_estimators = 50, random_state = self.seed, max_depth = 11)\n",
    "\n",
    "        # Train the model on training data\n",
    "        rf.fit(self.X_train, self.y_train)\n",
    "\n",
    "        print(\"Predict y values for train and test data.....................\\n\")\n",
    "        predictions = rf.predict(self.X_test)\n",
    "        RMSE_test = np.sqrt(mean_squared_error(self.y_test, predictions))\n",
    "        r2_test = rf.score(self.X_test, self.y_test)\n",
    "\n",
    "        predictions_train = rf.predict(self.X_train)\n",
    "        RMSE_train = np.sqrt(mean_squared_error(self.y_train, predictions_train))\n",
    "        r2_train = rf.score(self.X_train, self.y_train)\n",
    "\n",
    "        print(\"RandomForest Regresion Model report\")\n",
    "        print(\"----------------------------------------------------------------\\n\")\n",
    "        print(\"Train RMSE: %f\" % (RMSE_train))\n",
    "        print(\"Test RMSE: %f\" % (RMSE_test))\n",
    "        print('The accuracy of the RandomForest regressor is {:.2f} out of 1 on the training data'.format(r2_train))\n",
    "        print('The accuracy of the RandomForest regressor is {:.2f} out of 1 on the test data'.format(r2_test))\n",
    "\n",
    "        df_modelresults=pd.DataFrame(predictions,columns=['RandomForest_predictions'])\n",
    "\n",
    "        return(df_modelresults, RMSE_test,r2_test)\n",
    "\n",
    "    def xgb_model(self):\n",
    "        print(\"Begining to run XGBoost Model.................................\\n\")\n",
    "                \n",
    "        print(\"Configuring the model.....................\\n\")\n",
    "        \n",
    "        model = xgb.XGBRegressor(objective ='reg:linear', colsample_bytree = 0.8, learning_rate = 0.25,min_child_weight=3,\n",
    "                max_depth = 5, alpha = 10, n_estimators = 70, subsample = 0.8, silent = 1)\n",
    "                        \n",
    "        print(\"Determing the best iteration using k-Folds.................\\n\")\n",
    "        xgb_param = model.get_xgb_params()\n",
    "        cvresult = xgb.cv(params = xgb_param, dtrain = self.dMatrix, num_boost_round=model.get_params()['n_estimators'], \n",
    "                          nfold=self.folds, metrics='rmse', early_stopping_rounds=self.early_stop, verbose_eval=False)\n",
    "        \n",
    "        print(f\"The best iteration obtained using Cross Validation is {cvresult.shape[0]}\\n\")\n",
    "        model.set_params(n_estimators=cvresult.shape[0])\n",
    "        \n",
    "        print(\"Fitting Train data to the model \")\n",
    "        print(\"----------------------------------------------------------------\\n\")\n",
    "        eval_set = [(self.X_train, self.y_train), (self.X_test, self.y_test)]\n",
    "        model.fit(self.X_train, self.y_train,eval_metric=[\"rmse\"], eval_set=eval_set, verbose=False)\n",
    "        \n",
    "        print(\"Predicting Y with test data\")\n",
    "        print(\"----------------------------------------------------------------\\n\")\n",
    "        preds_train = model.predict(self.X_train)\n",
    "        train_rmse = np.sqrt(mean_squared_error(self.y_train, preds_train))\n",
    "        train_accur = model.score(self.X_train, self.y_train)\n",
    "\n",
    "        preds = model.predict(self.X_test)\n",
    "        rmse = np.sqrt(mean_squared_error(self.y_test, preds))\n",
    "        accur = model.score(self.X_test, self.y_test)\n",
    "        \n",
    "        \n",
    "        print(\"XGBoost Model report\")\n",
    "        print(\"----------------------------------------------------------------\\n\")\n",
    "        print(\"Train RMSE: %f\" % (train_rmse))\n",
    "        print(\"Test RMSE: %f\" % (rmse))\n",
    "        print('The accuracy of the xgboost regressor is {:.2f} out of 1 on the training data'.format(train_accur))\n",
    "        print('The accuracy of the xgboost regressor is {:.2f} out of 1 on the test data'.format(accur))\n",
    "    \n",
    "        # retrieve performance metrics and plot it\n",
    "        results = model.evals_result()\n",
    "        epochs = len(results['validation_0']['rmse'])\n",
    "        x_axis = range(0, epochs)\n",
    "\n",
    "        # plot regression error\n",
    "        fig, axs = plt.subplots(figsize = (6,5))\n",
    "        sns.lineplot(x_axis, results['validation_0']['rmse'], label='Train', ax = axs)\n",
    "        sns.lineplot(x_axis, results['validation_1']['rmse'], label='Test', ax = axs)\n",
    "        plt.legend()\n",
    "        plt.ylabel('Regression Error')\n",
    "        plt.title('XGBoost Regression Error')\n",
    "        plt.show()\n",
    "\n",
    "        return (pd.DataFrame(preds, columns = ['xgBoost_Predicted']),rmse, accur)\n",
    "    \n",
    "    def eNet_model(self):\n",
    "        alpha=np.arange(0.0,0.05,.003)\n",
    "        print(\"\\nBegining to run elasticNet Model.................................\\n\")\n",
    "        enet = ElasticNet()\n",
    "        \n",
    "        print(\"Configuring and finding best model using GridSearchCV.....................\\n\")        \n",
    "        param_grid = [{'alpha':alpha}]\n",
    "        enet_grid  = GridSearchCV(enet, param_grid, cv=self.folds)\n",
    "        \n",
    "        print(\"Fit train data to the best model.....................\\n\") \n",
    "        enet_grid.fit(self.X_train, self.y_train)\n",
    "        \n",
    "        print(\"Predict Y for test data.....................\\n\") \n",
    "        predictions = enet_grid.predict(self.X_test)\n",
    "        \n",
    "        RMSE = np.sqrt(mean_squared_error(self.y_test, predictions))\n",
    "        r2 = enet_grid.score(self.X_test, self.y_test)\n",
    "        #grid_results = pd.DataFrame(enet_grid.cv_results_) \n",
    "\n",
    "        print(\"ElasticNet Model report\")\n",
    "        print(\"----------------------------------------------------------------\\n\")\n",
    "        \n",
    "        print(\"Test RMSE: %f\" % (RMSE))\n",
    "        print('The accuracy of the elasticNet regressor is {:.2f} out of 1 on the test data'.format(r2))\n",
    "\n",
    "        return (pd.DataFrame(predictions, columns = ['eNet_predicted']), RMSE, r2)\n",
    "    \n",
    "    def runModel(self, whichModel = \"LR\"):\n",
    "        if(whichModel == \"LR\"):\n",
    "            return self.linearmodel()\n",
    "        elif(whichModel == \"CLasso\"):\n",
    "            return self.classic_lasso_model()\n",
    "        elif(whichModel == \"CV_Lasso\"):\n",
    "            return self.lasso_CV()\n",
    "        elif(whichModel == \"EN_GR\"):\n",
    "            return self.eNet_model()\n",
    "        elif(whichModel == \"RF\"):\n",
    "            return self.RF_model()\n",
    "        elif(whichModel == \"XG\"):\n",
    "            return self.xgb_model()\n",
    "\n",
    "    def get_y_test(self):\n",
    "        return self.y_test"
   ]
  },
  {
   "cell_type": "code",
   "execution_count": 44,
   "metadata": {},
   "outputs": [
    {
     "name": "stdout",
     "output_type": "stream",
     "text": [
      "[ 0.     0.003  0.006  0.009  0.012  0.015  0.018  0.021  0.024  0.027\n",
      "  0.03   0.033  0.036  0.039  0.042  0.045  0.048]\n"
     ]
    }
   ],
   "source": [
    "m = ml_models_tuned(X['BTU'], y[\"BTU\"], seed, folds, test_size, early_stop = 20)\n",
    "# prepare models\n",
    "models_t = []\n",
    "models_t.append(('LR', m.ret_LR_tunedModel()))\n",
    "models_t.append(('Lasso', m.ret_Classo_tunedModel()))\n",
    "models_t.append(('LassoCV', m.ret_LassoCV_tunedModel()))\n",
    "models_t.append(('RF', m.ret_RF_tunedModel()))\n",
    "models_t.append(('xgb', m.ret_xgb_tunedModel()))\n",
    "models_t.append(('eNet', m.ret_eNet_tunedModel()))"
   ]
  },
  {
   "cell_type": "code",
   "execution_count": 45,
   "metadata": {},
   "outputs": [],
   "source": [
    "# evaluate each model in turn\n",
    "results_mse_t = []\n",
    "results_r2_t = []\n",
    "names_t = []\n",
    "scoring_t = {'mse': 'neg_mean_squared_error',\n",
    "           'r2': 'r2',\n",
    "           'exp_var': 'explained_variance'}"
   ]
  },
  {
   "cell_type": "markdown",
   "metadata": {},
   "source": [
    "### Create the list of Models that will be run in sequence\n"
   ]
  },
  {
   "cell_type": "code",
   "execution_count": 46,
   "metadata": {
    "scrolled": true
   },
   "outputs": [
    {
     "name": "stdout",
     "output_type": "stream",
     "text": [
      "['fit_time', 'score_time', 'test_exp_var', 'test_mse', 'test_r2', 'train_exp_var', 'train_mse', 'train_r2']\n",
      "['fit_time', 'score_time', 'test_exp_var', 'test_mse', 'test_r2', 'train_exp_var', 'train_mse', 'train_r2']\n",
      "['fit_time', 'score_time', 'test_exp_var', 'test_mse', 'test_r2', 'train_exp_var', 'train_mse', 'train_r2']\n",
      "['fit_time', 'score_time', 'test_exp_var', 'test_mse', 'test_r2', 'train_exp_var', 'train_mse', 'train_r2']\n",
      "['fit_time', 'score_time', 'test_exp_var', 'test_mse', 'test_r2', 'train_exp_var', 'train_mse', 'train_r2']\n",
      "['fit_time', 'score_time', 'test_exp_var', 'test_mse', 'test_r2', 'train_exp_var', 'train_mse', 'train_r2']\n"
     ]
    }
   ],
   "source": [
    "for name, model in models_t:\n",
    "    kfold = KFold(n_splits=5, random_state=seed)\n",
    "    cv_results = cross_validate(model, X[\"BTU\"], y[\"BTU\"], cv=kfold, scoring=scoring_t)\n",
    "    print(sorted(cv_results.keys())  )\n",
    "    results_mse_t.append(cv_results['test_mse'])\n",
    "    results_r2_t.append(cv_results['test_r2'])\n",
    "    names_t.append(name)\n",
    "#     msg = \"%s: %f (%f)\" % (name, cv_results.mean(), cv_results.std())\n",
    "#     print(msg)"
   ]
  },
  {
   "cell_type": "code",
   "execution_count": 47,
   "metadata": {},
   "outputs": [
    {
     "data": {
      "text/plain": [
       "[array([ -8.34601228e+08,  -6.68348462e+08,  -6.44091301e+08,\n",
       "         -5.86736031e+08,  -5.06590835e+08]),\n",
       " array([ -8.34608146e+08,  -6.68350100e+08,  -6.44089775e+08,\n",
       "         -5.86735092e+08,  -5.06588537e+08]),\n",
       " array([ -8.42028295e+08,  -6.68736289e+08,  -6.43594131e+08,\n",
       "         -5.86550459e+08,  -5.06475273e+08]),\n",
       " array([ -5.57259274e+08,  -6.38964798e+08,  -4.65430997e+08,\n",
       "         -4.61321705e+08,  -3.88859930e+08]),\n",
       " array([ -5.02791133e+08,  -4.90510242e+08,  -4.10954437e+08,\n",
       "         -4.00431897e+08,  -3.41033650e+08]),\n",
       " array([ -8.39552127e+08,  -6.69133597e+08,  -6.43582080e+08,\n",
       "         -5.86520145e+08,  -5.05703720e+08])]"
      ]
     },
     "execution_count": 47,
     "metadata": {},
     "output_type": "execute_result"
    }
   ],
   "source": [
    "results_mse_t"
   ]
  },
  {
   "cell_type": "code",
   "execution_count": 48,
   "metadata": {},
   "outputs": [
    {
     "data": {
      "image/png": "[encoded data removed]",
      "text/plain": [
       "<Figure size 432x288 with 1 Axes>"
      ]
     },
     "metadata": {
      "needs_background": "light"
     },
     "output_type": "display_data"
    }
   ],
   "source": [
    "# boxplot algorithm comparison\n",
    "fig = plt.figure()\n",
    "fig.suptitle('Algorithm Comparison')\n",
    "ax = fig.add_subplot(111)\n",
    "plt.boxplot(results_mse_t)\n",
    "ax.set_xticklabels(names_t)\n",
    "plt.show()"
   ]
  },
  {
   "cell_type": "code",
   "execution_count": 49,
   "metadata": {},
   "outputs": [
    {
     "data": {
      "image/png": "[encoded data removed]",
      "text/plain": [
       "<Figure size 432x288 with 1 Axes>"
      ]
     },
     "metadata": {
      "needs_background": "light"
     },
     "output_type": "display_data"
    }
   ],
   "source": [
    "# boxplot algorithm comparison\n",
    "fig = plt.figure()\n",
    "fig.suptitle('Algorithm Comparison')\n",
    "ax = fig.add_subplot(111)\n",
    "plt.boxplot(results_r2_t)\n",
    "ax.set_xticklabels(names_t)\n",
    "plt.show()"
   ]
  },
  {
   "cell_type": "code",
   "execution_count": 53,
   "metadata": {},
   "outputs": [
    {
     "data": {
      "text/plain": [
       "<matplotlib.axes._subplots.AxesSubplot at 0x1f681610908>"
      ]
     },
     "execution_count": 53,
     "metadata": {},
     "output_type": "execute_result"
    },
    {
     "data": {
      "image/png": "[encoded data removed]",
      "text/plain": [
       "<Figure size 1080x576 with 4 Axes>"
      ]
     },
     "metadata": {
      "needs_background": "light"
     },
     "output_type": "display_data"
    }
   ],
   "source": [
    "# plot categorical variables\n",
    "fcols = 2\n",
    "frows = 2\n",
    "plt.figure(figsize=(15,4*frows))\n",
    "\n",
    "plt.subplot(2,2,1)\n",
    "sns.boxplot(names, results_mse)\n",
    "\n",
    "plt.subplot(2,2,2)\n",
    "sns.boxplot(names, results_r2)\n",
    "\n",
    "plt.subplot(2,2,3)\n",
    "sns.boxplot(names, results_mse_t)\n",
    "\n",
    "plt.subplot(2,2,4)\n",
    "sns.boxplot(names, results_r2_t)"
   ]
  },
  {
   "cell_type": "code",
   "execution_count": null,
   "metadata": {},
   "outputs": [],
   "source": []
  }
 ],
 "metadata": {
  "kernelspec": {
   "display_name": "Python 3",
   "language": "python",
   "name": "python3"
  },
  "language_info": {
   "codemirror_mode": {
    "name": "ipython",
    "version": 3
   },
   "file_extension": ".py",
   "mimetype": "text/x-python",
   "name": "python",
   "nbconvert_exporter": "python",
   "pygments_lexer": "ipython3",
   "version": "3.7.0"
  }
 },
 "nbformat": 4,
 "nbformat_minor": 2
}
