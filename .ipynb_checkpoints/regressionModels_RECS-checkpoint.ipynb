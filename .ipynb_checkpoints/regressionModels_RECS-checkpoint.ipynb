{
 "cells": [
  {
   "cell_type": "markdown",
   "metadata": {},
   "source": [
    "## Analysis of RECS data and derive regression models (XGBoost)\n",
    "\n",
    "Preparation of data\n",
    "1. Obtain and Filter the raw data to a dataset that consists of key features derived through Feature Engineering \n",
    "2. Replace values like 99, 9, -2 with Mode of the column\n",
    "3. Perform one hot encoding for all categorical values\n",
    "\n",
    "Running data Models\n",
    "1. Split train and test data (75:25 ratio)\n",
    "2. Run XGBOOST algo against train data\n",
    "3. Use Test to validate prediction\n",
    "4. Plot the residual and accuracy if possible\n"
   ]
  },
  {
   "cell_type": "code",
   "execution_count": 186,
   "metadata": {},
   "outputs": [],
   "source": [
    "# IMport dependencies\n",
    "import pandas as pd\n",
    "from pandas import set_option\n",
    "import numpy\n",
    "import os\n",
    "import csv\n",
    "\n",
    "import matplotlib.pyplot as plt\n",
    "import seaborn as sns\n",
    "\n",
    "import warnings\n",
    "warnings.filterwarnings(\"ignore\")\n",
    "\n",
    "# import required libraries related to xgBoost and sci-kit learn\n",
    "import xgboost as xgb\n",
    "from sklearn.metrics import mean_squared_error\n",
    "\n",
    "# from keras.utils import to_categorical\n",
    "\n",
    "# import preprocessing from sklearn\n",
    "from sklearn import preprocessing\n",
    "\n",
    "# DictVectorizer\n",
    "from sklearn.feature_extraction import DictVectorizer"
   ]
  },
  {
   "cell_type": "markdown",
   "metadata": {},
   "source": [
    "### Import Data"
   ]
  },
  {
   "cell_type": "code",
   "execution_count": 2,
   "metadata": {},
   "outputs": [],
   "source": [
    "# set global variables\n",
    "dataFilePath = \"dataforfinalproject\"\n",
    "filename = \"RECS_COMBINED_DATA.csv\"\n",
    "cols_file = \"Final_Columns_withCat.csv\""
   ]
  },
  {
   "cell_type": "code",
   "execution_count": 7,
   "metadata": {},
   "outputs": [],
   "source": [
    "# read dataset wih all years combined data\n",
    "df_recs = pd.read_csv(os.path.join(dataFilePath, filename), low_memory= False)\n"
   ]
  },
  {
   "cell_type": "code",
   "execution_count": 8,
   "metadata": {},
   "outputs": [
    {
     "data": {
      "text/plain": [
       "Index(['COLUMN_NAME', 'COLUMN_CAT_ABBR', 'COLUMN_CATEGORY',\n",
       "       'COLUMN_DESCRIPTION', 'FEATURES_MODEL', 'COLUMN_TYPE', 'REQ_ONEHOTENC'],\n",
       "      dtype='object')"
      ]
     },
     "execution_count": 8,
     "metadata": {},
     "output_type": "execute_result"
    }
   ],
   "source": [
    "# read the columns from Columns csv\n",
    "df_cols = pd.read_csv(os.path.join(dataFilePath, cols_file))\n",
    "df_cols.columns"
   ]
  },
  {
   "cell_type": "code",
   "execution_count": 215,
   "metadata": {},
   "outputs": [
    {
     "data": {
      "text/plain": [
       "(26973, 86)"
      ]
     },
     "execution_count": 215,
     "metadata": {},
     "output_type": "execute_result"
    }
   ],
   "source": [
    "# Whittle down the dataset to contain only Features required for modeling\n",
    "modelDF = df_recs[df_cols[df_cols.FEATURES_MODEL == \"Y\"].COLUMN_NAME]\n",
    "modelDF.shape"
   ]
  },
  {
   "cell_type": "markdown",
   "metadata": {},
   "source": [
    "### Prepare Data"
   ]
  },
  {
   "cell_type": "code",
   "execution_count": 216,
   "metadata": {},
   "outputs": [],
   "source": [
    "# describe the dataframe that will be used for model\n",
    "descrDF = modelDF[df_cols[(df_cols.FEATURES_MODEL == \"Y\")].COLUMN_NAME].describe()\n",
    "# transpose to make it easier to obtain columns with values of 99 and <0\n",
    "descrDF = descrDF.transpose().reset_index()\n",
    "descrDF\n",
    "# obtain column names with values 99. 99 indicates missing or unavailable info. this needs to be replaced with MOde\n",
    "cols99_2 = descrDF[(descrDF['max'] == 99.0) | (descrDF['min'] < 0) ]['index'].tolist()\n",
    "# cols_2 = descrDF[descrDF['min'] == -2.0]['index'].tolist()\n"
   ]
  },
  {
   "cell_type": "code",
   "execution_count": 217,
   "metadata": {},
   "outputs": [
    {
     "name": "stdout",
     "output_type": "stream",
     "text": [
      "cols with values as 99 and -2: ['CELLAR', 'STORIES', 'PRKGPLC1', 'BEDROOMS', 'FUELPOOL', 'SIZRFRI1', 'TYPERFR1', 'AGERFRI1', 'SIZRFRI2', 'TYPERFR2', 'AGERFRI2', 'NUMFREEZ', 'SIZFREEZ', 'AGEFRZR', 'STOVENFUEL', 'OVENUSE', 'AMTMICRO', 'DWASHUSE', 'WASHLOAD', 'WASHTEMP', 'EQUIPM', 'FUELHEAT', 'EQUIPAGE', 'PROTHERM', 'TEMPHOME', 'TEMPGONE', 'TEMPNITE', 'AGECENAC', 'USECENAC', 'NUMBERAC', 'WWACAGE', 'USEWWAC', 'FUELH2O', 'WHEATAGE', 'WHEATSIZ', 'LGTOUTNUM', 'ESDISHW', 'PGASHEAT', 'WOODAMT'] \n",
      "\n"
     ]
    }
   ],
   "source": [
    "print(f\"cols with values as 99 and -2: {cols99_2} \\n\")\n",
    "\n",
    "# print(f\"cols with values as -2 : {cols_2} \")\n"
   ]
  },
  {
   "cell_type": "code",
   "execution_count": 218,
   "metadata": {},
   "outputs": [
    {
     "data": {
      "text/plain": [
       "0"
      ]
     },
     "execution_count": 218,
     "metadata": {},
     "output_type": "execute_result"
    }
   ],
   "source": [
    "# For all categorical columns, that have 99 and -2 , replace with Columns Mode value#\n",
    "# step 1 - Fill na for thse values of 99 and -2\n",
    "# Step 2: Fillna with mode\n",
    "\n",
    "# step1 \n",
    "modelCopy = modelDF.copy()\n",
    "modelDF[cols99_2] = modelDF[cols99_2].applymap(lambda r : None if r in [99,-2] else r)\n",
    "\n",
    "\n",
    "#step2 :\n",
    "# modelDF[cols99_2].apply(lambda r : modes[r.name])\n",
    "modelDF[cols99_2] = modelDF[cols99_2].fillna(modelDF.mode().iloc[0])\n",
    "\n",
    "# just for Col EDishw, the values are in -ve  (-9, -8 )so replace it in a separate line\n",
    "modelDF['ESDISHW'] = modelDF['ESDISHW'].apply(lambda r : 0 if (r < 0) else r)\n",
    "\n",
    "# check if NAN exists\n",
    "modelDF.isnull().values.sum()\n"
   ]
  },
  {
   "cell_type": "code",
   "execution_count": 219,
   "metadata": {},
   "outputs": [
    {
     "data": {
      "text/html": [
       "<div>\n",
       "<style scoped>\n",
       "    .dataframe tbody tr th:only-of-type {\n",
       "        vertical-align: middle;\n",
       "    }\n",
       "\n",
       "    .dataframe tbody tr th {\n",
       "        vertical-align: top;\n",
       "    }\n",
       "\n",
       "    .dataframe thead th {\n",
       "        text-align: right;\n",
       "    }\n",
       "</style>\n",
       "<table border=\"1\" class=\"dataframe\">\n",
       "  <thead>\n",
       "    <tr style=\"text-align: right;\">\n",
       "      <th></th>\n",
       "      <th>REGIONC</th>\n",
       "      <th>DIVISION</th>\n",
       "      <th>CELLAR</th>\n",
       "      <th>PRKGPLC1</th>\n",
       "      <th>YEARMADE</th>\n",
       "      <th>OCCUPYY</th>\n",
       "      <th>WINDOWS</th>\n",
       "      <th>ADQINSUL</th>\n",
       "      <th>DRAFTY</th>\n",
       "      <th>FUELPOOL</th>\n",
       "      <th>...</th>\n",
       "      <th>WHEATSIZ</th>\n",
       "      <th>LGTOUTNUM</th>\n",
       "      <th>ESDISHW</th>\n",
       "      <th>PGASHEAT</th>\n",
       "      <th>HHSEX</th>\n",
       "      <th>EMPLOYHH</th>\n",
       "      <th>HOUSEHOLDER_RACE</th>\n",
       "      <th>MONEYPY</th>\n",
       "      <th>RECBATH</th>\n",
       "      <th>LPWATER</th>\n",
       "    </tr>\n",
       "  </thead>\n",
       "  <tbody>\n",
       "    <tr>\n",
       "      <th>count</th>\n",
       "      <td>26973.000000</td>\n",
       "      <td>26973.000000</td>\n",
       "      <td>26973.000000</td>\n",
       "      <td>26973.000000</td>\n",
       "      <td>26973.000000</td>\n",
       "      <td>26973.000000</td>\n",
       "      <td>26973.000000</td>\n",
       "      <td>26973.000000</td>\n",
       "      <td>26973.000000</td>\n",
       "      <td>26973.000000</td>\n",
       "      <td>...</td>\n",
       "      <td>26973.000000</td>\n",
       "      <td>26973.000000</td>\n",
       "      <td>26973.000000</td>\n",
       "      <td>26973.000000</td>\n",
       "      <td>26973.000000</td>\n",
       "      <td>26973.000000</td>\n",
       "      <td>26973.000000</td>\n",
       "      <td>26973.000000</td>\n",
       "      <td>26973.000000</td>\n",
       "      <td>26973.000000</td>\n",
       "    </tr>\n",
       "    <tr>\n",
       "      <th>mean</th>\n",
       "      <td>2.639528</td>\n",
       "      <td>5.323842</td>\n",
       "      <td>1.589071</td>\n",
       "      <td>1.257220</td>\n",
       "      <td>4.219849</td>\n",
       "      <td>6.846587</td>\n",
       "      <td>30.275164</td>\n",
       "      <td>1.861046</td>\n",
       "      <td>3.371297</td>\n",
       "      <td>1.034553</td>\n",
       "      <td>...</td>\n",
       "      <td>2.351018</td>\n",
       "      <td>0.530271</td>\n",
       "      <td>1.355911</td>\n",
       "      <td>2.300597</td>\n",
       "      <td>1.450710</td>\n",
       "      <td>0.837356</td>\n",
       "      <td>1.956475</td>\n",
       "      <td>9.597635</td>\n",
       "      <td>0.376970</td>\n",
       "      <td>0.037334</td>\n",
       "    </tr>\n",
       "    <tr>\n",
       "      <th>std</th>\n",
       "      <td>1.051262</td>\n",
       "      <td>2.795930</td>\n",
       "      <td>3.087190</td>\n",
       "      <td>2.298351</td>\n",
       "      <td>2.397493</td>\n",
       "      <td>2.193998</td>\n",
       "      <td>16.054884</td>\n",
       "      <td>0.800860</td>\n",
       "      <td>0.906754</td>\n",
       "      <td>0.429598</td>\n",
       "      <td>...</td>\n",
       "      <td>3.804938</td>\n",
       "      <td>0.994582</td>\n",
       "      <td>2.947997</td>\n",
       "      <td>2.888062</td>\n",
       "      <td>0.497574</td>\n",
       "      <td>0.716003</td>\n",
       "      <td>4.427966</td>\n",
       "      <td>6.728926</td>\n",
       "      <td>1.668587</td>\n",
       "      <td>0.189582</td>\n",
       "    </tr>\n",
       "    <tr>\n",
       "      <th>min</th>\n",
       "      <td>1.000000</td>\n",
       "      <td>1.000000</td>\n",
       "      <td>0.000000</td>\n",
       "      <td>0.000000</td>\n",
       "      <td>1.000000</td>\n",
       "      <td>1.000000</td>\n",
       "      <td>0.000000</td>\n",
       "      <td>1.000000</td>\n",
       "      <td>1.000000</td>\n",
       "      <td>1.000000</td>\n",
       "      <td>...</td>\n",
       "      <td>0.000000</td>\n",
       "      <td>0.000000</td>\n",
       "      <td>0.000000</td>\n",
       "      <td>1.000000</td>\n",
       "      <td>1.000000</td>\n",
       "      <td>0.000000</td>\n",
       "      <td>1.000000</td>\n",
       "      <td>1.000000</td>\n",
       "      <td>0.000000</td>\n",
       "      <td>0.000000</td>\n",
       "    </tr>\n",
       "    <tr>\n",
       "      <th>25%</th>\n",
       "      <td>2.000000</td>\n",
       "      <td>3.000000</td>\n",
       "      <td>0.000000</td>\n",
       "      <td>0.000000</td>\n",
       "      <td>2.000000</td>\n",
       "      <td>6.000000</td>\n",
       "      <td>20.000000</td>\n",
       "      <td>1.000000</td>\n",
       "      <td>3.000000</td>\n",
       "      <td>1.000000</td>\n",
       "      <td>...</td>\n",
       "      <td>2.000000</td>\n",
       "      <td>0.000000</td>\n",
       "      <td>0.000000</td>\n",
       "      <td>1.000000</td>\n",
       "      <td>1.000000</td>\n",
       "      <td>0.000000</td>\n",
       "      <td>1.000000</td>\n",
       "      <td>5.000000</td>\n",
       "      <td>0.000000</td>\n",
       "      <td>0.000000</td>\n",
       "    </tr>\n",
       "    <tr>\n",
       "      <th>50%</th>\n",
       "      <td>3.000000</td>\n",
       "      <td>5.000000</td>\n",
       "      <td>0.000000</td>\n",
       "      <td>1.000000</td>\n",
       "      <td>4.000000</td>\n",
       "      <td>8.000000</td>\n",
       "      <td>30.000000</td>\n",
       "      <td>2.000000</td>\n",
       "      <td>4.000000</td>\n",
       "      <td>1.000000</td>\n",
       "      <td>...</td>\n",
       "      <td>2.000000</td>\n",
       "      <td>0.000000</td>\n",
       "      <td>0.000000</td>\n",
       "      <td>1.000000</td>\n",
       "      <td>1.000000</td>\n",
       "      <td>1.000000</td>\n",
       "      <td>1.000000</td>\n",
       "      <td>8.000000</td>\n",
       "      <td>0.000000</td>\n",
       "      <td>0.000000</td>\n",
       "    </tr>\n",
       "    <tr>\n",
       "      <th>75%</th>\n",
       "      <td>3.000000</td>\n",
       "      <td>7.000000</td>\n",
       "      <td>1.000000</td>\n",
       "      <td>1.000000</td>\n",
       "      <td>6.000000</td>\n",
       "      <td>8.000000</td>\n",
       "      <td>41.000000</td>\n",
       "      <td>2.000000</td>\n",
       "      <td>4.000000</td>\n",
       "      <td>1.000000</td>\n",
       "      <td>...</td>\n",
       "      <td>3.000000</td>\n",
       "      <td>1.000000</td>\n",
       "      <td>1.000000</td>\n",
       "      <td>1.000000</td>\n",
       "      <td>2.000000</td>\n",
       "      <td>1.000000</td>\n",
       "      <td>1.000000</td>\n",
       "      <td>13.000000</td>\n",
       "      <td>0.000000</td>\n",
       "      <td>0.000000</td>\n",
       "    </tr>\n",
       "    <tr>\n",
       "      <th>max</th>\n",
       "      <td>4.000000</td>\n",
       "      <td>10.000000</td>\n",
       "      <td>9.000000</td>\n",
       "      <td>9.000000</td>\n",
       "      <td>13.000000</td>\n",
       "      <td>9.000000</td>\n",
       "      <td>60.000000</td>\n",
       "      <td>6.000000</td>\n",
       "      <td>6.000000</td>\n",
       "      <td>21.000000</td>\n",
       "      <td>...</td>\n",
       "      <td>95.000000</td>\n",
       "      <td>15.000000</td>\n",
       "      <td>9.000000</td>\n",
       "      <td>9.000000</td>\n",
       "      <td>2.000000</td>\n",
       "      <td>8.000000</td>\n",
       "      <td>42.000000</td>\n",
       "      <td>24.000000</td>\n",
       "      <td>9.000000</td>\n",
       "      <td>1.000000</td>\n",
       "    </tr>\n",
       "  </tbody>\n",
       "</table>\n",
       "<p>8 rows × 42 columns</p>\n",
       "</div>"
      ],
      "text/plain": [
       "            REGIONC      DIVISION        CELLAR      PRKGPLC1      YEARMADE  \\\n",
       "count  26973.000000  26973.000000  26973.000000  26973.000000  26973.000000   \n",
       "mean       2.639528      5.323842      1.589071      1.257220      4.219849   \n",
       "std        1.051262      2.795930      3.087190      2.298351      2.397493   \n",
       "min        1.000000      1.000000      0.000000      0.000000      1.000000   \n",
       "25%        2.000000      3.000000      0.000000      0.000000      2.000000   \n",
       "50%        3.000000      5.000000      0.000000      1.000000      4.000000   \n",
       "75%        3.000000      7.000000      1.000000      1.000000      6.000000   \n",
       "max        4.000000     10.000000      9.000000      9.000000     13.000000   \n",
       "\n",
       "            OCCUPYY       WINDOWS      ADQINSUL        DRAFTY      FUELPOOL  \\\n",
       "count  26973.000000  26973.000000  26973.000000  26973.000000  26973.000000   \n",
       "mean       6.846587     30.275164      1.861046      3.371297      1.034553   \n",
       "std        2.193998     16.054884      0.800860      0.906754      0.429598   \n",
       "min        1.000000      0.000000      1.000000      1.000000      1.000000   \n",
       "25%        6.000000     20.000000      1.000000      3.000000      1.000000   \n",
       "50%        8.000000     30.000000      2.000000      4.000000      1.000000   \n",
       "75%        8.000000     41.000000      2.000000      4.000000      1.000000   \n",
       "max        9.000000     60.000000      6.000000      6.000000     21.000000   \n",
       "\n",
       "           ...           WHEATSIZ     LGTOUTNUM       ESDISHW      PGASHEAT  \\\n",
       "count      ...       26973.000000  26973.000000  26973.000000  26973.000000   \n",
       "mean       ...           2.351018      0.530271      1.355911      2.300597   \n",
       "std        ...           3.804938      0.994582      2.947997      2.888062   \n",
       "min        ...           0.000000      0.000000      0.000000      1.000000   \n",
       "25%        ...           2.000000      0.000000      0.000000      1.000000   \n",
       "50%        ...           2.000000      0.000000      0.000000      1.000000   \n",
       "75%        ...           3.000000      1.000000      1.000000      1.000000   \n",
       "max        ...          95.000000     15.000000      9.000000      9.000000   \n",
       "\n",
       "              HHSEX      EMPLOYHH  HOUSEHOLDER_RACE       MONEYPY  \\\n",
       "count  26973.000000  26973.000000      26973.000000  26973.000000   \n",
       "mean       1.450710      0.837356          1.956475      9.597635   \n",
       "std        0.497574      0.716003          4.427966      6.728926   \n",
       "min        1.000000      0.000000          1.000000      1.000000   \n",
       "25%        1.000000      0.000000          1.000000      5.000000   \n",
       "50%        1.000000      1.000000          1.000000      8.000000   \n",
       "75%        2.000000      1.000000          1.000000     13.000000   \n",
       "max        2.000000      8.000000         42.000000     24.000000   \n",
       "\n",
       "            RECBATH       LPWATER  \n",
       "count  26973.000000  26973.000000  \n",
       "mean       0.376970      0.037334  \n",
       "std        1.668587      0.189582  \n",
       "min        0.000000      0.000000  \n",
       "25%        0.000000      0.000000  \n",
       "50%        0.000000      0.000000  \n",
       "75%        0.000000      0.000000  \n",
       "max        9.000000      1.000000  \n",
       "\n",
       "[8 rows x 42 columns]"
      ]
     },
     "execution_count": 219,
     "metadata": {},
     "output_type": "execute_result"
    }
   ],
   "source": [
    "modelDF[df_cols[(df_cols.FEATURES_MODEL == \"Y\") & (df_cols.COLUMN_TYPE == \"Categorical\")].COLUMN_NAME].describe()"
   ]
  },
  {
   "cell_type": "code",
   "execution_count": 220,
   "metadata": {},
   "outputs": [
    {
     "data": {
      "text/html": [
       "<div>\n",
       "<style scoped>\n",
       "    .dataframe tbody tr th:only-of-type {\n",
       "        vertical-align: middle;\n",
       "    }\n",
       "\n",
       "    .dataframe tbody tr th {\n",
       "        vertical-align: top;\n",
       "    }\n",
       "\n",
       "    .dataframe thead th {\n",
       "        text-align: right;\n",
       "    }\n",
       "</style>\n",
       "<table border=\"1\" class=\"dataframe\">\n",
       "  <thead>\n",
       "    <tr style=\"text-align: right;\">\n",
       "      <th></th>\n",
       "      <th>index</th>\n",
       "      <th>count</th>\n",
       "      <th>mean</th>\n",
       "      <th>std</th>\n",
       "      <th>min</th>\n",
       "      <th>25%</th>\n",
       "      <th>50%</th>\n",
       "      <th>75%</th>\n",
       "      <th>max</th>\n",
       "    </tr>\n",
       "  </thead>\n",
       "  <tbody>\n",
       "  </tbody>\n",
       "</table>\n",
       "</div>"
      ],
      "text/plain": [
       "Empty DataFrame\n",
       "Columns: [index, count, mean, std, min, 25%, 50%, 75%, max]\n",
       "Index: []"
      ]
     },
     "execution_count": 220,
     "metadata": {},
     "output_type": "execute_result"
    }
   ],
   "source": [
    "descrDF1 = modelDF[df_cols[(df_cols.FEATURES_MODEL == \"Y\")].COLUMN_NAME].describe()\n",
    "# transpose to make it easier to obtain columns with values of 99 and -2\n",
    "descrDF1 = descrDF1.transpose().reset_index()\n",
    "descrDF1[descrDF1['min'] < 0]"
   ]
  },
  {
   "cell_type": "markdown",
   "metadata": {},
   "source": [
    "# XGBOOST - Predicting Total Consumption in BTU"
   ]
  },
  {
   "cell_type": "code",
   "execution_count": 224,
   "metadata": {},
   "outputs": [
    {
     "data": {
      "text/plain": [
       "['DOLLAREL', 'DOLELSPH', 'DOLELCOL', 'DOLELWTH', 'DOLELRFG', 'DOLELOTH']"
      ]
     },
     "execution_count": 224,
     "metadata": {},
     "output_type": "execute_result"
    }
   ],
   "source": [
    "# Drop Price / Cost related Columns as it is only Consumption we are interested in \n",
    "cost_cols = df_cols[(df_cols['COLUMN_NAME'].str.find(\"DOL\") != -1) & (df_cols.FEATURES_MODEL == \"Y\")].COLUMN_NAME.tolist()\n",
    "cost_cols"
   ]
  },
  {
   "cell_type": "code",
   "execution_count": 225,
   "metadata": {},
   "outputs": [
    {
     "data": {
      "text/html": [
       "<div>\n",
       "<style scoped>\n",
       "    .dataframe tbody tr th:only-of-type {\n",
       "        vertical-align: middle;\n",
       "    }\n",
       "\n",
       "    .dataframe tbody tr th {\n",
       "        vertical-align: top;\n",
       "    }\n",
       "\n",
       "    .dataframe thead th {\n",
       "        text-align: right;\n",
       "    }\n",
       "</style>\n",
       "<table border=\"1\" class=\"dataframe\">\n",
       "  <thead>\n",
       "    <tr style=\"text-align: right;\">\n",
       "      <th></th>\n",
       "      <th>DOLLAREL</th>\n",
       "      <th>DOLELSPH</th>\n",
       "      <th>DOLELCOL</th>\n",
       "      <th>DOLELWTH</th>\n",
       "      <th>DOLELRFG</th>\n",
       "      <th>DOLELOTH</th>\n",
       "    </tr>\n",
       "  </thead>\n",
       "  <tbody>\n",
       "    <tr>\n",
       "      <th>0</th>\n",
       "      <td>1667.0</td>\n",
       "      <td>0.0</td>\n",
       "      <td>241.0</td>\n",
       "      <td>376.0</td>\n",
       "      <td>183.0</td>\n",
       "      <td>1105.0</td>\n",
       "    </tr>\n",
       "    <tr>\n",
       "      <th>1</th>\n",
       "      <td>973.0</td>\n",
       "      <td>0.0</td>\n",
       "      <td>345.0</td>\n",
       "      <td>0.0</td>\n",
       "      <td>70.0</td>\n",
       "      <td>693.0</td>\n",
       "    </tr>\n",
       "    <tr>\n",
       "      <th>2</th>\n",
       "      <td>820.0</td>\n",
       "      <td>0.0</td>\n",
       "      <td>0.0</td>\n",
       "      <td>267.0</td>\n",
       "      <td>150.0</td>\n",
       "      <td>403.0</td>\n",
       "    </tr>\n",
       "    <tr>\n",
       "      <th>3</th>\n",
       "      <td>4470.0</td>\n",
       "      <td>60.0</td>\n",
       "      <td>698.0</td>\n",
       "      <td>0.0</td>\n",
       "      <td>703.0</td>\n",
       "      <td>3766.0</td>\n",
       "    </tr>\n",
       "    <tr>\n",
       "      <th>4</th>\n",
       "      <td>1170.0</td>\n",
       "      <td>0.0</td>\n",
       "      <td>113.0</td>\n",
       "      <td>243.0</td>\n",
       "      <td>202.0</td>\n",
       "      <td>751.0</td>\n",
       "    </tr>\n",
       "  </tbody>\n",
       "</table>\n",
       "</div>"
      ],
      "text/plain": [
       "   DOLLAREL  DOLELSPH  DOLELCOL  DOLELWTH  DOLELRFG  DOLELOTH\n",
       "0    1667.0       0.0     241.0     376.0     183.0    1105.0\n",
       "1     973.0       0.0     345.0       0.0      70.0     693.0\n",
       "2     820.0       0.0       0.0     267.0     150.0     403.0\n",
       "3    4470.0      60.0     698.0       0.0     703.0    3766.0\n",
       "4    1170.0       0.0     113.0     243.0     202.0     751.0"
      ]
     },
     "execution_count": 225,
     "metadata": {},
     "output_type": "execute_result"
    }
   ],
   "source": [
    "modelDF[cost_cols].head()"
   ]
  },
  {
   "cell_type": "code",
   "execution_count": 227,
   "metadata": {},
   "outputs": [
    {
     "name": "stdout",
     "output_type": "stream",
     "text": [
      "(26973, 80)\n"
     ]
    },
    {
     "data": {
      "text/plain": [
       "Index(['REGIONC', 'DIVISION', 'CELLAR', 'STORIES', 'PRKGPLC1', 'YEARMADE',\n",
       "       'OCCUPYY', 'BEDROOMS', 'NCOMBATH', 'NHAFBATH', 'OTHROOMS', 'TOTROOMS',\n",
       "       'WINDOWS', 'ADQINSUL', 'DRAFTY', 'FUELPOOL', 'SIZRFRI1', 'TYPERFR1',\n",
       "       'AGERFRI1', 'SIZRFRI2', 'TYPERFR2', 'AGERFRI2', 'NUMFREEZ', 'SIZFREEZ',\n",
       "       'AGEFRZR', 'STOVENFUEL', 'OVENUSE', 'AMTMICRO', 'NUMMEAL', 'DWASHUSE',\n",
       "       'WASHLOAD', 'WASHTEMP', 'EQUIPM', 'FUELHEAT', 'EQUIPAGE', 'PROTHERM',\n",
       "       'TEMPHOME', 'TEMPGONE', 'TEMPNITE', 'ELECAUX', 'AGECENAC', 'USECENAC',\n",
       "       'NUMBERAC', 'WWACAGE', 'USEWWAC', 'NUMCFAN', 'FUELH2O', 'WHEATAGE',\n",
       "       'WHEATSIZ', 'LGTOUTNUM', 'ESDISHW', 'PGASHEAT', 'HHSEX', 'HHAGE',\n",
       "       'EMPLOYHH', 'HOUSEHOLDER_RACE', 'NHSLDMEM', 'MONEYPY', 'TOTCSQFT',\n",
       "       'TOTHSQFT', 'TOTUSQFT', 'CDD65', 'HDD65', 'GALLONLP', 'CUFEETNG',\n",
       "       'BTUEL', 'BTUELSPH', 'BTUELCOL', 'BTUELWTH', 'BTUELRFG', 'BTUELOTH',\n",
       "       'BTUFO', 'TOTALBTU', 'WOODAMT', 'RECBATH', 'NUMFRIG', 'LPWATER',\n",
       "       'TVAUDIOEQUIP', 'PCOFFEQUIP', 'PHONE'],\n",
       "      dtype='object')"
      ]
     },
     "execution_count": 227,
     "metadata": {},
     "output_type": "execute_result"
    }
   ],
   "source": [
    "modelDF_BTU = modelDF.copy()\n",
    "modelDF_BTU.drop(cost_cols, axis = 1, inplace = True)\n",
    "print(modelDF_BTU.shape)\n",
    "modelDF_BTU.columns"
   ]
  },
  {
   "cell_type": "code",
   "execution_count": 228,
   "metadata": {},
   "outputs": [
    {
     "name": "stdout",
     "output_type": "stream",
     "text": [
      "shape of y is (26973,)\n",
      "shape of X is (26973, 79)\n"
     ]
    }
   ],
   "source": [
    "# assign target or output to y\n",
    "y = modelDF_BTU['TOTALBTU']\n",
    "print(f\"shape of y is {y.shape}\")\n",
    "\n",
    "# and drop TOTAL BTU from X set\n",
    "X = modelDF_BTU.drop(['TOTALBTU'], axis = 1)\n",
    "print(f\"shape of X is {X.shape}\")"
   ]
  },
  {
   "cell_type": "markdown",
   "metadata": {},
   "source": []
  },
  {
   "cell_type": "code",
   "execution_count": null,
   "metadata": {},
   "outputs": [],
   "source": []
  },
  {
   "cell_type": "code",
   "execution_count": null,
   "metadata": {},
   "outputs": [],
   "source": []
  },
  {
   "cell_type": "code",
   "execution_count": null,
   "metadata": {},
   "outputs": [],
   "source": []
  },
  {
   "cell_type": "markdown",
   "metadata": {},
   "source": [
    "### Apply one hot encoding on the dataset for all categorical columns"
   ]
  },
  {
   "cell_type": "code",
   "execution_count": null,
   "metadata": {},
   "outputs": [],
   "source": [
    "# TODO: create a OneHotEncoder object, and fit it to all of Categorical Values of X (independent variable)\n",
    "\n",
    "# dataset that needs OHE\n",
    "XY = modelDF[df_cols[(df_cols.FEATURES_MODEL == \"Y\")].COLUMN_NAME]\n",
    "print(XY.shape)"
   ]
  },
  {
   "cell_type": "code",
   "execution_count": 180,
   "metadata": {},
   "outputs": [
    {
     "name": "stdout",
     "output_type": "stream",
     "text": [
      "[ True  True  True False  True  True  True False False False False False\n",
      "  True  True  True  True  True  True  True  True  True  True False  True\n",
      "  True  True False False  True False False  True  True  True  True  True\n",
      " False False False  True  True  True False  True  True False  True  True\n",
      "  True  True  True  True  True False  True  True False  True False False\n",
      " False False False False False False False False False False False False\n",
      " False False False False False False False False  True False  True False\n",
      " False False]\n",
      "86\n"
     ]
    }
   ],
   "source": [
    "# CreateCategory Column mask to identify the columns that are categorical \n",
    "\n",
    "CATCOLS = df_cols[(df_cols.FEATURES_MODEL == \"Y\") & (df_cols.COLUMN_TYPE == \"Categorical\")].COLUMN_NAME.tolist()\n",
    "XY_CAT_COLS_MASK = modelDF.columns.isin(CATCOLS)\n",
    "\n",
    "print(XY_CAT_COLS_MASK)\n",
    "print(len(XY_CAT_COLS_MASK))\n"
   ]
  },
  {
   "cell_type": "code",
   "execution_count": 182,
   "metadata": {},
   "outputs": [
    {
     "data": {
      "text/plain": [
       "OneHotEncoder(categorical_features=array([ True,  True, ..., False, False]),\n",
       "       dtype=<class 'numpy.float64'>, handle_unknown='error',\n",
       "       n_values='auto', sparse=False)"
      ]
     },
     "execution_count": 182,
     "metadata": {},
     "output_type": "execute_result"
    }
   ],
   "source": [
    "# 1. INSTANTIATE\n",
    "enc = preprocessing.OneHotEncoder(categorical_features = XY_CAT_COLS_MASK, sparse= False)\n",
    "\n",
    "# 2. FIT\n",
    "enc.fit(XY)"
   ]
  },
  {
   "cell_type": "code",
   "execution_count": 184,
   "metadata": {},
   "outputs": [
    {
     "data": {
      "text/plain": [
       "(26973, 372)"
      ]
     },
     "execution_count": 184,
     "metadata": {},
     "output_type": "execute_result"
    }
   ],
   "source": [
    "# 3. Transform\n",
    "onehotlabels = enc.transform(XY)\n",
    "onehotlabels.shape\n",
    "\n",
    "# as you can see, you've the same number of rows 891\n",
    "# but now you've so many more columns due to how we changed all the categorical data into numerical data"
   ]
  },
  {
   "cell_type": "code",
   "execution_count": 185,
   "metadata": {},
   "outputs": [
    {
     "data": {
      "text/plain": [
       "array([[1., 0., 0., ..., 8., 2., 3.],\n",
       "       [0., 0., 1., ..., 7., 2., 3.],\n",
       "       [0., 0., 0., ..., 9., 0., 3.],\n",
       "       ...,\n",
       "       [0., 1., 0., ..., 4., 0., 1.],\n",
       "       [0., 0., 1., ..., 4., 2., 2.],\n",
       "       [0., 1., 0., ..., 6., 2., 2.]])"
      ]
     },
     "execution_count": 185,
     "metadata": {},
     "output_type": "execute_result"
    }
   ],
   "source": [
    "onehotlabels"
   ]
  },
  {
   "cell_type": "code",
   "execution_count": null,
   "metadata": {},
   "outputs": [],
   "source": []
  }
 ],
 "metadata": {
  "kernelspec": {
   "display_name": "Python 3",
   "language": "python",
   "name": "python3"
  },
  "language_info": {
   "codemirror_mode": {
    "name": "ipython",
    "version": 3
   },
   "file_extension": ".py",
   "mimetype": "text/x-python",
   "name": "python",
   "nbconvert_exporter": "python",
   "pygments_lexer": "ipython3",
   "version": "3.7.0"
  }
 },
 "nbformat": 4,
 "nbformat_minor": 2
}
