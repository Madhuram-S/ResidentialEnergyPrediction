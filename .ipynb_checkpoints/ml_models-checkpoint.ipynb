{
 "cells": [
  {
   "cell_type": "markdown",
   "metadata": {},
   "source": [
    "## Create Pipeline for run and comparing models\n"
   ]
  },
  {
   "cell_type": "code",
   "execution_count": 1,
   "metadata": {
    "scrolled": true
   },
   "outputs": [],
   "source": [
    "# Generic Dependencies\n",
    "import numpy as np\n",
    "from numpy import arange\n",
    "import pandas as pd\n",
    "from pandas import set_option\n",
    "from pandas.tools.plotting import scatter_matrix\n",
    "import os\n",
    "\n",
    "# Plotting Libraries\n",
    "from matplotlib import pyplot as plt\n",
    "import seaborn as sns\n",
    "\n",
    "# SKLearn Libraries\n",
    "from sklearn import preprocessing\n",
    "from sklearn.preprocessing import StandardScaler\n",
    "from sklearn.model_selection import train_test_split\n",
    "from sklearn.model_selection import KFold\n",
    "from sklearn.model_selection import cross_val_score\n",
    "from sklearn.model_selection import GridSearchCV\n",
    "from sklearn.linear_model import LinearRegression\n",
    "from sklearn.linear_model import Lasso\n",
    "from sklearn.linear_model import ElasticNet\n",
    "from sklearn.linear_model import Lasso, LassoCV, Ridge,RidgeCV\n",
    "from sklearn.model_selection import cross_validate\n",
    "\n",
    "from sklearn.svm import SVR\n",
    "from sklearn.pipeline import Pipeline\n",
    "from sklearn.ensemble import RandomForestRegressor\n",
    "from sklearn.ensemble import GradientBoostingRegressor\n",
    "from sklearn.ensemble import ExtraTreesRegressor\n",
    "from sklearn.ensemble import AdaBoostRegressor\n",
    "from sklearn.metrics import mean_squared_error\n",
    "\n",
    "#XGBoost libraries\n",
    "import xgboost as xgb\n",
    "\n",
    "# explain xgboost preiction and model\n",
    "import shap\n",
    "\n",
    "\n",
    "# import generateXdata.py to prepare the data\n",
    "# from generateXdata import generateX\n",
    "from generateXdata import generateX\n",
    "\n",
    "#Import Custom ml models\n",
    "from Cls_ml_models import ml_models_tuned\n"
   ]
  },
  {
   "cell_type": "code",
   "execution_count": 2,
   "metadata": {},
   "outputs": [],
   "source": [
    "# gobal variables\n",
    "dataFilePath = \"dataforfinalproject\"\n",
    "filename = \"RECS_COMBINED_DATA.csv\"\n",
    "cols_file = \"Final_Columns_withCat.csv\"\n",
    "\n",
    " \n",
    "\n",
    "# delcare target variables\n",
    "target = {\"BTU\":\"TOTALBTU\", \"DOLLAR\":\"TOTALDOLLAR\"}\n",
    "modelsList = {\"LR\": \"Linear Regression\", \n",
    "          \"Lasso\": \"Classic Lasso\", \n",
    "          \"LassoCV\":\"Lasso with CV\", \n",
    "            \"RidgeCV\" : \"Ridge with CV\",\n",
    "            \"eNet\" : \"ElasticNet with GridSearch\",\n",
    "          \"RF\":\"Random Forest\", \n",
    "          \"xgb\":\"XGBoost\"}\n",
    "\n",
    "# modelsList = {\"LR\": \"Linear Regression\", \n",
    "#           \"CLasso\": \"Classic Lasso\", \n",
    "#           \"CV_Lasso\":\"Lasso with CV\", \n",
    "#             \"RF\":\"Random Forest\",\n",
    "#           \"XG\":\"XGBoost\"}\n",
    "\n",
    "# common model params\n",
    "folds = 5\n",
    "seed = 30\n",
    "test_size = 0.2"
   ]
  },
  {
   "cell_type": "markdown",
   "metadata": {},
   "source": [
    "### Prepare Data"
   ]
  },
  {
   "cell_type": "code",
   "execution_count": 3,
   "metadata": {},
   "outputs": [
    {
     "name": "stdout",
     "output_type": "stream",
     "text": [
      "\n",
      "Extracting data for target : BTU........\n",
      "\n",
      " X Features shape : (21430, 87)\n",
      "y label shape : (21430,)\n",
      "cols with values as 99 and -2: ['CELLAR', 'STORIES', 'PRKGPLC1', 'BEDROOMS', 'FUELPOOL', 'SIZRFRI1', 'TYPERFR1', 'AGERFRI1', 'SIZRFRI2', 'TYPERFR2', 'AGERFRI2', 'NUMFREEZ', 'SIZFREEZ', 'AGEFRZR', 'STOVENFUEL', 'OVENUSE', 'AMTMICRO', 'DWASHUSE', 'WASHLOAD', 'WASHTEMP', 'EQUIPM', 'FUELHEAT', 'EQUIPAGE', 'PROTHERM', 'TEMPHOME', 'TEMPGONE', 'TEMPNITE', 'AGECENAC', 'USECENAC', 'NUMBERAC', 'WWACAGE', 'USEWWAC', 'FUELH2O', 'WHEATAGE', 'WHEATSIZ', 'LGTOUTNUM', 'ESDISHW', 'PGASHEAT', 'WOODAMT'] \n",
      "\n",
      "Duplicate Count : 0\n",
      "shape of X is (21430, 72)\n",
      "\n",
      "Extracting data for target : DOLLAR........\n",
      "\n",
      " X Features shape : (21430, 87)\n",
      "y label shape : (21430,)\n",
      "cols with values as 99 and -2: ['CELLAR', 'STORIES', 'PRKGPLC1', 'BEDROOMS', 'FUELPOOL', 'SIZRFRI1', 'TYPERFR1', 'AGERFRI1', 'SIZRFRI2', 'TYPERFR2', 'AGERFRI2', 'NUMFREEZ', 'SIZFREEZ', 'AGEFRZR', 'STOVENFUEL', 'OVENUSE', 'AMTMICRO', 'DWASHUSE', 'WASHLOAD', 'WASHTEMP', 'EQUIPM', 'FUELHEAT', 'EQUIPAGE', 'PROTHERM', 'TEMPHOME', 'TEMPGONE', 'TEMPNITE', 'AGECENAC', 'USECENAC', 'NUMBERAC', 'WWACAGE', 'USEWWAC', 'FUELH2O', 'WHEATAGE', 'WHEATSIZ', 'LGTOUTNUM', 'ESDISHW', 'PGASHEAT', 'WOODAMT'] \n",
      "\n",
      "Duplicate Count : 0\n",
      "shape of X is (21430, 79)\n"
     ]
    }
   ],
   "source": [
    "X = {}\n",
    "y = {}\n",
    "vocab = {}\n",
    "# obtain features contributing to the Y = BTU or DOllar\n",
    "for t, col in target.items():\n",
    "    print(f\"\\nExtracting data for target : {t}........\\n\")\n",
    "    X[t], vocab[t] = generateX(ohe = True, target = t)\n",
    "    y[t] = pd.read_csv(os.path.join(dataFilePath,filename), low_memory = False)[col]\n",
    "    "
   ]
  },
  {
   "cell_type": "code",
   "execution_count": 5,
   "metadata": {},
   "outputs": [
    {
     "name": "stdout",
     "output_type": "stream",
     "text": [
      "Shape of X values for DOLLAR as target : (21430, 79)\n",
      "Shape of X values for BTU as target : (21430, 72)\n",
      "Shape of y values for DOLLAR as target : (21430,)\n",
      "Shape of y values for DOLLAR as target : (21430,)\n"
     ]
    }
   ],
   "source": [
    "print(f\"Shape of X values for DOLLAR as target : {X['DOLLAR'].shape}\")\n",
    "print(f\"Shape of X values for BTU as target : {X['BTU'].shape}\")\n",
    "print(f\"Shape of y values for DOLLAR as target : {y['DOLLAR'].shape}\")\n",
    "print(f\"Shape of y values for DOLLAR as target : {y['BTU'].shape}\")\n"
   ]
  },
  {
   "cell_type": "markdown",
   "metadata": {},
   "source": [
    "### Define model functions with default params (no configuration changes)\n"
   ]
  },
  {
   "cell_type": "code",
   "execution_count": 6,
   "metadata": {},
   "outputs": [],
   "source": [
    "# prepare models\n",
    "models_BT = []\n",
    "models_BT.append(('LR', LinearRegression()))\n",
    "models_BT.append(('Lasso', Lasso()))\n",
    "models_BT.append(('LassoCV', LassoCV()))\n",
    "models_BT.append(('RidgeCV', Ridge()))\n",
    "models_BT.append(('eNet', ElasticNet()))\n",
    "models_BT.append(('RF', RandomForestRegressor()))\n",
    "models_BT.append(('xgb', xgb.XGBRegressor(objective = \"reg:linear\")))\n"
   ]
  },
  {
   "cell_type": "code",
   "execution_count": 7,
   "metadata": {},
   "outputs": [],
   "source": [
    "# evaluate each model in turn\n",
    "results_mse = []\n",
    "results_r2 = []\n",
    "names = []\n",
    "exp_var = []\n",
    "scoring = {'mse': 'neg_mean_squared_error',\n",
    "           'r2': 'r2',\n",
    "           'exp_var': 'explained_variance'}"
   ]
  },
  {
   "cell_type": "markdown",
   "metadata": {},
   "source": [
    "### Create the list of Models that will be run in sequence\n"
   ]
  },
  {
   "cell_type": "code",
   "execution_count": 8,
   "metadata": {
    "scrolled": true
   },
   "outputs": [
    {
     "name": "stdout",
     "output_type": "stream",
     "text": [
      "['fit_time', 'score_time', 'test_exp_var', 'test_mse', 'test_r2', 'train_exp_var', 'train_mse', 'train_r2']\n",
      "['fit_time', 'score_time', 'test_exp_var', 'test_mse', 'test_r2', 'train_exp_var', 'train_mse', 'train_r2']\n",
      "['fit_time', 'score_time', 'test_exp_var', 'test_mse', 'test_r2', 'train_exp_var', 'train_mse', 'train_r2']\n",
      "['fit_time', 'score_time', 'test_exp_var', 'test_mse', 'test_r2', 'train_exp_var', 'train_mse', 'train_r2']\n",
      "['fit_time', 'score_time', 'test_exp_var', 'test_mse', 'test_r2', 'train_exp_var', 'train_mse', 'train_r2']\n",
      "['fit_time', 'score_time', 'test_exp_var', 'test_mse', 'test_r2', 'train_exp_var', 'train_mse', 'train_r2']\n",
      "['fit_time', 'score_time', 'test_exp_var', 'test_mse', 'test_r2', 'train_exp_var', 'train_mse', 'train_r2']\n"
     ]
    }
   ],
   "source": [
    "for name, model in models_BT:\n",
    "    kfold = KFold(n_splits=5, random_state=seed)\n",
    "    cv_results = cross_validate(model, X[\"DOLLAR\"], y[\"DOLLAR\"], cv=kfold, scoring=scoring)\n",
    "    print(sorted(cv_results.keys())  )\n",
    "    results_mse.append(cv_results['test_mse'])\n",
    "    results_r2.append(cv_results['test_r2'])\n",
    "    exp_var.append(cv_results['test_exp_var'])\n",
    "    names.append(name)\n",
    "#     msg = \"%s: %f (%f)\" % (name, cv_results.mean(), cv_results.std())\n",
    "#     print(msg)"
   ]
  },
  {
   "cell_type": "code",
   "execution_count": 9,
   "metadata": {},
   "outputs": [
    {
     "data": {
      "text/plain": [
       "7"
      ]
     },
     "execution_count": 9,
     "metadata": {},
     "output_type": "execute_result"
    }
   ],
   "source": [
    "len(names)"
   ]
  },
  {
   "cell_type": "code",
   "execution_count": 10,
   "metadata": {},
   "outputs": [
    {
     "data": {
      "text/plain": [
       "7"
      ]
     },
     "execution_count": 10,
     "metadata": {},
     "output_type": "execute_result"
    }
   ],
   "source": [
    "results_rmse = []\n",
    "for i , v in enumerate(results_mse):\n",
    "    results_rmse.append(np.sqrt(v * -1))\n",
    "\n",
    "len(results_rmse)"
   ]
  },
  {
   "cell_type": "code",
   "execution_count": 11,
   "metadata": {},
   "outputs": [
    {
     "data": {
      "image/png": "[encoded data removed]",
      "text/plain": [
       "<Figure size 1080x360 with 2 Axes>"
      ]
     },
     "metadata": {
      "needs_background": "light"
     },
     "output_type": "display_data"
    }
   ],
   "source": [
    "# plot categorical variables\n",
    "plt.figure(figsize=(15,5))\n",
    "\n",
    "ax1 = plt.subplot(1,2,1)\n",
    "sns.boxplot(names, results_rmse, palette = \"rainbow\")\n",
    "ax1.set_ylim(250, 500)\n",
    "ax1.set_ylabel(\"Root Mean Square Error (RMSE)\")\n",
    "ax1.set_title(\"Basic Model RMSE comparsion across 6 models\")\n",
    "\n",
    "ax2 = plt.subplot(1,2,2)\n",
    "sns.boxplot(names, results_r2, palette = \"rainbow\")\n",
    "ax2.set_ylim(0.6, 0.9)\n",
    "ax2.set_ylabel(\"r2 score\")\n",
    "ax2.set_title(\"Basic Model r2 comparsion across 6 models\")\n",
    "\n",
    "plt.show()"
   ]
  },
  {
   "cell_type": "markdown",
   "metadata": {},
   "source": [
    "### Comparing models (after tuning)"
   ]
  },
  {
   "cell_type": "code",
   "execution_count": 12,
   "metadata": {},
   "outputs": [
    {
     "name": "stdout",
     "output_type": "stream",
     "text": [
      "Best Linear Regression model LinearRegression(copy_X=True, fit_intercept=True, n_jobs=None,\n",
      "         normalize=False)\n",
      "\n",
      " Begining to tune Lasso Regression Model.................................\n",
      "\n",
      "Best Lasso model with alpha = 0.01 is Lasso(alpha=0.01, copy_X=True, fit_intercept=True, max_iter=1000,\n",
      "   normalize=False, positive=False, precompute=False, random_state=None,\n",
      "   selection='cyclic', tol=0.0001, warm_start=False)\n",
      "Best LassoCV model with alpha 0.003833672492926608 is LassoCV(alphas=None, copy_X=True, cv=10, eps=0.001, fit_intercept=True,\n",
      "    max_iter=100000, n_alphas=100, n_jobs=None, normalize=True,\n",
      "    positive=False, precompute='auto', random_state=None,\n",
      "    selection='cyclic', tol=0.0001, verbose=False)\n",
      "Best LassoCV model with alpha 0.0 is RidgeCV(alphas=array([ 0.   ,  0.003,  0.006,  0.009,  0.012,  0.015,  0.018,  0.021,\n",
      "        0.024,  0.027,  0.03 ,  0.033,  0.036,  0.039,  0.042,  0.045,\n",
      "        0.048]),\n",
      "    cv=30, fit_intercept=True, gcv_mode=None, normalize=True, scoring=None,\n",
      "    store_cv_values=False)\n",
      "Best elasticNet model obtained is ElasticNet(alpha=0.003, copy_X=True, fit_intercept=True, l1_ratio=0.5,\n",
      "      max_iter=1000, normalize=False, positive=False, precompute=False,\n",
      "      random_state=None, selection='cyclic', tol=0.0001, warm_start=False)\n",
      "Best RF model obtained is with n_estimators at 50 and max_depth at 11 is RandomForestRegressor(bootstrap=True, criterion='mse', max_depth=11,\n",
      "           max_features='auto', max_leaf_nodes=None,\n",
      "           min_impurity_decrease=0.0, min_impurity_split=None,\n",
      "           min_samples_leaf=1, min_samples_split=2,\n",
      "           min_weight_fraction_leaf=0.0, n_estimators=50, n_jobs=None,\n",
      "           oob_score=False, random_state=30, verbose=0, warm_start=False)\n",
      "Best xgBoost model obtained is with n_estimators at 300 is XGBRegressor(alpha=10, base_score=0.5, booster='gbtree', colsample_bylevel=1,\n",
      "       colsample_bytree=0.9, gamma=0, importance_type='gain',\n",
      "       learning_rate=0.05, max_delta_step=0, max_depth=8,\n",
      "       min_child_weight=5, missing=None, n_estimators=300, n_jobs=1,\n",
      "       nthread=2, objective='reg:linear', random_state=0, reg_alpha=0,\n",
      "       reg_lambda=1, scale_pos_weight=1, seed=42, silent=1, subsample=0.7)\n"
     ]
    }
   ],
   "source": [
    "m = ml_models_tuned(X['DOLLAR'], y[\"DOLLAR\"], seed, folds, test_size, early_stop = 20)\n",
    "# prepare models\n",
    "models_t = []\n",
    "models_t.append(('LR', m.ret_LR_tunedModel()))\n",
    "models_t.append(('Lasso', m.ret_Classo_tunedModel()))\n",
    "models_t.append(('LassoCV', m.ret_LassoCV_tunedModel()))\n",
    "models_t.append(('RidgeCV', m.ret_RidgeCV_tunedModel()))\n",
    "models_t.append(('eNet', m.ret_eNet_tunedModel()))\n",
    "models_t.append(('RF', m.ret_RF_tunedModel()))\n",
    "models_t.append(('xgb', m.ret_xgb_tunedModel()))\n"
   ]
  },
  {
   "cell_type": "code",
   "execution_count": 13,
   "metadata": {},
   "outputs": [],
   "source": [
    "# evaluate each model in turn\n",
    "results_mse_t = []\n",
    "results_r2_t = []\n",
    "names_t = []\n",
    "exp_var_t = []\n",
    "scoring_t = {'mse': 'neg_mean_squared_error',\n",
    "           'r2': 'r2',\n",
    "           'exp_var': 'explained_variance'}\n",
    "estimators = []"
   ]
  },
  {
   "cell_type": "markdown",
   "metadata": {},
   "source": [
    "### Create the list of Models that will be run in sequence\n"
   ]
  },
  {
   "cell_type": "code",
   "execution_count": 14,
   "metadata": {
    "scrolled": true
   },
   "outputs": [
    {
     "name": "stdout",
     "output_type": "stream",
     "text": [
      "['fit_time', 'score_time', 'test_exp_var', 'test_mse', 'test_r2', 'train_exp_var', 'train_mse', 'train_r2']\n",
      "['fit_time', 'score_time', 'test_exp_var', 'test_mse', 'test_r2', 'train_exp_var', 'train_mse', 'train_r2']\n",
      "['fit_time', 'score_time', 'test_exp_var', 'test_mse', 'test_r2', 'train_exp_var', 'train_mse', 'train_r2']\n",
      "['fit_time', 'score_time', 'test_exp_var', 'test_mse', 'test_r2', 'train_exp_var', 'train_mse', 'train_r2']\n",
      "['fit_time', 'score_time', 'test_exp_var', 'test_mse', 'test_r2', 'train_exp_var', 'train_mse', 'train_r2']\n",
      "['fit_time', 'score_time', 'test_exp_var', 'test_mse', 'test_r2', 'train_exp_var', 'train_mse', 'train_r2']\n",
      "['fit_time', 'score_time', 'test_exp_var', 'test_mse', 'test_r2', 'train_exp_var', 'train_mse', 'train_r2']\n"
     ]
    }
   ],
   "source": [
    "for name, model in models_t:\n",
    "    kfold = KFold(n_splits=5, random_state=seed)\n",
    "    cv_results = cross_validate(model, X[\"DOLLAR\"], y[\"DOLLAR\"], cv=kfold, scoring=scoring_t)\n",
    "    print(sorted(cv_results.keys())  )\n",
    "    results_mse_t.append(cv_results['test_mse'])\n",
    "    results_r2_t.append(cv_results['test_r2'])\n",
    "    exp_var_t.append(cv_results['test_exp_var'])\n",
    "    names_t.append(name)\n",
    "#     estimators.append(cv_results['estimator'])\n",
    "#     msg = \"%s: %f (%f)\" % (name, cv_results.mean(), cv_results.std())\n",
    "#     print(msg)"
   ]
  },
  {
   "cell_type": "code",
   "execution_count": 15,
   "metadata": {},
   "outputs": [
    {
     "data": {
      "text/html": [
       "[array([ 379.1333827 ,  351.30020818,  354.05760484,  346.59007958,\n",
       "        370.77314102]), array([ 379.06318055,  351.30229512,  354.06192877,  346.5903348 ,\n",
       "        370.76910132]), array([ 387.24240769,  351.45832081,  354.8086377 ,  347.01666141,\n",
       "        368.71010234]), array([ 392.47674879,  351.30020818,  354.05760484,  346.59007958,\n",
       "        370.77314102]), array([ 379.10947704,  351.35624732,  354.1056266 ,  346.57542131,\n",
       "        370.80987928]), array([ 542.56862876,  333.01994666,  337.39939824,  338.70236585,\n",
       "        379.21646203]), array([ 316.99214576,  260.62715486,  273.38911653,  265.67762485,\n",
       "        294.17147719])]"
      ],
      "text/plain": [
       "[array([ 379.1333827 ,  351.30020818,  354.05760484,  346.59007958,\n",
       "         370.77314102]),\n",
       " array([ 379.06318055,  351.30229512,  354.06192877,  346.5903348 ,\n",
       "         370.76910132]),\n",
       " array([ 387.24240769,  351.45832081,  354.8086377 ,  347.01666141,\n",
       "         368.71010234]),\n",
       " array([ 392.47674879,  351.30020818,  354.05760484,  346.59007958,\n",
       "         370.77314102]),\n",
       " array([ 379.10947704,  351.35624732,  354.1056266 ,  346.57542131,\n",
       "         370.80987928]),\n",
       " array([ 542.56862876,  333.01994666,  337.39939824,  338.70236585,\n",
       "         379.21646203]),\n",
       " array([ 316.99214576,  260.62715486,  273.38911653,  265.67762485,\n",
       "         294.17147719])]"
      ]
     },
     "execution_count": 15,
     "metadata": {},
     "output_type": "execute_result"
    }
   ],
   "source": [
    "results_rmse_t = []\n",
    "for i , v in enumerate(results_mse_t):\n",
    "    results_rmse_t.append(np.sqrt(v * -1))\n",
    "\n",
    "results_rmse_t"
   ]
  },
  {
   "cell_type": "code",
   "execution_count": 16,
   "metadata": {},
   "outputs": [
    {
     "data": {
      "image/png": "[encoded data removed]",
      "text/plain": [
       "<Figure size 1080x576 with 4 Axes>"
      ]
     },
     "metadata": {
      "needs_background": "light"
     },
     "output_type": "display_data"
    }
   ],
   "source": [
    "# plot categorical variables\n",
    "fcols = 2\n",
    "frows = 2\n",
    "plt.figure(figsize=(15,4*frows))\n",
    "\n",
    "ax1 = plt.subplot(2,2,1)\n",
    "sns.boxplot(names, results_rmse, palette = \"rainbow\")\n",
    "ax1.set_ylim(200, 500)\n",
    "ax1.set_ylabel(\"Root Mean Square Error (RMSE)\")\n",
    "ax1.set_title(\"Basic Model RMSE comparsion across 6 models\")\n",
    "\n",
    "ax2 = plt.subplot(2,2,2)\n",
    "sns.boxplot(names, results_r2, palette = \"rainbow\")\n",
    "ax2.set_ylim(0.5, 1.0)\n",
    "ax2.set_ylabel(\"r2 Score\")\n",
    "ax2.set_title(\"Basic Model r2 comparsion across 6 models\")\n",
    "\n",
    "ax3 = plt.subplot(2,2,3)\n",
    "sns.boxplot(names, results_rmse_t, palette = \"rainbow\")\n",
    "ax3.set_ylim(200, 500)\n",
    "ax3.set_ylabel(\"Root Mean Square Error (RMSE)\")\n",
    "ax3.set_title(\"Tuned Model RMSE comparsion across 6 models\")\n",
    "\n",
    "ax4 = plt.subplot(2,2,4)\n",
    "sns.boxplot(names, results_r2_t, palette = \"rainbow\")\n",
    "ax4.set_ylim(0.5, 1.0)\n",
    "ax4.set_ylabel(\"r2 Score\")\n",
    "ax4.set_title(\"Tuned Model RMSE comparsion across 6 models\")\n",
    "\n",
    "plt.show()"
   ]
  },
  {
   "cell_type": "markdown",
   "metadata": {},
   "source": [
    "### Fit and Predict Y (Dollar or BTU) for all models"
   ]
  },
  {
   "cell_type": "code",
   "execution_count": 17,
   "metadata": {
    "scrolled": true
   },
   "outputs": [
    {
     "name": "stdout",
     "output_type": "stream",
     "text": [
      "Begin to fit & predict with Models...\n",
      "--------------------------------------------------------------------------------------\n",
      "\n",
      " BEGIN PREDICTION FOR TOTAL DOLLAR\n",
      "\n",
      "Begining to run Linear regression Model.................................\n",
      "\n",
      "Model used for Fitting and Predicting is LinearRegression(copy_X=True, fit_intercept=True, n_jobs=None,\n",
      "         normalize=False).....................\n",
      "\n",
      "Fit train data to the model.....................\n",
      "\n",
      "Predict Y values for test data.....................\n",
      "\n",
      "Linear Regression Model report\n",
      "----------------------------------------------------------------\n",
      "\n",
      "Test RMSE: 346.449504\n",
      "The accuracy of the linear regressor is 0.81 out of 1 on the testing data\n",
      "\n",
      "Begining to run Classic Lasso regression Model (alpha = 0.01).................................\n",
      "\n",
      "Model used for Fitting and Predicting is Lasso(alpha=0.01, copy_X=True, fit_intercept=True, max_iter=1000,\n",
      "   normalize=False, positive=False, precompute=False, random_state=None,\n",
      "   selection='cyclic', tol=0.0001, warm_start=False).....................\n",
      "\n",
      "Predict y values for train and test data.....................\n",
      "\n",
      "Classic Lasso Regresion Model report\n",
      "----------------------------------------------------------------\n",
      "\n",
      "Train RMSE: 338.111660\n",
      "Test RMSE: 346.451602\n",
      "The accuracy of the Classic Lasso regressor is 0.82 out of 1 on the training data\n",
      "The accuracy of the Classic Lasso regressor is 0.81 out of 1 on the test data\n",
      "\n",
      "Begining to run Lasso CV regression Model (alpha = determined by K-Folds).................................\n",
      "\n",
      "Model used for Fitting and Predicting is LassoCV(alphas=None, copy_X=True, cv=10, eps=0.001, fit_intercept=True,\n",
      "    max_iter=100000, n_alphas=100, n_jobs=None, normalize=True,\n",
      "    positive=False, precompute='auto', random_state=None,\n",
      "    selection='cyclic', tol=0.0001, verbose=False).....................\n",
      "\n",
      "Fit the best model from k-folds to training data................\n",
      "best model coefficients:\n",
      "[4.056594671105912, 0.04727161008226569, -0.006186757105089237, 0.26979218740475663, 1.057773289073432, 2.273026544511789, 26.27368743443359, 0.030476677812652102, 0.0011088653462386349, -0.005690238102445122, -0.014055867441020655, -0.010498640676711054, -0.008229373000844434, 0.014150508110348167, -0.01436382246217123, -3.6964517192199553, 0.9579528833600924, -0.7336208776301789, -1.4593871366157278, -3.149005813872745, 21.248418137690006, 0.605623239724537, 0.23827190801396772, -4.119322336074063, 32.207614005971344, 1.385995182799452, 2.4590858035602445, 16.387932542472537, 1.5778261069479111, -0.06629562754675779, 0.7788334461182072, -8.85922238027409, 2.4262587296581497, 3.771631163497163, 128.49908931962236, 6.271232471297676, 24.241272610946123, 14.598279533071144, 15.345605083108087, 33.58950692230432, -3.8640543915902974, -16.219077181589146, 15.064739899965653, -3.889076541280904, -5.901061773625694, 18.000532234470906, 0.08625433559393755, 11.203406434177989, -27.24259999452555, 6.430574576882673, 4.666929226608732, 3.3757048978615365, 68.31020917120699, -148.6026288132837, -0.0, 18.142244273191693, -1.702078549820882, 1.586555406427597, -1.555526270983327, 1.834883518279493, -1.679637382239058, -0.7952468576432133, -0.061468917077085704, 0.01629959928427691, -29.060351486908523, 0.015453885660776311, 2.582509006508092, 2.641771390004378, 1.635024408142521, -9.372595992533578, 0.0, 1.8922741844390696, 1.0706194160309355, 0.05789080736591888, 10.246797206929195, 4.863722537079933, 0.015028821683055641, -0.0, 0.0667151160128636]\n",
      "\n",
      "Predict data using testing data................\n",
      "Lasso CV Regresion Model report\n",
      "----------------------------------------------------------------\n",
      "\n",
      "Test RMSE: 346.250497\n",
      "The accuracy of the LassoCV regressor is 0.81 out of 1 on the test data\n",
      "\n",
      "Begining to run Ridge CV regression Model (alpha = determined by K-Folds).................................\n",
      "\n",
      "Model used for Fitting and Predicting is RidgeCV(alphas=array([ 0.   ,  0.003,  0.006,  0.009,  0.012,  0.015,  0.018,  0.021,\n",
      "        0.024,  0.027,  0.03 ,  0.033,  0.036,  0.039,  0.042,  0.045,\n",
      "        0.048]),\n",
      "    cv=30, fit_intercept=True, gcv_mode=None, normalize=True, scoring=None,\n",
      "    store_cv_values=False).....................\n",
      "\n",
      "Fit the best model from k-folds to training data................\n",
      "best model coefficients:\n",
      "[4.971220449744426, 0.05290647753028066, -0.16717817755156145, 0.3110979065732636, 1.0945885412211507, 2.6125674366651954, 30.623288483525677, 0.03630683189481655, -0.004117925126760966, -0.010929691042315408, -0.020702424440807936, -0.016321955446195115, -0.014178670352061197, 0.014209999247343074, -0.019071628429300443, -4.335793728033127, 0.9673241026713801, -1.2642409482287311, -1.23047668113777, -3.35324907918739, 24.35298832443755, 2.3926106333603325, 0.23215585437164105, -4.535876472234885, 30.767729689829725, 2.213778843214554, 3.144696368562629, 16.51325351254351, 1.5868749672172673, -0.06881193967911518, 0.8345947714075571, -10.096281875112464, 2.3187870950604834, 4.403765586380833, 129.91776843678494, 5.6958612436331215, 25.514778133607805, 16.429876555627636, 15.03448381457538, 37.03039477012833, -4.48790364735189, -15.272445131785608, 19.296712808534746, -4.362242765180378, -5.578852564344877, 23.543428798305303, 0.0986065473322642, 11.002008704778461, -26.397247193102785, 8.404825367138702, 4.597895714466847, 3.7648267828962427, 68.3081811320263, -148.60165343301756, -0.42220725468047815, 20.118074778726026, -1.7062328722978126, 1.5613358413603768, -2.241272061049648, 2.0740024007274247, -1.8547543743086008, -1.034058766159196, -0.0654095862361603, 0.019010879267973384, -34.055254704632624, 0.01690949179197633, 2.2515003513038074, 2.3483196969228004, 1.5874759091411241, -10.443254108371145, 0.7571994551173213, 2.0110869244390375, 0.06682071855998814, 0.05759572504883744, 10.876112901961672, 4.40799035493255, 0.034613140778412425, -0.03619171233150906, 0.9894913533145665]\n",
      "\n",
      "Predict data using testing data................\n",
      "Ridge CV Regresion Model report\n",
      "----------------------------------------------------------------\n",
      "\n",
      "Test RMSE: 346.449504\n",
      "The accuracy of the LassoCV regressor is 0.81 out of 1 on the test data\n",
      "Begining to run ElasticNet Model.................................\n",
      "\n",
      "Model used for Fitting and Predicting is ElasticNet(alpha=0.003, copy_X=True, fit_intercept=True, l1_ratio=0.5,\n",
      "      max_iter=1000, normalize=False, positive=False, precompute=False,\n",
      "      random_state=None, selection='cyclic', tol=0.0001, warm_start=False).....................\n",
      "\n",
      "Fit train data to the best model.....................\n",
      "\n",
      "Predict Y for test data.....................\n",
      "\n",
      "ElasticNet Model report\n",
      "----------------------------------------------------------------\n",
      "\n",
      "Test RMSE: 346.452584\n",
      "The accuracy of the elasticNet regressor is 0.81 out of 1 on the test data\n",
      "\n",
      "Begining to run RandomForest regression Model.................................\n",
      "\n",
      "Model used for Fitting and Predicting is RandomForestRegressor(bootstrap=True, criterion='mse', max_depth=11,\n",
      "           max_features='auto', max_leaf_nodes=None,\n",
      "           min_impurity_decrease=0.0, min_impurity_split=None,\n",
      "           min_samples_leaf=1, min_samples_split=2,\n",
      "           min_weight_fraction_leaf=0.0, n_estimators=50, n_jobs=None,\n",
      "           oob_score=False, random_state=30, verbose=0, warm_start=False).....................\n",
      "\n",
      "Predict y values for train and test data.....................\n",
      "\n",
      "RandomForest Regresion Model report\n",
      "----------------------------------------------------------------\n",
      "\n",
      "Train RMSE: 240.945775\n",
      "Test RMSE: 335.617213\n",
      "The accuracy of the RandomForest regressor is 0.91 out of 1 on the training data\n",
      "The accuracy of the RandomForest regressor is 0.82 out of 1 on the test data\n",
      "Begining to run XGBoost Model.................................\n",
      "\n",
      "Model used for Fitting and Predicting is XGBRegressor(alpha=10, base_score=0.5, booster='gbtree', colsample_bylevel=1,\n",
      "       colsample_bytree=0.9, gamma=0, importance_type='gain',\n",
      "       learning_rate=0.05, max_delta_step=0, max_depth=8,\n",
      "       min_child_weight=5, missing=None, n_estimators=300, n_jobs=1,\n",
      "       nthread=2, objective='reg:linear', random_state=0, reg_alpha=0,\n",
      "       reg_lambda=1, scale_pos_weight=1, seed=42, silent=1, subsample=0.7).....................\n",
      "\n"
     ]
    },
    {
     "name": "stdout",
     "output_type": "stream",
     "text": [
      "Fitting Train data to the model \n",
      "----------------------------------------------------------------\n",
      "\n",
      "Predicting Y with test data\n",
      "----------------------------------------------------------------\n",
      "\n",
      "XGBoost Model report\n",
      "----------------------------------------------------------------\n",
      "\n",
      "Train RMSE: 123.228780\n",
      "Test RMSE: 256.019080\n",
      "The accuracy of the xgboost regressor is 0.98 out of 1 on the training data\n",
      "The accuracy of the xgboost regressor is 0.90 out of 1 on the test data\n"
     ]
    }
   ],
   "source": [
    "print(\"Begin to fit & predict with Models...\")\n",
    "print(\"--------------------------------------------------------------------------------------\")\n",
    "\n",
    "# results\n",
    "\n",
    "BTU_y_pred = pd.DataFrame()\n",
    "BTU_RMSE_test = {}\n",
    "BTU_r2_test = {}\n",
    "\n",
    "DOL_y_pred = pd.DataFrame()\n",
    "DOL_RMSE_test = {}\n",
    "DOL_r2_test = {}\n",
    "\n",
    "# create a instance for class ml_models\n",
    "# models_BTU = ml_models_recs(X['BTU'], y[\"BTU\"], seed, folds, test_size, early_stop = 20)\n",
    "# models_DOL = ml_models_recs(X['DOLLAR'], y[\"DOLLAR\"], seed, folds, test_size, early_stop = 20)\n",
    "\n",
    "# BTU_y_pred[\"ActualY\"] = m.get_y_test()\n",
    "# BTU_y_pred.reset_index(inplace = True)\n",
    "\n",
    "DOL_y_pred[\"ActualY\"] = m.get_y_test()\n",
    "DOL_y_pred.reset_index(inplace = True)\n",
    "\n",
    "# print(\"\\n BEGIN PREDICTION FOR TOTAL BTU\\n\")\n",
    "# Run loop for BTU\n",
    "# for m, name in modelsList.items():\n",
    "#     BTU_y_pred[m], BTU_RMSE_test[m],BTU_r2_test[m] = models_BTU.runModel(m)\n",
    "\n",
    "print(\"\\n BEGIN PREDICTION FOR TOTAL DOLLAR\\n\")\n",
    "# Run loop for Dollar\n",
    "for name, model_config in models_t:\n",
    "    DOL_y_pred[name], DOL_RMSE_test[name],DOL_r2_test[name] = m.runModel(model_config, name)"
   ]
  },
  {
   "cell_type": "code",
   "execution_count": 18,
   "metadata": {},
   "outputs": [],
   "source": [
    "# BTU_y_pred.drop(['index'], axis = 1, inplace = True)\n",
    "DOL_y_pred.drop(['index'], axis = 1, inplace = True)"
   ]
  },
  {
   "cell_type": "code",
   "execution_count": 35,
   "metadata": {},
   "outputs": [
    {
     "data": {
      "text/html": [
       "<div>\n",
       "<style scoped>\n",
       "    .dataframe tbody tr th:only-of-type {\n",
       "        vertical-align: middle;\n",
       "    }\n",
       "\n",
       "    .dataframe tbody tr th {\n",
       "        vertical-align: top;\n",
       "    }\n",
       "\n",
       "    .dataframe thead th {\n",
       "        text-align: right;\n",
       "    }\n",
       "</style>\n",
       "<table border=\"1\" class=\"dataframe\">\n",
       "  <thead>\n",
       "    <tr style=\"text-align: right;\">\n",
       "      <th></th>\n",
       "      <th>ActualY</th>\n",
       "      <th>LR</th>\n",
       "      <th>CLasso</th>\n",
       "      <th>CV_Lasso</th>\n",
       "      <th>RF</th>\n",
       "      <th>XG</th>\n",
       "    </tr>\n",
       "  </thead>\n",
       "  <tbody>\n",
       "    <tr>\n",
       "      <th>count</th>\n",
       "      <td>4.519000e+03</td>\n",
       "      <td>4519.000000</td>\n",
       "      <td>4519.000000</td>\n",
       "      <td>4519.000000</td>\n",
       "      <td>4519.000000</td>\n",
       "      <td>4519.000000</td>\n",
       "    </tr>\n",
       "    <tr>\n",
       "      <th>mean</th>\n",
       "      <td>8.760170e+04</td>\n",
       "      <td>87865.891570</td>\n",
       "      <td>87865.894668</td>\n",
       "      <td>87881.288640</td>\n",
       "      <td>87251.076842</td>\n",
       "      <td>87607.921875</td>\n",
       "    </tr>\n",
       "    <tr>\n",
       "      <th>std</th>\n",
       "      <td>5.556450e+04</td>\n",
       "      <td>48100.646360</td>\n",
       "      <td>48100.625219</td>\n",
       "      <td>47975.881013</td>\n",
       "      <td>47547.839897</td>\n",
       "      <td>49559.753906</td>\n",
       "    </tr>\n",
       "    <tr>\n",
       "      <th>min</th>\n",
       "      <td>0.000000e+00</td>\n",
       "      <td>-6004.660833</td>\n",
       "      <td>-6004.628146</td>\n",
       "      <td>-5391.804289</td>\n",
       "      <td>21153.109600</td>\n",
       "      <td>5048.538086</td>\n",
       "    </tr>\n",
       "    <tr>\n",
       "      <th>25%</th>\n",
       "      <td>4.921850e+04</td>\n",
       "      <td>53715.260390</td>\n",
       "      <td>53715.539043</td>\n",
       "      <td>53851.745611</td>\n",
       "      <td>53136.100503</td>\n",
       "      <td>51463.712891</td>\n",
       "    </tr>\n",
       "    <tr>\n",
       "      <th>50%</th>\n",
       "      <td>7.789200e+04</td>\n",
       "      <td>79525.994296</td>\n",
       "      <td>79525.837293</td>\n",
       "      <td>79426.700271</td>\n",
       "      <td>77267.165011</td>\n",
       "      <td>78471.101562</td>\n",
       "    </tr>\n",
       "    <tr>\n",
       "      <th>75%</th>\n",
       "      <td>1.151245e+05</td>\n",
       "      <td>113628.839551</td>\n",
       "      <td>113628.771290</td>\n",
       "      <td>113567.495210</td>\n",
       "      <td>114102.227351</td>\n",
       "      <td>115189.863281</td>\n",
       "    </tr>\n",
       "    <tr>\n",
       "      <th>max</th>\n",
       "      <td>1.096083e+06</td>\n",
       "      <td>680831.340674</td>\n",
       "      <td>680830.194246</td>\n",
       "      <td>676743.221086</td>\n",
       "      <td>516444.183960</td>\n",
       "      <td>628899.750000</td>\n",
       "    </tr>\n",
       "  </tbody>\n",
       "</table>\n",
       "</div>"
      ],
      "text/plain": [
       "            ActualY             LR         CLasso       CV_Lasso  \\\n",
       "count  4.519000e+03    4519.000000    4519.000000    4519.000000   \n",
       "mean   8.760170e+04   87865.891570   87865.894668   87881.288640   \n",
       "std    5.556450e+04   48100.646360   48100.625219   47975.881013   \n",
       "min    0.000000e+00   -6004.660833   -6004.628146   -5391.804289   \n",
       "25%    4.921850e+04   53715.260390   53715.539043   53851.745611   \n",
       "50%    7.789200e+04   79525.994296   79525.837293   79426.700271   \n",
       "75%    1.151245e+05  113628.839551  113628.771290  113567.495210   \n",
       "max    1.096083e+06  680831.340674  680830.194246  676743.221086   \n",
       "\n",
       "                  RF             XG  \n",
       "count    4519.000000    4519.000000  \n",
       "mean    87251.076842   87607.921875  \n",
       "std     47547.839897   49559.753906  \n",
       "min     21153.109600    5048.538086  \n",
       "25%     53136.100503   51463.712891  \n",
       "50%     77267.165011   78471.101562  \n",
       "75%    114102.227351  115189.863281  \n",
       "max    516444.183960  628899.750000  "
      ]
     },
     "execution_count": 35,
     "metadata": {},
     "output_type": "execute_result"
    }
   ],
   "source": [
    "# BTU_y_pred.describe()"
   ]
  },
  {
   "cell_type": "code",
   "execution_count": 19,
   "metadata": {},
   "outputs": [
    {
     "data": {
      "text/html": [
       "<div>\n",
       "<style scoped>\n",
       "    .dataframe tbody tr th:only-of-type {\n",
       "        vertical-align: middle;\n",
       "    }\n",
       "\n",
       "    .dataframe tbody tr th {\n",
       "        vertical-align: top;\n",
       "    }\n",
       "\n",
       "    .dataframe thead th {\n",
       "        text-align: right;\n",
       "    }\n",
       "</style>\n",
       "<table border=\"1\" class=\"dataframe\">\n",
       "  <thead>\n",
       "    <tr style=\"text-align: right;\">\n",
       "      <th></th>\n",
       "      <th>ActualY</th>\n",
       "      <th>LR</th>\n",
       "      <th>Lasso</th>\n",
       "      <th>LassoCV</th>\n",
       "      <th>RidgeCV</th>\n",
       "      <th>eNet</th>\n",
       "      <th>RF</th>\n",
       "      <th>xgb</th>\n",
       "    </tr>\n",
       "  </thead>\n",
       "  <tbody>\n",
       "    <tr>\n",
       "      <th>count</th>\n",
       "      <td>4286.000000</td>\n",
       "      <td>4286.000000</td>\n",
       "      <td>4286.000000</td>\n",
       "      <td>4286.000000</td>\n",
       "      <td>4286.000000</td>\n",
       "      <td>4286.000000</td>\n",
       "      <td>4286.000000</td>\n",
       "      <td>4286.000000</td>\n",
       "    </tr>\n",
       "    <tr>\n",
       "      <th>mean</th>\n",
       "      <td>1737.594813</td>\n",
       "      <td>1737.722054</td>\n",
       "      <td>1737.718235</td>\n",
       "      <td>1737.493726</td>\n",
       "      <td>1737.722054</td>\n",
       "      <td>1737.689081</td>\n",
       "      <td>1733.844637</td>\n",
       "      <td>1732.706665</td>\n",
       "    </tr>\n",
       "    <tr>\n",
       "      <th>std</th>\n",
       "      <td>796.561647</td>\n",
       "      <td>726.012537</td>\n",
       "      <td>726.000989</td>\n",
       "      <td>723.313049</td>\n",
       "      <td>726.012537</td>\n",
       "      <td>725.886387</td>\n",
       "      <td>698.657481</td>\n",
       "      <td>741.767090</td>\n",
       "    </tr>\n",
       "    <tr>\n",
       "      <th>min</th>\n",
       "      <td>0.000000</td>\n",
       "      <td>-310.047308</td>\n",
       "      <td>-310.118799</td>\n",
       "      <td>-310.055859</td>\n",
       "      <td>-310.047308</td>\n",
       "      <td>-309.538157</td>\n",
       "      <td>222.581233</td>\n",
       "      <td>101.871521</td>\n",
       "    </tr>\n",
       "    <tr>\n",
       "      <th>25%</th>\n",
       "      <td>1146.000000</td>\n",
       "      <td>1200.585102</td>\n",
       "      <td>1200.550621</td>\n",
       "      <td>1204.212560</td>\n",
       "      <td>1200.585102</td>\n",
       "      <td>1200.857990</td>\n",
       "      <td>1225.310573</td>\n",
       "      <td>1167.165802</td>\n",
       "    </tr>\n",
       "    <tr>\n",
       "      <th>50%</th>\n",
       "      <td>1642.500000</td>\n",
       "      <td>1678.624792</td>\n",
       "      <td>1678.723820</td>\n",
       "      <td>1678.863674</td>\n",
       "      <td>1678.624792</td>\n",
       "      <td>1678.338216</td>\n",
       "      <td>1698.512619</td>\n",
       "      <td>1677.363586</td>\n",
       "    </tr>\n",
       "    <tr>\n",
       "      <th>75%</th>\n",
       "      <td>2255.000000</td>\n",
       "      <td>2206.604588</td>\n",
       "      <td>2206.533606</td>\n",
       "      <td>2203.354515</td>\n",
       "      <td>2206.604588</td>\n",
       "      <td>2206.299576</td>\n",
       "      <td>2208.658414</td>\n",
       "      <td>2247.499390</td>\n",
       "    </tr>\n",
       "    <tr>\n",
       "      <th>max</th>\n",
       "      <td>3995.000000</td>\n",
       "      <td>4869.347964</td>\n",
       "      <td>4869.643136</td>\n",
       "      <td>4849.011460</td>\n",
       "      <td>4869.347964</td>\n",
       "      <td>4870.496988</td>\n",
       "      <td>3629.139812</td>\n",
       "      <td>3945.249756</td>\n",
       "    </tr>\n",
       "  </tbody>\n",
       "</table>\n",
       "</div>"
      ],
      "text/plain": [
       "           ActualY           LR        Lasso      LassoCV      RidgeCV  \\\n",
       "count  4286.000000  4286.000000  4286.000000  4286.000000  4286.000000   \n",
       "mean   1737.594813  1737.722054  1737.718235  1737.493726  1737.722054   \n",
       "std     796.561647   726.012537   726.000989   723.313049   726.012537   \n",
       "min       0.000000  -310.047308  -310.118799  -310.055859  -310.047308   \n",
       "25%    1146.000000  1200.585102  1200.550621  1204.212560  1200.585102   \n",
       "50%    1642.500000  1678.624792  1678.723820  1678.863674  1678.624792   \n",
       "75%    2255.000000  2206.604588  2206.533606  2203.354515  2206.604588   \n",
       "max    3995.000000  4869.347964  4869.643136  4849.011460  4869.347964   \n",
       "\n",
       "              eNet           RF          xgb  \n",
       "count  4286.000000  4286.000000  4286.000000  \n",
       "mean   1737.689081  1733.844637  1732.706665  \n",
       "std     725.886387   698.657481   741.767090  \n",
       "min    -309.538157   222.581233   101.871521  \n",
       "25%    1200.857990  1225.310573  1167.165802  \n",
       "50%    1678.338216  1698.512619  1677.363586  \n",
       "75%    2206.299576  2208.658414  2247.499390  \n",
       "max    4870.496988  3629.139812  3945.249756  "
      ]
     },
     "execution_count": 19,
     "metadata": {},
     "output_type": "execute_result"
    }
   ],
   "source": [
    "DOL_y_pred.describe()"
   ]
  },
  {
   "cell_type": "code",
   "execution_count": 32,
   "metadata": {},
   "outputs": [
    {
     "name": "stdout",
     "output_type": "stream",
     "text": [
      "{'LR': 346.4495036924344, 'Lasso': 346.45160241424747, 'LassoCV': 346.25049738341357, 'RidgeCV': 346.44950369243412, 'eNet': 346.45258401976554, 'RF': 335.61721313373181, 'xgb': 256.01908006745128}\n",
      "{'LR': 0.81079071535728964, 'Lasso': 0.8107884229663268, 'LassoCV': 0.81100802279444417, 'RidgeCV': 0.81079071535728997, 'eNet': 0.81078735077390551, 'RF': 0.82243759841790365, 'xgb': 0.89667456979816995}\n"
     ]
    }
   ],
   "source": [
    "print(DOL_RMSE_test)\n",
    "print(DOL_r2_test)\n",
    "\n",
    "# DOL_results = pd.DataFrame(DOL_RMSE_test.values(), columns = ['RMSE'])\n",
    "\n"
   ]
  },
  {
   "cell_type": "code",
   "execution_count": 49,
   "metadata": {},
   "outputs": [],
   "source": [
    "DOL_results = pd.DataFrame(DOL_RMSE_test, index = ['RMSE'])\n",
    "DOL_results = DOL_results.append(pd.DataFrame(DOL_r2_test, index = ['r2']))\n",
    "\n",
    "DOL_results = DOL_results.T\n",
    "\n",
    "DOL_results['r2'] = DOL_results.r2.apply(lambda r: round(r*100, 2))"
   ]
  },
  {
   "cell_type": "code",
   "execution_count": 50,
   "metadata": {},
   "outputs": [
    {
     "data": {
      "text/html": [
       "<div>\n",
       "<style scoped>\n",
       "    .dataframe tbody tr th:only-of-type {\n",
       "        vertical-align: middle;\n",
       "    }\n",
       "\n",
       "    .dataframe tbody tr th {\n",
       "        vertical-align: top;\n",
       "    }\n",
       "\n",
       "    .dataframe thead th {\n",
       "        text-align: right;\n",
       "    }\n",
       "</style>\n",
       "<table border=\"1\" class=\"dataframe\">\n",
       "  <thead>\n",
       "    <tr style=\"text-align: right;\">\n",
       "      <th></th>\n",
       "      <th>RMSE</th>\n",
       "      <th>r2</th>\n",
       "    </tr>\n",
       "  </thead>\n",
       "  <tbody>\n",
       "    <tr>\n",
       "      <th>LR</th>\n",
       "      <td>346.449504</td>\n",
       "      <td>81.08</td>\n",
       "    </tr>\n",
       "    <tr>\n",
       "      <th>Lasso</th>\n",
       "      <td>346.451602</td>\n",
       "      <td>81.08</td>\n",
       "    </tr>\n",
       "    <tr>\n",
       "      <th>LassoCV</th>\n",
       "      <td>346.250497</td>\n",
       "      <td>81.10</td>\n",
       "    </tr>\n",
       "    <tr>\n",
       "      <th>RidgeCV</th>\n",
       "      <td>346.449504</td>\n",
       "      <td>81.08</td>\n",
       "    </tr>\n",
       "    <tr>\n",
       "      <th>eNet</th>\n",
       "      <td>346.452584</td>\n",
       "      <td>81.08</td>\n",
       "    </tr>\n",
       "    <tr>\n",
       "      <th>RF</th>\n",
       "      <td>335.617213</td>\n",
       "      <td>82.24</td>\n",
       "    </tr>\n",
       "    <tr>\n",
       "      <th>xgb</th>\n",
       "      <td>256.019080</td>\n",
       "      <td>89.67</td>\n",
       "    </tr>\n",
       "  </tbody>\n",
       "</table>\n",
       "</div>"
      ],
      "text/plain": [
       "               RMSE     r2\n",
       "LR       346.449504  81.08\n",
       "Lasso    346.451602  81.08\n",
       "LassoCV  346.250497  81.10\n",
       "RidgeCV  346.449504  81.08\n",
       "eNet     346.452584  81.08\n",
       "RF       335.617213  82.24\n",
       "xgb      256.019080  89.67"
      ]
     },
     "execution_count": 50,
     "metadata": {},
     "output_type": "execute_result"
    }
   ],
   "source": [
    "DOL_results"
   ]
  },
  {
   "cell_type": "code",
   "execution_count": 37,
   "metadata": {},
   "outputs": [
    {
     "name": "stdout",
     "output_type": "stream",
     "text": [
      "Index(['level_0', 'level_1', 0], dtype='object')\n"
     ]
    },
    {
     "data": {
      "image/png": "[encoded data removed]",
      "text/plain": [
       "<Figure size 864x504 with 1 Axes>"
      ]
     },
     "metadata": {
      "needs_background": "light"
     },
     "output_type": "display_data"
    }
   ],
   "source": [
    "\n",
    "BTU_y_pred_new = pd.DataFrame(BTU_y_pred.stack()).reset_index()\n",
    "print(BTU_y_pred_new.columns)\n",
    "\n",
    "BTU_y_pred_new.drop(['level_0'], axis = 1, inplace = True)\n",
    "BTU_y_pred_new.columns = ['Regressor','Predicted Y']\n",
    "\n",
    "BTU_y_pred_new = BTU_y_pred_new[BTU_y_pred_new['Predicted Y'] < (np.percentile(BTU_y_pred_new['Predicted Y'], 75) + np.percentile(BTU_y_pred_new['Predicted Y'],35 ))]\n",
    "BTU_y_pred_new.head(6)\n",
    "\n",
    "box_ax = sns.boxplot(x=\"Regressor\", y=\"Predicted Y\", data=BTU_y_pred_new, palette='RdYlBu_r')\n",
    "\n",
    "box_ax.set(xlabel='Regressor', ylabel=f'Predicted BTU')\n",
    "\n",
    "fig = plt.gcf()\n",
    "fig.set_size_inches( 12, 7)\n",
    "\n",
    "# plt.savefig(os.path.join(image_dir,\"AvgTemp_boxPlot.png\"))\n",
    "\n",
    "plt.show()"
   ]
  },
  {
   "cell_type": "code",
   "execution_count": 21,
   "metadata": {},
   "outputs": [
    {
     "name": "stdout",
     "output_type": "stream",
     "text": [
      "Index(['level_0', 'level_1', 0], dtype='object')\n"
     ]
    },
    {
     "data": {
      "image/png": "[encoded data removed]",
      "text/plain": [
       "<Figure size 864x504 with 1 Axes>"
      ]
     },
     "metadata": {
      "needs_background": "light"
     },
     "output_type": "display_data"
    }
   ],
   "source": [
    "\n",
    "DOL_y_pred_new = pd.DataFrame(DOL_y_pred.stack()).reset_index()\n",
    "print(DOL_y_pred_new.columns)\n",
    "\n",
    "DOL_y_pred_new.drop(['level_0'], axis = 1, inplace = True)\n",
    "DOL_y_pred_new.columns = ['Regressor','Predicted Y']\n",
    "\n",
    "DOL_y_pred_new = DOL_y_pred_new[DOL_y_pred_new['Predicted Y'] < (np.percentile(DOL_y_pred_new['Predicted Y'], 75) + np.percentile(DOL_y_pred_new['Predicted Y'],35 ))]\n",
    "# BTU_y_pred_new.head(6)\n",
    "\n",
    "box_ax = sns.violinplot(x=\"Regressor\", y=\"Predicted Y\", data=DOL_y_pred_new, palette='RdYlBu_r')\n",
    "\n",
    "box_ax.set(xlabel='Regressor', ylabel=f'Predicted DOLLAR')\n",
    "\n",
    "fig = plt.gcf()\n",
    "fig.set_size_inches( 12, 7)\n",
    "\n",
    "# plt.savefig(os.path.join(image_dir,\"AvgTemp_boxPlot.png\"))\n",
    "\n",
    "plt.show()"
   ]
  },
  {
   "cell_type": "code",
   "execution_count": 7,
   "metadata": {},
   "outputs": [],
   "source": [
    "models_BTU = ml_models_recs(X['BTU'], y[\"BTU\"], seed, folds, test_size, early_stop = 20)\n",
    "\n"
   ]
  },
  {
   "cell_type": "code",
   "execution_count": 8,
   "metadata": {},
   "outputs": [
    {
     "name": "stdout",
     "output_type": "stream",
     "text": [
      "Begining to run Linear regression Model.................................\n",
      "\n",
      "Configuring the model.....................\n",
      "\n",
      "Fit train data to the model.....................\n",
      "\n",
      "Predict Y values for test data.....................\n",
      "\n",
      "Linear Regression Model report\n",
      "----------------------------------------------------------------\n",
      "\n",
      "Test RMSE: 26487.268116\n",
      "The accuracy of the linear regressor is 0.77 out of 1 on the testing data\n"
     ]
    },
    {
     "data": {
      "image/png": "[encoded data removed]",
      "text/plain": [
       "<Figure size 432x288 with 1 Axes>"
      ]
     },
     "metadata": {
      "needs_background": "light"
     },
     "output_type": "display_data"
    },
    {
     "name": "stdout",
     "output_type": "stream",
     "text": [
      "\n",
      "Begining to run Classic Lasso regression Model (alpha = 0.01).................................\n",
      "\n",
      "Configuring and fit training data to the model.....................\n",
      "\n",
      "Predict y values for train and test data.....................\n",
      "\n",
      "Classic Lasso Regresion Model report\n",
      "----------------------------------------------------------------\n",
      "\n",
      "Train RMSE: 24271.402086\n",
      "Test RMSE: 26487.270550\n",
      "The accuracy of the Classic Lasso regressor is 0.79 out of 1 on the training data\n",
      "The accuracy of the Classic Lasso regressor is 0.77 out of 1 on the test data\n",
      "\n",
      "Begining to run Lasso CV regression Model (alpha = determined by K-Folds).................................\n",
      "\n",
      "Run cross validation on training data to get best model iteration.....................\n",
      "\n",
      "The best model's Alpha is  0.277454750679\n",
      "Fit the best model from k-folds to training data................\n",
      "best model coefficients:\n",
      "[725.237873910841, 8.622357431189844, 31.92853244962305, 12.127053035819245, 4.360116995011201, -132.48118693100824, 0.0, 3.031325201891474, -162.46646372187516, 73.762640033769, -238.18621464303672, -1019.0994488017975, 392.8645201002319, -1432.533757012666, -177.14085138774894, -0.0, -1281.8612614147737, 693.021702911826, 806.3309281835836, 1279.5739944484078, 2283.9897682088645, 79.05611781300703, 1.5208261264945788, 46.1451916086434, 0.0, -230.1176700693349, 1454.4997845466019, -11823.214932721823, 254.0041155416074, 2324.7937241964396, 2053.2199781758363, 2474.656604937743, 2326.039682500367, 424.42544670808877, 3087.0527214756994, 5674.057547439191, 81.01035327727917, -283.90816827340774, -1710.4746695030383, -213.54519879084475, 369.8146989707543, 1973.4937899029528, -365.79698890470524, -1142.3647709661489, -685.5075401551468, 7388.125260202486, -4789.7235964335305, -88.41486682210248, 1214.6913540641494, 464.1265232626204, -13.36806082689137, 696.2177127112795, 79.89442863525971, 16.952410755960862, 32.13972743440622, 0.04402783052961892, 4.813931765570479, 3008.039913442457, 2.6743697201010694, 623.2329985879851, -107.61268588190079, 2.064835171212796, 1011.3766455470638, 29.869154376345552, 725.3176436219745, -1218.9717612324548, -3.5683490489278955, -43.68996548672571, 132.55119731855046, -16.23164806239425, -45.803580341682114, -1358.8528552390283]\n",
      "\n",
      "Predict data using testing data................\n",
      "Lasso CV Regresion Model report\n",
      "----------------------------------------------------------------\n",
      "\n",
      "Test RMSE: 26500.883290\n",
      "The accuracy of the LassoCV regressor is 0.77 out of 1 on the test data\n",
      "\n",
      "Begining to run RandomForest regression Model.................................\n",
      "\n",
      "Configuring and fit training data to the model.....................\n",
      "\n",
      "Predict y values for train and test data.....................\n",
      "\n",
      "RandomForest Regresion Model report\n",
      "----------------------------------------------------------------\n",
      "\n",
      "Train RMSE: 15878.673124\n",
      "Test RMSE: 21896.855581\n",
      "The accuracy of the RandomForest regressor is 0.91 out of 1 on the training data\n",
      "The accuracy of the RandomForest regressor is 0.84 out of 1 on the test data\n",
      "Begining to run XGBoost Model.................................\n",
      "\n",
      "Configuring the model.....................\n",
      "\n",
      "Determing the best iteration using k-Folds.................\n",
      "\n",
      "The best iteration obtained using Cross Validation is 70\n",
      "\n",
      "Fitting Train data to the model \n",
      "----------------------------------------------------------------\n",
      "\n",
      "Predicting Y with test data\n",
      "----------------------------------------------------------------\n",
      "\n",
      "XGBoost Model report\n",
      "----------------------------------------------------------------\n",
      "\n",
      "Train RMSE: 15226.682290\n",
      "Test RMSE: 20735.584246\n",
      "The accuracy of the xgboost regressor is 0.92 out of 1 on the training data\n",
      "The accuracy of the xgboost regressor is 0.86 out of 1 on the test data\n"
     ]
    },
    {
     "data": {
      "image/png": "[encoded data removed]",
      "text/plain": [
       "<Figure size 432x360 with 1 Axes>"
      ]
     },
     "metadata": {
      "needs_background": "light"
     },
     "output_type": "display_data"
    },
    {
     "name": "stdout",
     "output_type": "stream",
     "text": [
      "\n",
      "Begining to run elasticNet Model.................................\n",
      "\n",
      "Configuring and finding best model using GridSearchCV.....................\n",
      "\n",
      "Fit train data to the best model.....................\n",
      "\n",
      "Predict Y for test data.....................\n",
      "\n",
      "ElasticNet Model report\n",
      "----------------------------------------------------------------\n",
      "\n",
      "Test RMSE: 26490.420758\n",
      "The accuracy of the elasticNet regressor is 0.77 out of 1 on the test data\n"
     ]
    }
   ],
   "source": [
    "# prepare models\n",
    "models = []\n",
    "models.append(('LR', models_BTU.linearmodel()))\n",
    "models.append(('Classo', models_BTU.classic_lasso_model()))\n",
    "models.append(('CVLasso', models_BTU.lasso_CV()))\n",
    "models.append(('RF', models_BTU.RF_model()))\n",
    "models.append(('XG', models_BTU.xgb_model()))\n",
    "models.append(('EN_GR', models_BTU.eNet_model()))\n",
    "# evaluate each model in turn\n",
    "results = []\n",
    "names = []\n",
    "scoring = 'rmse'"
   ]
  }
 ],
 "metadata": {
  "kernelspec": {
   "display_name": "Python 3",
   "language": "python",
   "name": "python3"
  },
  "language_info": {
   "codemirror_mode": {
    "name": "ipython",
    "version": 3
   },
   "file_extension": ".py",
   "mimetype": "text/x-python",
   "name": "python",
   "nbconvert_exporter": "python",
   "pygments_lexer": "ipython3",
   "version": "3.7.0"
  }
 },
 "nbformat": 4,
 "nbformat_minor": 2
}
