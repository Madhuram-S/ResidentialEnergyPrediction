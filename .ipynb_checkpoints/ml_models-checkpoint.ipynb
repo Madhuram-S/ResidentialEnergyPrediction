{
 "cells": [
  {
   "cell_type": "markdown",
   "metadata": {},
   "source": [
    "## Create Pipeline for run and comparing models\n"
   ]
  },
  {
   "cell_type": "code",
   "execution_count": 1,
   "metadata": {
    "scrolled": true
   },
   "outputs": [],
   "source": [
    "# Generic Dependencies\n",
    "import numpy as np\n",
    "from numpy import arange\n",
    "import pandas as pd\n",
    "from pandas import set_option\n",
    "# from pandas.tools.plotting import scatter_matrix\n",
    "import os\n",
    "\n",
    "# Plotting Libraries\n",
    "from matplotlib import pyplot as plt\n",
    "import seaborn as sns\n",
    "\n",
    "# SKLearn Libraries\n",
    "from sklearn import preprocessing\n",
    "from sklearn.preprocessing import StandardScaler\n",
    "from sklearn.model_selection import train_test_split\n",
    "from sklearn.model_selection import KFold\n",
    "from sklearn.model_selection import cross_val_score\n",
    "from sklearn.model_selection import GridSearchCV\n",
    "from sklearn.linear_model import LinearRegression\n",
    "from sklearn.linear_model import Lasso\n",
    "from sklearn.linear_model import ElasticNet\n",
    "from sklearn.linear_model import Lasso, LassoCV, Ridge,RidgeCV\n",
    "from sklearn.model_selection import cross_validate\n",
    "\n",
    "# library for saving models\n",
    "from sklearn.externals import joblib\n",
    "\n",
    "from sklearn.svm import SVR\n",
    "from sklearn.pipeline import Pipeline\n",
    "from sklearn.ensemble import RandomForestRegressor\n",
    "from sklearn.ensemble import GradientBoostingRegressor\n",
    "from sklearn.ensemble import ExtraTreesRegressor\n",
    "from sklearn.ensemble import AdaBoostRegressor\n",
    "from sklearn.metrics import mean_squared_error\n",
    "\n",
    "#XGBoost libraries\n",
    "import xgboost as xgb\n",
    "\n",
    "# explain xgboost preiction and model\n",
    "import shap\n",
    "\n",
    "\n",
    "# import generateXdata.py to prepare the data\n",
    "# from generateXdata import generateX\n",
    "from generateXdata import generateX\n",
    "\n",
    "#Import Custom ml models\n",
    "from Cls_ml_models import ml_models_tuned\n"
   ]
  },
  {
   "cell_type": "code",
   "execution_count": 2,
   "metadata": {},
   "outputs": [],
   "source": [
    "# gobal variables\n",
    "dataFilePath = \"dataforfinalproject\"\n",
    "filename = \"RECS_COMBINED_DATA.csv\"\n",
    "cols_file = \"Final_Columns_withCat.csv\"\n",
    "samplesFile = \"sampletest.csv\"\n",
    "\n",
    " \n",
    "\n",
    "# delcare target variables\n",
    "target = {\"BTU\":\"TOTALBTU\", \"DOLLAR\":\"TOTALDOLLAR\"}\n",
    "modelsList = {\"LR\": \"Linear Regression\", \n",
    "          \"Lasso\": \"Classic Lasso\", \n",
    "          \"LassoCV\":\"Lasso with CV\", \n",
    "            \"RidgeCV\" : \"Ridge with CV\",\n",
    "            \"eNet\" : \"ElasticNet with GridSearch\",\n",
    "          \"RF\":\"Random Forest\", \n",
    "          \"xgb\":\"XGBoost\"}\n",
    "\n",
    "# modelsList = {\"LR\": \"Linear Regression\", \n",
    "#           \"CLasso\": \"Classic Lasso\", \n",
    "#           \"CV_Lasso\":\"Lasso with CV\", \n",
    "#             \"RF\":\"Random Forest\",\n",
    "#           \"XG\":\"XGBoost\"}\n",
    "\n",
    "# common model params\n",
    "folds = 5\n",
    "seed = 30\n",
    "test_size = 0.2"
   ]
  },
  {
   "cell_type": "markdown",
   "metadata": {},
   "source": [
    "### Prepare Data"
   ]
  },
  {
   "cell_type": "code",
   "execution_count": 12,
   "metadata": {},
   "outputs": [
    {
     "name": "stdout",
     "output_type": "stream",
     "text": [
      "\n",
      "Extracting data for target : BTU........\n",
      "\n",
      " X Features shape : (21430, 87)\n",
      "y label shape : (21430,)\n",
      "shape of X is (21430, 72)\n"
     ]
    },
    {
     "ename": "ValueError",
     "evalue": "too many values to unpack (expected 2)",
     "output_type": "error",
     "traceback": [
      "\u001b[1;31m---------------------------------------------------------------------------\u001b[0m",
      "\u001b[1;31mValueError\u001b[0m                                Traceback (most recent call last)",
      "\u001b[1;32m<ipython-input-12-fb970f4c97e1>\u001b[0m in \u001b[0;36m<module>\u001b[1;34m\u001b[0m\n\u001b[0;32m      5\u001b[0m \u001b[1;32mfor\u001b[0m \u001b[0mt\u001b[0m\u001b[1;33m,\u001b[0m \u001b[0mcol\u001b[0m \u001b[1;32min\u001b[0m \u001b[0mtarget\u001b[0m\u001b[1;33m.\u001b[0m\u001b[0mitems\u001b[0m\u001b[1;33m(\u001b[0m\u001b[1;33m)\u001b[0m\u001b[1;33m:\u001b[0m\u001b[1;33m\u001b[0m\u001b[1;33m\u001b[0m\u001b[0m\n\u001b[0;32m      6\u001b[0m     \u001b[0mprint\u001b[0m\u001b[1;33m(\u001b[0m\u001b[1;34mf\"\\nExtracting data for target : {t}........\\n\"\u001b[0m\u001b[1;33m)\u001b[0m\u001b[1;33m\u001b[0m\u001b[1;33m\u001b[0m\u001b[0m\n\u001b[1;32m----> 7\u001b[1;33m     \u001b[0mX\u001b[0m\u001b[1;33m[\u001b[0m\u001b[0mt\u001b[0m\u001b[1;33m]\u001b[0m\u001b[1;33m,\u001b[0m \u001b[0mvocab\u001b[0m\u001b[1;33m[\u001b[0m\u001b[0mt\u001b[0m\u001b[1;33m]\u001b[0m \u001b[1;33m=\u001b[0m \u001b[0mgenerateX\u001b[0m\u001b[1;33m(\u001b[0m\u001b[0mohe\u001b[0m \u001b[1;33m=\u001b[0m \u001b[1;32mTrue\u001b[0m\u001b[1;33m,\u001b[0m \u001b[0mtarget\u001b[0m \u001b[1;33m=\u001b[0m \u001b[0mt\u001b[0m\u001b[1;33m)\u001b[0m\u001b[1;33m\u001b[0m\u001b[1;33m\u001b[0m\u001b[0m\n\u001b[0m\u001b[0;32m      8\u001b[0m     \u001b[0my\u001b[0m\u001b[1;33m[\u001b[0m\u001b[0mt\u001b[0m\u001b[1;33m]\u001b[0m \u001b[1;33m=\u001b[0m \u001b[0mpd\u001b[0m\u001b[1;33m.\u001b[0m\u001b[0mread_csv\u001b[0m\u001b[1;33m(\u001b[0m\u001b[0mos\u001b[0m\u001b[1;33m.\u001b[0m\u001b[0mpath\u001b[0m\u001b[1;33m.\u001b[0m\u001b[0mjoin\u001b[0m\u001b[1;33m(\u001b[0m\u001b[0mdataFilePath\u001b[0m\u001b[1;33m,\u001b[0m\u001b[0mfilename\u001b[0m\u001b[1;33m)\u001b[0m\u001b[1;33m,\u001b[0m \u001b[0mlow_memory\u001b[0m \u001b[1;33m=\u001b[0m \u001b[1;32mFalse\u001b[0m\u001b[1;33m)\u001b[0m\u001b[1;33m[\u001b[0m\u001b[0mcol\u001b[0m\u001b[1;33m]\u001b[0m\u001b[1;33m\u001b[0m\u001b[1;33m\u001b[0m\u001b[0m\n\u001b[0;32m      9\u001b[0m \u001b[1;33m\u001b[0m\u001b[0m\n",
      "\u001b[1;31mValueError\u001b[0m: too many values to unpack (expected 2)"
     ]
    }
   ],
   "source": [
    "X = {}\n",
    "y = {}\n",
    "vocab = {}\n",
    "# obtain features contributing to the Y = BTU or DOllar\n",
    "for t, col in target.items():\n",
    "    print(f\"\\nExtracting data for target : {t}........\\n\")\n",
    "    X[t], vocab[t] = generateX(ohe = True, target = t)\n",
    "    y[t] = pd.read_csv(os.path.join(dataFilePath,filename), low_memory = False)[col]\n",
    "    "
   ]
  },
  {
   "cell_type": "code",
   "execution_count": 4,
   "metadata": {},
   "outputs": [
    {
     "name": "stdout",
     "output_type": "stream",
     "text": [
      "Shape of X values for DOLLAR as target : (21430, 79)\n",
      "Shape of X values for BTU as target : (21430, 72)\n",
      "Shape of y values for DOLLAR as target : (21430,)\n",
      "Shape of y values for DOLLAR as target : (21430,)\n"
     ]
    }
   ],
   "source": [
    "print(f\"Shape of X values for DOLLAR as target : {X['DOLLAR'].shape}\")\n",
    "print(f\"Shape of X values for BTU as target : {X['BTU'].shape}\")\n",
    "print(f\"Shape of y values for DOLLAR as target : {y['DOLLAR'].shape}\")\n",
    "print(f\"Shape of y values for DOLLAR as target : {y['BTU'].shape}\")\n"
   ]
  },
  {
   "cell_type": "markdown",
   "metadata": {},
   "source": [
    "### Define model functions with default params (no configuration changes)\n"
   ]
  },
  {
   "cell_type": "code",
   "execution_count": 5,
   "metadata": {},
   "outputs": [],
   "source": [
    "# prepare models\n",
    "models_BT = []\n",
    "models_BT.append(('LR', LinearRegression()))\n",
    "models_BT.append(('Lasso', Lasso()))\n",
    "models_BT.append(('LassoCV', LassoCV()))\n",
    "models_BT.append(('RidgeCV', Ridge()))\n",
    "models_BT.append(('eNet', ElasticNet()))\n",
    "models_BT.append(('RF', RandomForestRegressor()))\n",
    "models_BT.append(('xgb', xgb.XGBRegressor(objective = \"reg:linear\")))\n"
   ]
  },
  {
   "cell_type": "code",
   "execution_count": 6,
   "metadata": {},
   "outputs": [],
   "source": [
    "# evaluate each model in turn\n",
    "results_mse = []\n",
    "results_r2 = []\n",
    "names = []\n",
    "exp_var = []\n",
    "scoring = {'mse': 'neg_mean_squared_error',\n",
    "           'r2': 'r2',\n",
    "           'exp_var': 'explained_variance'}"
   ]
  },
  {
   "cell_type": "markdown",
   "metadata": {},
   "source": [
    "### Create the list of Models that will be run in sequence\n"
   ]
  },
  {
   "cell_type": "code",
   "execution_count": 7,
   "metadata": {
    "scrolled": true
   },
   "outputs": [
    {
     "name": "stdout",
     "output_type": "stream",
     "text": [
      "['fit_time', 'score_time', 'test_exp_var', 'test_mse', 'test_r2', 'train_exp_var', 'train_mse', 'train_r2']\n",
      "['fit_time', 'score_time', 'test_exp_var', 'test_mse', 'test_r2', 'train_exp_var', 'train_mse', 'train_r2']\n",
      "['fit_time', 'score_time', 'test_exp_var', 'test_mse', 'test_r2', 'train_exp_var', 'train_mse', 'train_r2']\n",
      "['fit_time', 'score_time', 'test_exp_var', 'test_mse', 'test_r2', 'train_exp_var', 'train_mse', 'train_r2']\n",
      "['fit_time', 'score_time', 'test_exp_var', 'test_mse', 'test_r2', 'train_exp_var', 'train_mse', 'train_r2']\n",
      "['fit_time', 'score_time', 'test_exp_var', 'test_mse', 'test_r2', 'train_exp_var', 'train_mse', 'train_r2']\n",
      "['fit_time', 'score_time', 'test_exp_var', 'test_mse', 'test_r2', 'train_exp_var', 'train_mse', 'train_r2']\n"
     ]
    }
   ],
   "source": [
    "for name, model in models_BT:\n",
    "    kfold = KFold(n_splits=5, random_state=seed)\n",
    "    cv_results = cross_validate(model, X[\"DOLLAR\"], y[\"DOLLAR\"], cv=kfold, scoring=scoring)\n",
    "    print(sorted(cv_results.keys())  )\n",
    "    results_mse.append(cv_results['test_mse'])\n",
    "    results_r2.append(cv_results['test_r2'])\n",
    "    exp_var.append(cv_results['test_exp_var'])\n",
    "    names.append(name)\n",
    "#     msg = \"%s: %f (%f)\" % (name, cv_results.mean(), cv_results.std())\n",
    "#     print(msg)"
   ]
  },
  {
   "cell_type": "code",
   "execution_count": 8,
   "metadata": {},
   "outputs": [
    {
     "data": {
      "text/plain": [
       "7"
      ]
     },
     "execution_count": 8,
     "metadata": {},
     "output_type": "execute_result"
    }
   ],
   "source": [
    "len(names)"
   ]
  },
  {
   "cell_type": "code",
   "execution_count": 9,
   "metadata": {},
   "outputs": [
    {
     "data": {
      "text/plain": [
       "[array([375.9427443 , 351.68771147, 353.63686302, 346.08641459,\n",
       "        370.84189357]),\n",
       " array([377.10022108, 352.02786615, 354.41596659, 346.43623092,\n",
       "        371.96138408]),\n",
       " array([625.26489712, 423.86385677, 426.27457632, 420.83075925,\n",
       "        485.66241998]),\n",
       " array([375.93622639, 351.69012474, 353.63876886, 346.08554503,\n",
       "        370.84277607]),\n",
       " array([383.22924413, 357.60507205, 359.47613587, 350.56485722,\n",
       "        375.00603482]),\n",
       " array([510.11499453, 332.08987191, 339.28274278, 331.61376108,\n",
       "        365.56407157]),\n",
       " array([373.28108136, 324.25799884, 331.89471862, 332.31842747,\n",
       "        362.24693284])]"
      ]
     },
     "execution_count": 9,
     "metadata": {},
     "output_type": "execute_result"
    }
   ],
   "source": [
    "results_rmse = []\n",
    "for i , v in enumerate(results_mse):\n",
    "    results_rmse.append(np.sqrt(v * -1))\n",
    "\n",
    "results_rmse"
   ]
  },
  {
   "cell_type": "code",
   "execution_count": 10,
   "metadata": {},
   "outputs": [
    {
     "data": {
      "image/png": "[encoded data removed]",
      "text/plain": [
       "<Figure size 1080x360 with 2 Axes>"
      ]
     },
     "metadata": {
      "needs_background": "light"
     },
     "output_type": "display_data"
    }
   ],
   "source": [
    "# plot categorical variables\n",
    "plt.figure(figsize=(15,5))\n",
    "\n",
    "ax1 = plt.subplot(1,2,1)\n",
    "sns.boxplot(names, results_rmse, palette = \"rainbow\")\n",
    "ax1.set_ylim(250, 500)\n",
    "ax1.set_ylabel(\"Root Mean Square Error (RMSE)\")\n",
    "ax1.set_title(\"Basic Model RMSE comparsion across 6 models\")\n",
    "\n",
    "ax2 = plt.subplot(1,2,2)\n",
    "sns.boxplot(names, results_r2, palette = \"rainbow\")\n",
    "ax2.set_ylim(0.6, 0.9)\n",
    "ax2.set_ylabel(\"r2 score\")\n",
    "ax2.set_title(\"Basic Model r2 comparsion across 6 models\")\n",
    "\n",
    "plt.show()"
   ]
  },
  {
   "cell_type": "markdown",
   "metadata": {},
   "source": [
    "### Comparing models (after tuning)"
   ]
  },
  {
   "cell_type": "code",
   "execution_count": 11,
   "metadata": {},
   "outputs": [
    {
     "name": "stdout",
     "output_type": "stream",
     "text": [
      "Best Linear Regression model LinearRegression(copy_X=True, fit_intercept=True, n_jobs=None,\n",
      "         normalize=False)\n",
      "\n",
      " Begining to tune Lasso Regression Model.................................\n",
      "\n",
      "Best Lasso model with alpha = 0.01 is Lasso(alpha=0.01, copy_X=True, fit_intercept=True, max_iter=1000,\n",
      "   normalize=False, positive=False, precompute=False, random_state=None,\n",
      "   selection='cyclic', tol=0.0001, warm_start=False)\n",
      "Best LassoCV model with alpha 0.003833672492926608 is LassoCV(alphas=None, copy_X=True, cv=10, eps=0.001, fit_intercept=True,\n",
      "    max_iter=100000, n_alphas=100, n_jobs=None, normalize=True,\n",
      "    positive=False, precompute='auto', random_state=None,\n",
      "    selection='cyclic', tol=0.0001, verbose=False)\n",
      "Best LassoCV model with alpha 0.0 is RidgeCV(alphas=array([0.   , 0.003, 0.006, 0.009, 0.012, 0.015, 0.018, 0.021, 0.024,\n",
      "       0.027, 0.03 , 0.033, 0.036, 0.039, 0.042, 0.045, 0.048]),\n",
      "    cv=30, fit_intercept=True, gcv_mode=None, normalize=True, scoring=None,\n",
      "    store_cv_values=False)\n",
      "Best elasticNet model obtained is ElasticNet(alpha=0.003, copy_X=True, fit_intercept=True, l1_ratio=0.5,\n",
      "      max_iter=1000, normalize=False, positive=False, precompute=False,\n",
      "      random_state=None, selection='cyclic', tol=0.0001, warm_start=False)\n",
      "Best RF model obtained is with n_estimators at 50 and max_depth at 11 is RandomForestRegressor(bootstrap=True, criterion='mse', max_depth=11,\n",
      "           max_features='auto', max_leaf_nodes=None,\n",
      "           min_impurity_decrease=0.0, min_impurity_split=None,\n",
      "           min_samples_leaf=1, min_samples_split=2,\n",
      "           min_weight_fraction_leaf=0.0, n_estimators=50, n_jobs=None,\n",
      "           oob_score=False, random_state=30, verbose=0, warm_start=False)\n",
      "Best xgBoost model obtained is with n_estimators at 300 is XGBRegressor(alpha=10, base_score=0.5, booster='gbtree', colsample_bylevel=1,\n",
      "       colsample_bytree=0.9, gamma=0, importance_type='gain',\n",
      "       learning_rate=0.05, max_delta_step=0, max_depth=8,\n",
      "       min_child_weight=5, missing=None, n_estimators=300, n_jobs=1,\n",
      "       nthread=2, objective='reg:linear', random_state=0, reg_alpha=0,\n",
      "       reg_lambda=1, scale_pos_weight=1, seed=42, silent=1, subsample=0.7)\n"
     ]
    }
   ],
   "source": [
    "m = ml_models_tuned(X['DOLLAR'], y[\"DOLLAR\"], seed, folds, test_size, early_stop = 20)\n",
    "# prepare models\n",
    "models_t = []\n",
    "models_t.append(('LR', m.ret_LR_tunedModel()))\n",
    "models_t.append(('Lasso', m.ret_Classo_tunedModel()))\n",
    "models_t.append(('LassoCV', m.ret_LassoCV_tunedModel()))\n",
    "models_t.append(('RidgeCV', m.ret_RidgeCV_tunedModel()))\n",
    "models_t.append(('eNet', m.ret_eNet_tunedModel()))\n",
    "models_t.append(('RF', m.ret_RF_tunedModel()))\n",
    "models_t.append(('xgb', m.ret_xgb_tunedModel()))\n"
   ]
  },
  {
   "cell_type": "code",
   "execution_count": 12,
   "metadata": {},
   "outputs": [],
   "source": [
    "# evaluate each model in turn\n",
    "results_mse_t = []\n",
    "results_r2_t = []\n",
    "names_t = []\n",
    "exp_var_t = []\n",
    "scoring_t = {'mse': 'neg_mean_squared_error',\n",
    "           'r2': 'r2',\n",
    "           'exp_var': 'explained_variance'}\n",
    "estimators = []"
   ]
  },
  {
   "cell_type": "markdown",
   "metadata": {},
   "source": [
    "### Create the list of Models that will be run in sequence\n"
   ]
  },
  {
   "cell_type": "code",
   "execution_count": 13,
   "metadata": {
    "scrolled": true
   },
   "outputs": [
    {
     "name": "stdout",
     "output_type": "stream",
     "text": [
      "['fit_time', 'score_time', 'test_exp_var', 'test_mse', 'test_r2', 'train_exp_var', 'train_mse', 'train_r2']\n",
      "['fit_time', 'score_time', 'test_exp_var', 'test_mse', 'test_r2', 'train_exp_var', 'train_mse', 'train_r2']\n",
      "['fit_time', 'score_time', 'test_exp_var', 'test_mse', 'test_r2', 'train_exp_var', 'train_mse', 'train_r2']\n",
      "['fit_time', 'score_time', 'test_exp_var', 'test_mse', 'test_r2', 'train_exp_var', 'train_mse', 'train_r2']\n",
      "['fit_time', 'score_time', 'test_exp_var', 'test_mse', 'test_r2', 'train_exp_var', 'train_mse', 'train_r2']\n",
      "['fit_time', 'score_time', 'test_exp_var', 'test_mse', 'test_r2', 'train_exp_var', 'train_mse', 'train_r2']\n",
      "['fit_time', 'score_time', 'test_exp_var', 'test_mse', 'test_r2', 'train_exp_var', 'train_mse', 'train_r2']\n"
     ]
    }
   ],
   "source": [
    "for name, model in models_t:\n",
    "    kfold = KFold(n_splits=5, random_state=seed)\n",
    "    cv_results = cross_validate(model, X[\"DOLLAR\"], y[\"DOLLAR\"], cv=kfold, scoring=scoring_t)\n",
    "    print(sorted(cv_results.keys())  )\n",
    "    results_mse_t.append(cv_results['test_mse'])\n",
    "    results_r2_t.append(cv_results['test_r2'])\n",
    "    exp_var_t.append(cv_results['test_exp_var'])\n",
    "    names_t.append(name)\n",
    "#     estimators.append(cv_results['estimator'])\n",
    "#     msg = \"%s: %f (%f)\" % (name, cv_results.mean(), cv_results.std())\n",
    "#     print(msg)"
   ]
  },
  {
   "cell_type": "code",
   "execution_count": 14,
   "metadata": {},
   "outputs": [
    {
     "data": {
      "text/plain": [
       "[array([375.9427443 , 351.68771147, 353.63686302, 346.08641459,\n",
       "        370.84189357]),\n",
       " array([375.76007829, 351.68790018, 353.64184976, 346.08707485,\n",
       "        370.84857064]),\n",
       " array([375.52460166, 351.61680755, 354.51148642, 346.6178132 ,\n",
       "        369.01815446]),\n",
       " array([384.9447786 , 351.68771147, 353.63686302, 346.08641459,\n",
       "        370.84189357]),\n",
       " array([375.60034034, 351.75004587, 353.68786165, 346.07030248,\n",
       "        370.86627994]),\n",
       " array([532.64959821, 331.85142726, 336.15775388, 337.67196681,\n",
       "        377.33672153]),\n",
       " array([311.37519112, 260.41783471, 271.22690304, 264.65481687,\n",
       "        290.72572633])]"
      ]
     },
     "execution_count": 14,
     "metadata": {},
     "output_type": "execute_result"
    }
   ],
   "source": [
    "results_rmse_t = []\n",
    "for i , v in enumerate(results_mse_t):\n",
    "    results_rmse_t.append(np.sqrt(v * -1))\n",
    "\n",
    "results_rmse_t"
   ]
  },
  {
   "cell_type": "code",
   "execution_count": 15,
   "metadata": {},
   "outputs": [
    {
     "data": {
      "image/png": "[encoded data removed]",
      "text/plain": [
       "<Figure size 1080x576 with 4 Axes>"
      ]
     },
     "metadata": {
      "needs_background": "light"
     },
     "output_type": "display_data"
    }
   ],
   "source": [
    "# plot categorical variables\n",
    "fcols = 2\n",
    "frows = 2\n",
    "plt.figure(figsize=(15,4*frows))\n",
    "\n",
    "ax1 = plt.subplot(2,2,1)\n",
    "sns.boxplot(names, results_rmse, palette = \"rainbow\")\n",
    "ax1.set_ylim(200, 500)\n",
    "ax1.set_ylabel(\"Root Mean Square Error (RMSE)\")\n",
    "ax1.set_title(\"Basic Model RMSE comparsion across 6 models\")\n",
    "\n",
    "ax2 = plt.subplot(2,2,2)\n",
    "sns.boxplot(names, results_r2, palette = \"rainbow\")\n",
    "ax2.set_ylim(0.5, 1.0)\n",
    "ax2.set_ylabel(\"r2 Score\")\n",
    "ax2.set_title(\"Basic Model r2 comparsion across 6 models\")\n",
    "\n",
    "ax3 = plt.subplot(2,2,3)\n",
    "sns.boxplot(names, results_rmse_t, palette = \"rainbow\")\n",
    "ax3.set_ylim(200, 500)\n",
    "ax3.set_ylabel(\"Root Mean Square Error (RMSE)\")\n",
    "ax3.set_title(\"Tuned Model RMSE comparsion across 6 models\")\n",
    "\n",
    "ax4 = plt.subplot(2,2,4)\n",
    "sns.boxplot(names, results_r2_t, palette = \"rainbow\")\n",
    "ax4.set_ylim(0.5, 1.0)\n",
    "ax4.set_ylabel(\"r2 Score\")\n",
    "ax4.set_title(\"Tuned Model RMSE comparsion across 6 models\")\n",
    "\n",
    "plt.show()"
   ]
  },
  {
   "cell_type": "markdown",
   "metadata": {},
   "source": [
    "### Fit and Predict Y (Dollar or BTU) for all models"
   ]
  },
  {
   "cell_type": "code",
   "execution_count": 16,
   "metadata": {
    "scrolled": true
   },
   "outputs": [
    {
     "name": "stdout",
     "output_type": "stream",
     "text": [
      "Begin to fit & predict with Models...\n",
      "--------------------------------------------------------------------------------------\n",
      "\n",
      " BEGIN PREDICTION FOR TOTAL DOLLAR\n",
      "\n",
      "Begining to run Linear regression Model.................................\n",
      "\n",
      "Model used for Fitting and Predicting is LinearRegression(copy_X=True, fit_intercept=True, n_jobs=None,\n",
      "         normalize=False).....................\n",
      "\n",
      "Fit train data to the model.....................\n",
      "\n",
      "Save the model to local disk ................................\n",
      "\n",
      "Predict Y values for test data.....................\n",
      "\n",
      "Linear Regression Model report\n",
      "----------------------------------------------------------------\n",
      "\n",
      "Test RMSE: 346.788910\n",
      "The accuracy of the linear regressor is 0.81 out of 1 on the testing data\n",
      "\n",
      "Begining to run Classic Lasso regression Model (alpha = 0.01).................................\n",
      "\n",
      "Model used for Fitting and Predicting is Lasso(alpha=0.01, copy_X=True, fit_intercept=True, max_iter=1000,\n",
      "   normalize=False, positive=False, precompute=False, random_state=None,\n",
      "   selection='cyclic', tol=0.0001, warm_start=False).....................\n",
      "\n",
      "Save the model to local disk ................................\n",
      "\n",
      "Predict y values for train and test data.....................\n",
      "\n",
      "Classic Lasso Regresion Model report\n",
      "----------------------------------------------------------------\n",
      "\n",
      "Train RMSE: 338.132292\n",
      "Test RMSE: 346.788595\n",
      "The accuracy of the Classic Lasso regressor is 0.82 out of 1 on the training data\n",
      "The accuracy of the Classic Lasso regressor is 0.81 out of 1 on the test data\n",
      "\n",
      "Begining to run Lasso CV regression Model (alpha = determined by K-Folds).................................\n",
      "\n",
      "Model used for Fitting and Predicting is LassoCV(alphas=None, copy_X=True, cv=10, eps=0.001, fit_intercept=True,\n",
      "    max_iter=100000, n_alphas=100, n_jobs=None, normalize=True,\n",
      "    positive=False, precompute='auto', random_state=None,\n",
      "    selection='cyclic', tol=0.0001, verbose=False).....................\n",
      "\n",
      "Fit the best model from k-folds to training data................\n",
      "Save the model to local disk ................................\n",
      "\n",
      "best model coefficients:\n",
      "[4.288237571793035, -0.0019609126647376868, -0.15925212903799885, 0.16917040727326751, 1.231378866506643, 2.136146830667154, 10.561719751376422, 0.03199158590183169, 4.097268006209008e-05, -0.007518113093778541, -0.01251676205517053, -0.01182246855313334, -0.010701276946041489, 0.014266832088610293, -0.017214432620813118, -0.0, 0.9692806591453504, -1.0257829819005368, -1.4644472489848108, -2.299597599738268, 19.53822553317426, 0.41186669735200176, 0.49935367258545027, -2.8828861134208665, 37.241561902385875, 6.001641282663852, 1.1332416151472546, 17.06282573656618, 1.5768628493251873, -0.06757694816472927, 0.7541264081133509, -9.83560560846854, 2.625208955560094, 4.870943209626702, 134.26100887031214, 6.680791548329218, 20.409420162136204, 11.092485643454475, 16.420437809817315, 41.359755285888035, -3.3853548628150794, -17.94283328883657, 30.450959240546695, -3.3115608923973174, -6.492719421698106, 1.1860805182373915, 0.0, 11.301147497065205, -26.538760198163743, 5.689238070152336, 5.775142427806633, 3.6945330845585223, 68.92463592815132, -148.7776175548701, -5.106107191837739, 12.4665104126876, -0.0, 1.8651160287698931, -2.0856729165937833, 1.8315946754230912, -1.6265688424567315, -0.7080151775755321, -0.06307737078594516, 0.01668866306971295, -12.243616229013016, 0.017127602838531663, 3.0927254519477767, 2.1495412343489075, 1.7019329181592664, -10.168005127774212, 0.1984037694665724, 1.8101129645149419, 2.4856000321799963, 0.12848740310321943, 13.245222556960906, 4.448031067523439, 0.021177830884049384, 0.3362907662786196, -0.0]\n",
      "\n",
      "Predict data using testing data................\n",
      "Lasso CV Regresion Model report\n",
      "----------------------------------------------------------------\n",
      "\n",
      "Test RMSE: 346.538597\n",
      "The accuracy of the LassoCV regressor is 0.81 out of 1 on the test data\n",
      "\n",
      "Begining to run Ridge CV regression Model (alpha = determined by K-Folds).................................\n",
      "\n",
      "Model used for Fitting and Predicting is RidgeCV(alphas=array([0.   , 0.003, 0.006, 0.009, 0.012, 0.015, 0.018, 0.021, 0.024,\n",
      "       0.027, 0.03 , 0.033, 0.036, 0.039, 0.042, 0.045, 0.048]),\n",
      "    cv=30, fit_intercept=True, gcv_mode=None, normalize=True, scoring=None,\n",
      "    store_cv_values=False).....................\n",
      "\n",
      "Fit the best model from k-folds to training data................\n",
      "Save the model to local disk ................................\n",
      "\n",
      "best model coefficients:\n",
      "[5.0748181993840875, -0.08371159548384197, -0.2921406949673853, 0.22924516844350648, 1.2422745681915426, 2.4690257406245877, 17.625488817954544, 0.03876027661288801, -0.006206458606045477, -0.013591320015266363, -0.020066690498345408, -0.018576707539745715, -0.01775603222092535, 0.014324684702974825, -0.021565835140218797, -0.2767177166084215, 0.9786839794986956, -1.2495921954302107, -1.1626835515482883, -2.6889292993746197, 22.12916460052418, 2.166431507779085, 0.5363633793812359, -3.370523108946922, 36.747577688696715, 7.599978820470638, 1.8079332779848931, 17.14320058793637, 1.5854909548906875, -0.070050368266246, 0.8144792472290163, -11.236904075686132, 2.5447824113804765, 5.8174805946984, 136.57498806653442, 6.164720043723298, 22.603030058332788, 13.882218635213631, 16.302422257349193, 44.57868282334769, -3.9623001658355603, -21.664795906156492, 36.341349912670424, -3.8156209560205565, -6.270007954561548, 9.06047641950851, -0.15062568580616395, 11.146047550575817, -25.819011140798402, 7.468557353317078, 5.656154549640714, 4.307953448709543, 68.22875224718874, -149.53487345406535, -8.326395363989278, 15.478925042589712, 1.5776952605608816, 1.8444808991528896, -2.659381039623015, 2.0490518071220545, -1.7975429617775296, -0.9487947793438161, -0.06552958350733358, 0.018579782969958655, -19.619216151007834, 0.01826259797762018, 2.794412985582001, 1.9808484173220111, 1.512578858122313, -10.733890780317608, 3.192525203458278, 2.1417403268331534, 1.2029051137476865, 0.1507908210402141, 14.04336328257105, 4.073706566588329, 0.03457009384180688, 0.33616319383274007, 0.5173650821105578]\n",
      "\n",
      "Predict data using testing data................\n",
      "Ridge CV Regresion Model report\n",
      "----------------------------------------------------------------\n",
      "\n",
      "Test RMSE: 346.788910\n",
      "The accuracy of the LassoCV regressor is 0.81 out of 1 on the test data\n",
      "Begining to run ElasticNet Model.................................\n",
      "\n",
      "Model used for Fitting and Predicting is ElasticNet(alpha=0.003, copy_X=True, fit_intercept=True, l1_ratio=0.5,\n",
      "      max_iter=1000, normalize=False, positive=False, precompute=False,\n",
      "      random_state=None, selection='cyclic', tol=0.0001, warm_start=False).....................\n",
      "\n",
      "Fit train data to the best model.....................\n",
      "\n",
      "Save the model to local disk ................................\n",
      "\n",
      "Predict Y for test data.....................\n",
      "\n",
      "ElasticNet Model report\n",
      "----------------------------------------------------------------\n",
      "\n",
      "Test RMSE: 346.780741\n",
      "The accuracy of the elasticNet regressor is 0.81 out of 1 on the test data\n",
      "\n",
      "Begining to run RandomForest regression Model.................................\n",
      "\n",
      "Model used for Fitting and Predicting is RandomForestRegressor(bootstrap=True, criterion='mse', max_depth=11,\n",
      "           max_features='auto', max_leaf_nodes=None,\n",
      "           min_impurity_decrease=0.0, min_impurity_split=None,\n",
      "           min_samples_leaf=1, min_samples_split=2,\n",
      "           min_weight_fraction_leaf=0.0, n_estimators=50, n_jobs=None,\n",
      "           oob_score=False, random_state=30, verbose=0, warm_start=False).....................\n",
      "\n",
      "Save the model to local disk ................................\n",
      "\n",
      "Predict y values for train and test data.....................\n",
      "\n",
      "RandomForest Regresion Model report\n",
      "----------------------------------------------------------------\n",
      "\n",
      "Train RMSE: 240.657462\n",
      "Test RMSE: 334.335768\n",
      "The accuracy of the RandomForest regressor is 0.91 out of 1 on the training data\n",
      "The accuracy of the RandomForest regressor is 0.82 out of 1 on the test data\n",
      "Begining to run XGBoost Model.................................\n",
      "\n",
      "Model used for Fitting and Predicting is XGBRegressor(alpha=10, base_score=0.5, booster='gbtree', colsample_bylevel=1,\n",
      "       colsample_bytree=0.9, gamma=0, importance_type='gain',\n",
      "       learning_rate=0.05, max_delta_step=0, max_depth=8,\n",
      "       min_child_weight=5, missing=None, n_estimators=300, n_jobs=1,\n",
      "       nthread=2, objective='reg:linear', random_state=0, reg_alpha=0,\n",
      "       reg_lambda=1, scale_pos_weight=1, seed=42, silent=1, subsample=0.7).....................\n",
      "\n",
      "Fitting Train data to the model \n",
      "----------------------------------------------------------------\n",
      "\n"
     ]
    },
    {
     "name": "stdout",
     "output_type": "stream",
     "text": [
      "Save the model to local disk ................................\n",
      "\n",
      "Predicting Y with test data\n",
      "----------------------------------------------------------------\n",
      "\n",
      "XGBoost Model report\n",
      "----------------------------------------------------------------\n",
      "\n",
      "Train RMSE: 125.050783\n",
      "Test RMSE: 255.348318\n",
      "The accuracy of the xgboost regressor is 0.98 out of 1 on the training data\n",
      "The accuracy of the xgboost regressor is 0.90 out of 1 on the test data\n"
     ]
    }
   ],
   "source": [
    "print(\"Begin to fit & predict with Models...\")\n",
    "print(\"--------------------------------------------------------------------------------------\")\n",
    "\n",
    "# results\n",
    "\n",
    "BTU_y_pred = pd.DataFrame()\n",
    "BTU_RMSE_test = {}\n",
    "BTU_r2_test = {}\n",
    "\n",
    "DOL_y_pred = pd.DataFrame()\n",
    "DOL_RMSE_test = {}\n",
    "DOL_r2_test = {}\n",
    "\n",
    "# create a instance for class ml_models\n",
    "# models_BTU = ml_models_recs(X['BTU'], y[\"BTU\"], seed, folds, test_size, early_stop = 20)\n",
    "# models_DOL = ml_models_recs(X['DOLLAR'], y[\"DOLLAR\"], seed, folds, test_size, early_stop = 20)\n",
    "\n",
    "# BTU_y_pred[\"ActualY\"] = m.get_y_test()\n",
    "# BTU_y_pred.reset_index(inplace = True)\n",
    "\n",
    "DOL_y_pred[\"ActualY\"] = m.get_y_test()\n",
    "DOL_y_pred.reset_index(inplace = True)\n",
    "\n",
    "# print(\"\\n BEGIN PREDICTION FOR TOTAL BTU\\n\")\n",
    "# Run loop for BTU\n",
    "# for m, name in modelsList.items():\n",
    "#     BTU_y_pred[m], BTU_RMSE_test[m],BTU_r2_test[m] = models_BTU.runModel(m)\n",
    "\n",
    "print(\"\\n BEGIN PREDICTION FOR TOTAL DOLLAR\\n\")\n",
    "# Run loop for Dollar\n",
    "for name, model_config in models_t:\n",
    "    DOL_y_pred[name], DOL_RMSE_test[name],DOL_r2_test[name] = m.runModel(model_config, name)"
   ]
  },
  {
   "cell_type": "code",
   "execution_count": 18,
   "metadata": {},
   "outputs": [],
   "source": [
    "# BTU_y_pred.drop(['index'], axis = 1, inplace = True)\n",
    "DOL_y_pred.drop(['index'], axis = 1, inplace = True)"
   ]
  },
  {
   "cell_type": "code",
   "execution_count": 35,
   "metadata": {},
   "outputs": [
    {
     "data": {
      "text/html": [
       "<div>\n",
       "<style scoped>\n",
       "    .dataframe tbody tr th:only-of-type {\n",
       "        vertical-align: middle;\n",
       "    }\n",
       "\n",
       "    .dataframe tbody tr th {\n",
       "        vertical-align: top;\n",
       "    }\n",
       "\n",
       "    .dataframe thead th {\n",
       "        text-align: right;\n",
       "    }\n",
       "</style>\n",
       "<table border=\"1\" class=\"dataframe\">\n",
       "  <thead>\n",
       "    <tr style=\"text-align: right;\">\n",
       "      <th></th>\n",
       "      <th>ActualY</th>\n",
       "      <th>LR</th>\n",
       "      <th>CLasso</th>\n",
       "      <th>CV_Lasso</th>\n",
       "      <th>RF</th>\n",
       "      <th>XG</th>\n",
       "    </tr>\n",
       "  </thead>\n",
       "  <tbody>\n",
       "    <tr>\n",
       "      <th>count</th>\n",
       "      <td>4.519000e+03</td>\n",
       "      <td>4519.000000</td>\n",
       "      <td>4519.000000</td>\n",
       "      <td>4519.000000</td>\n",
       "      <td>4519.000000</td>\n",
       "      <td>4519.000000</td>\n",
       "    </tr>\n",
       "    <tr>\n",
       "      <th>mean</th>\n",
       "      <td>8.760170e+04</td>\n",
       "      <td>87865.891570</td>\n",
       "      <td>87865.894668</td>\n",
       "      <td>87881.288640</td>\n",
       "      <td>87251.076842</td>\n",
       "      <td>87607.921875</td>\n",
       "    </tr>\n",
       "    <tr>\n",
       "      <th>std</th>\n",
       "      <td>5.556450e+04</td>\n",
       "      <td>48100.646360</td>\n",
       "      <td>48100.625219</td>\n",
       "      <td>47975.881013</td>\n",
       "      <td>47547.839897</td>\n",
       "      <td>49559.753906</td>\n",
       "    </tr>\n",
       "    <tr>\n",
       "      <th>min</th>\n",
       "      <td>0.000000e+00</td>\n",
       "      <td>-6004.660833</td>\n",
       "      <td>-6004.628146</td>\n",
       "      <td>-5391.804289</td>\n",
       "      <td>21153.109600</td>\n",
       "      <td>5048.538086</td>\n",
       "    </tr>\n",
       "    <tr>\n",
       "      <th>25%</th>\n",
       "      <td>4.921850e+04</td>\n",
       "      <td>53715.260390</td>\n",
       "      <td>53715.539043</td>\n",
       "      <td>53851.745611</td>\n",
       "      <td>53136.100503</td>\n",
       "      <td>51463.712891</td>\n",
       "    </tr>\n",
       "    <tr>\n",
       "      <th>50%</th>\n",
       "      <td>7.789200e+04</td>\n",
       "      <td>79525.994296</td>\n",
       "      <td>79525.837293</td>\n",
       "      <td>79426.700271</td>\n",
       "      <td>77267.165011</td>\n",
       "      <td>78471.101562</td>\n",
       "    </tr>\n",
       "    <tr>\n",
       "      <th>75%</th>\n",
       "      <td>1.151245e+05</td>\n",
       "      <td>113628.839551</td>\n",
       "      <td>113628.771290</td>\n",
       "      <td>113567.495210</td>\n",
       "      <td>114102.227351</td>\n",
       "      <td>115189.863281</td>\n",
       "    </tr>\n",
       "    <tr>\n",
       "      <th>max</th>\n",
       "      <td>1.096083e+06</td>\n",
       "      <td>680831.340674</td>\n",
       "      <td>680830.194246</td>\n",
       "      <td>676743.221086</td>\n",
       "      <td>516444.183960</td>\n",
       "      <td>628899.750000</td>\n",
       "    </tr>\n",
       "  </tbody>\n",
       "</table>\n",
       "</div>"
      ],
      "text/plain": [
       "            ActualY             LR         CLasso       CV_Lasso  \\\n",
       "count  4.519000e+03    4519.000000    4519.000000    4519.000000   \n",
       "mean   8.760170e+04   87865.891570   87865.894668   87881.288640   \n",
       "std    5.556450e+04   48100.646360   48100.625219   47975.881013   \n",
       "min    0.000000e+00   -6004.660833   -6004.628146   -5391.804289   \n",
       "25%    4.921850e+04   53715.260390   53715.539043   53851.745611   \n",
       "50%    7.789200e+04   79525.994296   79525.837293   79426.700271   \n",
       "75%    1.151245e+05  113628.839551  113628.771290  113567.495210   \n",
       "max    1.096083e+06  680831.340674  680830.194246  676743.221086   \n",
       "\n",
       "                  RF             XG  \n",
       "count    4519.000000    4519.000000  \n",
       "mean    87251.076842   87607.921875  \n",
       "std     47547.839897   49559.753906  \n",
       "min     21153.109600    5048.538086  \n",
       "25%     53136.100503   51463.712891  \n",
       "50%     77267.165011   78471.101562  \n",
       "75%    114102.227351  115189.863281  \n",
       "max    516444.183960  628899.750000  "
      ]
     },
     "execution_count": 35,
     "metadata": {},
     "output_type": "execute_result"
    }
   ],
   "source": [
    "# BTU_y_pred.describe()"
   ]
  },
  {
   "cell_type": "code",
   "execution_count": 19,
   "metadata": {},
   "outputs": [
    {
     "data": {
      "text/html": [
       "<div>\n",
       "<style scoped>\n",
       "    .dataframe tbody tr th:only-of-type {\n",
       "        vertical-align: middle;\n",
       "    }\n",
       "\n",
       "    .dataframe tbody tr th {\n",
       "        vertical-align: top;\n",
       "    }\n",
       "\n",
       "    .dataframe thead th {\n",
       "        text-align: right;\n",
       "    }\n",
       "</style>\n",
       "<table border=\"1\" class=\"dataframe\">\n",
       "  <thead>\n",
       "    <tr style=\"text-align: right;\">\n",
       "      <th></th>\n",
       "      <th>ActualY</th>\n",
       "      <th>LR</th>\n",
       "      <th>Lasso</th>\n",
       "      <th>LassoCV</th>\n",
       "      <th>RidgeCV</th>\n",
       "      <th>eNet</th>\n",
       "      <th>RF</th>\n",
       "      <th>xgb</th>\n",
       "    </tr>\n",
       "  </thead>\n",
       "  <tbody>\n",
       "    <tr>\n",
       "      <th>count</th>\n",
       "      <td>4286.000000</td>\n",
       "      <td>4286.000000</td>\n",
       "      <td>4286.000000</td>\n",
       "      <td>4286.000000</td>\n",
       "      <td>4286.000000</td>\n",
       "      <td>4286.000000</td>\n",
       "      <td>4286.000000</td>\n",
       "      <td>4286.000000</td>\n",
       "    </tr>\n",
       "    <tr>\n",
       "      <th>mean</th>\n",
       "      <td>1737.594813</td>\n",
       "      <td>1737.722054</td>\n",
       "      <td>1737.718235</td>\n",
       "      <td>1737.493726</td>\n",
       "      <td>1737.722054</td>\n",
       "      <td>1737.689081</td>\n",
       "      <td>1733.844637</td>\n",
       "      <td>1732.706665</td>\n",
       "    </tr>\n",
       "    <tr>\n",
       "      <th>std</th>\n",
       "      <td>796.561647</td>\n",
       "      <td>726.012537</td>\n",
       "      <td>726.000989</td>\n",
       "      <td>723.313049</td>\n",
       "      <td>726.012537</td>\n",
       "      <td>725.886387</td>\n",
       "      <td>698.657481</td>\n",
       "      <td>741.767090</td>\n",
       "    </tr>\n",
       "    <tr>\n",
       "      <th>min</th>\n",
       "      <td>0.000000</td>\n",
       "      <td>-310.047308</td>\n",
       "      <td>-310.118799</td>\n",
       "      <td>-310.055859</td>\n",
       "      <td>-310.047308</td>\n",
       "      <td>-309.538157</td>\n",
       "      <td>222.581233</td>\n",
       "      <td>101.871521</td>\n",
       "    </tr>\n",
       "    <tr>\n",
       "      <th>25%</th>\n",
       "      <td>1146.000000</td>\n",
       "      <td>1200.585102</td>\n",
       "      <td>1200.550621</td>\n",
       "      <td>1204.212560</td>\n",
       "      <td>1200.585102</td>\n",
       "      <td>1200.857990</td>\n",
       "      <td>1225.310573</td>\n",
       "      <td>1167.165802</td>\n",
       "    </tr>\n",
       "    <tr>\n",
       "      <th>50%</th>\n",
       "      <td>1642.500000</td>\n",
       "      <td>1678.624792</td>\n",
       "      <td>1678.723820</td>\n",
       "      <td>1678.863674</td>\n",
       "      <td>1678.624792</td>\n",
       "      <td>1678.338216</td>\n",
       "      <td>1698.512619</td>\n",
       "      <td>1677.363586</td>\n",
       "    </tr>\n",
       "    <tr>\n",
       "      <th>75%</th>\n",
       "      <td>2255.000000</td>\n",
       "      <td>2206.604588</td>\n",
       "      <td>2206.533606</td>\n",
       "      <td>2203.354515</td>\n",
       "      <td>2206.604588</td>\n",
       "      <td>2206.299576</td>\n",
       "      <td>2208.658414</td>\n",
       "      <td>2247.499390</td>\n",
       "    </tr>\n",
       "    <tr>\n",
       "      <th>max</th>\n",
       "      <td>3995.000000</td>\n",
       "      <td>4869.347964</td>\n",
       "      <td>4869.643136</td>\n",
       "      <td>4849.011460</td>\n",
       "      <td>4869.347964</td>\n",
       "      <td>4870.496988</td>\n",
       "      <td>3629.139812</td>\n",
       "      <td>3945.249756</td>\n",
       "    </tr>\n",
       "  </tbody>\n",
       "</table>\n",
       "</div>"
      ],
      "text/plain": [
       "           ActualY           LR        Lasso      LassoCV      RidgeCV  \\\n",
       "count  4286.000000  4286.000000  4286.000000  4286.000000  4286.000000   \n",
       "mean   1737.594813  1737.722054  1737.718235  1737.493726  1737.722054   \n",
       "std     796.561647   726.012537   726.000989   723.313049   726.012537   \n",
       "min       0.000000  -310.047308  -310.118799  -310.055859  -310.047308   \n",
       "25%    1146.000000  1200.585102  1200.550621  1204.212560  1200.585102   \n",
       "50%    1642.500000  1678.624792  1678.723820  1678.863674  1678.624792   \n",
       "75%    2255.000000  2206.604588  2206.533606  2203.354515  2206.604588   \n",
       "max    3995.000000  4869.347964  4869.643136  4849.011460  4869.347964   \n",
       "\n",
       "              eNet           RF          xgb  \n",
       "count  4286.000000  4286.000000  4286.000000  \n",
       "mean   1737.689081  1733.844637  1732.706665  \n",
       "std     725.886387   698.657481   741.767090  \n",
       "min    -309.538157   222.581233   101.871521  \n",
       "25%    1200.857990  1225.310573  1167.165802  \n",
       "50%    1678.338216  1698.512619  1677.363586  \n",
       "75%    2206.299576  2208.658414  2247.499390  \n",
       "max    4870.496988  3629.139812  3945.249756  "
      ]
     },
     "execution_count": 19,
     "metadata": {},
     "output_type": "execute_result"
    }
   ],
   "source": [
    "DOL_y_pred.describe()"
   ]
  },
  {
   "cell_type": "code",
   "execution_count": 32,
   "metadata": {},
   "outputs": [
    {
     "name": "stdout",
     "output_type": "stream",
     "text": [
      "{'LR': 346.4495036924344, 'Lasso': 346.45160241424747, 'LassoCV': 346.25049738341357, 'RidgeCV': 346.44950369243412, 'eNet': 346.45258401976554, 'RF': 335.61721313373181, 'xgb': 256.01908006745128}\n",
      "{'LR': 0.81079071535728964, 'Lasso': 0.8107884229663268, 'LassoCV': 0.81100802279444417, 'RidgeCV': 0.81079071535728997, 'eNet': 0.81078735077390551, 'RF': 0.82243759841790365, 'xgb': 0.89667456979816995}\n"
     ]
    }
   ],
   "source": [
    "print(DOL_RMSE_test)\n",
    "print(DOL_r2_test)\n",
    "\n",
    "# DOL_results = pd.DataFrame(DOL_RMSE_test.values(), columns = ['RMSE'])\n",
    "\n"
   ]
  },
  {
   "cell_type": "code",
   "execution_count": 49,
   "metadata": {},
   "outputs": [],
   "source": [
    "DOL_results = pd.DataFrame(DOL_RMSE_test, index = ['RMSE'])\n",
    "DOL_results = DOL_results.append(pd.DataFrame(DOL_r2_test, index = ['r2']))\n",
    "\n",
    "DOL_results = DOL_results.T\n",
    "\n",
    "DOL_results['r2'] = DOL_results.r2.apply(lambda r: round(r*100, 2))"
   ]
  },
  {
   "cell_type": "code",
   "execution_count": 50,
   "metadata": {},
   "outputs": [
    {
     "data": {
      "text/html": [
       "<div>\n",
       "<style scoped>\n",
       "    .dataframe tbody tr th:only-of-type {\n",
       "        vertical-align: middle;\n",
       "    }\n",
       "\n",
       "    .dataframe tbody tr th {\n",
       "        vertical-align: top;\n",
       "    }\n",
       "\n",
       "    .dataframe thead th {\n",
       "        text-align: right;\n",
       "    }\n",
       "</style>\n",
       "<table border=\"1\" class=\"dataframe\">\n",
       "  <thead>\n",
       "    <tr style=\"text-align: right;\">\n",
       "      <th></th>\n",
       "      <th>RMSE</th>\n",
       "      <th>r2</th>\n",
       "    </tr>\n",
       "  </thead>\n",
       "  <tbody>\n",
       "    <tr>\n",
       "      <th>LR</th>\n",
       "      <td>346.449504</td>\n",
       "      <td>81.08</td>\n",
       "    </tr>\n",
       "    <tr>\n",
       "      <th>Lasso</th>\n",
       "      <td>346.451602</td>\n",
       "      <td>81.08</td>\n",
       "    </tr>\n",
       "    <tr>\n",
       "      <th>LassoCV</th>\n",
       "      <td>346.250497</td>\n",
       "      <td>81.10</td>\n",
       "    </tr>\n",
       "    <tr>\n",
       "      <th>RidgeCV</th>\n",
       "      <td>346.449504</td>\n",
       "      <td>81.08</td>\n",
       "    </tr>\n",
       "    <tr>\n",
       "      <th>eNet</th>\n",
       "      <td>346.452584</td>\n",
       "      <td>81.08</td>\n",
       "    </tr>\n",
       "    <tr>\n",
       "      <th>RF</th>\n",
       "      <td>335.617213</td>\n",
       "      <td>82.24</td>\n",
       "    </tr>\n",
       "    <tr>\n",
       "      <th>xgb</th>\n",
       "      <td>256.019080</td>\n",
       "      <td>89.67</td>\n",
       "    </tr>\n",
       "  </tbody>\n",
       "</table>\n",
       "</div>"
      ],
      "text/plain": [
       "               RMSE     r2\n",
       "LR       346.449504  81.08\n",
       "Lasso    346.451602  81.08\n",
       "LassoCV  346.250497  81.10\n",
       "RidgeCV  346.449504  81.08\n",
       "eNet     346.452584  81.08\n",
       "RF       335.617213  82.24\n",
       "xgb      256.019080  89.67"
      ]
     },
     "execution_count": 50,
     "metadata": {},
     "output_type": "execute_result"
    }
   ],
   "source": [
    "DOL_results"
   ]
  },
  {
   "cell_type": "code",
   "execution_count": 37,
   "metadata": {},
   "outputs": [
    {
     "name": "stdout",
     "output_type": "stream",
     "text": [
      "Index(['level_0', 'level_1', 0], dtype='object')\n"
     ]
    },
    {
     "data": {
      "image/png": "[encoded data removed]",
      "text/plain": [
       "<Figure size 864x504 with 1 Axes>"
      ]
     },
     "metadata": {
      "needs_background": "light"
     },
     "output_type": "display_data"
    }
   ],
   "source": [
    "\n",
    "BTU_y_pred_new = pd.DataFrame(BTU_y_pred.stack()).reset_index()\n",
    "print(BTU_y_pred_new.columns)\n",
    "\n",
    "BTU_y_pred_new.drop(['level_0'], axis = 1, inplace = True)\n",
    "BTU_y_pred_new.columns = ['Regressor','Predicted Y']\n",
    "\n",
    "BTU_y_pred_new = BTU_y_pred_new[BTU_y_pred_new['Predicted Y'] < (np.percentile(BTU_y_pred_new['Predicted Y'], 75) + np.percentile(BTU_y_pred_new['Predicted Y'],35 ))]\n",
    "BTU_y_pred_new.head(6)\n",
    "\n",
    "box_ax = sns.boxplot(x=\"Regressor\", y=\"Predicted Y\", data=BTU_y_pred_new, palette='RdYlBu_r')\n",
    "\n",
    "box_ax.set(xlabel='Regressor', ylabel=f'Predicted BTU')\n",
    "\n",
    "fig = plt.gcf()\n",
    "fig.set_size_inches( 12, 7)\n",
    "\n",
    "# plt.savefig(os.path.join(image_dir,\"AvgTemp_boxPlot.png\"))\n",
    "\n",
    "plt.show()"
   ]
  },
  {
   "cell_type": "code",
   "execution_count": 21,
   "metadata": {},
   "outputs": [
    {
     "name": "stdout",
     "output_type": "stream",
     "text": [
      "Index(['level_0', 'level_1', 0], dtype='object')\n"
     ]
    },
    {
     "data": {
      "image/png": "[encoded data removed]",
      "text/plain": [
       "<Figure size 864x504 with 1 Axes>"
      ]
     },
     "metadata": {
      "needs_background": "light"
     },
     "output_type": "display_data"
    }
   ],
   "source": [
    "\n",
    "DOL_y_pred_new = pd.DataFrame(DOL_y_pred.stack()).reset_index()\n",
    "print(DOL_y_pred_new.columns)\n",
    "\n",
    "DOL_y_pred_new.drop(['level_0'], axis = 1, inplace = True)\n",
    "DOL_y_pred_new.columns = ['Regressor','Predicted Y']\n",
    "\n",
    "DOL_y_pred_new = DOL_y_pred_new[DOL_y_pred_new['Predicted Y'] < (np.percentile(DOL_y_pred_new['Predicted Y'], 75) + np.percentile(DOL_y_pred_new['Predicted Y'],35 ))]\n",
    "# BTU_y_pred_new.head(6)\n",
    "\n",
    "box_ax = sns.violinplot(x=\"Regressor\", y=\"Predicted Y\", data=DOL_y_pred_new, palette='RdYlBu_r')\n",
    "\n",
    "box_ax.set(xlabel='Regressor', ylabel=f'Predicted DOLLAR')\n",
    "\n",
    "fig = plt.gcf()\n",
    "fig.set_size_inches( 12, 7)\n",
    "\n",
    "# plt.savefig(os.path.join(image_dir,\"AvgTemp_boxPlot.png\"))\n",
    "\n",
    "plt.show()"
   ]
  },
  {
   "cell_type": "code",
   "execution_count": 3,
   "metadata": {},
   "outputs": [],
   "source": [
    "from generateXdataExt import generateX_samp"
   ]
  },
  {
   "cell_type": "code",
   "execution_count": 4,
   "metadata": {},
   "outputs": [
    {
     "name": "stdout",
     "output_type": "stream",
     "text": [
      " X Features shape : (5, 87)\n",
      "y label shape : (5,)\n",
      "shape of X is (5, 79)\n"
     ]
    }
   ],
   "source": [
    "X_samp, vocab, y_samp = generateX(ohe = True, target = \"DOLLAR\", numSamples = 5)"
   ]
  },
  {
   "cell_type": "code",
   "execution_count": 5,
   "metadata": {},
   "outputs": [
    {
     "data": {
      "text/plain": [
       "6225     1476.0\n",
       "11076    1621.0\n",
       "695       914.0\n",
       "326      1256.0\n",
       "6063     1500.0\n",
       "Name: TOTALDOLLAR, dtype: float64"
      ]
     },
     "execution_count": 5,
     "metadata": {},
     "output_type": "execute_result"
    }
   ],
   "source": [
    "y_samp"
   ]
  },
  {
   "cell_type": "code",
   "execution_count": 8,
   "metadata": {},
   "outputs": [
    {
     "name": "stdout",
     "output_type": "stream",
     "text": [
      "Best Linear Regression model LinearRegression(copy_X=True, fit_intercept=True, n_jobs=None,\n",
      "         normalize=False)\n",
      "\n",
      " Begining to tune Lasso Regression Model.................................\n",
      "\n",
      "Best Lasso model with alpha = 0.01 is Lasso(alpha=0.01, copy_X=True, fit_intercept=True, max_iter=1000,\n",
      "   normalize=False, positive=False, precompute=False, random_state=None,\n",
      "   selection='cyclic', tol=0.0001, warm_start=False)\n",
      "Best elasticNet model obtained is ElasticNet(alpha=0.003, copy_X=True, fit_intercept=True, l1_ratio=0.5,\n",
      "      max_iter=1000, normalize=False, positive=False, precompute=False,\n",
      "      random_state=None, selection='cyclic', tol=0.0001, warm_start=False)\n",
      "Best RF model obtained is with n_estimators at 50 and max_depth at 11 is RandomForestRegressor(bootstrap=True, criterion='mse', max_depth=11,\n",
      "           max_features='auto', max_leaf_nodes=None,\n",
      "           min_impurity_decrease=0.0, min_impurity_split=None,\n",
      "           min_samples_leaf=1, min_samples_split=2,\n",
      "           min_weight_fraction_leaf=0.0, n_estimators=50, n_jobs=None,\n",
      "           oob_score=False, random_state=30, verbose=0, warm_start=False)\n",
      "Best xgBoost model obtained is with n_estimators at 300 is XGBRegressor(alpha=10, base_score=0.5, booster='gbtree', colsample_bylevel=1,\n",
      "       colsample_bytree=0.9, gamma=0, importance_type='gain',\n",
      "       learning_rate=0.05, max_delta_step=0, max_depth=8,\n",
      "       min_child_weight=5, missing=None, n_estimators=300, n_jobs=1,\n",
      "       nthread=2, objective='reg:linear', random_state=0, reg_alpha=0,\n",
      "       reg_lambda=1, scale_pos_weight=1, seed=42, silent=1, subsample=0.7)\n"
     ]
    }
   ],
   "source": [
    "m_samp = ml_models_tuned(X_samp, y_samp, seed, folds, test_size, early_stop = 20)\n",
    "# prepare models\n",
    "models_samp = []\n",
    "models_samp.append(('LR', m_samp.ret_LR_tunedModel()))\n",
    "models_samp.append(('Lasso', m_samp.ret_Classo_tunedModel()))\n",
    "#models_samp.append(('LassoCV',m_samp.ret_LassoCV_tunedModel()))\n",
    "#models_samp.append(('RidgeCV', m_samp.ret_RidgeCV_tunedModel()))\n",
    "models_samp.append(('eNet', m_samp.ret_eNet_tunedModel()))\n",
    "models_samp.append(('RF', m_samp.ret_RF_tunedModel()))\n",
    "models_samp.append(('xgb', m_samp.ret_xgb_tunedModel()))\n",
    "\n"
   ]
  },
  {
   "cell_type": "code",
   "execution_count": 11,
   "metadata": {},
   "outputs": [
    {
     "name": "stdout",
     "output_type": "stream",
     "text": [
      "Begin to fit & predict with Models...\n",
      "--------------------------------------------------------------------------------------\n",
      "\n",
      " BEGIN PREDICTION FOR TOTAL DOLLAR\n",
      "\n",
      "Begining to run Linear regression Model.................................\n",
      "\n",
      "Model used for Fitting and Predicting is LinearRegression(copy_X=True, fit_intercept=True, n_jobs=None,\n",
      "         normalize=False).....................\n",
      "\n",
      "Fit train data to the model.....................\n",
      "\n",
      "Save the model to local disk ................................\n",
      "\n",
      "Predict Y values for test data.....................\n",
      "\n",
      "Linear Regression Model report\n",
      "----------------------------------------------------------------\n",
      "\n",
      "Test RMSE: 1342.987844\n",
      "The accuracy of the linear regressor is 0.00 out of 1 on the testing data\n",
      "\n",
      "Begining to run Classic Lasso regression Model (alpha = 0.01).................................\n",
      "\n",
      "Model used for Fitting and Predicting is Lasso(alpha=0.01, copy_X=True, fit_intercept=True, max_iter=1000,\n",
      "   normalize=False, positive=False, precompute=False, random_state=None,\n",
      "   selection='cyclic', tol=0.0001, warm_start=False).....................\n",
      "\n",
      "Save the model to local disk ................................\n",
      "\n",
      "Predict y values for train and test data.....................\n",
      "\n",
      "Classic Lasso Regresion Model report\n",
      "----------------------------------------------------------------\n",
      "\n",
      "Train RMSE: 0.000440\n",
      "Test RMSE: 289.263140\n",
      "The accuracy of the Classic Lasso regressor is 1.00 out of 1 on the training data\n",
      "The accuracy of the Classic Lasso regressor is 0.00 out of 1 on the test data\n",
      "Begining to run ElasticNet Model.................................\n",
      "\n",
      "Model used for Fitting and Predicting is ElasticNet(alpha=0.003, copy_X=True, fit_intercept=True, l1_ratio=0.5,\n",
      "      max_iter=1000, normalize=False, positive=False, precompute=False,\n",
      "      random_state=None, selection='cyclic', tol=0.0001, warm_start=False).....................\n",
      "\n",
      "Fit train data to the best model.....................\n",
      "\n",
      "Save the model to local disk ................................\n",
      "\n",
      "Predict Y for test data.....................\n",
      "\n",
      "ElasticNet Model report\n",
      "----------------------------------------------------------------\n",
      "\n",
      "Test RMSE: 483.697267\n",
      "The accuracy of the elasticNet regressor is 0.00 out of 1 on the test data\n",
      "\n",
      "Begining to run RandomForest regression Model.................................\n",
      "\n",
      "Model used for Fitting and Predicting is RandomForestRegressor(bootstrap=True, criterion='mse', max_depth=11,\n",
      "           max_features='auto', max_leaf_nodes=None,\n",
      "           min_impurity_decrease=0.0, min_impurity_split=None,\n",
      "           min_samples_leaf=1, min_samples_split=2,\n",
      "           min_weight_fraction_leaf=0.0, n_estimators=50, n_jobs=None,\n",
      "           oob_score=False, random_state=30, verbose=0, warm_start=False).....................\n",
      "\n",
      "Save the model to local disk ................................\n",
      "\n",
      "Predict y values for train and test data.....................\n",
      "\n",
      "RandomForest Regresion Model report\n",
      "----------------------------------------------------------------\n",
      "\n",
      "Train RMSE: 122.047993\n",
      "Test RMSE: 99.220000\n",
      "The accuracy of the RandomForest regressor is 0.80 out of 1 on the training data\n",
      "The accuracy of the RandomForest regressor is 0.00 out of 1 on the test data\n",
      "Begining to run XGBoost Model.................................\n",
      "\n",
      "Model used for Fitting and Predicting is XGBRegressor(alpha=10, base_score=0.5, booster='gbtree', colsample_bylevel=1,\n",
      "       colsample_bytree=0.9, gamma=0, importance_type='gain',\n",
      "       learning_rate=0.05, max_delta_step=0, max_depth=8,\n",
      "       min_child_weight=5, missing=None, n_estimators=300, n_jobs=1,\n",
      "       nthread=2, objective='reg:linear', random_state=0, reg_alpha=0,\n",
      "       reg_lambda=1, scale_pos_weight=1, seed=42, silent=1, subsample=0.7).....................\n",
      "\n",
      "Fitting Train data to the model \n",
      "----------------------------------------------------------------\n",
      "\n",
      "Save the model to local disk ................................\n",
      "\n",
      "Predicting Y with test data\n",
      "----------------------------------------------------------------\n",
      "\n",
      "XGBoost Model report\n",
      "----------------------------------------------------------------\n",
      "\n",
      "Train RMSE: 273.558892\n",
      "Test RMSE: 132.987427\n",
      "The accuracy of the xgboost regressor is -0.00 out of 1 on the training data\n",
      "The accuracy of the xgboost regressor is 0.00 out of 1 on the test data\n"
     ]
    }
   ],
   "source": [
    "print(\"Begin to fit & predict with Models...\")\n",
    "print(\"--------------------------------------------------------------------------------------\")\n",
    "\n",
    "# results\n",
    "\n",
    "samp_y_pred = pd.DataFrame()\n",
    "samp_RMSE_test = {}\n",
    "samp_r2_test = {}\n",
    "\n",
    "# create a instance for class ml_models\n",
    "# models_BTU = ml_models_recs(X['BTU'], y[\"BTU\"], seed, folds, test_size, early_stop = 20)\n",
    "# models_DOL = ml_models_recs(X['DOLLAR'], y[\"DOLLAR\"], seed, folds, test_size, early_stop = 20)\n",
    "\n",
    "# BTU_y_pred[\"ActualY\"] = m.get_y_test()\n",
    "# BTU_y_pred.reset_index(inplace = True)\n",
    "\n",
    "samp_y_pred[\"ActualY\"] = m_samp.get_y_test()\n",
    "samp_y_pred.reset_index(inplace = True)\n",
    "\n",
    "# print(\"\\n BEGIN PREDICTION FOR TOTAL BTU\\n\")\n",
    "# Run loop for BTU\n",
    "# for m, name in modelsList.items():\n",
    "#     BTU_y_pred[m], BTU_RMSE_test[m],BTU_r2_test[m] = models_BTU.runModel(m)\n",
    "\n",
    "print(\"\\n BEGIN PREDICTION FOR TOTAL DOLLAR\\n\")\n",
    "# Run loop for Dollar\n",
    "for name, model_config in models_samp:\n",
    "    samp_y_pred[name], samp_RMSE_test[name],samp_r2_test[name] = m_samp.runModel(model_config, name) \n"
   ]
  },
  {
   "cell_type": "code",
   "execution_count": null,
   "metadata": {},
   "outputs": [],
   "source": []
  }
 ],
 "metadata": {
  "kernelspec": {
   "display_name": "Python 3",
   "language": "python",
   "name": "python3"
  },
  "language_info": {
   "codemirror_mode": {
    "name": "ipython",
    "version": 3
   },
   "file_extension": ".py",
   "mimetype": "text/x-python",
   "name": "python",
   "nbconvert_exporter": "python",
   "pygments_lexer": "ipython3",
   "version": "3.6.8"
  }
 },
 "nbformat": 4,
 "nbformat_minor": 2
}
