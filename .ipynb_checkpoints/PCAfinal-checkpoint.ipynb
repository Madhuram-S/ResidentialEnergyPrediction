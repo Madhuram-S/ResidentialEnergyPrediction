{
 "cells": [
  {
   "cell_type": "code",
   "execution_count": 34,
   "metadata": {},
   "outputs": [],
   "source": [
    "import pandas as pd\n",
    "import numpy as np\n",
    "from sklearn.decomposition import PCA\n",
    "from sklearn import preprocessing\n",
    "import matplotlib.pyplot as plt\n",
    "from sklearn.preprocessing import scale\n",
    "from sklearn.preprocessing import MinMaxScaler\n",
    "%matplotlib inline"
   ]
  },
  {
   "cell_type": "code",
   "execution_count": 35,
   "metadata": {},
   "outputs": [
    {
     "name": "stderr",
     "output_type": "stream",
     "text": [
      "C:\\Users\\justi\\Anaconda3\\lib\\site-packages\\IPython\\core\\interactiveshell.py:2785: DtypeWarning: Columns (145,146,147,148) have mixed types. Specify dtype option on import or set low_memory=False.\n",
      "  interactivity=interactivity, compiler=compiler, result=result)\n"
     ]
    },
    {
     "data": {
      "text/plain": [
       "(21430, 186)"
      ]
     },
     "execution_count": 35,
     "metadata": {},
     "output_type": "execute_result"
    }
   ],
   "source": [
    "# Load in csv\n",
    "raw_df = pd.read_csv(\"../Project3/dataforfinalproject/RECS_COMBINED_DATA.csv\")\n",
    "raw_df = raw_df.drop(columns=['RECSYEAR', \n",
    "                              'DOEID',\n",
    "                              'REGIONNAME',\n",
    "                              'DIVISIONNAME',\n",
    "                              'COUNTRY',\n",
    "                              'PERIODFO', \n",
    "                              'PERIODLP', \n",
    "                              'PERIODEL', \n",
    "                              'PERIODNG',\n",
    "                              'NWEIGHT'])\n",
    "raw_df.head()\n",
    "raw_df.shape"
   ]
  },
  {
   "cell_type": "code",
   "execution_count": 36,
   "metadata": {},
   "outputs": [],
   "source": [
    "scaled_data = preprocessing.scale(raw_df.T)"
   ]
  },
  {
   "cell_type": "code",
   "execution_count": 37,
   "metadata": {},
   "outputs": [],
   "source": [
    "pca = PCA()\n",
    "pca.fit(scaled_data)\n",
    "pca_data = pca.transform(scaled_data)"
   ]
  },
  {
   "cell_type": "code",
   "execution_count": 38,
   "metadata": {},
   "outputs": [],
   "source": [
    "per_var = np.round(pca.explained_variance_ratio_*100, decimals=1)\n",
    "labels = ['PC' + str(x) for x in range(1, len(per_var)+1)]"
   ]
  },
  {
   "cell_type": "code",
   "execution_count": 39,
   "metadata": {},
   "outputs": [
    {
     "data": {
      "image/png": "[encoded data removed]",
      "text/plain": [
       "<Figure size 432x288 with 1 Axes>"
      ]
     },
     "metadata": {
      "needs_background": "light"
     },
     "output_type": "display_data"
    }
   ],
   "source": [
    "plt.bar(x=range(1,len(per_var)+1), height=per_var, tick_label=labels)\n",
    "plt.ylabel('Percentage of Explained Variance')\n",
    "plt.xlabel('Principal Component')\n",
    "plt.title('scree plot')\n",
    "#plt.savefig('C:/Users/justi/Desktop/homework/Project3/dataforfinalproject/Pictures/PCAscree.png')\n",
    "plt.show()"
   ]
  },
  {
   "cell_type": "code",
   "execution_count": 40,
   "metadata": {},
   "outputs": [],
   "source": [
    "pca_df = pd.DataFrame(pca_data, columns=labels)"
   ]
  },
  {
   "cell_type": "code",
   "execution_count": 41,
   "metadata": {},
   "outputs": [
    {
     "data": {
      "image/png": "[encoded data removed]",
      "text/plain": [
       "<Figure size 432x288 with 1 Axes>"
      ]
     },
     "metadata": {
      "needs_background": "light"
     },
     "output_type": "display_data"
    }
   ],
   "source": [
    "plt.scatter(pca_df.PC1, pca_df.PC2)\n",
    "plt.title('TOTALDOLLAR AND REGIONC')\n",
    "plt.xlabel('PC1 - {0}%'.format(per_var[0]))\n",
    "plt.ylabel('PC134 - {0}%'.format(per_var[133]))\n",
    "\n",
    "for sample in pca_df.index:\n",
    "    plt.annotate(sample, (pca_df.PC1.loc[sample], pca_df.PC134.loc[sample]))\n",
    "\n",
    "plt.grid(which='major', linestyle='-', linewidth='0.5', color='red')\n",
    "#plt.savefig('C:/Users/justi/Desktop/homework/Project3/dataforfinalproject/Pictures/PCAscatter2.png')\n",
    "plt.show()\n"
   ]
  },
  {
   "cell_type": "markdown",
   "metadata": {},
   "source": [
    "# Predictive Modeling with PCA Components"
   ]
  },
  {
   "cell_type": "code",
   "execution_count": 42,
   "metadata": {},
   "outputs": [],
   "source": [
    "#convert it to numpy arrays\n",
    "X=raw_df.values"
   ]
  },
  {
   "cell_type": "code",
   "execution_count": 43,
   "metadata": {},
   "outputs": [
    {
     "data": {
      "text/plain": [
       "PCA(copy=True, iterated_power='auto', n_components=186, random_state=None,\n",
       "  svd_solver='auto', tol=0.0, whiten=False)"
      ]
     },
     "execution_count": 43,
     "metadata": {},
     "output_type": "execute_result"
    }
   ],
   "source": [
    "#scaling the values\n",
    "X = scale(X)\n",
    "#grab number of components from shape output\n",
    "pca = PCA(n_components=186)\n",
    "pca.fit(X)"
   ]
  },
  {
   "cell_type": "code",
   "execution_count": 44,
   "metadata": {},
   "outputs": [],
   "source": [
    "var= pca.explained_variance_ratio_"
   ]
  },
  {
   "cell_type": "code",
   "execution_count": 45,
   "metadata": {},
   "outputs": [],
   "source": [
    "#this function returns the vectors used for the Elbow Curve\n",
    "var1=np.cumsum(np.round(pca.explained_variance_ratio_, decimals=4)*100)"
   ]
  },
  {
   "cell_type": "code",
   "execution_count": 46,
   "metadata": {},
   "outputs": [
    {
     "name": "stdout",
     "output_type": "stream",
     "text": [
      "[ 12.89  21.31  28.79  35.42  40.3   44.25  46.68  48.94  50.77  52.56\n",
      "  54.28  55.79  57.14  58.38  59.59  60.78  61.93  63.02  64.09  65.12\n",
      "  66.13  67.07  67.91  68.74  69.54  70.33  71.08  71.81  72.52  73.2\n",
      "  73.84  74.46  75.07  75.65  76.22  76.78  77.33  77.87  78.4   78.92\n",
      "  79.44  79.95  80.45  80.95  81.44  81.92  82.39  82.85  83.3   83.74\n",
      "  84.18  84.61  85.03  85.45  85.85  86.24  86.63  87.01  87.38  87.74\n",
      "  88.09  88.43  88.76  89.08  89.4   89.71  90.02  90.32  90.61  90.9\n",
      "  91.18  91.46  91.73  92.    92.26  92.51  92.76  92.99  93.21  93.43\n",
      "  93.65  93.87  94.08  94.29  94.49  94.69  94.88  95.06  95.24  95.42\n",
      "  95.59  95.76  95.93  96.09  96.25  96.4   96.55  96.69  96.83  96.96\n",
      "  97.09  97.21  97.33  97.44  97.55  97.66  97.76  97.86  97.96  98.05\n",
      "  98.14  98.22  98.3   98.38  98.45  98.52  98.59  98.66  98.72  98.78\n",
      "  98.84  98.9   98.95  99.    99.05  99.1   99.15  99.19  99.23  99.27\n",
      "  99.31  99.35  99.39  99.43  99.46  99.49  99.52  99.55  99.58  99.61\n",
      "  99.64  99.66  99.68  99.7   99.72  99.74  99.76  99.78  99.8   99.82\n",
      "  99.84  99.86  99.87  99.88  99.89  99.9   99.91  99.92  99.93  99.94\n",
      "  99.95  99.96  99.97  99.98  99.99 100.   100.01 100.02 100.02 100.02\n",
      " 100.02 100.02 100.02 100.02 100.02 100.02 100.02 100.02 100.02 100.02\n",
      " 100.02 100.02 100.02 100.02 100.02 100.02]\n"
     ]
    }
   ],
   "source": [
    "print(var1)"
   ]
  },
  {
   "cell_type": "code",
   "execution_count": 47,
   "metadata": {},
   "outputs": [
    {
     "data": {
      "text/plain": [
       "[<matplotlib.lines.Line2D at 0x261357a5c88>]"
      ]
     },
     "execution_count": 47,
     "metadata": {},
     "output_type": "execute_result"
    },
    {
     "data": {
      "image/png": "[encoded data removed]",
      "text/plain": [
       "<Figure size 432x288 with 1 Axes>"
      ]
     },
     "metadata": {
      "needs_background": "light"
     },
     "output_type": "display_data"
    }
   ],
   "source": [
    "plt.grid(which='major', linestyle='-', linewidth='0.5', color='red')\n",
    "plt.title('Elbow Curve')\n",
    "plt.xlabel('Number of Features')\n",
    "plt.ylabel('Accuracy')\n",
    "plt.plot(var1)\n",
    "#plt.savefig('C:/Users/justi/Desktop/homework/Project3/dataforfinalproject/Pictures/PCAelbow.png')"
   ]
  },
  {
   "cell_type": "markdown",
   "metadata": {},
   "source": [
    "# Create final features list with raw_df column names\n"
   ]
  },
  {
   "cell_type": "code",
   "execution_count": 18,
   "metadata": {},
   "outputs": [],
   "source": [
    "pca = PCA(n_components=150)\n",
    "pca.fit(X)\n",
    "X1=pca.fit_transform(X)"
   ]
  },
  {
   "cell_type": "code",
   "execution_count": 19,
   "metadata": {},
   "outputs": [
    {
     "name": "stdout",
     "output_type": "stream",
     "text": [
      "[[ 6.89120994e+00 -2.19237141e+00  4.72660671e+00 ... -3.55362161e-02\n",
      "  -3.68359222e-02 -1.23139593e-02]\n",
      " [ 6.39014919e+00 -2.49650738e+00  3.23641127e+00 ... -2.82904620e-02\n",
      "  -5.09893117e-04 -2.51956962e-01]\n",
      " [ 3.57660512e+01  9.48305893e+01 -4.40576849e+00 ... -4.70606788e-02\n",
      "   1.16147641e-02 -4.42783556e-02]\n",
      " ...\n",
      " [-2.85951896e+00 -2.24733298e-02 -7.21409314e+00 ...  3.56132883e-02\n",
      "   4.22922276e-03  4.16440854e-02]\n",
      " [-1.90264440e+00  1.26916868e+00 -1.71706075e-01 ... -1.38311636e-03\n",
      "  -5.14207215e-02  8.71916784e-03]\n",
      " [-3.44669650e+00  5.85146804e-01 -6.09817674e+00 ...  6.42968168e-02\n",
      "  -2.31537353e-02  9.21404241e-02]]\n"
     ]
    }
   ],
   "source": [
    "print(X1)"
   ]
  },
  {
   "cell_type": "code",
   "execution_count": 20,
   "metadata": {},
   "outputs": [
    {
     "data": {
      "text/html": [
       "<div>\n",
       "<style scoped>\n",
       "    .dataframe tbody tr th:only-of-type {\n",
       "        vertical-align: middle;\n",
       "    }\n",
       "\n",
       "    .dataframe tbody tr th {\n",
       "        vertical-align: top;\n",
       "    }\n",
       "\n",
       "    .dataframe thead th {\n",
       "        text-align: right;\n",
       "    }\n",
       "</style>\n",
       "<table border=\"1\" class=\"dataframe\">\n",
       "  <thead>\n",
       "    <tr style=\"text-align: right;\">\n",
       "      <th></th>\n",
       "      <th>0</th>\n",
       "      <th>1</th>\n",
       "      <th>2</th>\n",
       "      <th>3</th>\n",
       "      <th>4</th>\n",
       "      <th>5</th>\n",
       "      <th>6</th>\n",
       "      <th>7</th>\n",
       "      <th>8</th>\n",
       "      <th>9</th>\n",
       "      <th>...</th>\n",
       "      <th>140</th>\n",
       "      <th>141</th>\n",
       "      <th>142</th>\n",
       "      <th>143</th>\n",
       "      <th>144</th>\n",
       "      <th>145</th>\n",
       "      <th>146</th>\n",
       "      <th>147</th>\n",
       "      <th>148</th>\n",
       "      <th>149</th>\n",
       "    </tr>\n",
       "  </thead>\n",
       "  <tbody>\n",
       "    <tr>\n",
       "      <th>0</th>\n",
       "      <td>6.891210</td>\n",
       "      <td>-2.192371</td>\n",
       "      <td>4.726607</td>\n",
       "      <td>-2.162731</td>\n",
       "      <td>-0.617231</td>\n",
       "      <td>-1.452677</td>\n",
       "      <td>2.369313</td>\n",
       "      <td>-4.623661</td>\n",
       "      <td>-0.352252</td>\n",
       "      <td>0.952654</td>\n",
       "      <td>...</td>\n",
       "      <td>0.041334</td>\n",
       "      <td>-0.007639</td>\n",
       "      <td>0.022552</td>\n",
       "      <td>-0.022182</td>\n",
       "      <td>-0.031675</td>\n",
       "      <td>0.018209</td>\n",
       "      <td>0.078436</td>\n",
       "      <td>-0.035536</td>\n",
       "      <td>-0.036836</td>\n",
       "      <td>-0.012314</td>\n",
       "    </tr>\n",
       "    <tr>\n",
       "      <th>1</th>\n",
       "      <td>6.390149</td>\n",
       "      <td>-2.496507</td>\n",
       "      <td>3.236411</td>\n",
       "      <td>-0.030635</td>\n",
       "      <td>-1.639072</td>\n",
       "      <td>-0.731552</td>\n",
       "      <td>3.195133</td>\n",
       "      <td>-2.194533</td>\n",
       "      <td>-1.642337</td>\n",
       "      <td>-2.250529</td>\n",
       "      <td>...</td>\n",
       "      <td>0.048310</td>\n",
       "      <td>0.060396</td>\n",
       "      <td>0.002043</td>\n",
       "      <td>-0.071937</td>\n",
       "      <td>-0.032306</td>\n",
       "      <td>0.204050</td>\n",
       "      <td>0.234529</td>\n",
       "      <td>-0.028290</td>\n",
       "      <td>-0.000510</td>\n",
       "      <td>-0.251957</td>\n",
       "    </tr>\n",
       "    <tr>\n",
       "      <th>2</th>\n",
       "      <td>35.766051</td>\n",
       "      <td>94.830589</td>\n",
       "      <td>-4.405768</td>\n",
       "      <td>23.048880</td>\n",
       "      <td>1.958416</td>\n",
       "      <td>-1.525357</td>\n",
       "      <td>4.925539</td>\n",
       "      <td>-0.225927</td>\n",
       "      <td>-1.008678</td>\n",
       "      <td>-0.945457</td>\n",
       "      <td>...</td>\n",
       "      <td>0.124174</td>\n",
       "      <td>-0.026052</td>\n",
       "      <td>0.024140</td>\n",
       "      <td>-0.003969</td>\n",
       "      <td>0.007461</td>\n",
       "      <td>-0.217863</td>\n",
       "      <td>0.272398</td>\n",
       "      <td>-0.047061</td>\n",
       "      <td>0.011615</td>\n",
       "      <td>-0.044278</td>\n",
       "    </tr>\n",
       "    <tr>\n",
       "      <th>3</th>\n",
       "      <td>34.449212</td>\n",
       "      <td>95.356682</td>\n",
       "      <td>-3.023752</td>\n",
       "      <td>22.114696</td>\n",
       "      <td>1.855119</td>\n",
       "      <td>-1.858289</td>\n",
       "      <td>4.986314</td>\n",
       "      <td>-0.283884</td>\n",
       "      <td>-0.258744</td>\n",
       "      <td>-1.822265</td>\n",
       "      <td>...</td>\n",
       "      <td>0.108138</td>\n",
       "      <td>-0.016836</td>\n",
       "      <td>-0.014478</td>\n",
       "      <td>0.036398</td>\n",
       "      <td>-0.030615</td>\n",
       "      <td>0.077861</td>\n",
       "      <td>0.111965</td>\n",
       "      <td>-0.011692</td>\n",
       "      <td>0.062058</td>\n",
       "      <td>-0.039233</td>\n",
       "    </tr>\n",
       "    <tr>\n",
       "      <th>4</th>\n",
       "      <td>36.194599</td>\n",
       "      <td>94.680864</td>\n",
       "      <td>-5.015680</td>\n",
       "      <td>23.339673</td>\n",
       "      <td>1.784379</td>\n",
       "      <td>-1.333215</td>\n",
       "      <td>4.150996</td>\n",
       "      <td>0.319822</td>\n",
       "      <td>-1.563116</td>\n",
       "      <td>-1.325836</td>\n",
       "      <td>...</td>\n",
       "      <td>0.085600</td>\n",
       "      <td>0.016441</td>\n",
       "      <td>0.040774</td>\n",
       "      <td>0.017408</td>\n",
       "      <td>-0.063149</td>\n",
       "      <td>0.232181</td>\n",
       "      <td>0.150995</td>\n",
       "      <td>-0.004258</td>\n",
       "      <td>0.060453</td>\n",
       "      <td>-0.061104</td>\n",
       "    </tr>\n",
       "  </tbody>\n",
       "</table>\n",
       "<p>5 rows × 150 columns</p>\n",
       "</div>"
      ],
      "text/plain": [
       "         0          1         2          3         4         5         6    \\\n",
       "0   6.891210  -2.192371  4.726607  -2.162731 -0.617231 -1.452677  2.369313   \n",
       "1   6.390149  -2.496507  3.236411  -0.030635 -1.639072 -0.731552  3.195133   \n",
       "2  35.766051  94.830589 -4.405768  23.048880  1.958416 -1.525357  4.925539   \n",
       "3  34.449212  95.356682 -3.023752  22.114696  1.855119 -1.858289  4.986314   \n",
       "4  36.194599  94.680864 -5.015680  23.339673  1.784379 -1.333215  4.150996   \n",
       "\n",
       "        7         8         9      ...          140       141       142  \\\n",
       "0 -4.623661 -0.352252  0.952654    ...     0.041334 -0.007639  0.022552   \n",
       "1 -2.194533 -1.642337 -2.250529    ...     0.048310  0.060396  0.002043   \n",
       "2 -0.225927 -1.008678 -0.945457    ...     0.124174 -0.026052  0.024140   \n",
       "3 -0.283884 -0.258744 -1.822265    ...     0.108138 -0.016836 -0.014478   \n",
       "4  0.319822 -1.563116 -1.325836    ...     0.085600  0.016441  0.040774   \n",
       "\n",
       "        143       144       145       146       147       148       149  \n",
       "0 -0.022182 -0.031675  0.018209  0.078436 -0.035536 -0.036836 -0.012314  \n",
       "1 -0.071937 -0.032306  0.204050  0.234529 -0.028290 -0.000510 -0.251957  \n",
       "2 -0.003969  0.007461 -0.217863  0.272398 -0.047061  0.011615 -0.044278  \n",
       "3  0.036398 -0.030615  0.077861  0.111965 -0.011692  0.062058 -0.039233  \n",
       "4  0.017408 -0.063149  0.232181  0.150995 -0.004258  0.060453 -0.061104  \n",
       "\n",
       "[5 rows x 150 columns]"
      ]
     },
     "execution_count": 20,
     "metadata": {},
     "output_type": "execute_result"
    }
   ],
   "source": [
    "X1_df = pd.DataFrame(X1)\n",
    "X1_df.head()"
   ]
  },
  {
   "cell_type": "code",
   "execution_count": 21,
   "metadata": {},
   "outputs": [],
   "source": [
    "features2 = ['REGIONC',\n",
    " 'DIVISION',\n",
    " 'TYPEHUQ',\n",
    " 'CELLAR',\n",
    " 'STORIES',\n",
    " 'PRKGPLC1',\n",
    " 'YEARMADE',\n",
    " 'OCCUPYY',\n",
    " 'BEDROOMS',\n",
    " 'NCOMBATH',\n",
    " 'NHAFBATH',\n",
    " 'OTHROOMS',\n",
    " 'TOTROOMS',\n",
    " 'DOOR1SUM',\n",
    " 'WINDOWS',\n",
    " 'ADQINSUL',\n",
    " 'DRAFTY',\n",
    " 'UGASHERE',\n",
    " 'FUELPOOL',\n",
    " 'SIZRFRI1',\n",
    " 'TYPERFR1',\n",
    " 'AGERFRI1',\n",
    " 'ICE',\n",
    " 'SIZRFRI2',\n",
    " 'TYPERFR2',\n",
    " 'AGERFRI2',\n",
    " 'NUMFREEZ',\n",
    " 'SIZFREEZ',\n",
    " 'AGEFRZR',\n",
    " 'STOVENFUEL',\n",
    " 'OVENUSE',\n",
    " 'AMTMICRO',\n",
    " 'NUMMEAL',\n",
    " 'TOASTER',\n",
    " 'COFFEE',\n",
    " 'DWASHUSE',\n",
    " 'WASHLOAD',\n",
    " 'WASHTEMP',\n",
    " 'RNSETEMP',\n",
    " 'DRYRUSE',\n",
    " 'EQUIPM',\n",
    " 'FUELHEAT',\n",
    " 'EQUIPAGE',\n",
    " 'PROTHERM',\n",
    " 'TEMPHOME',\n",
    " 'TEMPGONE',\n",
    " 'TEMPNITE',\n",
    " 'EQUIPAUX',\n",
    " 'REVERSE',\n",
    " 'WARMAIR',\n",
    " 'STEAMR',\n",
    " 'PERMELEC',\n",
    " 'PIPELESS',\n",
    " 'ROOMHEAT',\n",
    " 'WOODKILN',\n",
    " 'CARRYEL',\n",
    " 'CARRYKER',\n",
    " 'CHIMNEY',\n",
    " 'RANGE',\n",
    " 'DIFEQUIP',\n",
    " 'ELECAUX',\n",
    " 'UGASAUX',\n",
    " 'LPGAUX',\n",
    " 'FOKRAUX',\n",
    " 'WOODAUX',\n",
    " 'OTHERAUX',\n",
    " 'ATTCHEAT',\n",
    " 'GARGHEAT',\n",
    " 'COOLTYPE',\n",
    " 'AGECENAC',\n",
    " 'USECENAC',\n",
    " 'NUMBERAC',\n",
    " 'WWACAGE',\n",
    " 'USEWWAC',\n",
    " 'NUMCFAN',\n",
    " 'FUELH2O',\n",
    " 'WHEATAGE',\n",
    " 'WHEATSIZ',\n",
    " 'LGTOUTNUM',\n",
    " 'ESDISHW',\n",
    " 'PGASHEAT',\n",
    " 'LPGPAY',\n",
    " 'FOPAY',\n",
    " 'HHSEX',\n",
    " 'HHAGE',\n",
    " 'EMPLOYHH',\n",
    " 'HOUSEHOLDER_RACE',\n",
    " 'NHSLDMEM',\n",
    " 'ATHOME',\n",
    " 'MONEYPY',\n",
    " 'ELWATER',\n",
    " 'LPOTHER',\n",
    " 'TOTCSQFT',\n",
    " 'TOTHSQFT',\n",
    " 'TOTUSQFT',\n",
    " 'CDD65',\n",
    " 'HDD65',\n",
    " 'GALLONLP',\n",
    " 'CUFEETNG',\n",
    " 'BTUEL',\n",
    " 'BTUELSPH',\n",
    " 'BTUELCOL',\n",
    " 'BTUELWTH',\n",
    " 'BTUELRFG',\n",
    " 'BTUELOTH',\n",
    " 'BTULP',\n",
    " 'BTULPSPH',\n",
    " 'BTULPWTH',\n",
    " 'BTULPOTH',\n",
    " 'BTUNG',\n",
    " 'BTUNGSPH',\n",
    " 'BTUNGWTH',\n",
    " 'BTUNGOTH',\n",
    " 'BTUFO',\n",
    " 'BTUFOSPH',\n",
    " 'BTUFOWTH',\n",
    " 'BTUFOOTH',\n",
    " 'DOLLARNG',\n",
    " 'DOLNGSPH',\n",
    " 'DOLNGWTH',\n",
    " 'DOLNGOTH',\n",
    " 'DOLLAREL',\n",
    " 'DOLELSPH',\n",
    " 'DOLELCOL',\n",
    " 'DOLELWTH',\n",
    " 'DOLELRFG',\n",
    " 'DOLELOTH',\n",
    " 'DOLLARLP',\n",
    " 'DOLLPSPH',\n",
    " 'DOLLPWTH',\n",
    " 'DOLLPOTH',\n",
    " 'DOLLARFO',\n",
    " 'DOLFOSPH',\n",
    " 'DOLFOWTH',\n",
    " 'DOLFOOTH',\n",
    " 'GALLONFO',\n",
    " 'TOTALBTU',\n",
    " 'TOTALDOLLAR',\n",
    " 'WOODAMT',\n",
    " 'KOWNRENT',\n",
    " 'SWIMPOOL',\n",
    " 'POOL',\n",
    " 'RECBATH',\n",
    " 'FUELTUB',\n",
    " 'NUMFRIG',\n",
    " 'UPRTFRZR',\n",
    " 'STOVEN',\n",
    " 'STOVE',\n",
    " 'OVEN',\n",
    " 'MICRO']"
   ]
  },
  {
   "cell_type": "code",
   "execution_count": 22,
   "metadata": {},
   "outputs": [
    {
     "data": {
      "text/html": [
       "<div>\n",
       "<style scoped>\n",
       "    .dataframe tbody tr th:only-of-type {\n",
       "        vertical-align: middle;\n",
       "    }\n",
       "\n",
       "    .dataframe tbody tr th {\n",
       "        vertical-align: top;\n",
       "    }\n",
       "\n",
       "    .dataframe thead tr th {\n",
       "        text-align: left;\n",
       "    }\n",
       "</style>\n",
       "<table border=\"1\" class=\"dataframe\">\n",
       "  <thead>\n",
       "    <tr>\n",
       "      <th></th>\n",
       "      <th>REGIONC</th>\n",
       "      <th>DIVISION</th>\n",
       "      <th>TYPEHUQ</th>\n",
       "      <th>CELLAR</th>\n",
       "      <th>STORIES</th>\n",
       "      <th>PRKGPLC1</th>\n",
       "      <th>YEARMADE</th>\n",
       "      <th>OCCUPYY</th>\n",
       "      <th>BEDROOMS</th>\n",
       "      <th>NCOMBATH</th>\n",
       "      <th>...</th>\n",
       "      <th>SWIMPOOL</th>\n",
       "      <th>POOL</th>\n",
       "      <th>RECBATH</th>\n",
       "      <th>FUELTUB</th>\n",
       "      <th>NUMFRIG</th>\n",
       "      <th>UPRTFRZR</th>\n",
       "      <th>STOVEN</th>\n",
       "      <th>STOVE</th>\n",
       "      <th>OVEN</th>\n",
       "      <th>MICRO</th>\n",
       "    </tr>\n",
       "  </thead>\n",
       "  <tbody>\n",
       "    <tr>\n",
       "      <th>0</th>\n",
       "      <td>6.891210</td>\n",
       "      <td>-2.192371</td>\n",
       "      <td>4.726607</td>\n",
       "      <td>-2.162731</td>\n",
       "      <td>-0.617231</td>\n",
       "      <td>-1.452677</td>\n",
       "      <td>2.369313</td>\n",
       "      <td>-4.623661</td>\n",
       "      <td>-0.352252</td>\n",
       "      <td>0.952654</td>\n",
       "      <td>...</td>\n",
       "      <td>0.041334</td>\n",
       "      <td>-0.007639</td>\n",
       "      <td>0.022552</td>\n",
       "      <td>-0.022182</td>\n",
       "      <td>-0.031675</td>\n",
       "      <td>0.018209</td>\n",
       "      <td>0.078436</td>\n",
       "      <td>-0.035536</td>\n",
       "      <td>-0.036836</td>\n",
       "      <td>-0.012314</td>\n",
       "    </tr>\n",
       "    <tr>\n",
       "      <th>1</th>\n",
       "      <td>6.390149</td>\n",
       "      <td>-2.496507</td>\n",
       "      <td>3.236411</td>\n",
       "      <td>-0.030635</td>\n",
       "      <td>-1.639072</td>\n",
       "      <td>-0.731552</td>\n",
       "      <td>3.195133</td>\n",
       "      <td>-2.194533</td>\n",
       "      <td>-1.642337</td>\n",
       "      <td>-2.250529</td>\n",
       "      <td>...</td>\n",
       "      <td>0.048310</td>\n",
       "      <td>0.060396</td>\n",
       "      <td>0.002043</td>\n",
       "      <td>-0.071937</td>\n",
       "      <td>-0.032306</td>\n",
       "      <td>0.204050</td>\n",
       "      <td>0.234529</td>\n",
       "      <td>-0.028290</td>\n",
       "      <td>-0.000510</td>\n",
       "      <td>-0.251957</td>\n",
       "    </tr>\n",
       "    <tr>\n",
       "      <th>2</th>\n",
       "      <td>35.766051</td>\n",
       "      <td>94.830589</td>\n",
       "      <td>-4.405768</td>\n",
       "      <td>23.048880</td>\n",
       "      <td>1.958416</td>\n",
       "      <td>-1.525357</td>\n",
       "      <td>4.925539</td>\n",
       "      <td>-0.225927</td>\n",
       "      <td>-1.008678</td>\n",
       "      <td>-0.945457</td>\n",
       "      <td>...</td>\n",
       "      <td>0.124174</td>\n",
       "      <td>-0.026052</td>\n",
       "      <td>0.024140</td>\n",
       "      <td>-0.003969</td>\n",
       "      <td>0.007461</td>\n",
       "      <td>-0.217863</td>\n",
       "      <td>0.272398</td>\n",
       "      <td>-0.047061</td>\n",
       "      <td>0.011615</td>\n",
       "      <td>-0.044278</td>\n",
       "    </tr>\n",
       "    <tr>\n",
       "      <th>3</th>\n",
       "      <td>34.449212</td>\n",
       "      <td>95.356682</td>\n",
       "      <td>-3.023752</td>\n",
       "      <td>22.114696</td>\n",
       "      <td>1.855119</td>\n",
       "      <td>-1.858289</td>\n",
       "      <td>4.986314</td>\n",
       "      <td>-0.283884</td>\n",
       "      <td>-0.258744</td>\n",
       "      <td>-1.822265</td>\n",
       "      <td>...</td>\n",
       "      <td>0.108138</td>\n",
       "      <td>-0.016836</td>\n",
       "      <td>-0.014478</td>\n",
       "      <td>0.036398</td>\n",
       "      <td>-0.030615</td>\n",
       "      <td>0.077861</td>\n",
       "      <td>0.111965</td>\n",
       "      <td>-0.011692</td>\n",
       "      <td>0.062058</td>\n",
       "      <td>-0.039233</td>\n",
       "    </tr>\n",
       "    <tr>\n",
       "      <th>4</th>\n",
       "      <td>36.194599</td>\n",
       "      <td>94.680864</td>\n",
       "      <td>-5.015680</td>\n",
       "      <td>23.339673</td>\n",
       "      <td>1.784379</td>\n",
       "      <td>-1.333215</td>\n",
       "      <td>4.150996</td>\n",
       "      <td>0.319822</td>\n",
       "      <td>-1.563116</td>\n",
       "      <td>-1.325836</td>\n",
       "      <td>...</td>\n",
       "      <td>0.085600</td>\n",
       "      <td>0.016441</td>\n",
       "      <td>0.040774</td>\n",
       "      <td>0.017408</td>\n",
       "      <td>-0.063149</td>\n",
       "      <td>0.232181</td>\n",
       "      <td>0.150995</td>\n",
       "      <td>-0.004258</td>\n",
       "      <td>0.060453</td>\n",
       "      <td>-0.061104</td>\n",
       "    </tr>\n",
       "  </tbody>\n",
       "</table>\n",
       "<p>5 rows × 150 columns</p>\n",
       "</div>"
      ],
      "text/plain": [
       "     REGIONC   DIVISION   TYPEHUQ     CELLAR   STORIES  PRKGPLC1  YEARMADE  \\\n",
       "0   6.891210  -2.192371  4.726607  -2.162731 -0.617231 -1.452677  2.369313   \n",
       "1   6.390149  -2.496507  3.236411  -0.030635 -1.639072 -0.731552  3.195133   \n",
       "2  35.766051  94.830589 -4.405768  23.048880  1.958416 -1.525357  4.925539   \n",
       "3  34.449212  95.356682 -3.023752  22.114696  1.855119 -1.858289  4.986314   \n",
       "4  36.194599  94.680864 -5.015680  23.339673  1.784379 -1.333215  4.150996   \n",
       "\n",
       "    OCCUPYY  BEDROOMS  NCOMBATH    ...     SWIMPOOL      POOL   RECBATH  \\\n",
       "0 -4.623661 -0.352252  0.952654    ...     0.041334 -0.007639  0.022552   \n",
       "1 -2.194533 -1.642337 -2.250529    ...     0.048310  0.060396  0.002043   \n",
       "2 -0.225927 -1.008678 -0.945457    ...     0.124174 -0.026052  0.024140   \n",
       "3 -0.283884 -0.258744 -1.822265    ...     0.108138 -0.016836 -0.014478   \n",
       "4  0.319822 -1.563116 -1.325836    ...     0.085600  0.016441  0.040774   \n",
       "\n",
       "    FUELTUB   NUMFRIG  UPRTFRZR    STOVEN     STOVE      OVEN     MICRO  \n",
       "0 -0.022182 -0.031675  0.018209  0.078436 -0.035536 -0.036836 -0.012314  \n",
       "1 -0.071937 -0.032306  0.204050  0.234529 -0.028290 -0.000510 -0.251957  \n",
       "2 -0.003969  0.007461 -0.217863  0.272398 -0.047061  0.011615 -0.044278  \n",
       "3  0.036398 -0.030615  0.077861  0.111965 -0.011692  0.062058 -0.039233  \n",
       "4  0.017408 -0.063149  0.232181  0.150995 -0.004258  0.060453 -0.061104  \n",
       "\n",
       "[5 rows x 150 columns]"
      ]
     },
     "execution_count": 22,
     "metadata": {},
     "output_type": "execute_result"
    }
   ],
   "source": [
    "X1_df.columns = [features2]\n",
    "X1_df.head()"
   ]
  },
  {
   "cell_type": "code",
   "execution_count": 23,
   "metadata": {},
   "outputs": [],
   "source": [
    "#export to CSV\n",
    "X1_df.to_csv(\"../Project3/dataforfinalproject/PCAcomponentoutput.csv\")"
   ]
  },
  {
   "cell_type": "code",
   "execution_count": null,
   "metadata": {},
   "outputs": [],
   "source": []
  },
  {
   "cell_type": "code",
   "execution_count": null,
   "metadata": {},
   "outputs": [],
   "source": [
    "resources used:\n",
    "#Original PCA model\n",
    "#https://www.youtube.com/watch?v=Lsue2gEM9D0\n",
    "\n",
    "#Predictive Modeling with PCA\n",
    "#https://www.analyticsvidhya.com/blog/2016/03/practical-guide-principal-component-analysis-python/"
   ]
  }
 ],
 "metadata": {
  "kernelspec": {
   "display_name": "Python 3",
   "language": "python",
   "name": "python3"
  },
  "language_info": {
   "codemirror_mode": {
    "name": "ipython",
    "version": 3
   },
   "file_extension": ".py",
   "mimetype": "text/x-python",
   "name": "python",
   "nbconvert_exporter": "python",
   "pygments_lexer": "ipython3",
   "version": "3.7.0"
  }
 },
 "nbformat": 4,
 "nbformat_minor": 2
}
