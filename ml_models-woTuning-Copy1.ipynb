{
 "cells": [
  {
   "cell_type": "markdown",
   "metadata": {},
   "source": [
    "## Create Pipeline for run and comparing models\n"
   ]
  },
  {
   "cell_type": "code",
   "execution_count": 1,
   "metadata": {
    "scrolled": true
   },
   "outputs": [],
   "source": [
    "# Generic Dependencies\n",
    "import numpy as np\n",
    "from numpy import arange\n",
    "import pandas as pd\n",
    "from pandas import set_option\n",
    "from pandas.tools.plotting import scatter_matrix\n",
    "import os\n",
    "\n",
    "# Plotting Libraries\n",
    "from matplotlib import pyplot as plt\n",
    "import seaborn as sns\n",
    "\n",
    "# SKLearn Libraries\n",
    "from sklearn import preprocessing\n",
    "from sklearn.preprocessing import StandardScaler\n",
    "from sklearn.model_selection import train_test_split\n",
    "from sklearn.model_selection import KFold, cross_val_score,cross_validate, GridSearchCV\n",
    "\n",
    "from sklearn.linear_model import LinearRegression\n",
    "from sklearn.linear_model import Lasso\n",
    "from sklearn.linear_model import ElasticNet\n",
    "from sklearn.linear_model import Lasso, LassoCV\n",
    "\n",
    "\n",
    "from sklearn.svm import SVR\n",
    "from sklearn.pipeline import Pipeline\n",
    "from sklearn.ensemble import RandomForestRegressor\n",
    "from sklearn.ensemble import GradientBoostingRegressor\n",
    "from sklearn.ensemble import ExtraTreesRegressor\n",
    "from sklearn.ensemble import AdaBoostRegressor\n",
    "from sklearn.metrics import mean_squared_error\n",
    "\n",
    "#XGBoost libraries\n",
    "import xgboost as xgb\n",
    "\n",
    "# import generateXdata.py to prepare the data\n",
    "from generateXdata import generateX\n",
    "# from generateXdata_withVocab import generateX\n"
   ]
  },
  {
   "cell_type": "code",
   "execution_count": 2,
   "metadata": {},
   "outputs": [],
   "source": [
    "# gobal variables\n",
    "dataFilePath = \"dataforfinalproject\"\n",
    "filename = \"RECS_COMBINED_DATA.csv\"\n",
    "cols_file = \"Final_Columns_withCat.csv\"\n",
    "\n",
    " \n",
    "\n",
    "# delcare target variables\n",
    "target = {\"BTU\":\"TOTALBTU\", \"DOLLAR\":\"TOTALDOLLAR\"}\n",
    "modelsList = {\"LR\": \"Linear Regression\", \n",
    "          \"CLasso\": \"Classic Lasso\", \n",
    "          \"CV_Lasso\":\"Lasso with CV\",          \n",
    "          \"RF\":\"Random Forest\", \n",
    "          \"XG\":\"XGBoost\",\n",
    "          \"EN_GR\" : \"ElasticNet with GridSearch\",}\n",
    "\n",
    "# modelsList = {\"LR\": \"Linear Regression\", \n",
    "#           \"CLasso\": \"Classic Lasso\", \n",
    "#           \"CV_Lasso\":\"Lasso with CV\", \n",
    "#             \"RF\":\"Random Forest\",\n",
    "#           \"XG\":\"XGBoost\"}\n",
    "\n",
    "# common model params\n",
    "folds = 5\n",
    "seed = 30\n",
    "test_size = 0.2\n",
    "\n",
    "\n",
    "\n",
    "\n"
   ]
  },
  {
   "cell_type": "markdown",
   "metadata": {},
   "source": [
    "### Prepare Data"
   ]
  },
  {
   "cell_type": "code",
   "execution_count": 3,
   "metadata": {},
   "outputs": [
    {
     "name": "stdout",
     "output_type": "stream",
     "text": [
      "\n",
      "Extracting data for target : BTU........\n",
      "\n",
      " X Features shape : (22591, 87)\n",
      "cols with values as 99 and -2: ['CELLAR', 'STORIES', 'PRKGPLC1', 'BEDROOMS', 'FUELPOOL', 'SIZRFRI1', 'TYPERFR1', 'AGERFRI1', 'SIZRFRI2', 'TYPERFR2', 'AGERFRI2', 'NUMFREEZ', 'SIZFREEZ', 'AGEFRZR', 'STOVENFUEL', 'OVENUSE', 'AMTMICRO', 'DWASHUSE', 'WASHLOAD', 'WASHTEMP', 'EQUIPM', 'FUELHEAT', 'EQUIPAGE', 'PROTHERM', 'TEMPHOME', 'TEMPGONE', 'TEMPNITE', 'AGECENAC', 'USECENAC', 'NUMBERAC', 'WWACAGE', 'USEWWAC', 'FUELH2O', 'WHEATAGE', 'WHEATSIZ', 'LGTOUTNUM', 'ESDISHW', 'PGASHEAT', 'WOODAMT'] \n",
      "\n",
      "Duplicate Count : 0\n",
      "shape of X is (22591, 79)\n",
      "\n",
      "Extracting data for target : DOLLAR........\n",
      "\n",
      " X Features shape : (22591, 87)\n",
      "cols with values as 99 and -2: ['CELLAR', 'STORIES', 'PRKGPLC1', 'BEDROOMS', 'FUELPOOL', 'SIZRFRI1', 'TYPERFR1', 'AGERFRI1', 'SIZRFRI2', 'TYPERFR2', 'AGERFRI2', 'NUMFREEZ', 'SIZFREEZ', 'AGEFRZR', 'STOVENFUEL', 'OVENUSE', 'AMTMICRO', 'DWASHUSE', 'WASHLOAD', 'WASHTEMP', 'EQUIPM', 'FUELHEAT', 'EQUIPAGE', 'PROTHERM', 'TEMPHOME', 'TEMPGONE', 'TEMPNITE', 'AGECENAC', 'USECENAC', 'NUMBERAC', 'WWACAGE', 'USEWWAC', 'FUELH2O', 'WHEATAGE', 'WHEATSIZ', 'LGTOUTNUM', 'ESDISHW', 'PGASHEAT', 'WOODAMT'] \n",
      "\n",
      "Duplicate Count : 0\n",
      "shape of X is (22591, 86)\n"
     ]
    }
   ],
   "source": [
    "X = {}\n",
    "y = {}\n",
    "vocab = {}\n",
    "# obtain features contributing to the Y = BTU or DOllar\n",
    "for t, col in target.items():\n",
    "    print(f\"\\nExtracting data for target : {t}........\\n\")\n",
    "    X[t], vocab[t] = generateX(ohe = True, target = t)\n",
    "    y[t] = pd.read_csv(os.path.join(dataFilePath,filename), low_memory = False)[col]\n",
    "    "
   ]
  },
  {
   "cell_type": "code",
   "execution_count": 4,
   "metadata": {},
   "outputs": [
    {
     "name": "stdout",
     "output_type": "stream",
     "text": [
      "Shape of X values for DOLLAR as target : (22591, 86)\n",
      "Shape of X values for BTU as target : (22591, 79)\n",
      "Shape of y values for DOLLAR as target : (22591,)\n",
      "Shape of y values for DOLLAR as target : (22591,)\n"
     ]
    }
   ],
   "source": [
    "print(f\"Shape of X values for DOLLAR as target : {X['DOLLAR'].shape}\")\n",
    "print(f\"Shape of X values for BTU as target : {X['BTU'].shape}\")\n",
    "print(f\"Shape of y values for DOLLAR as target : {y['DOLLAR'].shape}\")\n",
    "print(f\"Shape of y values for DOLLAR as target : {y['BTU'].shape}\")\n"
   ]
  },
  {
   "cell_type": "markdown",
   "metadata": {},
   "source": [
    "### Define model functions with default params (no configuration changes)\n"
   ]
  },
  {
   "cell_type": "code",
   "execution_count": 5,
   "metadata": {},
   "outputs": [],
   "source": [
    "# prepare models\n",
    "models = []\n",
    "models.append(('LR', LinearRegression()))\n",
    "models.append(('Lasso', Lasso()))\n",
    "models.append(('LassoCV', LassoCV()))\n",
    "models.append(('RF', RandomForestRegressor()))\n",
    "models.append(('xgb', xgb.XGBRegressor(objective = \"reg:linear\")))\n",
    "models.append(('eNet', ElasticNet()))"
   ]
  },
  {
   "cell_type": "code",
   "execution_count": 6,
   "metadata": {},
   "outputs": [],
   "source": [
    "# evaluate each model in turn\n",
    "results_mse = []\n",
    "results_r2 = []\n",
    "names = []\n",
    "scoring = {'mse': 'neg_mean_squared_error',\n",
    "           'r2': 'r2',\n",
    "           'exp_var': 'explained_variance'}"
   ]
  },
  {
   "cell_type": "markdown",
   "metadata": {},
   "source": [
    "### Create the list of Models that will be run in sequence\n"
   ]
  },
  {
   "cell_type": "code",
   "execution_count": 7,
   "metadata": {
    "scrolled": true
   },
   "outputs": [
    {
     "name": "stdout",
     "output_type": "stream",
     "text": [
      "['fit_time', 'score_time', 'test_exp_var', 'test_mse', 'test_r2', 'train_exp_var', 'train_mse', 'train_r2']\n",
      "['fit_time', 'score_time', 'test_exp_var', 'test_mse', 'test_r2', 'train_exp_var', 'train_mse', 'train_r2']\n",
      "['fit_time', 'score_time', 'test_exp_var', 'test_mse', 'test_r2', 'train_exp_var', 'train_mse', 'train_r2']\n",
      "['fit_time', 'score_time', 'test_exp_var', 'test_mse', 'test_r2', 'train_exp_var', 'train_mse', 'train_r2']\n",
      "['fit_time', 'score_time', 'test_exp_var', 'test_mse', 'test_r2', 'train_exp_var', 'train_mse', 'train_r2']\n",
      "['fit_time', 'score_time', 'test_exp_var', 'test_mse', 'test_r2', 'train_exp_var', 'train_mse', 'train_r2']\n"
     ]
    }
   ],
   "source": [
    "for name, model in models:\n",
    "    kfold = KFold(n_splits=5, random_state=seed)\n",
    "    cv_results = cross_validate(model, X[\"BTU\"], y[\"BTU\"], cv=kfold, scoring=scoring)\n",
    "    print(sorted(cv_results.keys())  )\n",
    "    results_mse.append(cv_results['test_mse'])\n",
    "    results_r2.append(cv_results['test_r2'])\n",
    "    names.append(name)\n",
    "#     msg = \"%s: %f (%f)\" % (name, cv_results.mean(), cv_results.std())\n",
    "#     print(msg)"
   ]
  },
  {
   "cell_type": "code",
   "execution_count": 8,
   "metadata": {},
   "outputs": [
    {
     "data": {
      "text/plain": [
       "[array([ -952760.8099058 ,  -367778.73284736,  -410009.04398271,\n",
       "        -1952323.83740574, -8761348.45082939]),\n",
       " array([ -941047.45388619,  -364350.02999414,  -405238.07482367,\n",
       "        -1952002.33290176, -8775656.86436385]),\n",
       " array([-19924102.57573766, -15747575.19525645, -13716863.66572396,\n",
       "        -18285262.67601992, -18871757.20081091]),\n",
       " array([ -6.31116706e+07,  -1.66819693e+08,  -5.17851377e+07,\n",
       "         -7.09462377e+07,  -2.88375369e+07]),\n",
       " array([ -6.99887209e+07,  -1.14597186e+08,  -5.45326017e+07,\n",
       "         -6.16415769e+07,  -6.72969597e+07]),\n",
       " array([ -990923.72697807,  -311454.54549171,  -340016.14225851,\n",
       "        -1980812.49893294, -8878068.57513217])]"
      ]
     },
     "execution_count": 8,
     "metadata": {},
     "output_type": "execute_result"
    }
   ],
   "source": [
    "results_mse"
   ]
  },
  {
   "cell_type": "code",
   "execution_count": 9,
   "metadata": {},
   "outputs": [
    {
     "data": {
      "image/png": "[encoded data removed]",
      "text/plain": [
       "<Figure size 432x288 with 1 Axes>"
      ]
     },
     "metadata": {
      "needs_background": "light"
     },
     "output_type": "display_data"
    }
   ],
   "source": [
    "# boxplot algorithm comparison\n",
    "fig = plt.figure()\n",
    "fig.suptitle('Algorithm Comparison')\n",
    "ax = fig.add_subplot(111)\n",
    "plt.boxplot(results_mse)\n",
    "ax.set_xticklabels(names)\n",
    "plt.show()"
   ]
  },
  {
   "cell_type": "code",
   "execution_count": 10,
   "metadata": {},
   "outputs": [
    {
     "data": {
      "image/png": "[encoded data removed]",
      "text/plain": [
       "<Figure size 432x288 with 1 Axes>"
      ]
     },
     "metadata": {
      "needs_background": "light"
     },
     "output_type": "display_data"
    }
   ],
   "source": [
    "# boxplot algorithm comparison\n",
    "fig = plt.figure()\n",
    "fig.suptitle('Algorithm Comparison')\n",
    "ax = fig.add_subplot(111)\n",
    "plt.boxplot(results_r2)\n",
    "ax.set_xticklabels(names)\n",
    "plt.show()"
   ]
  },
  {
   "cell_type": "code",
   "execution_count": 11,
   "metadata": {},
   "outputs": [],
   "source": [
    "class ml_models_tuned(object):\n",
    "    def __init__(self, X, y, seed, folds, test_size, early_stop):\n",
    "        self.X = X\n",
    "        self.y = y\n",
    "        self.seed = seed\n",
    "        self.folds = folds\n",
    "        self.test_size = test_size\n",
    "        self.early_stop = early_stop\n",
    "        \n",
    "        self.dMatrix = xgb.DMatrix(data = self.X,label = self.y)\n",
    "        self.X_train, self.X_test, self.y_train, self.y_test = train_test_split(self.X, self.y, random_state = self.seed, \n",
    "                                                                              test_size = self.test_size)\n",
    "    def ret_LR_tunedModel(self):        \n",
    "        model = LinearRegression()\n",
    "        print(f\"Best Linear Regression model {model}\")\n",
    "        return model\n",
    "    \n",
    "    def ret_Classo_tunedModel(self):\n",
    "        print(\"\\n Begining to tune Lasso Regression Model.................................\\n\")\n",
    "        # perform a grid search with different alpha values to find the best fit\n",
    "#         model = Lasso()\n",
    "#         alpha=np.arange(0.0,0.05,.003)\n",
    "        \n",
    "#         param_grid = [{'alpha':alpha}]\n",
    "#         pricing_grid  = GridSearchCV(model, param_grid, cv=5,scoring='r2')\n",
    "#         pricing_grid.fit(self.X_train, self.y_train)\n",
    "        \n",
    "#         model = pricing_grid.best_estimator_\n",
    "        model = Lasso(alpha=0.01)\n",
    "        print(f\"Best Lasso model with alpha = 0.01 is {model}\")\n",
    "        return model\n",
    "    \n",
    "    def ret_LassoCV_tunedModel(self):\n",
    "        lasso = Lasso(max_iter=10000, normalize=True)\n",
    "        lassocv = LassoCV(alphas=None, cv=10, max_iter=100000, normalize=True)\n",
    "        lassocv.fit(self.X_train, self.y_train)        \n",
    "        lasso.set_params(alpha=lassocv.alpha_)\n",
    "        \n",
    "        model = lasso\n",
    "        print(f\"Best LassoCV model with alpha {lassocv.alpha_} is {model}\")\n",
    "        return model\n",
    "    \n",
    "    def ret_RF_tunedModel(self):\n",
    "        model = RandomForestRegressor(n_estimators = 50, random_state = self.seed, max_depth = 11)\n",
    "        print(f\"Best RF model obtained is with n_estimators at 50 and max_depth at 11 is {model}\")\n",
    "        return model\n",
    "    \n",
    "    def ret_xgb_tunedModel(self):\n",
    "        model = xgb.XGBRegressor(objective ='reg:linear', colsample_bytree = 0.8, learning_rate = 0.25,min_child_weight=3,\n",
    "                max_depth = 5, alpha = 10, n_estimators = 150, subsample = 0.8, silent = 1)\n",
    "        \n",
    "        xgb_param = model.get_xgb_params()\n",
    "        cvresult = xgb.cv(params = xgb_param, dtrain = self.dMatrix, num_boost_round=model.get_params()['n_estimators'], \n",
    "                          nfold=self.folds, metrics='rmse', early_stopping_rounds=self.early_stop, verbose_eval=False)\n",
    "        \n",
    "        model.set_params(n_estimators=cvresult.shape[0])\n",
    "        \n",
    "        print(f\"Best xgBoost model obtained is with n_estimators at {cvresult.shape[0]} and learning_rate at 0.25 is {model}\")\n",
    "    \n",
    "        return model\n",
    "    \n",
    "    def ret_eNet_tunedModel(self):\n",
    "        alpha=np.arange(0.0,0.05,.003)\n",
    "\n",
    "        enet = ElasticNet()\n",
    "        \n",
    "#         print(\"Configuring and finding best model using GridSearchCV.....................\\n\")        \n",
    "        param_grid = [{'alpha':alpha}]\n",
    "        enet_grid  = GridSearchCV(enet, param_grid, cv=self.folds)\n",
    "        \n",
    "        print(f\"Best elasticNet model obtained is {enet_grid}\")\n",
    "        return enet_grid\n",
    "        \n",
    "    def linearmodel(self):\n",
    "        print(\"Begining to run Linear regression Model.................................\\n\")\n",
    "                \n",
    "        print(\"Configuring the model.....................\\n\")\n",
    "        model = self.ret_LR_tunedModel()\n",
    "        \n",
    "        print(\"Fit train data to the model.....................\\n\")\n",
    "        model.fit(self.X_train, self.y_train)\n",
    "        \n",
    "        print(\"Predict Y values for test data.....................\\n\")\n",
    "        predictions_train = model.predict(self.X_train)\n",
    "        predictions= model.predict(self.X_test)\n",
    "        \n",
    "        RMSE_train = np.sqrt(mean_squared_error(self.y_test, predictions))\n",
    "        r2_train = model.score(self.X_test, self.y_test)\n",
    "        \n",
    "        RMSE_test = np.sqrt(mean_squared_error(self.y_test, predictions))\n",
    "        r2_test = model.score(self.X_test, self.y_test)\n",
    "        \n",
    "        column_series = list(predictions)\n",
    "        df_modelresults=pd.DataFrame()\n",
    "        df_modelresults = df_modelresults.assign(LinearPredictedY=column_series)\n",
    "        \n",
    "        print(\"Linear Regression Model report\")\n",
    "        print(\"----------------------------------------------------------------\\n\")\n",
    "        \n",
    "        print(\"Test RMSE: %f\" % (RMSE_test))\n",
    "        print('The accuracy of the linear regressor is {:.2f} out of 1 on the testing data'.format(r2_test))\n",
    "        \n",
    "        plt.scatter(predictions_train, predictions_train - self.y_train, c=\"blue\", label=\"Training Data\")\n",
    "        plt.scatter(predictions, predictions - self.y_test, c=\"orange\", label=\"Testing Data\")\n",
    "        plt.legend()\n",
    "        plt.hlines(y=0, xmin=self.y_test.min(), xmax=self.y_test.max())\n",
    "        plt.title(\"Residual Plot\")\n",
    "        plt.show()\n",
    "        \n",
    "                \n",
    "        return(predictions, RMSE_test, r2_test)\n",
    "    \n",
    "    def classic_lasso_model(self):\n",
    "        print(\"\\nBegining to run Classic Lasso regression Model (alpha = 0.01).................................\\n\")                \n",
    "        print(\"Configuring and fit training data to the model.....................\\n\")\n",
    "        lasso = self.ret_Classo_tunedModel().fit(self.X_train, self.y_train)\n",
    "        \n",
    "        print(\"Predict y values for train and test data.....................\\n\")\n",
    "        predictions_train = lasso.predict(self.X_train)\n",
    "        \n",
    "        RMSE_train = np.sqrt(mean_squared_error(self.y_train, predictions_train))\n",
    "        r2_train = lasso.score(self.X_train, self.y_train)\n",
    "        \n",
    "        predictions = lasso.predict(self.X_test)\n",
    "        RMSE_test = np.sqrt(mean_squared_error(self.y_test, predictions))\n",
    "        r2_test= lasso.score(self.X_test, self.y_test)\n",
    "        \n",
    "        print(\"Classic Lasso Regresion Model report\")\n",
    "        print(\"----------------------------------------------------------------\\n\")\n",
    "        print(\"Train RMSE: %f\" % (RMSE_train))\n",
    "        print(\"Test RMSE: %f\" % (RMSE_test))\n",
    "        print('The accuracy of the Classic Lasso regressor is {:.2f} out of 1 on the training data'.format(r2_train))\n",
    "        print('The accuracy of the Classic Lasso regressor is {:.2f} out of 1 on the test data'.format(r2_test))\n",
    "        \n",
    "        df_modelresults=pd.DataFrame(predictions,columns=['Classic_Lasso_predicted'])\n",
    "\n",
    "        return(df_modelresults, RMSE_test,r2_test)\n",
    "    \n",
    "    def lasso_CV(self):\n",
    "        print(\"\\nBegining to run Lasso CV regression Model (alpha = determined by K-Folds).................................\\n\")                \n",
    "        print(\"Run cross validation on training data to get best model iteration.....................\\n\")\n",
    "        \n",
    "#         X_train, X_test , y_train, y_test = cross_validation.train_test_split(X, y, test_size=test_size, random_state=seed)\n",
    "        lasso = self.ret_LassoCV_tunedModel()\n",
    "        \n",
    "        print(\"Fit the best model from k-folds to training data................\")\n",
    "        lasso.fit(self.X_train, self.y_train)\n",
    "        print(\"best model coefficients:\")\n",
    "        print(pd.Series(lasso.coef_).tolist())\n",
    "        \n",
    "        print(\"\\nPredict data using testing data................\")\n",
    "        predictions = lasso.predict(self.X_test)\n",
    "        RMSE_test = np.sqrt(mean_squared_error(self.y_test, predictions))\n",
    "        r2 = lasso.score(self.X_test, self.y_test)\n",
    "        \n",
    "        print(\"Lasso CV Regresion Model report\")\n",
    "        print(\"----------------------------------------------------------------\\n\")\n",
    "        \n",
    "        print(\"Test RMSE: %f\" % (RMSE_test))\n",
    "        print('The accuracy of the LassoCV regressor is {:.2f} out of 1 on the test data'.format(r2))\n",
    "        \n",
    "        df_modelresults=pd.DataFrame(predictions,columns=['Lasso_CV_predicted'])\n",
    "        \n",
    "        return(df_modelresults,RMSE_test,r2)\n",
    "\n",
    "    def RF_model(self):\n",
    "        print(\"\\nBegining to run RandomForest regression Model.................................\\n\")                \n",
    "        print(\"Configuring and fit training data to the model.....................\\n\")\n",
    "\n",
    "        rf = self.ret_RF_tunedModel()\n",
    "\n",
    "        # Train the model on training data\n",
    "        rf.fit(self.X_train, self.y_train)\n",
    "\n",
    "        print(\"Predict y values for train and test data.....................\\n\")\n",
    "        predictions = rf.predict(self.X_test)\n",
    "        RMSE_test = np.sqrt(mean_squared_error(self.y_test, predictions))\n",
    "        r2_test = rf.score(self.X_test, self.y_test)\n",
    "\n",
    "        predictions_train = rf.predict(self.X_train)\n",
    "        RMSE_train = np.sqrt(mean_squared_error(self.y_train, predictions_train))\n",
    "        r2_train = rf.score(self.X_train, self.y_train)\n",
    "\n",
    "        print(\"RandomForest Regresion Model report\")\n",
    "        print(\"----------------------------------------------------------------\\n\")\n",
    "        print(\"Train RMSE: %f\" % (RMSE_train))\n",
    "        print(\"Test RMSE: %f\" % (RMSE_test))\n",
    "        print('The accuracy of the RandomForest regressor is {:.2f} out of 1 on the training data'.format(r2_train))\n",
    "        print('The accuracy of the RandomForest regressor is {:.2f} out of 1 on the test data'.format(r2_test))\n",
    "\n",
    "        df_modelresults=pd.DataFrame(predictions,columns=['RandomForest_predictions'])\n",
    "\n",
    "        return(df_modelresults, RMSE_test,r2_test)\n",
    "\n",
    "    def xgb_model(self):\n",
    "        print(\"Begining to run XGBoost Model.................................\\n\")\n",
    "                \n",
    "        print(\"Configuring the model.....................\\n\")\n",
    "        \n",
    "        model = self.ret_xgb_tunedModel()\n",
    "        print(\"Fitting Train data to the model \")\n",
    "        print(\"----------------------------------------------------------------\\n\")\n",
    "        eval_set = [(self.X_train, self.y_train), (self.X_test, self.y_test)]\n",
    "        model.fit(self.X_train, self.y_train,eval_metric=[\"rmse\"], eval_set=eval_set, verbose=False)\n",
    "        \n",
    "        print(\"Predicting Y with test data\")\n",
    "        print(\"----------------------------------------------------------------\\n\")\n",
    "        preds_train = model.predict(self.X_train)\n",
    "        train_rmse = np.sqrt(mean_squared_error(self.y_train, preds_train))\n",
    "        train_accur = model.score(self.X_train, self.y_train)\n",
    "\n",
    "        preds = model.predict(self.X_test)\n",
    "        rmse = np.sqrt(mean_squared_error(self.y_test, preds))\n",
    "        accur = model.score(self.X_test, self.y_test)\n",
    "        \n",
    "        \n",
    "        print(\"XGBoost Model report\")\n",
    "        print(\"----------------------------------------------------------------\\n\")\n",
    "        print(\"Train RMSE: %f\" % (train_rmse))\n",
    "        print(\"Test RMSE: %f\" % (rmse))\n",
    "        print('The accuracy of the xgboost regressor is {:.2f} out of 1 on the training data'.format(train_accur))\n",
    "        print('The accuracy of the xgboost regressor is {:.2f} out of 1 on the test data'.format(accur))\n",
    "    \n",
    "        # retrieve performance metrics and plot it\n",
    "        results = model.evals_result()\n",
    "        epochs = len(results['validation_0']['rmse'])\n",
    "        x_axis = range(0, epochs)\n",
    "\n",
    "        # plot regression error\n",
    "        fig, axs = plt.subplots(figsize = (6,5))\n",
    "        sns.lineplot(x_axis, results['validation_0']['rmse'], label='Train', ax = axs)\n",
    "        sns.lineplot(x_axis, results['validation_1']['rmse'], label='Test', ax = axs)\n",
    "        plt.legend()\n",
    "        plt.ylabel('Regression Error')\n",
    "        plt.title('XGBoost Regression Error')\n",
    "        plt.show()\n",
    "\n",
    "        return (pd.DataFrame(preds, columns = ['xgBoost_Predicted']),rmse, accur)\n",
    "    \n",
    "    def eNet_model(self):\n",
    "        \n",
    "        enet_grid  = self.ret_eNet_tunedModel()\n",
    "        \n",
    "        print(\"Fit train data to the best model.....................\\n\") \n",
    "        enet_grid.fit(self.X_train, self.y_train)\n",
    "        \n",
    "        print(\"Predict Y for test data.....................\\n\") \n",
    "        predictions = enet_grid.predict(self.X_test)\n",
    "        \n",
    "        RMSE = np.sqrt(mean_squared_error(self.y_test, predictions))\n",
    "        r2 = enet_grid.score(self.X_test, self.y_test)\n",
    "        #grid_results = pd.DataFrame(enet_grid.cv_results_) \n",
    "\n",
    "        print(\"ElasticNet Model report\")\n",
    "        print(\"----------------------------------------------------------------\\n\")\n",
    "        \n",
    "        print(\"Test RMSE: %f\" % (RMSE))\n",
    "        print('The accuracy of the elasticNet regressor is {:.2f} out of 1 on the test data'.format(r2))\n",
    "\n",
    "        return (pd.DataFrame(predictions, columns = ['eNet_predicted']), RMSE, r2)\n",
    "    \n",
    "    def runModel(self, whichModel = \"LR\"):\n",
    "        if(whichModel == \"LR\"):\n",
    "            return self.linearmodel()\n",
    "        elif(whichModel == \"CLasso\"):\n",
    "            return self.classic_lasso_model()\n",
    "        elif(whichModel == \"CV_Lasso\"):\n",
    "            return self.lasso_CV()\n",
    "        elif(whichModel == \"EN_GR\"):\n",
    "            return self.eNet_model()\n",
    "        elif(whichModel == \"RF\"):\n",
    "            return self.RF_model()\n",
    "        elif(whichModel == \"XG\"):\n",
    "            return self.xgb_model()\n",
    "\n",
    "    def get_y_test(self):\n",
    "        return self.y_test"
   ]
  },
  {
   "cell_type": "code",
   "execution_count": 12,
   "metadata": {},
   "outputs": [
    {
     "name": "stdout",
     "output_type": "stream",
     "text": [
      "Best Linear Regression model LinearRegression(copy_X=True, fit_intercept=True, n_jobs=None,\n",
      "         normalize=False)\n",
      "\n",
      " Begining to tune Lasso Regression Model.................................\n",
      "\n",
      "Best Lasso model with alpha = 0.01 is Lasso(alpha=0.01, copy_X=True, fit_intercept=True, max_iter=1000,\n",
      "   normalize=False, positive=False, precompute=False, random_state=None,\n",
      "   selection='cyclic', tol=0.0001, warm_start=False)\n",
      "Best LassoCV model with alpha 0.27745475067932646 is Lasso(alpha=0.27745475067932646, copy_X=True, fit_intercept=True,\n",
      "   max_iter=10000, normalize=True, positive=False, precompute=False,\n",
      "   random_state=None, selection='cyclic', tol=0.0001, warm_start=False)\n",
      "Best RF model obtained is with n_estimators at 50 and max_depth at 11 is RandomForestRegressor(bootstrap=True, criterion='mse', max_depth=11,\n",
      "           max_features='auto', max_leaf_nodes=None,\n",
      "           min_impurity_decrease=0.0, min_impurity_split=None,\n",
      "           min_samples_leaf=1, min_samples_split=2,\n",
      "           min_weight_fraction_leaf=0.0, n_estimators=50, n_jobs=None,\n",
      "           oob_score=False, random_state=30, verbose=0, warm_start=False)\n",
      "Best xgBoost model obtained is with n_estimators at 150 and learning_rate at 0.25 is XGBRegressor(alpha=10, base_score=0.5, booster='gbtree', colsample_bylevel=1,\n",
      "       colsample_bytree=0.8, gamma=0, importance_type='gain',\n",
      "       learning_rate=0.25, max_delta_step=0, max_depth=5,\n",
      "       min_child_weight=3, missing=None, n_estimators=150, n_jobs=1,\n",
      "       nthread=None, objective='reg:linear', random_state=0, reg_alpha=0,\n",
      "       reg_lambda=1, scale_pos_weight=1, seed=None, silent=1,\n",
      "       subsample=0.8)\n",
      "Best elasticNet model obtained is GridSearchCV(cv=5, error_score='raise-deprecating',\n",
      "       estimator=ElasticNet(alpha=1.0, copy_X=True, fit_intercept=True, l1_ratio=0.5,\n",
      "      max_iter=1000, normalize=False, positive=False, precompute=False,\n",
      "      random_state=None, selection='cyclic', tol=0.0001, warm_start=False),\n",
      "       fit_params=None, iid='warn', n_jobs=None,\n",
      "       param_grid=[{'alpha': array([ 0.   ,  0.003,  0.006,  0.009,  0.012,  0.015,  0.018,  0.021,\n",
      "        0.024,  0.027,  0.03 ,  0.033,  0.036,  0.039,  0.042,  0.045,\n",
      "        0.048])}],\n",
      "       pre_dispatch='2*n_jobs', refit=True, return_train_score='warn',\n",
      "       scoring=None, verbose=0)\n"
     ]
    }
   ],
   "source": [
    "m = ml_models_tuned(X['BTU'], y[\"BTU\"], seed, folds, test_size, early_stop = 20)\n",
    "# prepare models\n",
    "models_t = []\n",
    "models_t.append(('LR', m.ret_LR_tunedModel()))\n",
    "models_t.append(('Lasso', m.ret_Classo_tunedModel()))\n",
    "models_t.append(('LassoCV', m.ret_LassoCV_tunedModel()))\n",
    "models_t.append(('RF', m.ret_RF_tunedModel()))\n",
    "models_t.append(('xgb', m.ret_xgb_tunedModel()))\n",
    "models_t.append(('eNet', m.ret_eNet_tunedModel()))"
   ]
  },
  {
   "cell_type": "code",
   "execution_count": 13,
   "metadata": {},
   "outputs": [],
   "source": [
    "# evaluate each model in turn\n",
    "results_mse_t = []\n",
    "results_r2_t = []\n",
    "names_t = []\n",
    "scoring_t = {'mse': 'neg_mean_squared_error',\n",
    "           'r2': 'r2',\n",
    "           'exp_var': 'explained_variance'}"
   ]
  },
  {
   "cell_type": "markdown",
   "metadata": {},
   "source": [
    "### Create the list of Models that will be run in sequence\n"
   ]
  },
  {
   "cell_type": "code",
   "execution_count": 14,
   "metadata": {
    "scrolled": true
   },
   "outputs": [
    {
     "name": "stdout",
     "output_type": "stream",
     "text": [
      "['fit_time', 'score_time', 'test_exp_var', 'test_mse', 'test_r2', 'train_exp_var', 'train_mse', 'train_r2']\n",
      "['fit_time', 'score_time', 'test_exp_var', 'test_mse', 'test_r2', 'train_exp_var', 'train_mse', 'train_r2']\n",
      "['fit_time', 'score_time', 'test_exp_var', 'test_mse', 'test_r2', 'train_exp_var', 'train_mse', 'train_r2']\n",
      "['fit_time', 'score_time', 'test_exp_var', 'test_mse', 'test_r2', 'train_exp_var', 'train_mse', 'train_r2']\n",
      "['fit_time', 'score_time', 'test_exp_var', 'test_mse', 'test_r2', 'train_exp_var', 'train_mse', 'train_r2']\n",
      "['fit_time', 'score_time', 'test_exp_var', 'test_mse', 'test_r2', 'train_exp_var', 'train_mse', 'train_r2']\n"
     ]
    }
   ],
   "source": [
    "for name, model in models_t:\n",
    "    kfold = KFold(n_splits=5, random_state=seed)\n",
    "    cv_results = cross_validate(model, X[\"BTU\"], y[\"BTU\"], cv=kfold, scoring=scoring_t)\n",
    "    print(sorted(cv_results.keys())  )\n",
    "    results_mse_t.append(cv_results['test_mse'])\n",
    "    results_r2_t.append(cv_results['test_r2'])\n",
    "    names_t.append(name)\n",
    "#     msg = \"%s: %f (%f)\" % (name, cv_results.mean(), cv_results.std())\n",
    "#     print(msg)"
   ]
  },
  {
   "cell_type": "code",
   "execution_count": 15,
   "metadata": {},
   "outputs": [
    {
     "data": {
      "text/plain": [
       "[array([ -952760.8099058 ,  -367778.73284736,  -410009.04398271,\n",
       "        -1952323.83740574, -8761348.45082939]),\n",
       " array([ -930020.83744086,  -367742.01455448,  -409962.98379971,\n",
       "        -1952324.95801797, -8762709.86517684]),\n",
       " array([ -837088.51395184,  -286687.29257622,  -322510.22405116,\n",
       "        -1999892.87646554, -9211887.41122261]),\n",
       " array([ -7.77248536e+07,  -1.64670971e+08,  -5.80048372e+07,\n",
       "         -8.06350694e+07,  -6.03812408e+07]),\n",
       " array([ -4.78529227e+07,  -1.07071341e+08,  -3.57061139e+07,\n",
       "         -3.66673171e+07,  -2.42406447e+07]),\n",
       " array([ -956054.28691256,  -350058.09451875,  -388815.83378346,\n",
       "        -1956329.21150864, -8785257.40985005])]"
      ]
     },
     "execution_count": 15,
     "metadata": {},
     "output_type": "execute_result"
    }
   ],
   "source": [
    "results_mse_t"
   ]
  },
  {
   "cell_type": "code",
   "execution_count": 16,
   "metadata": {},
   "outputs": [
    {
     "data": {
      "image/png": "[encoded data removed]",
      "text/plain": [
       "<Figure size 432x288 with 1 Axes>"
      ]
     },
     "metadata": {
      "needs_background": "light"
     },
     "output_type": "display_data"
    }
   ],
   "source": [
    "# boxplot algorithm comparison\n",
    "fig = plt.figure()\n",
    "fig.suptitle('Algorithm Comparison')\n",
    "ax = fig.add_subplot(111)\n",
    "plt.boxplot(results_mse_t)\n",
    "ax.set_xticklabels(names_t)\n",
    "plt.show()"
   ]
  },
  {
   "cell_type": "code",
   "execution_count": 17,
   "metadata": {},
   "outputs": [
    {
     "data": {
      "image/png": "[encoded data removed]",
      "text/plain": [
       "<Figure size 432x288 with 1 Axes>"
      ]
     },
     "metadata": {
      "needs_background": "light"
     },
     "output_type": "display_data"
    }
   ],
   "source": [
    "# boxplot algorithm comparison\n",
    "fig = plt.figure()\n",
    "fig.suptitle('Algorithm Comparison')\n",
    "ax = fig.add_subplot(111)\n",
    "plt.boxplot(results_r2_t)\n",
    "ax.set_xticklabels(names_t)\n",
    "plt.show()"
   ]
  },
  {
   "cell_type": "code",
   "execution_count": 18,
   "metadata": {},
   "outputs": [
    {
     "data": {
      "text/plain": [
       "<matplotlib.axes._subplots.AxesSubplot at 0x1da855eed68>"
      ]
     },
     "execution_count": 18,
     "metadata": {},
     "output_type": "execute_result"
    },
    {
     "data": {
      "image/png": "[encoded data removed]",
      "text/plain": [
       "<Figure size 1080x576 with 4 Axes>"
      ]
     },
     "metadata": {
      "needs_background": "light"
     },
     "output_type": "display_data"
    }
   ],
   "source": [
    "# plot categorical variables\n",
    "fcols = 2\n",
    "frows = 2\n",
    "plt.figure(figsize=(15,4*frows))\n",
    "\n",
    "plt.subplot(2,2,1)\n",
    "sns.boxplot(names, results_mse)\n",
    "\n",
    "plt.subplot(2,2,2)\n",
    "sns.boxplot(names, results_r2)\n",
    "\n",
    "plt.subplot(2,2,3)\n",
    "sns.boxplot(names, results_mse_t)\n",
    "\n",
    "plt.subplot(2,2,4)\n",
    "sns.boxplot(names, results_r2_t)"
   ]
  },
  {
   "cell_type": "code",
   "execution_count": null,
   "metadata": {},
   "outputs": [],
   "source": [
    "models_t[0]"
   ]
  },
  {
   "cell_type": "code",
   "execution_count": null,
   "metadata": {},
   "outputs": [],
   "source": []
  }
 ],
 "metadata": {
  "kernelspec": {
   "display_name": "Python 3",
   "language": "python",
   "name": "python3"
  },
  "language_info": {
   "codemirror_mode": {
    "name": "ipython",
    "version": 3
   },
   "file_extension": ".py",
   "mimetype": "text/x-python",
   "name": "python",
   "nbconvert_exporter": "python",
   "pygments_lexer": "ipython3",
   "version": "3.7.0"
  }
 },
 "nbformat": 4,
 "nbformat_minor": 2
}
