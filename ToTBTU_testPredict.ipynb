{
 "cells": [
  {
   "cell_type": "code",
   "execution_count": 1,
   "metadata": {},
   "outputs": [],
   "source": [
    "# Dependencies\n",
    "import matplotlib.pyplot as plt\n",
    "%matplotlib inline\n",
    "import pandas as pd\n",
    "import numpy as np\n",
    "import seaborn as sns\n",
    "import os \n",
    "from generateXdata import generateX\n",
    "\n",
    "# Load in csv\n",
    "\n",
    "#raw_df = pd.read_csv(\"C:/Users/admin/Documents/SMU/Final Project/Data/recs2015.csv\")\n",
    "filepath = os.path.join(\"dataforfinalproject\",\"RECS_COMBINED_DATA.csv\")\n",
    "raw_df=pd.read_csv(filepath)\n",
    "colmns_file = os.path.join(\"dataforfinalproject\",\"Final_Columns_withCat.csv\")\n",
    "cols_file=pd.read_csv(colmns_file)"
   ]
  },
  {
   "cell_type": "code",
   "execution_count": null,
   "metadata": {},
   "outputs": [],
   "source": [
    "# read the columns from Columns csv\n",
    "df_cols = pd.read_csv(colmns_file)\n",
    "df_cols\n",
    "# df_cols.columns"
   ]
  },
  {
   "cell_type": "code",
   "execution_count": null,
   "metadata": {},
   "outputs": [],
   "source": [
    "raw_df.describe()\n"
   ]
  },
  {
   "cell_type": "code",
   "execution_count": 2,
   "metadata": {},
   "outputs": [],
   "source": [
    "#from sklearn.preprocessing import StandardScaler\n",
    "#features =raw_df[[']]"
   ]
  },
  {
   "cell_type": "markdown",
   "metadata": {},
   "source": [
    "# Data Preparation\n"
   ]
  },
  {
   "cell_type": "code",
   "execution_count": 43,
   "metadata": {},
   "outputs": [],
   "source": [
    "# Extract features and labels\n",
    "labels = raw_df['TOTALBTU']\n",
    "#labels = raw_df['TOTALDOLLAR']\n",
    "#raw_df = features.drop('TYPEHUQ', axis = 1)"
   ]
  },
  {
   "cell_type": "code",
   "execution_count": 44,
   "metadata": {},
   "outputs": [],
   "source": [
    "# List of features for later use\n",
    "\n",
    "#model = df_cols[df_cols.FEATURES_MODEL == \"Y\"].COLUMN_NAME\n",
    "#modelDF=model.drop(columns=['TOTALBTU'])\n",
    "\n",
    "#feature=modelDF\n",
    "#print(modelDF)\n",
    "#features = list(features.columns)"
   ]
  },
  {
   "cell_type": "code",
   "execution_count": 45,
   "metadata": {
    "scrolled": true
   },
   "outputs": [
    {
     "name": "stdout",
     "output_type": "stream",
     "text": [
      " X Features shape : (22591, 87)\n",
      "cols with values as 99 and -2: ['CELLAR', 'STORIES', 'PRKGPLC1', 'BEDROOMS', 'FUELPOOL', 'SIZRFRI1', 'TYPERFR1', 'AGERFRI1', 'SIZRFRI2', 'TYPERFR2', 'AGERFRI2', 'NUMFREEZ', 'SIZFREEZ', 'AGEFRZR', 'STOVENFUEL', 'OVENUSE', 'AMTMICRO', 'DWASHUSE', 'WASHLOAD', 'WASHTEMP', 'EQUIPM', 'FUELHEAT', 'EQUIPAGE', 'PROTHERM', 'TEMPHOME', 'TEMPGONE', 'TEMPNITE', 'AGECENAC', 'USECENAC', 'NUMBERAC', 'WWACAGE', 'USEWWAC', 'FUELH2O', 'WHEATAGE', 'WHEATSIZ', 'LGTOUTNUM', 'ESDISHW', 'PGASHEAT', 'WOODAMT'] \n",
      "\n",
      "Duplicate Count : 0\n",
      "shape of X is (22591, 79)\n"
     ]
    }
   ],
   "source": [
    "# Convert to numpy array\n",
    "features_X,columns_names = generateX()\n"
   ]
  },
  {
   "cell_type": "code",
   "execution_count": 46,
   "metadata": {},
   "outputs": [],
   "source": [
    "# Using Skicit-learn to split data into training and testing sets\n",
    "from sklearn.model_selection import train_test_split\n",
    "\n",
    "# Split the data into training and testing sets\n",
    "train_features, test_features, train_labels, test_labels = train_test_split(features_X, labels, test_size = 0.25, random_state = 42)"
   ]
  },
  {
   "cell_type": "code",
   "execution_count": 47,
   "metadata": {},
   "outputs": [
    {
     "name": "stdout",
     "output_type": "stream",
     "text": [
      "Training Features Shape: (16943, 79)\n",
      "Training Labels Shape: (16943,)\n",
      "Testing Features Shape: (5648, 79)\n",
      "Testing Labels Shape: (5648,)\n"
     ]
    }
   ],
   "source": [
    "print('Training Features Shape:', train_features.shape)\n",
    "print('Training Labels Shape:', train_labels.shape)\n",
    "print('Testing Features Shape:', test_features.shape)\n",
    "print('Testing Labels Shape:', test_labels.shape)"
   ]
  },
  {
   "cell_type": "code",
   "execution_count": 48,
   "metadata": {},
   "outputs": [],
   "source": [
    "# Import the model we are using\n",
    "from sklearn.ensemble import RandomForestRegressor\n",
    "\n",
    "# Instantiate model with 50 decision trees\n",
    "\n",
    "rf = RandomForestRegressor(n_estimators = 50, random_state = 42, max_depth = 11)\n",
    "\n",
    "# Train the model on training data\n",
    "#rf.fit(test_features, test_labels);\n",
    "\n",
    "rf.fit(train_features, train_labels);"
   ]
  },
  {
   "cell_type": "code",
   "execution_count": 51,
   "metadata": {},
   "outputs": [
    {
     "name": "stdout",
     "output_type": "stream",
     "text": [
      "81208207.17744444\n",
      "0.9710371852362698\n"
     ]
    }
   ],
   "source": [
    "from sklearn.metrics import mean_squared_error\n",
    "predictions = rf.predict(train_features)\n",
    "#predictions = rf.predict(test_features)\n",
    "MSE = mean_squared_error(train_labels, predictions)\n",
    "\n",
    "r2 = rf.score(train_features, train_labels)\n",
    "print(MSE)\n",
    "print(r2)\n"
   ]
  },
  {
   "cell_type": "code",
   "execution_count": null,
   "metadata": {},
   "outputs": [],
   "source": [
    "# Random Forests in sklearn will automatically calculate feature importance\n",
    "importances = rf.feature_importances_\n",
    "importances"
   ]
  },
  {
   "cell_type": "code",
   "execution_count": 8,
   "metadata": {},
   "outputs": [
    {
     "data": {
      "text/plain": [
       "[(0.5740817479459956, 'CUFEETNG'),\n",
       " (0.15897511491609473, 'BTUELOTH'),\n",
       " (0.12409394754105363, 'BTUFO'),\n",
       " (0.07037183655483216, 'BTUEL'),\n",
       " (0.04383269100294695, 'GALLONLP'),\n",
       " (0.014022310423175845, 'FUELHEAT'),\n",
       " (0.0015446169144295507, 'TOTHSQFT'),\n",
       " (0.0014734906041629036, 'HDD65'),\n",
       " (0.0010885432634708733, 'BTUELCOL'),\n",
       " (0.0006102878735294933, 'BTUELRFG'),\n",
       " (0.0006094527815563363, 'FUELH2O'),\n",
       " (0.0005473932899472626, 'TOTCSQFT'),\n",
       " (0.0005315907244908895, 'TVAUDIOEQUIP'),\n",
       " (0.0004784939463668426, 'NHAFBATH'),\n",
       " (0.0004034430721856101, 'BTUELWTH'),\n",
       " (0.0003281121226464774, 'CDD65'),\n",
       " (0.00032474888988110937, 'YEARMADE'),\n",
       " (0.0002688739937532728, 'LGTOUTNUM'),\n",
       " (0.0002672183242893885, 'HHAGE'),\n",
       " (0.0002547082683988397, 'TOTUSQFT'),\n",
       " (0.00022491031271005724, 'OTHROOMS'),\n",
       " (0.00021032961366761825, 'TEMPHOME'),\n",
       " (0.0002095914084738882, 'TEMPGONE'),\n",
       " (0.00020627782518242973, 'BTUELSPH'),\n",
       " (0.0001946664163426301, 'TEMPNITE'),\n",
       " (0.00019319966768618232, 'WASHLOAD'),\n",
       " (0.00019078045244133948, 'OCCUPYY'),\n",
       " (0.0001900567203946123, 'TYPERFR1'),\n",
       " (0.00018359794763558838, 'WWACAGE'),\n",
       " (0.00018228535918965005, 'NUMCFAN'),\n",
       " (0.00017973079606445512, 'EQUIPAGE'),\n",
       " (0.00016570446662632083, 'MONEYPY'),\n",
       " (0.00015754324614918077, 'AMTMICRO'),\n",
       " (0.00014943786754142326, 'PCOFFEQUIP'),\n",
       " (0.00014457572857645143, 'DWASHUSE'),\n",
       " (0.000143589799240982, 'WINDOWS'),\n",
       " (0.0001421980163189661, 'DIVISION'),\n",
       " (0.00013590304134597096, 'NHSLDMEM'),\n",
       " (0.0001315446146297801, 'TOTROOMS'),\n",
       " (0.00013115800080228254, 'AGERFRI2'),\n",
       " (0.0001245610133669767, 'WHEATAGE'),\n",
       " (0.00011682208345504581, 'BEDROOMS'),\n",
       " (0.00011640855855682846, 'NUMMEAL'),\n",
       " (0.00010396352239100238, 'OVENUSE'),\n",
       " (9.417206281531684e-05, 'AGECENAC'),\n",
       " (9.093961208151264e-05, 'USECENAC'),\n",
       " (8.885826352753712e-05, 'AGEFRZR'),\n",
       " (8.781725026607516e-05, 'PHONE'),\n",
       " (7.933932941058282e-05, 'STOVENFUEL'),\n",
       " (7.920699356570008e-05, 'EQUIPM'),\n",
       " (7.790106542346119e-05, 'NUMFRIG'),\n",
       " (7.52329197816811e-05, 'AGERFRI1'),\n",
       " (7.501900787833466e-05, 'ADQINSUL'),\n",
       " (7.052766370706569e-05, 'SIZRFRI2'),\n",
       " (6.980126612145353e-05, 'NUMBERAC'),\n",
       " (6.878570164986657e-05, 'SIZFREEZ'),\n",
       " (6.810149261707084e-05, 'TYPERFR2'),\n",
       " (6.689076662310802e-05, 'NCOMBATH'),\n",
       " (5.772205714937462e-05, 'PROTHERM'),\n",
       " (5.646342472662505e-05, 'PGASHEAT'),\n",
       " (5.6010647990867596e-05, 'STORIES'),\n",
       " (5.59790101214606e-05, 'WASHTEMP'),\n",
       " (5.528723857579091e-05, 'RECBATH'),\n",
       " (5.03885467168266e-05, 'REGIONC'),\n",
       " (4.92538403943709e-05, 'EMPLOYHH'),\n",
       " (4.919725843183568e-05, 'DRAFTY'),\n",
       " (4.518469445919285e-05, 'CELLAR'),\n",
       " (4.381628944966144e-05, 'USEWWAC'),\n",
       " (4.3475480984896395e-05, 'WHEATSIZ'),\n",
       " (4.3136501038205976e-05, 'WOODAMT'),\n",
       " (4.2930029414204204e-05, 'SIZRFRI1'),\n",
       " (4.17825782405462e-05, 'HHSEX'),\n",
       " (4.062528009082312e-05, 'ESDISHW'),\n",
       " (3.594012835057937e-05, 'LPWATER'),\n",
       " (2.6856616758164775e-05, 'PRKGPLC1'),\n",
       " (2.4687644788076402e-05, 'NUMFREEZ'),\n",
       " (1.7643318623258725e-05, 'FUELPOOL'),\n",
       " (1.6952190696355133e-05, 'ELECAUX'),\n",
       " (1.6614895532595376e-05, 'HOUSEHOLDER_RACE')]"
      ]
     },
     "execution_count": 8,
     "metadata": {},
     "output_type": "execute_result"
    }
   ],
   "source": [
    "# We can sort the features by their importance\n",
    "df=pd.DataFrame(sorted(zip(rf.feature_importances_,columns_names), reverse=True))"
   ]
  },
  {
   "cell_type": "code",
   "execution_count": null,
   "metadata": {},
   "outputs": [],
   "source": [
    "#g = sns.pairplot(raw_df,\n",
    "#x_vars=[\"TOTALBTU\", \"TOTALDOLLAR\"],\n",
    "#y_vars=[\"BTUNG\", 'BTUELAHUHEAT','BTUEL','DOLLAREL', 'CUFEETNG','GALLONFO','BTUFO','GALLONLP','BTULP','DOLLARFO'])"
   ]
  },
  {
   "cell_type": "code",
   "execution_count": null,
   "metadata": {},
   "outputs": [],
   "source": []
  }
 ],
 "metadata": {
  "kernelspec": {
   "display_name": "Python 3",
   "language": "python",
   "name": "python3"
  },
  "language_info": {
   "codemirror_mode": {
    "name": "ipython",
    "version": 3
   },
   "file_extension": ".py",
   "mimetype": "text/x-python",
   "name": "python",
   "nbconvert_exporter": "python",
   "pygments_lexer": "ipython3",
   "version": "3.7.0"
  }
 },
 "nbformat": 4,
 "nbformat_minor": 2
}
