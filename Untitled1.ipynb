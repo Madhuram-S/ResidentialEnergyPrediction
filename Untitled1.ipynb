{
 "cells": [
  {
   "cell_type": "code",
   "execution_count": 2,
   "metadata": {},
   "outputs": [
    {
     "name": "stdout",
     "output_type": "stream",
     "text": [
      "[1, 6, 3, 2, 5, 4]\n"
     ]
    }
   ],
   "source": [
    "import random\n",
    "numlst = []\n",
    "while len(numlst) < 6:\n",
    "     rnd = random.randint(1,6)\n",
    "     if rnd in numlst:\n",
    "         continue\n",
    "     else:\n",
    "         numlst += [rnd]\n",
    "\n",
    "print(numlst)"
   ]
  },
  {
   "cell_type": "code",
   "execution_count": null,
   "metadata": {},
   "outputs": [],
   "source": []
  }
 ],
 "metadata": {
  "kernelspec": {
   "display_name": "Python 3",
   "language": "python",
   "name": "python3"
  },
  "language_info": {
   "codemirror_mode": {
    "name": "ipython",
    "version": 3
   },
   "file_extension": ".py",
   "mimetype": "text/x-python",
   "name": "python",
   "nbconvert_exporter": "python",
   "pygments_lexer": "ipython3",
   "version": "3.7.0"
  }
 },
 "nbformat": 4,
 "nbformat_minor": 2
}
