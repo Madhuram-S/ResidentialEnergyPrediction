{
 "cells": [
  {
   "cell_type": "code",
   "execution_count": 1,
   "metadata": {},
   "outputs": [],
   "source": [
    "import pandas as pd\n",
    "import matplotlib.pyplot as plt"
   ]
  },
  {
   "cell_type": "code",
   "execution_count": 2,
   "metadata": {},
   "outputs": [],
   "source": [
    "import seaborn as sns"
   ]
  },
  {
   "cell_type": "code",
   "execution_count": 3,
   "metadata": {},
   "outputs": [],
   "source": [
    "from feature_selector import FeatureSelector"
   ]
  },
  {
   "cell_type": "code",
   "execution_count": 4,
   "metadata": {},
   "outputs": [],
   "source": [
    "from sklearn.preprocessing import StandardScaler"
   ]
  },
  {
   "cell_type": "code",
   "execution_count": 5,
   "metadata": {},
   "outputs": [
    {
     "name": "stderr",
     "output_type": "stream",
     "text": [
      "C:\\Users\\lalit\\Anaconda3\\envs\\pythondata\\lib\\site-packages\\IPython\\core\\interactiveshell.py:3020: DtypeWarning: Columns (148,149,150,151) have mixed types. Specify dtype option on import or set low_memory=False.\n",
      "  interactivity=interactivity, compiler=compiler, result=result)\n"
     ]
    },
    {
     "data": {
      "text/html": [
       "<div>\n",
       "<style scoped>\n",
       "    .dataframe tbody tr th:only-of-type {\n",
       "        vertical-align: middle;\n",
       "    }\n",
       "\n",
       "    .dataframe tbody tr th {\n",
       "        vertical-align: top;\n",
       "    }\n",
       "\n",
       "    .dataframe thead th {\n",
       "        text-align: right;\n",
       "    }\n",
       "</style>\n",
       "<table border=\"1\" class=\"dataframe\">\n",
       "  <thead>\n",
       "    <tr style=\"text-align: right;\">\n",
       "      <th></th>\n",
       "      <th>RECSYEAR</th>\n",
       "      <th>DOEID</th>\n",
       "      <th>REGIONC</th>\n",
       "      <th>DIVISION</th>\n",
       "      <th>TYPEHUQ</th>\n",
       "      <th>CELLAR</th>\n",
       "      <th>STORIES</th>\n",
       "      <th>PRKGPLC1</th>\n",
       "      <th>YEARMADE</th>\n",
       "      <th>OCCUPYY</th>\n",
       "      <th>...</th>\n",
       "      <th>WDPELLET</th>\n",
       "      <th>WDOTHER</th>\n",
       "      <th>WDWARM</th>\n",
       "      <th>WDWATER</th>\n",
       "      <th>USESOLAR</th>\n",
       "      <th>SOLWATER</th>\n",
       "      <th>SOLOTHER</th>\n",
       "      <th>TVAUDIOEQUIP</th>\n",
       "      <th>PCOFFEQUIP</th>\n",
       "      <th>PHONE</th>\n",
       "    </tr>\n",
       "  </thead>\n",
       "  <tbody>\n",
       "    <tr>\n",
       "      <th>0</th>\n",
       "      <td>2001</td>\n",
       "      <td>1001</td>\n",
       "      <td>1</td>\n",
       "      <td>1</td>\n",
       "      <td>2</td>\n",
       "      <td>1</td>\n",
       "      <td>31</td>\n",
       "      <td>1</td>\n",
       "      <td>9</td>\n",
       "      <td>9</td>\n",
       "      <td>...</td>\n",
       "      <td>9</td>\n",
       "      <td>0</td>\n",
       "      <td>0</td>\n",
       "      <td>0</td>\n",
       "      <td>0</td>\n",
       "      <td>0</td>\n",
       "      <td>0</td>\n",
       "      <td>8</td>\n",
       "      <td>2</td>\n",
       "      <td>3</td>\n",
       "    </tr>\n",
       "    <tr>\n",
       "      <th>1</th>\n",
       "      <td>2001</td>\n",
       "      <td>1002</td>\n",
       "      <td>3</td>\n",
       "      <td>7</td>\n",
       "      <td>2</td>\n",
       "      <td>0</td>\n",
       "      <td>10</td>\n",
       "      <td>1</td>\n",
       "      <td>7</td>\n",
       "      <td>9</td>\n",
       "      <td>...</td>\n",
       "      <td>9</td>\n",
       "      <td>0</td>\n",
       "      <td>0</td>\n",
       "      <td>0</td>\n",
       "      <td>0</td>\n",
       "      <td>0</td>\n",
       "      <td>0</td>\n",
       "      <td>7</td>\n",
       "      <td>2</td>\n",
       "      <td>3</td>\n",
       "    </tr>\n",
       "    <tr>\n",
       "      <th>2</th>\n",
       "      <td>2001</td>\n",
       "      <td>1003</td>\n",
       "      <td>4</td>\n",
       "      <td>9</td>\n",
       "      <td>2</td>\n",
       "      <td>0</td>\n",
       "      <td>20</td>\n",
       "      <td>1</td>\n",
       "      <td>4</td>\n",
       "      <td>1</td>\n",
       "      <td>...</td>\n",
       "      <td>9</td>\n",
       "      <td>0</td>\n",
       "      <td>0</td>\n",
       "      <td>0</td>\n",
       "      <td>0</td>\n",
       "      <td>0</td>\n",
       "      <td>0</td>\n",
       "      <td>9</td>\n",
       "      <td>0</td>\n",
       "      <td>3</td>\n",
       "    </tr>\n",
       "    <tr>\n",
       "      <th>3</th>\n",
       "      <td>2001</td>\n",
       "      <td>1004</td>\n",
       "      <td>1</td>\n",
       "      <td>1</td>\n",
       "      <td>2</td>\n",
       "      <td>1</td>\n",
       "      <td>31</td>\n",
       "      <td>1</td>\n",
       "      <td>1</td>\n",
       "      <td>2</td>\n",
       "      <td>...</td>\n",
       "      <td>0</td>\n",
       "      <td>0</td>\n",
       "      <td>1</td>\n",
       "      <td>0</td>\n",
       "      <td>0</td>\n",
       "      <td>0</td>\n",
       "      <td>0</td>\n",
       "      <td>12</td>\n",
       "      <td>6</td>\n",
       "      <td>3</td>\n",
       "    </tr>\n",
       "    <tr>\n",
       "      <th>4</th>\n",
       "      <td>2001</td>\n",
       "      <td>1005</td>\n",
       "      <td>4</td>\n",
       "      <td>9</td>\n",
       "      <td>2</td>\n",
       "      <td>0</td>\n",
       "      <td>10</td>\n",
       "      <td>1</td>\n",
       "      <td>3</td>\n",
       "      <td>9</td>\n",
       "      <td>...</td>\n",
       "      <td>9</td>\n",
       "      <td>0</td>\n",
       "      <td>0</td>\n",
       "      <td>0</td>\n",
       "      <td>0</td>\n",
       "      <td>0</td>\n",
       "      <td>0</td>\n",
       "      <td>6</td>\n",
       "      <td>2</td>\n",
       "      <td>3</td>\n",
       "    </tr>\n",
       "  </tbody>\n",
       "</table>\n",
       "<p>5 rows × 199 columns</p>\n",
       "</div>"
      ],
      "text/plain": [
       "   RECSYEAR  DOEID  REGIONC  DIVISION  TYPEHUQ  CELLAR  STORIES  PRKGPLC1  \\\n",
       "0      2001   1001        1         1        2       1       31         1   \n",
       "1      2001   1002        3         7        2       0       10         1   \n",
       "2      2001   1003        4         9        2       0       20         1   \n",
       "3      2001   1004        1         1        2       1       31         1   \n",
       "4      2001   1005        4         9        2       0       10         1   \n",
       "\n",
       "   YEARMADE  OCCUPYY  ...    WDPELLET  WDOTHER  WDWARM  WDWATER  USESOLAR  \\\n",
       "0         9        9  ...           9        0       0        0         0   \n",
       "1         7        9  ...           9        0       0        0         0   \n",
       "2         4        1  ...           9        0       0        0         0   \n",
       "3         1        2  ...           0        0       1        0         0   \n",
       "4         3        9  ...           9        0       0        0         0   \n",
       "\n",
       "   SOLWATER  SOLOTHER  TVAUDIOEQUIP  PCOFFEQUIP  PHONE  \n",
       "0         0         0             8           2      3  \n",
       "1         0         0             7           2      3  \n",
       "2         0         0             9           0      3  \n",
       "3         0         0            12           6      3  \n",
       "4         0         0             6           2      3  \n",
       "\n",
       "[5 rows x 199 columns]"
      ]
     },
     "execution_count": 5,
     "metadata": {},
     "output_type": "execute_result"
    }
   ],
   "source": [
    "train = pd.read_csv('RECS_COMBINED_DATA.csv')\n",
    "train_labels = train['TOTALBTU']\n",
    "train.head()"
   ]
  },
  {
   "cell_type": "code",
   "execution_count": 6,
   "metadata": {},
   "outputs": [],
   "source": [
    "train = train.drop(columns = ['RECSYEAR','DOEID'])"
   ]
  },
  {
   "cell_type": "code",
   "execution_count": 7,
   "metadata": {},
   "outputs": [],
   "source": [
    "train = train.drop(columns = ['PERIODFO','PERIODLP','PERIODEL','PERIODNG','NWEIGHT'])"
   ]
  },
  {
   "cell_type": "code",
   "execution_count": 66,
   "metadata": {},
   "outputs": [],
   "source": [
    "#train=train.drop(columns=[\"ZTYPEHUQ\",\"ZCELLAR\",\"ZBASEFIN\",\"ZATTIC\",\"ZATTICFIN\",\"ZSTORIES\",\"ZPRKGPLC1\",\"ZSIZEOFGARAGE\",\"ZKOWNRENT\",\"ZYEARMADERANGE\",\"ZOCCUPYYRANGE\",\"ZSTUDIO\",\"ZBEDROOMS\",\"ZNCOMBATH\",\"ZNHAFBATH\",\"ZOTHROOMS\",\"ZTOTROOMS\",\"ZWALLTYPE\",\"ZROOFTYPE\",\"ZHIGHCEIL\",\"ZDOOR1SUM\",\"ZWINDOWS\",\"ZTYPEGLASS\",\"ZWINFRAME\",\"ZADQINSUL\",\"ZDRAFTY\",\"ZUGASHERE\",\"ZSWIMPOOL\",\"ZMONPOOL\",\"ZPOOL\",\"ZFUELPOOL\",\"ZRECBATH\",\"ZMONTUB\",\"ZFUELTUB\",\"ZOUTLET\",\"ZALTFUELPEV\",\"ZBACKUP\",\"ZNUMFRIG\",\"ZSIZRFRI1\",\"ZTYPERFR1\",\"ZAGERFRI1\",\"ZICE\",\"ZSIZRFRI2\",\"ZTYPERFR2\",\"ZAGERFRI2\",\"ZLOCRFRI2\",\"ZNUMFREEZ\",\"ZUPRTFRZR\",\"ZSIZFREEZ\",\"ZAGEFRZR\",\"ZSTOVEN\",\"ZSTOVENFUEL\",\"ZDUALCOOKTFUEL\",\"ZDUALOVENFUEL\",\"ZCOOKTUSE\",\"ZOVENUSE\",\"ZSTOVE\",\"ZSTOVEFUEL\",\"ZSEPCOOKTUSE\",\"ZOVEN\",\"ZOVENFUEL\",\"ZSEPOVENUSE\",\"ZMICRO\",\"ZAMTMICRO\",\"ZOUTGRILL\",\"ZOUTGRILLFUEL\",\"ZNUMMEAL\",\"ZTOAST\",\"ZTOASTOVN\",\"ZCOFFEE\",\"ZCROCKPOT\",\"ZFOODPROC\",\"ZRICECOOK\",\"ZBLENDER\",\"ZAPPOTHER\",\"ZDISHWASH\",\"ZDWASHUSE\",\"ZDWCYCLE\",\"ZAGEDW\",\"ZCWASHER\",\"ZTOPFRONT\",\"ZWASHLOAD\",\"ZWASHTEMP\",\"ZRNSETEMP\",\"ZAGECWASH\",\"ZDRYER\",\"ZDRYRFUEL\",\"ZDRYRUSE\",\"ZAGECDRYER\",\"ZTVCOLOR\",\"ZTVSIZE1\",\"ZTVTYPE1\",\"ZTVONWD1\",\"ZTVONWE1\",\"ZTVSIZE2\",\"ZTVTYPE2\",\"ZTVONWD2\",\"ZTVONWE2\",\"ZCABLESAT\",\"ZCOMBODVR\",\"ZSEPDVR\",\"ZPLAYSTA\",\"ZDVD\",\"ZVCR\",\"ZINTSTREAM\",\"ZTVAUDIOSYS\",\"ZDESKTOP\",\"ZNUMLAPTOP\",\"ZNUMTABLET\",\"ZELPERIPH\",\"ZNUMSMPHONE\",\"ZCELLPHONE\",\"ZINTERNET\",\"ZINWIRELESS\",\"ZHEATHOME\",\"ZDNTHEAT\",\"ZEQUIPM\",\"ZFUELHEAT\",\"ZEQUIPAGE\",\"ZTHERMAIN\",\"ZPROTHERM\",\"ZEQUIPMUSE\",\"ZTEMPHOME\",\"ZTEMPGONE\",\"ZTEMPNITE\",\"ZEQUIPAUX\",\"ZEQUIPAUXTYPE\",\"ZFUELAUX\",\"ZBASEHEAT\",\"ZATTCHEAT\",\"ZGARGHEAT\",\"ZMOISTURE\",\"ZUSEMOISTURE\",\"ZAIRCOND\",\"ZCOOLTYPE\",\"ZCENACHP\",\"ZAGECENAC\",\"ZTHERMAINAC\",\"ZPROTHERMAC\",\"ZUSECENAC\",\"ZNUMBERAC\",\"ZWWACAGE\",\"ZUSEWWAC\",\"ZTEMPHOMEAC\",\"ZTEMPGONEAC\",\"ZTEMPNITEAC\",\"ZBASECOOL\",\"ZATTCCOOL\",\"ZGARGCOOL\",\"ZSWAMPCOL\",\"ZNUMCFAN\",\"ZNUMFLOORFAN\",\"ZNUMWHOLEFAN\",\"ZNUMATTICFAN\",\"ZNOTMOIST\",\"ZUSENOTMOIST\",\"ZFUELH2O\",\"ZH2OHEATAPT\",\"ZWHEATAGE\",\"ZWHEATSIZ\",\"ZMORETHAN1H2O\",\"ZFUELH2O2\",\"ZLGTINNUM\",\"ZLGTIN4\",\"ZLGTINCAN\",\"ZLGTINCFL\",\"ZLGTINLED\",\"ZLGTINCNTL\",\"ZLGTOUTNUM\",\"ZLGTOUTCNTL\",\"ZELPAY\",\"ZNGPAY\",\"ZLPGPAY\",\"ZFOPAY\",\"ZHHSEX\",\"ZHHAGE\",\"ZEMPLOYHH\",\"ZSDESCENT\",\"ZHOUSEHOLDER_RACE\",\"ZEDUCATION\",\"ZNHSLDMEM\",\"ZNUMADULT\",\"ZNUMCHILD\",\"ZATHOME\",\"ZMONEYPY\",\"ZENERGYASST\",\"ZENERGYASST11\",\"ZENERGYASST12\",\"ZENERGYASST13\",\"ZENERGYASST14\",\"ZENERGYASST15\",\"ZENERGYASSTOTH\",\"ZSCALEB\",\"ZSCALEG\",\"ZSCALEE\",\"ZPAYHELP\",\"ZNOHEATBROKE\",\"ZNOHEATEL\",\"ZNOHEATNG\",\"ZNOHEATBULK\",\"ZNOHEATDAYS\",\"ZNOHEATHELP\",\"ZCOLDMA\",\"ZNOACBROKE\",\"ZNOACEL\",\"ZNOACDAYS\",\"ZNOACHELP\",\"ZHOTMA\",\"ZWOODLOGS\",\"ZWDPELLET\",\"ZTOTSQFT_EN\",\"ZWOODAMT\",\"ZPELLETAMT\",\"ZELAMOUNT\",\"ZNGAMOUNT\",\"ZFOAMOUNT\",\"ZLPAMOUNT\"])"
   ]
  },
  {
   "cell_type": "code",
   "execution_count": 89,
   "metadata": {},
   "outputs": [],
   "source": [
    "train_bk=train\n",
    "#train=train.drop(columns=['DOEID','METROMICRO','UATYP10','CLIMATE_REGION_PUB','IECC_CLIMATE_PUB','NGXBTU'])"
   ]
  },
  {
   "cell_type": "code",
   "execution_count": 14,
   "metadata": {
    "scrolled": true
   },
   "outputs": [
    {
     "data": {
      "text/plain": [
       "REGIONC         int64\n",
       "DIVISION        int64\n",
       "TYPEHUQ         int64\n",
       "CELLAR          int64\n",
       "STORIES         int64\n",
       "PRKGPLC1        int64\n",
       "YEARMADE        int64\n",
       "OCCUPYY         int64\n",
       "BEDROOMS        int64\n",
       "NCOMBATH        int64\n",
       "NHAFBATH        int64\n",
       "OTHROOMS        int64\n",
       "TOTROOMS        int64\n",
       "DOOR1SUM        int64\n",
       "WINDOWS         int64\n",
       "ADQINSUL        int64\n",
       "DRAFTY          int64\n",
       "UGASHERE        int64\n",
       "FUELPOOL        int64\n",
       "SIZRFRI1        int64\n",
       "TYPERFR1        int64\n",
       "AGERFRI1        int64\n",
       "ICE             int64\n",
       "SIZRFRI2        int64\n",
       "TYPERFR2        int64\n",
       "AGERFRI2        int64\n",
       "NUMFREEZ        int64\n",
       "SIZFREEZ        int64\n",
       "AGEFRZR         int64\n",
       "STOVENFUEL      int64\n",
       "                ...  \n",
       "AIRCOND         int64\n",
       "CENACHP         int64\n",
       "USEEL           int64\n",
       "ELWARM          int64\n",
       "ELCOOL          int64\n",
       "ELFOOD          int64\n",
       "ELOTHER         int64\n",
       "UGWARM          int64\n",
       "UGWATER         int64\n",
       "UGCOOK          int64\n",
       "UGOTH           int64\n",
       "USELP           int64\n",
       "LPWARM          int64\n",
       "LPWATER         int64\n",
       "LPCOOK          int64\n",
       "USEFO           int64\n",
       "FOWARM          int64\n",
       "FOWATER         int64\n",
       "USEWOOD         int64\n",
       "WOODLOGS        int64\n",
       "WDPELLET        int64\n",
       "WDOTHER         int64\n",
       "WDWARM          int64\n",
       "WDWATER         int64\n",
       "USESOLAR        int64\n",
       "SOLWATER        int64\n",
       "SOLOTHER        int64\n",
       "TVAUDIOEQUIP    int64\n",
       "PCOFFEQUIP      int64\n",
       "PHONE           int64\n",
       "Length: 197, dtype: object"
      ]
     },
     "execution_count": 14,
     "metadata": {},
     "output_type": "execute_result"
    }
   ],
   "source": [
    "train.dtypes"
   ]
  },
  {
   "cell_type": "code",
   "execution_count": 17,
   "metadata": {},
   "outputs": [
    {
     "name": "stdout",
     "output_type": "stream",
     "text": [
      "PERIODFO\n",
      "PERIODLP\n",
      "PERIODEL\n",
      "PERIODNG\n"
     ]
    }
   ],
   "source": [
    "for col in train :\n",
    "        if (train[col].dtype == 'object'): # for object type\n",
    "            print(col)"
   ]
  },
  {
   "cell_type": "code",
   "execution_count": 19,
   "metadata": {},
   "outputs": [],
   "source": [
    "train_scaler = pd.DataFrame(StandardScaler().fit_transform(train.values), columns=train.columns, index=train.index)"
   ]
  },
  {
   "cell_type": "code",
   "execution_count": 20,
   "metadata": {},
   "outputs": [],
   "source": [
    "train_labels_scaler = StandardScaler().fit_transform(train_labels.values.reshape(-1,1))"
   ]
  },
  {
   "cell_type": "code",
   "execution_count": 8,
   "metadata": {},
   "outputs": [],
   "source": [
    "fs = FeatureSelector(data = train, labels = train_labels)"
   ]
  },
  {
   "cell_type": "code",
   "execution_count": 9,
   "metadata": {},
   "outputs": [],
   "source": [
    "# fs.identify_all(selection_params = {'missing_threshold': 0.6, 'correlation_threshold': 0.98, \n",
    "#                                     'task': 'classification', 'eval_metric': 'auc', \n",
    "#                                      'cumulative_importance': 0.99})"
   ]
  },
  {
   "cell_type": "code",
   "execution_count": 10,
   "metadata": {},
   "outputs": [
    {
     "name": "stdout",
     "output_type": "stream",
     "text": [
      "0 features with greater than 0.60 missing values.\n",
      "\n"
     ]
    }
   ],
   "source": [
    "fs.identify_missing(missing_threshold=0.6)"
   ]
  },
  {
   "cell_type": "code",
   "execution_count": 11,
   "metadata": {},
   "outputs": [
    {
     "name": "stdout",
     "output_type": "stream",
     "text": [
      "0 features with a single unique value.\n",
      "\n"
     ]
    }
   ],
   "source": [
    "fs.identify_single_unique()"
   ]
  },
  {
   "cell_type": "code",
   "execution_count": 12,
   "metadata": {},
   "outputs": [
    {
     "data": {
      "text/plain": [
       "[]"
      ]
     },
     "execution_count": 12,
     "metadata": {},
     "output_type": "execute_result"
    }
   ],
   "source": [
    "single_unique = fs.ops['single_unique']\n",
    "single_unique"
   ]
  },
  {
   "cell_type": "code",
   "execution_count": 110,
   "metadata": {},
   "outputs": [
    {
     "data": {
      "text/html": [
       "<div>\n",
       "<style scoped>\n",
       "    .dataframe tbody tr th:only-of-type {\n",
       "        vertical-align: middle;\n",
       "    }\n",
       "\n",
       "    .dataframe tbody tr th {\n",
       "        vertical-align: top;\n",
       "    }\n",
       "\n",
       "    .dataframe thead th {\n",
       "        text-align: right;\n",
       "    }\n",
       "</style>\n",
       "<table border=\"1\" class=\"dataframe\">\n",
       "  <thead>\n",
       "    <tr style=\"text-align: right;\">\n",
       "      <th></th>\n",
       "      <th>nunique</th>\n",
       "    </tr>\n",
       "  </thead>\n",
       "  <tbody>\n",
       "    <tr>\n",
       "      <th>STORIES</th>\n",
       "      <td>8</td>\n",
       "    </tr>\n",
       "    <tr>\n",
       "      <th>PIPELESS</th>\n",
       "      <td>3</td>\n",
       "    </tr>\n",
       "    <tr>\n",
       "      <th>TOTCSQFT</th>\n",
       "      <td>4249</td>\n",
       "    </tr>\n",
       "    <tr>\n",
       "      <th>FUELPOOL</th>\n",
       "      <td>8</td>\n",
       "    </tr>\n",
       "    <tr>\n",
       "      <th>RNSETEMP</th>\n",
       "      <td>5</td>\n",
       "    </tr>\n",
       "  </tbody>\n",
       "</table>\n",
       "</div>"
      ],
      "text/plain": [
       "          nunique\n",
       "STORIES         8\n",
       "PIPELESS        3\n",
       "TOTCSQFT     4249\n",
       "FUELPOOL        8\n",
       "RNSETEMP        5"
      ]
     },
     "execution_count": 110,
     "metadata": {},
     "output_type": "execute_result"
    }
   ],
   "source": [
    "\n",
    "fs.unique_stats.sample(5)"
   ]
  },
  {
   "cell_type": "code",
   "execution_count": 13,
   "metadata": {},
   "outputs": [
    {
     "name": "stdout",
     "output_type": "stream",
     "text": [
      "40 features with a correlation magnitude greater than 0.98.\n",
      "\n"
     ]
    }
   ],
   "source": [
    "fs.identify_collinear(correlation_threshold=0.98)"
   ]
  },
  {
   "cell_type": "code",
   "execution_count": 14,
   "metadata": {},
   "outputs": [
    {
     "data": {
      "text/plain": [
       "['STEAMR', 'CARRYKER', 'RANGE', 'LPGAUX', 'OTHERAUX']"
      ]
     },
     "execution_count": 14,
     "metadata": {},
     "output_type": "execute_result"
    }
   ],
   "source": [
    "\n",
    "correlated_features = fs.ops['collinear']\n",
    "correlated_features[:5]"
   ]
  },
  {
   "cell_type": "code",
   "execution_count": 15,
   "metadata": {},
   "outputs": [
    {
     "data": {
      "text/plain": [
       "<matplotlib.axes._subplots.AxesSubplot at 0x1b1df3d8cf8>"
      ]
     },
     "execution_count": 15,
     "metadata": {},
     "output_type": "execute_result"
    },
    {
     "data": {
      "image/png": "[encoded data removed]",
      "text/plain": [
       "<Figure size 2160x2160 with 2 Axes>"
      ]
     },
     "metadata": {
      "needs_background": "light"
     },
     "output_type": "display_data"
    }
   ],
   "source": [
    "#corr_mat_plt= fs.corr_matrix\n",
    "corr_mat_plt = fs.corr_matrix.loc[list(set(fs.record_collinear['corr_feature'])), \n",
    "\t                                                list(set(fs.record_collinear['drop_feature']))]\n",
    "f, ax = plt.subplots(figsize=(30,30))\n",
    "        \n",
    "        # Diverging colormap\n",
    "cmap = sns.diverging_palette(220, 10, as_cmap=True)\n",
    "\n",
    "        # Draw the heatmap with a color bar\n",
    "sns.heatmap(corr_mat_plt, cmap=cmap, center=0,\n",
    "                    linewidths=.25, cbar_kws={\"shrink\": 0.6})\n"
   ]
  },
  {
   "cell_type": "code",
   "execution_count": 16,
   "metadata": {},
   "outputs": [
    {
     "data": {
      "text/html": [
       "<div>\n",
       "<style scoped>\n",
       "    .dataframe tbody tr th:only-of-type {\n",
       "        vertical-align: middle;\n",
       "    }\n",
       "\n",
       "    .dataframe tbody tr th {\n",
       "        vertical-align: top;\n",
       "    }\n",
       "\n",
       "    .dataframe thead th {\n",
       "        text-align: right;\n",
       "    }\n",
       "</style>\n",
       "<table border=\"1\" class=\"dataframe\">\n",
       "  <thead>\n",
       "    <tr style=\"text-align: right;\">\n",
       "      <th></th>\n",
       "      <th>drop_feature</th>\n",
       "      <th>corr_feature</th>\n",
       "      <th>corr_value</th>\n",
       "    </tr>\n",
       "  </thead>\n",
       "  <tbody>\n",
       "    <tr>\n",
       "      <th>0</th>\n",
       "      <td>STEAMR</td>\n",
       "      <td>REVERSE</td>\n",
       "      <td>0.981232</td>\n",
       "    </tr>\n",
       "    <tr>\n",
       "      <th>1</th>\n",
       "      <td>CARRYKER</td>\n",
       "      <td>STEAMR</td>\n",
       "      <td>0.982914</td>\n",
       "    </tr>\n",
       "    <tr>\n",
       "      <th>2</th>\n",
       "      <td>RANGE</td>\n",
       "      <td>STEAMR</td>\n",
       "      <td>0.985521</td>\n",
       "    </tr>\n",
       "    <tr>\n",
       "      <th>3</th>\n",
       "      <td>LPGAUX</td>\n",
       "      <td>UGASAUX</td>\n",
       "      <td>0.995799</td>\n",
       "    </tr>\n",
       "    <tr>\n",
       "      <th>4</th>\n",
       "      <td>OTHERAUX</td>\n",
       "      <td>WOODAUX</td>\n",
       "      <td>0.995659</td>\n",
       "    </tr>\n",
       "    <tr>\n",
       "      <th>5</th>\n",
       "      <td>BTULP</td>\n",
       "      <td>GALLONLP</td>\n",
       "      <td>0.999991</td>\n",
       "    </tr>\n",
       "    <tr>\n",
       "      <th>6</th>\n",
       "      <td>BTULPSPH</td>\n",
       "      <td>GALLONLP</td>\n",
       "      <td>0.999995</td>\n",
       "    </tr>\n",
       "    <tr>\n",
       "      <th>7</th>\n",
       "      <td>BTULPSPH</td>\n",
       "      <td>BTULP</td>\n",
       "      <td>0.999998</td>\n",
       "    </tr>\n",
       "    <tr>\n",
       "      <th>8</th>\n",
       "      <td>BTULPWTH</td>\n",
       "      <td>GALLONLP</td>\n",
       "      <td>0.999999</td>\n",
       "    </tr>\n",
       "    <tr>\n",
       "      <th>9</th>\n",
       "      <td>BTULPWTH</td>\n",
       "      <td>BTULP</td>\n",
       "      <td>0.999991</td>\n",
       "    </tr>\n",
       "    <tr>\n",
       "      <th>10</th>\n",
       "      <td>BTULPWTH</td>\n",
       "      <td>BTULPSPH</td>\n",
       "      <td>0.999994</td>\n",
       "    </tr>\n",
       "    <tr>\n",
       "      <th>11</th>\n",
       "      <td>BTULPOTH</td>\n",
       "      <td>GALLONLP</td>\n",
       "      <td>0.999999</td>\n",
       "    </tr>\n",
       "    <tr>\n",
       "      <th>12</th>\n",
       "      <td>BTULPOTH</td>\n",
       "      <td>BTULP</td>\n",
       "      <td>0.999990</td>\n",
       "    </tr>\n",
       "    <tr>\n",
       "      <th>13</th>\n",
       "      <td>BTULPOTH</td>\n",
       "      <td>BTULPSPH</td>\n",
       "      <td>0.999993</td>\n",
       "    </tr>\n",
       "    <tr>\n",
       "      <th>14</th>\n",
       "      <td>BTULPOTH</td>\n",
       "      <td>BTULPWTH</td>\n",
       "      <td>0.999999</td>\n",
       "    </tr>\n",
       "    <tr>\n",
       "      <th>15</th>\n",
       "      <td>BTUNG</td>\n",
       "      <td>CUFEETNG</td>\n",
       "      <td>0.999841</td>\n",
       "    </tr>\n",
       "    <tr>\n",
       "      <th>16</th>\n",
       "      <td>BTUNGSPH</td>\n",
       "      <td>CUFEETNG</td>\n",
       "      <td>0.999917</td>\n",
       "    </tr>\n",
       "    <tr>\n",
       "      <th>17</th>\n",
       "      <td>BTUNGSPH</td>\n",
       "      <td>BTUNG</td>\n",
       "      <td>0.999968</td>\n",
       "    </tr>\n",
       "    <tr>\n",
       "      <th>18</th>\n",
       "      <td>BTUNGWTH</td>\n",
       "      <td>CUFEETNG</td>\n",
       "      <td>0.999989</td>\n",
       "    </tr>\n",
       "    <tr>\n",
       "      <th>19</th>\n",
       "      <td>BTUNGWTH</td>\n",
       "      <td>BTUNG</td>\n",
       "      <td>0.999873</td>\n",
       "    </tr>\n",
       "    <tr>\n",
       "      <th>20</th>\n",
       "      <td>BTUNGWTH</td>\n",
       "      <td>BTUNGSPH</td>\n",
       "      <td>0.999920</td>\n",
       "    </tr>\n",
       "    <tr>\n",
       "      <th>21</th>\n",
       "      <td>BTUNGOTH</td>\n",
       "      <td>CUFEETNG</td>\n",
       "      <td>0.999994</td>\n",
       "    </tr>\n",
       "    <tr>\n",
       "      <th>22</th>\n",
       "      <td>BTUNGOTH</td>\n",
       "      <td>BTUNG</td>\n",
       "      <td>0.999831</td>\n",
       "    </tr>\n",
       "    <tr>\n",
       "      <th>23</th>\n",
       "      <td>BTUNGOTH</td>\n",
       "      <td>BTUNGSPH</td>\n",
       "      <td>0.999898</td>\n",
       "    </tr>\n",
       "    <tr>\n",
       "      <th>24</th>\n",
       "      <td>BTUNGOTH</td>\n",
       "      <td>BTUNGWTH</td>\n",
       "      <td>0.999983</td>\n",
       "    </tr>\n",
       "    <tr>\n",
       "      <th>25</th>\n",
       "      <td>BTUFOSPH</td>\n",
       "      <td>BTUFO</td>\n",
       "      <td>0.999998</td>\n",
       "    </tr>\n",
       "    <tr>\n",
       "      <th>26</th>\n",
       "      <td>BTUFOWTH</td>\n",
       "      <td>BTUFO</td>\n",
       "      <td>0.999979</td>\n",
       "    </tr>\n",
       "    <tr>\n",
       "      <th>27</th>\n",
       "      <td>BTUFOWTH</td>\n",
       "      <td>BTUFOSPH</td>\n",
       "      <td>0.999984</td>\n",
       "    </tr>\n",
       "    <tr>\n",
       "      <th>28</th>\n",
       "      <td>BTUFOOTH</td>\n",
       "      <td>BTUFO</td>\n",
       "      <td>0.999972</td>\n",
       "    </tr>\n",
       "    <tr>\n",
       "      <th>29</th>\n",
       "      <td>BTUFOOTH</td>\n",
       "      <td>BTUFOSPH</td>\n",
       "      <td>0.999979</td>\n",
       "    </tr>\n",
       "    <tr>\n",
       "      <th>...</th>\n",
       "      <td>...</td>\n",
       "      <td>...</td>\n",
       "      <td>...</td>\n",
       "    </tr>\n",
       "    <tr>\n",
       "      <th>115</th>\n",
       "      <td>TOTALBTUWTH</td>\n",
       "      <td>TOTALBTUSPH</td>\n",
       "      <td>0.999991</td>\n",
       "    </tr>\n",
       "    <tr>\n",
       "      <th>116</th>\n",
       "      <td>TOTALBTUOTH</td>\n",
       "      <td>TOTALBTU</td>\n",
       "      <td>0.999997</td>\n",
       "    </tr>\n",
       "    <tr>\n",
       "      <th>117</th>\n",
       "      <td>TOTALBTUOTH</td>\n",
       "      <td>TOTALBTUSPH</td>\n",
       "      <td>0.999987</td>\n",
       "    </tr>\n",
       "    <tr>\n",
       "      <th>118</th>\n",
       "      <td>TOTALBTUOTH</td>\n",
       "      <td>TOTALBTUWTH</td>\n",
       "      <td>0.999996</td>\n",
       "    </tr>\n",
       "    <tr>\n",
       "      <th>119</th>\n",
       "      <td>TOTALDOLLAR</td>\n",
       "      <td>TOTALBTU</td>\n",
       "      <td>0.999996</td>\n",
       "    </tr>\n",
       "    <tr>\n",
       "      <th>120</th>\n",
       "      <td>TOTALDOLLAR</td>\n",
       "      <td>TOTALBTUSPH</td>\n",
       "      <td>0.999990</td>\n",
       "    </tr>\n",
       "    <tr>\n",
       "      <th>121</th>\n",
       "      <td>TOTALDOLLAR</td>\n",
       "      <td>TOTALBTUWTH</td>\n",
       "      <td>0.999992</td>\n",
       "    </tr>\n",
       "    <tr>\n",
       "      <th>122</th>\n",
       "      <td>TOTALDOLLAR</td>\n",
       "      <td>TOTALBTUOTH</td>\n",
       "      <td>0.999996</td>\n",
       "    </tr>\n",
       "    <tr>\n",
       "      <th>123</th>\n",
       "      <td>TOTALDOLSPH</td>\n",
       "      <td>TOTALBTU</td>\n",
       "      <td>0.999990</td>\n",
       "    </tr>\n",
       "    <tr>\n",
       "      <th>124</th>\n",
       "      <td>TOTALDOLSPH</td>\n",
       "      <td>TOTALBTUSPH</td>\n",
       "      <td>0.999995</td>\n",
       "    </tr>\n",
       "    <tr>\n",
       "      <th>125</th>\n",
       "      <td>TOTALDOLSPH</td>\n",
       "      <td>TOTALBTUWTH</td>\n",
       "      <td>0.999985</td>\n",
       "    </tr>\n",
       "    <tr>\n",
       "      <th>126</th>\n",
       "      <td>TOTALDOLSPH</td>\n",
       "      <td>TOTALBTUOTH</td>\n",
       "      <td>0.999981</td>\n",
       "    </tr>\n",
       "    <tr>\n",
       "      <th>127</th>\n",
       "      <td>TOTALDOLSPH</td>\n",
       "      <td>TOTALDOLLAR</td>\n",
       "      <td>0.999989</td>\n",
       "    </tr>\n",
       "    <tr>\n",
       "      <th>128</th>\n",
       "      <td>TOTALDOLWTH</td>\n",
       "      <td>TOTALBTU</td>\n",
       "      <td>0.999997</td>\n",
       "    </tr>\n",
       "    <tr>\n",
       "      <th>129</th>\n",
       "      <td>TOTALDOLWTH</td>\n",
       "      <td>TOTALBTUSPH</td>\n",
       "      <td>0.999989</td>\n",
       "    </tr>\n",
       "    <tr>\n",
       "      <th>130</th>\n",
       "      <td>TOTALDOLWTH</td>\n",
       "      <td>TOTALBTUWTH</td>\n",
       "      <td>0.999998</td>\n",
       "    </tr>\n",
       "    <tr>\n",
       "      <th>131</th>\n",
       "      <td>TOTALDOLWTH</td>\n",
       "      <td>TOTALBTUOTH</td>\n",
       "      <td>0.999995</td>\n",
       "    </tr>\n",
       "    <tr>\n",
       "      <th>132</th>\n",
       "      <td>TOTALDOLWTH</td>\n",
       "      <td>TOTALDOLLAR</td>\n",
       "      <td>0.999994</td>\n",
       "    </tr>\n",
       "    <tr>\n",
       "      <th>133</th>\n",
       "      <td>TOTALDOLWTH</td>\n",
       "      <td>TOTALDOLSPH</td>\n",
       "      <td>0.999984</td>\n",
       "    </tr>\n",
       "    <tr>\n",
       "      <th>134</th>\n",
       "      <td>TOTALDOLOTH</td>\n",
       "      <td>TOTALBTU</td>\n",
       "      <td>0.999965</td>\n",
       "    </tr>\n",
       "    <tr>\n",
       "      <th>135</th>\n",
       "      <td>TOTALDOLOTH</td>\n",
       "      <td>TOTALBTUSPH</td>\n",
       "      <td>0.999951</td>\n",
       "    </tr>\n",
       "    <tr>\n",
       "      <th>136</th>\n",
       "      <td>TOTALDOLOTH</td>\n",
       "      <td>TOTALBTUWTH</td>\n",
       "      <td>0.999960</td>\n",
       "    </tr>\n",
       "    <tr>\n",
       "      <th>137</th>\n",
       "      <td>TOTALDOLOTH</td>\n",
       "      <td>TOTALBTUOTH</td>\n",
       "      <td>0.999976</td>\n",
       "    </tr>\n",
       "    <tr>\n",
       "      <th>138</th>\n",
       "      <td>TOTALDOLOTH</td>\n",
       "      <td>TOTALDOLLAR</td>\n",
       "      <td>0.999982</td>\n",
       "    </tr>\n",
       "    <tr>\n",
       "      <th>139</th>\n",
       "      <td>TOTALDOLOTH</td>\n",
       "      <td>TOTALDOLSPH</td>\n",
       "      <td>0.999949</td>\n",
       "    </tr>\n",
       "    <tr>\n",
       "      <th>140</th>\n",
       "      <td>TOTALDOLOTH</td>\n",
       "      <td>TOTALDOLWTH</td>\n",
       "      <td>0.999962</td>\n",
       "    </tr>\n",
       "    <tr>\n",
       "      <th>141</th>\n",
       "      <td>UPRTFRZR</td>\n",
       "      <td>SIZFREEZ</td>\n",
       "      <td>0.981376</td>\n",
       "    </tr>\n",
       "    <tr>\n",
       "      <th>142</th>\n",
       "      <td>DNTHEAT</td>\n",
       "      <td>FUELPOOL</td>\n",
       "      <td>0.980429</td>\n",
       "    </tr>\n",
       "    <tr>\n",
       "      <th>143</th>\n",
       "      <td>FOWARM</td>\n",
       "      <td>USEFO</td>\n",
       "      <td>0.980154</td>\n",
       "    </tr>\n",
       "    <tr>\n",
       "      <th>144</th>\n",
       "      <td>WDPELLET</td>\n",
       "      <td>WOODLOGS</td>\n",
       "      <td>0.997817</td>\n",
       "    </tr>\n",
       "  </tbody>\n",
       "</table>\n",
       "<p>145 rows × 3 columns</p>\n",
       "</div>"
      ],
      "text/plain": [
       "    drop_feature corr_feature  corr_value\n",
       "0         STEAMR      REVERSE    0.981232\n",
       "1       CARRYKER       STEAMR    0.982914\n",
       "2          RANGE       STEAMR    0.985521\n",
       "3         LPGAUX      UGASAUX    0.995799\n",
       "4       OTHERAUX      WOODAUX    0.995659\n",
       "5          BTULP     GALLONLP    0.999991\n",
       "6       BTULPSPH     GALLONLP    0.999995\n",
       "7       BTULPSPH        BTULP    0.999998\n",
       "8       BTULPWTH     GALLONLP    0.999999\n",
       "9       BTULPWTH        BTULP    0.999991\n",
       "10      BTULPWTH     BTULPSPH    0.999994\n",
       "11      BTULPOTH     GALLONLP    0.999999\n",
       "12      BTULPOTH        BTULP    0.999990\n",
       "13      BTULPOTH     BTULPSPH    0.999993\n",
       "14      BTULPOTH     BTULPWTH    0.999999\n",
       "15         BTUNG     CUFEETNG    0.999841\n",
       "16      BTUNGSPH     CUFEETNG    0.999917\n",
       "17      BTUNGSPH        BTUNG    0.999968\n",
       "18      BTUNGWTH     CUFEETNG    0.999989\n",
       "19      BTUNGWTH        BTUNG    0.999873\n",
       "20      BTUNGWTH     BTUNGSPH    0.999920\n",
       "21      BTUNGOTH     CUFEETNG    0.999994\n",
       "22      BTUNGOTH        BTUNG    0.999831\n",
       "23      BTUNGOTH     BTUNGSPH    0.999898\n",
       "24      BTUNGOTH     BTUNGWTH    0.999983\n",
       "25      BTUFOSPH        BTUFO    0.999998\n",
       "26      BTUFOWTH        BTUFO    0.999979\n",
       "27      BTUFOWTH     BTUFOSPH    0.999984\n",
       "28      BTUFOOTH        BTUFO    0.999972\n",
       "29      BTUFOOTH     BTUFOSPH    0.999979\n",
       "..           ...          ...         ...\n",
       "115  TOTALBTUWTH  TOTALBTUSPH    0.999991\n",
       "116  TOTALBTUOTH     TOTALBTU    0.999997\n",
       "117  TOTALBTUOTH  TOTALBTUSPH    0.999987\n",
       "118  TOTALBTUOTH  TOTALBTUWTH    0.999996\n",
       "119  TOTALDOLLAR     TOTALBTU    0.999996\n",
       "120  TOTALDOLLAR  TOTALBTUSPH    0.999990\n",
       "121  TOTALDOLLAR  TOTALBTUWTH    0.999992\n",
       "122  TOTALDOLLAR  TOTALBTUOTH    0.999996\n",
       "123  TOTALDOLSPH     TOTALBTU    0.999990\n",
       "124  TOTALDOLSPH  TOTALBTUSPH    0.999995\n",
       "125  TOTALDOLSPH  TOTALBTUWTH    0.999985\n",
       "126  TOTALDOLSPH  TOTALBTUOTH    0.999981\n",
       "127  TOTALDOLSPH  TOTALDOLLAR    0.999989\n",
       "128  TOTALDOLWTH     TOTALBTU    0.999997\n",
       "129  TOTALDOLWTH  TOTALBTUSPH    0.999989\n",
       "130  TOTALDOLWTH  TOTALBTUWTH    0.999998\n",
       "131  TOTALDOLWTH  TOTALBTUOTH    0.999995\n",
       "132  TOTALDOLWTH  TOTALDOLLAR    0.999994\n",
       "133  TOTALDOLWTH  TOTALDOLSPH    0.999984\n",
       "134  TOTALDOLOTH     TOTALBTU    0.999965\n",
       "135  TOTALDOLOTH  TOTALBTUSPH    0.999951\n",
       "136  TOTALDOLOTH  TOTALBTUWTH    0.999960\n",
       "137  TOTALDOLOTH  TOTALBTUOTH    0.999976\n",
       "138  TOTALDOLOTH  TOTALDOLLAR    0.999982\n",
       "139  TOTALDOLOTH  TOTALDOLSPH    0.999949\n",
       "140  TOTALDOLOTH  TOTALDOLWTH    0.999962\n",
       "141     UPRTFRZR     SIZFREEZ    0.981376\n",
       "142      DNTHEAT     FUELPOOL    0.980429\n",
       "143       FOWARM        USEFO    0.980154\n",
       "144     WDPELLET     WOODLOGS    0.997817\n",
       "\n",
       "[145 rows x 3 columns]"
      ]
     },
     "execution_count": 16,
     "metadata": {},
     "output_type": "execute_result"
    }
   ],
   "source": [
    "\n",
    "fs.record_collinear"
   ]
  },
  {
   "cell_type": "code",
   "execution_count": 17,
   "metadata": {},
   "outputs": [
    {
     "name": "stdout",
     "output_type": "stream",
     "text": [
      "Training Gradient Boosting Model\n",
      "\n",
      "Training until validation scores don't improve for 100 rounds.\n",
      "Did not meet early stopping. Best iteration is:\n",
      "[999]\tvalid_0's l2: 3.11974e+10\tvalid_0's l2: 3.11974e+10\n",
      "Training until validation scores don't improve for 100 rounds.\n",
      "Early stopping, best iteration is:\n",
      "[786]\tvalid_0's l2: 4.51596e+11\tvalid_0's l2: 4.51596e+11\n",
      "Training until validation scores don't improve for 100 rounds.\n",
      "Early stopping, best iteration is:\n",
      "[145]\tvalid_0's l2: 7.71106e+10\tvalid_0's l2: 7.71106e+10\n",
      "Training until validation scores don't improve for 100 rounds.\n",
      "Did not meet early stopping. Best iteration is:\n",
      "[998]\tvalid_0's l2: 8.60765e+10\tvalid_0's l2: 8.60765e+10\n",
      "Training until validation scores don't improve for 100 rounds.\n",
      "Early stopping, best iteration is:\n",
      "[386]\tvalid_0's l2: 1.14887e+11\tvalid_0's l2: 1.14887e+11\n",
      "Training until validation scores don't improve for 100 rounds.\n",
      "Early stopping, best iteration is:\n",
      "[173]\tvalid_0's l2: 1.80645e+11\tvalid_0's l2: 1.80645e+11\n",
      "Training until validation scores don't improve for 100 rounds.\n",
      "Did not meet early stopping. Best iteration is:\n",
      "[1000]\tvalid_0's l2: 3.02695e+11\tvalid_0's l2: 3.02695e+11\n",
      "Training until validation scores don't improve for 100 rounds.\n",
      "Did not meet early stopping. Best iteration is:\n",
      "[999]\tvalid_0's l2: 1.38539e+11\tvalid_0's l2: 1.38539e+11\n",
      "Training until validation scores don't improve for 100 rounds.\n",
      "Did not meet early stopping. Best iteration is:\n",
      "[995]\tvalid_0's l2: 6.40135e+10\tvalid_0's l2: 6.40135e+10\n",
      "Training until validation scores don't improve for 100 rounds.\n",
      "Early stopping, best iteration is:\n",
      "[227]\tvalid_0's l2: 5.21631e+10\tvalid_0's l2: 5.21631e+10\n",
      "\n",
      "3 features with zero importance after one-hot encoding.\n",
      "\n"
     ]
    }
   ],
   "source": [
    "fs.identify_zero_importance(task = 'regression', eval_metric = 'l2', \n",
    "                            n_iterations = 10, early_stopping = True)"
   ]
  },
  {
   "cell_type": "code",
   "execution_count": 18,
   "metadata": {},
   "outputs": [
    {
     "name": "stdout",
     "output_type": "stream",
     "text": [
      "There are 192 original features\n",
      "There are 0 one-hot features\n"
     ]
    }
   ],
   "source": [
    "one_hot_features = fs.one_hot_features\n",
    "base_features = fs.base_features\n",
    "print('There are %d original features' % len(base_features))\n",
    "print('There are %d one-hot features' % len(one_hot_features))"
   ]
  },
  {
   "cell_type": "code",
   "execution_count": 19,
   "metadata": {},
   "outputs": [
    {
     "data": {
      "text/plain": [
       "['ELOTHER', 'SOLOTHER', 'USEEL']"
      ]
     },
     "execution_count": 19,
     "metadata": {},
     "output_type": "execute_result"
    }
   ],
   "source": [
    "\n",
    "zero_importance_features = fs.ops['zero_importance']\n",
    "zero_importance_features"
   ]
  },
  {
   "cell_type": "code",
   "execution_count": 20,
   "metadata": {},
   "outputs": [
    {
     "data": {
      "image/png": "[encoded data removed]",
      "text/plain": [
       "<Figure size 1000x600 with 1 Axes>"
      ]
     },
     "metadata": {},
     "output_type": "display_data"
    },
    {
     "data": {
      "image/png": "[encoded data removed]",
      "text/plain": [
       "<Figure size 600x400 with 1 Axes>"
      ]
     },
     "metadata": {},
     "output_type": "display_data"
    },
    {
     "name": "stdout",
     "output_type": "stream",
     "text": [
      "153 features required for 0.99 of cumulative importance\n"
     ]
    }
   ],
   "source": [
    "\n",
    "fs.plot_feature_importances(threshold = 0.99, plot_n = 20)"
   ]
  },
  {
   "cell_type": "code",
   "execution_count": 21,
   "metadata": {},
   "outputs": [
    {
     "data": {
      "text/plain": [
       "feature                  192\n",
       "importance               192\n",
       "normalized_importance    192\n",
       "cumulative_importance    192\n",
       "dtype: int64"
      ]
     },
     "execution_count": 21,
     "metadata": {},
     "output_type": "execute_result"
    }
   ],
   "source": [
    "fs.feature_importances.count()"
   ]
  },
  {
   "cell_type": "code",
   "execution_count": 22,
   "metadata": {},
   "outputs": [
    {
     "data": {
      "text/plain": [
       "156"
      ]
     },
     "execution_count": 22,
     "metadata": {},
     "output_type": "execute_result"
    }
   ],
   "source": [
    "\n",
    "top_features = list(fs.feature_importances.loc[:155, 'feature'])\n",
    "len(top_features)"
   ]
  },
  {
   "cell_type": "code",
   "execution_count": 23,
   "metadata": {
    "scrolled": true
   },
   "outputs": [
    {
     "data": {
      "text/plain": [
       "['TOTALBTU',\n",
       " 'DOLELOTH',\n",
       " 'BTUELOTH',\n",
       " 'DOLLAREL',\n",
       " 'BTUEL',\n",
       " 'TOTALBTUWTH',\n",
       " 'TOTALDOLWTH',\n",
       " 'DOLELRFG',\n",
       " 'TOTALBTUSPH',\n",
       " 'TOTHSQFT',\n",
       " 'TOTALDOLLAR',\n",
       " 'TOTALDOLOTH',\n",
       " 'BEDROOMS',\n",
       " 'TOTALBTUOTH',\n",
       " 'BTUELRFG',\n",
       " 'TOTROOMS',\n",
       " 'TOTALDOLSPH',\n",
       " 'HDD65',\n",
       " 'TOTUSQFT',\n",
       " 'EQUIPM',\n",
       " 'CUFEETNG',\n",
       " 'BTUELCOL',\n",
       " 'TOTCSQFT',\n",
       " 'DOLELCOL',\n",
       " 'DOLELWTH',\n",
       " 'HHAGE',\n",
       " 'CDD65',\n",
       " 'BTUNGWTH',\n",
       " 'FUELHEAT',\n",
       " 'YEARMADE',\n",
       " 'TVAUDIOEQUIP',\n",
       " 'DOLNGWTH',\n",
       " 'MONEYPY',\n",
       " 'WHEATSIZ',\n",
       " 'WINDOWS',\n",
       " 'DOLLARNG',\n",
       " 'BTUELWTH',\n",
       " 'FUELH2O',\n",
       " 'TEMPGONE',\n",
       " 'BTUELSPH',\n",
       " 'BTUNGSPH',\n",
       " 'DOLNGOTH',\n",
       " 'NUMCFAN',\n",
       " 'BTUNGOTH',\n",
       " 'NCOMBATH',\n",
       " 'NUMBERAC',\n",
       " 'PCOFFEQUIP',\n",
       " 'NHSLDMEM',\n",
       " 'TEMPHOME',\n",
       " 'ESDISHW',\n",
       " 'BTUFO',\n",
       " 'DOLELSPH',\n",
       " 'DOLFOWTH',\n",
       " 'LGTOUTNUM',\n",
       " 'OTHROOMS',\n",
       " 'DOLLARLP',\n",
       " 'DOLLARFO',\n",
       " 'TEMPNITE',\n",
       " 'ELECAUX',\n",
       " 'BTUFOWTH',\n",
       " 'DOLFOSPH',\n",
       " 'EQUIPAGE',\n",
       " 'DOLNGSPH',\n",
       " 'BTUNG',\n",
       " 'STOVENFUEL',\n",
       " 'GALLONLP',\n",
       " 'WHEATAGE',\n",
       " 'BTUFOSPH',\n",
       " 'DIVISION',\n",
       " 'NUMMEAL',\n",
       " 'DWASHUSE',\n",
       " 'BTULPWTH',\n",
       " 'WASHLOAD',\n",
       " 'OCCUPYY',\n",
       " 'ADQINSUL',\n",
       " 'DOLLPOTH',\n",
       " 'BTULPOTH',\n",
       " 'AGERFRI1',\n",
       " 'NHAFBATH',\n",
       " 'DOOR1SUM',\n",
       " 'HOUSEHOLDER_RACE',\n",
       " 'OVENUSE',\n",
       " 'AMTMICRO',\n",
       " 'DOLLPWTH',\n",
       " 'SIZRFRI1',\n",
       " 'BTULPSPH',\n",
       " 'PROTHERM',\n",
       " 'LPWATER',\n",
       " 'SIZFREEZ',\n",
       " 'AGECENAC',\n",
       " 'PHONE',\n",
       " 'AGERFRI2',\n",
       " 'ELWARM',\n",
       " 'DRAFTY',\n",
       " 'CELLAR',\n",
       " 'FUELPOOL',\n",
       " 'AGEFRZR',\n",
       " 'WOODAMT',\n",
       " 'USECENAC',\n",
       " 'WWACAGE',\n",
       " 'RECBATH',\n",
       " 'EMPLOYHH',\n",
       " 'NUMFRIG',\n",
       " 'REGIONC',\n",
       " 'SIZRFRI2',\n",
       " 'TYPERFR1',\n",
       " 'DRYRUSE',\n",
       " 'STORIES',\n",
       " 'WASHTEMP',\n",
       " 'ATHOME',\n",
       " 'PGASHEAT',\n",
       " 'FOWATER',\n",
       " 'WDOTHER',\n",
       " 'LPCOOK',\n",
       " 'HHSEX',\n",
       " 'NUMFREEZ',\n",
       " 'FUELTUB',\n",
       " 'TOASTER',\n",
       " 'DNTHEAT',\n",
       " 'EQUIPAUX',\n",
       " 'DOLLPSPH',\n",
       " 'USEWWAC',\n",
       " 'TYPEHUQ',\n",
       " 'GARGHEAT',\n",
       " 'BTULP',\n",
       " 'ATTCHEAT',\n",
       " 'TYPERFR2',\n",
       " 'UGASAUX',\n",
       " 'DRYRFUEL',\n",
       " 'COOLTYPE',\n",
       " 'CARRYEL',\n",
       " 'ICE',\n",
       " 'FOPAY',\n",
       " 'WOODAUX',\n",
       " 'OVEN',\n",
       " 'PRKGPLC1',\n",
       " 'ELFOOD',\n",
       " 'CENACHP',\n",
       " 'FOWARM',\n",
       " 'SWIMPOOL',\n",
       " 'POOL',\n",
       " 'UGCOOK',\n",
       " 'USEFO',\n",
       " 'UPRTFRZR',\n",
       " 'WARMAIR',\n",
       " 'USELP',\n",
       " 'SOLWATER',\n",
       " 'LPGPAY',\n",
       " 'GALLONFO',\n",
       " 'ELWATER',\n",
       " 'UGASHERE',\n",
       " 'COFFEE',\n",
       " 'UGOTH',\n",
       " 'PERMELEC',\n",
       " 'LPWARM',\n",
       " 'RNSETEMP']"
      ]
     },
     "execution_count": 23,
     "metadata": {},
     "output_type": "execute_result"
    }
   ],
   "source": [
    "top_features"
   ]
  },
  {
   "cell_type": "code",
   "execution_count": 24,
   "metadata": {},
   "outputs": [
    {
     "name": "stdout",
     "output_type": "stream",
     "text": [
      "112 features required for cumulative importance of 0.95 after one hot encoding.\n",
      "80 features do not contribute to cumulative importance of 0.95.\n",
      "\n"
     ]
    }
   ],
   "source": [
    "\n",
    "fs.identify_low_importance(cumulative_importance = 0.95)"
   ]
  },
  {
   "cell_type": "code",
   "execution_count": 25,
   "metadata": {},
   "outputs": [
    {
     "name": "stdout",
     "output_type": "stream",
     "text": [
      "['missing', 'single_unique', 'collinear', 'zero_importance', 'low_importance'] methods have been run\n",
      "\n",
      "Removed 106 features.\n"
     ]
    }
   ],
   "source": [
    "train_removed = fs.remove(methods = 'all')"
   ]
  },
  {
   "cell_type": "code",
   "execution_count": 26,
   "metadata": {},
   "outputs": [
    {
     "data": {
      "text/plain": [
       "Index(['REGIONC', 'DIVISION', 'CELLAR', 'STORIES', 'YEARMADE', 'OCCUPYY',\n",
       "       'BEDROOMS', 'NCOMBATH', 'NHAFBATH', 'OTHROOMS', 'TOTROOMS', 'DOOR1SUM',\n",
       "       'WINDOWS', 'ADQINSUL', 'DRAFTY', 'FUELPOOL', 'SIZRFRI1', 'TYPERFR1',\n",
       "       'AGERFRI1', 'SIZRFRI2', 'AGERFRI2', 'SIZFREEZ', 'AGEFRZR', 'STOVENFUEL',\n",
       "       'OVENUSE', 'AMTMICRO', 'NUMMEAL', 'DWASHUSE', 'WASHLOAD', 'WASHTEMP',\n",
       "       'DRYRUSE', 'EQUIPM', 'FUELHEAT', 'EQUIPAGE', 'PROTHERM', 'TEMPHOME',\n",
       "       'TEMPGONE', 'TEMPNITE', 'ELECAUX', 'AGECENAC', 'USECENAC', 'NUMBERAC',\n",
       "       'WWACAGE', 'NUMCFAN', 'FUELH2O', 'WHEATAGE', 'WHEATSIZ', 'LGTOUTNUM',\n",
       "       'ESDISHW', 'PGASHEAT', 'HHAGE', 'EMPLOYHH', 'HOUSEHOLDER_RACE',\n",
       "       'NHSLDMEM', 'ATHOME', 'MONEYPY', 'TOTCSQFT', 'TOTHSQFT', 'TOTUSQFT',\n",
       "       'CDD65', 'HDD65', 'GALLONLP', 'CUFEETNG', 'BTUEL', 'BTUELSPH',\n",
       "       'BTUELCOL', 'BTUELWTH', 'BTUELRFG', 'BTUELOTH', 'BTUFO', 'DOLLAREL',\n",
       "       'DOLELSPH', 'DOLELCOL', 'DOLELWTH', 'DOLELRFG', 'DOLELOTH', 'TOTALBTU',\n",
       "       'WOODAMT', 'RECBATH', 'NUMFRIG', 'ELWARM', 'LPWATER', 'FOWATER',\n",
       "       'TVAUDIOEQUIP', 'PCOFFEQUIP', 'PHONE'],\n",
       "      dtype='object')"
      ]
     },
     "execution_count": 26,
     "metadata": {},
     "output_type": "execute_result"
    }
   ],
   "source": [
    "train_removed.columns"
   ]
  },
  {
   "cell_type": "code",
   "execution_count": 27,
   "metadata": {},
   "outputs": [
    {
     "data": {
      "text/plain": [
       "Index(['REGIONC', 'DIVISION', 'TYPEHUQ', 'CELLAR', 'STORIES', 'PRKGPLC1',\n",
       "       'YEARMADE', 'OCCUPYY', 'BEDROOMS', 'NCOMBATH',\n",
       "       ...\n",
       "       'WDPELLET', 'WDOTHER', 'WDWARM', 'WDWATER', 'USESOLAR', 'SOLWATER',\n",
       "       'SOLOTHER', 'TVAUDIOEQUIP', 'PCOFFEQUIP', 'PHONE'],\n",
       "      dtype='object', length=192)"
      ]
     },
     "execution_count": 27,
     "metadata": {},
     "output_type": "execute_result"
    }
   ],
   "source": [
    "train.columns"
   ]
  },
  {
   "cell_type": "code",
   "execution_count": 28,
   "metadata": {},
   "outputs": [
    {
     "name": "stdout",
     "output_type": "stream",
     "text": [
      "['missing', 'single_unique', 'collinear', 'zero_importance', 'low_importance'] methods have been run\n",
      "\n",
      "Removed 106 features including one-hot features.\n"
     ]
    }
   ],
   "source": [
    "train_removed_all = fs.remove(methods = 'all', keep_one_hot=False)"
   ]
  },
  {
   "cell_type": "code",
   "execution_count": 29,
   "metadata": {},
   "outputs": [
    {
     "name": "stdout",
     "output_type": "stream",
     "text": [
      "Original Number of Features 192\n",
      "Final Number of Features:  86\n"
     ]
    }
   ],
   "source": [
    "print('Original Number of Features', train.shape[1])\n",
    "print('Final Number of Features: ', train_removed_all.shape[1])"
   ]
  },
  {
   "cell_type": "code",
   "execution_count": 32,
   "metadata": {},
   "outputs": [],
   "source": [
    "train_removed_all.to_csv('final_feature_selection_btu.csv',index=False)"
   ]
  },
  {
   "cell_type": "code",
   "execution_count": null,
   "metadata": {},
   "outputs": [],
   "source": []
  }
 ],
 "metadata": {
  "kernelspec": {
   "display_name": "Python 3",
   "language": "python",
   "name": "python3"
  },
  "language_info": {
   "codemirror_mode": {
    "name": "ipython",
    "version": 3
   },
   "file_extension": ".py",
   "mimetype": "text/x-python",
   "name": "python",
   "nbconvert_exporter": "python",
   "pygments_lexer": "ipython3",
   "version": "3.6.7"
  }
 },
 "nbformat": 4,
 "nbformat_minor": 2
}
