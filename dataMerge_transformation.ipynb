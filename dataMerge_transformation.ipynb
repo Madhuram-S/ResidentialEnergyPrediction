{
 "cells": [
  {
   "cell_type": "markdown",
   "metadata": {},
   "source": [
    "## Python Script to transform data\n",
    "\n",
    "The script focuses on bring RECS data from 2001, 2005, 2009 and 2015 into \n",
    "1. common format\n",
    "2. columns mapped correctly to the correct fields\n",
    "3. calaculations done as required\n",
    "4. elimination of columns not needed\n",
    "\n",
    "### Rules:\n",
    "1.\tAll columns starting with \"Z\" is dropped\n",
    "2.\tYearMade is converted to a range as per 2015 standards\n",
    "3.\tDrop 1997\n",
    "4.\tClub all electronics into 3 categories TVREL, PCOFFEQUIP, PHONE\n",
    "5.\tAll comsumption will be BTU and KWH will not be used\n",
    "6.\tCalucaled Fields\n",
    "    - \"2001 - TOTROOMS - sum(BEDROOMS,NCOMBATH,NHAFBATH,OTHROOMS)\"\n",
    "\t- TOTALBTU = TOTALBTUSPH + TOTALBTUWTH + TOTALBTUOTH\n",
    "\t- TOTALBTUSPH = BTULPSPH + BTUNGSPH + BTUFOSPH + BTUELSPH\n",
    "\t- TOTALBTUWTH = BTULPWTH + BTUNGWTH + BTUFOWTH + BTUELWTH\n",
    "\t- TOTALBTUOTH = BTULPAPL + BTUNGOTH + BTUFOAPL + BTUELOTH + BTUELFRG +BTUELCOL\n",
    "\t- TOTALDOLLAR = TOTALBTUSPH + TOTALBTUWTH + TOTALBTUOTH\n",
    "\t- TOTALDOLSPH = DOLLPSPH+ DOLNGSPH + DOLFOSPH + DOLELSPH\n",
    "\t- TOTALDOLWTH = DOLLPWTH+ DOLNGWTH+ DOLFOWTH+ DOLELWTH\n",
    "\t- TOTALDOLOTH = DOLLPOTH + DOLNGOTH+ DOLFOOTH + DOLELOTH + DOLELFRG + DOLELCOL\n"
   ]
  },
  {
   "cell_type": "code",
   "execution_count": 30,
   "metadata": {},
   "outputs": [],
   "source": [
    "# import all dependecies\n",
    "import pandas as pd\n",
    "import os\n",
    "import csv\n",
    "\n",
    "from functools import reduce\n",
    "\n",
    "import warnings\n",
    "warnings.filterwarnings(\"ignore\")\n",
    "\n",
    "import matplotlib.pyplot as plt\n",
    "import seaborn as sns"
   ]
  },
  {
   "cell_type": "code",
   "execution_count": 2,
   "metadata": {},
   "outputs": [],
   "source": [
    "# Global Notebook Variables and Initialization\n",
    "dataFilePath = \"dataforfinalproject/RawDataFiles\"\n",
    "\n",
    "codebook_path = \"dataforfinalproject/RawDataFiles/Codebooks\"\n",
    "\n",
    "years = [2001, 2005, 2009, 2015]\n",
    "\n",
    "dfs = {}\n",
    "\n",
    "dataFiles = ['target_final_2001.csv', \"RECS05alldata.csv\", \"recs2009_public.csv\", \"recs2015_public_v4.csv\"]\n",
    "\n",
    "col_list = ['2001_requiredCols.txt', '2005_requiredCols.txt', '2009_requiredCols.txt', '2015_requiredCols.txt']\n",
    "\n",
    "final_colList = \"final_columnList.txt\""
   ]
  },
  {
   "cell_type": "code",
   "execution_count": 3,
   "metadata": {},
   "outputs": [
    {
     "name": "stdout",
     "output_type": "stream",
     "text": [
      "2001\n",
      "2005\n",
      "2009\n",
      "2015\n"
     ]
    }
   ],
   "source": [
    "# read the files into a dataframe and compress dataframe to have only required cols\n",
    "for i, y in enumerate(years):\n",
    "    print(y)\n",
    "    df = pd.read_csv(os.path.join(dataFilePath, dataFiles[i]), low_memory=False)\n",
    "    l = pd.read_csv(os.path.join(codebook_path, col_list[i]), header= None, names = ['cols']).cols.tolist()\n",
    "    dfs[y] = df[l]"
   ]
  },
  {
   "cell_type": "markdown",
   "metadata": {},
   "source": [
    "### Format and tranform 2001 data"
   ]
  },
  {
   "cell_type": "code",
   "execution_count": 4,
   "metadata": {},
   "outputs": [],
   "source": [
    "# add Year of Survey to each of the datasets\n",
    "for y in years:\n",
    "    dfs[y]['RECSYEAR'] = y"
   ]
  },
  {
   "cell_type": "code",
   "execution_count": 5,
   "metadata": {},
   "outputs": [],
   "source": [
    "# change columnname YearMade to YearMadeRange\n",
    "dfs[2015].rename(columns = {\"YEARMADERANGE\":\"YEARMADE\"}, inplace = True)\n",
    "\n",
    "# change columnname Basefin to Cellar\n",
    "dfs[2005].rename(columns = {\"BASEFIN\":\"CELLAR\"}, inplace = True)\n",
    "dfs[2015].rename(columns = {\"BASEFIN\":\"CELLAR\"}, inplace = True)\n",
    "#dfs[2015].YEARMADE.head()\n",
    "\n",
    "# change OCCUPYYRANGE to OCCUPYY\n",
    "dfs[2015].rename(columns = {\"OCCUPYYRANGE\":\"OCCUPYY\"}, inplace = True)\n",
    "dfs[2009].rename(columns = {\"OCCUPYYRANGE\":\"OCCUPYY\"}, inplace = True)\n",
    "\n",
    "# change USENG to UGASHERE\n",
    "dfs[2009].rename(columns = {\"USENG\":\"UGASHERE\"}, inplace = True)\n",
    "\n",
    "# change TOAST to TOASTER in 2015\n",
    "dfs[2015].rename(columns = {\"TOAST\":\"TOASTER\"}, inplace = True)\n",
    "\n",
    "# change \"STOVENFU\" to \"STOVENFUEL\"\n",
    "dfs[2001].rename(columns = {\"STOVENFU\":\"STOVENFUEL\"}, inplace = True)\n",
    "dfs[2005].rename(columns = {\"STOVENFU\":\"STOVENFUEL\"}, inplace = True)\n",
    "\n",
    "# rename columns OUTLGTNT(2001), NOUTLGTNT(2005, 2009) to LGTOUTNUM\n",
    "dfs[2001].rename(columns = {\"OUTLGTNT\":\"LGTOUTNUM\"}, inplace = True)\n",
    "dfs[2005].rename(columns = {\"NOUTLGTNT\":\"LGTOUTNUM\"}, inplace = True)\n",
    "dfs[2009].rename(columns = {\"NOUTLGTNT\":\"LGTOUTNUM\"}, inplace = True)\n",
    "\n",
    "# rename ORIGIN1 to Householder_Race in 2001 and 2005\n",
    "dfs[2001].rename(columns = {\"ORIGIN1\":\"HOUSEHOLDER_RACE\"}, inplace = True)\n",
    "dfs[2005].rename(columns = {\"ORIGIN1\":\"HOUSEHOLDER_RACE\"}, inplace = True)\n",
    "dfs[2009].rename(columns = {\"Householder_Race\":\"HOUSEHOLDER_RACE\"}, inplace = True)\n",
    "\n",
    "# rename CD65 and HD65 to CDD65 and HDD65\n",
    "dfs[2005].rename(columns = {\"CD65\":\"CDD65\", \"HD65\":\"HDD65\"}, inplace = True)\n",
    "\n",
    "# rename CORDS TO WOODAMT in 2001\n",
    "dfs[2001].rename(columns = {\"CORDS\":\"WOODAMT\"}, inplace = True)\n",
    "\n",
    "#change NGPAY to PGASHEAT for 2015\n",
    "dfs[2015].rename(columns = {\"NGPAY\": \"PGASHEAT\"}, inplace = True)"
   ]
  },
  {
   "cell_type": "code",
   "execution_count": 6,
   "metadata": {},
   "outputs": [],
   "source": [
    "# Calculate totrooms for 2001 data\n",
    "dfs[2001]['TOTROOMS'] = dfs[2001].BEDROOMS + dfs[2001].NCOMBATH  + dfs[2001].NHAFBATH +dfs[2001].OTHROOMS\n"
   ]
  },
  {
   "cell_type": "code",
   "execution_count": 7,
   "metadata": {},
   "outputs": [],
   "source": [
    "equipAux_type = [\"REVERSE\",\"WARMAIR\",\"STEAMR\",\"PERMELEC\",\"PIPELESS\",\"ROOMHEAT\",\"WOODKILN\",\"CARRYEL\",\"CARRYKER\",\n",
    "                 \"CHIMNEY\",\"RANGE\",\"DIFEQUIP\"]\n",
    "for e in equipAux_type:\n",
    "    dfs[2015][e] = 0\n",
    "    \n",
    "dfs[2015].loc[dfs[2015].EQUIPAUXTYPE == 1,\"CARRYEL\"] = 1\n",
    "dfs[2015].loc[dfs[2015].EQUIPAUXTYPE == 2,'WOODKILN'] = 1\n",
    "dfs[2015].loc[dfs[2015].EQUIPAUXTYPE == 3,'PIPELESS'] = 1\n",
    "dfs[2015].loc[dfs[2015].EQUIPAUXTYPE == 4,'CHIMNEY'] = 1\n",
    "dfs[2015].loc[dfs[2015].EQUIPAUXTYPE == 9,'DIFEQUIP'] = 1"
   ]
  },
  {
   "cell_type": "code",
   "execution_count": 8,
   "metadata": {},
   "outputs": [],
   "source": [
    "# For EquipAux types in 2001 to 2009, if value is -2 change it to 0\n",
    "for e in equipAux_type:\n",
    "    dfs[2001].loc[dfs[2001][e] == -2,e] = 0\n",
    "    dfs[2005].loc[dfs[2005][e] == -2,e] = 0\n",
    "    dfs[2009].loc[dfs[2009][e] == -2,e] = 0   \n"
   ]
  },
  {
   "cell_type": "code",
   "execution_count": 9,
   "metadata": {},
   "outputs": [],
   "source": [
    "equipAux_fuel = [\"ELECAUX\",\"UGASAUX\",\"LPGAUX\",\"FOKRAUX\",\"WOODAUX\",\"OTHERAUX\"]\n",
    "\n",
    "for e in equipAux_fuel:\n",
    "    dfs[2015][e] = 0\n",
    "    dfs[2009][e] = 0\n",
    "    \n",
    "\n",
    "#2015 changes\n",
    "dfs[2015].loc[dfs[2015].FUELAUX == 1,\"UGASAUX\"] = 1\n",
    "dfs[2015].loc[dfs[2015].FUELAUX == 2,'LPGAUX'] = 1\n",
    "dfs[2015].loc[dfs[2015].FUELAUX == 3,'FOKRAUX'] = 1\n",
    "dfs[2015].loc[dfs[2015].FUELAUX == 5,'ELECAUX'] = 1\n",
    "dfs[2015].loc[dfs[2015].FUELAUX == 7,'WOODAUX'] = 1\n",
    "dfs[2015].loc[dfs[2015].FUELAUX == 21,'OTHERAUX'] = 1\n",
    "\n",
    "\n"
   ]
  },
  {
   "cell_type": "code",
   "execution_count": 10,
   "metadata": {},
   "outputs": [],
   "source": [
    "# changes to 2001 to 2005\n",
    "# combine the value for FO and Kero to one column and Solar into Other columns\n",
    "\n",
    "dfs[2001]['FOKRAUX'] = 0\n",
    "dfs[2005]['FOKRAUX'] = 0\n",
    "\n",
    "\n",
    "dfs[2001].loc[(dfs[2001]['FOILAUX'] == 1) | (dfs[2001]['KEROAUX'] == 1),\"FOKRAUX\"] = 1\n",
    "dfs[2005].loc[(dfs[2005]['FOILAUX'] == 1) | (dfs[2005]['KEROAUX'] == 1),\"FOKRAUX\"] = 1\n",
    "\n",
    "dfs[2001].loc[(dfs[2001]['SOLARAUX'] == 1) | (dfs[2001]['OTHERAUX'] == 1),\"OTHERAUX\"] = 1\n",
    "dfs[2005].loc[(dfs[2005]['SOLARAUX'] == 1) | (dfs[2005]['OTHERAUX'] == 1),\"OTHERAUX\"] = 1\n"
   ]
  },
  {
   "cell_type": "code",
   "execution_count": 11,
   "metadata": {},
   "outputs": [],
   "source": [
    "for e in equipAux_fuel:\n",
    "    dfs[2001].loc[dfs[2001][e] == -2,e] = 0\n",
    "    dfs[2005].loc[dfs[2005][e] == -2,e] = 0   \n"
   ]
  },
  {
   "cell_type": "code",
   "execution_count": 12,
   "metadata": {},
   "outputs": [],
   "source": [
    "# transform 2009 Auxillary fuel type to standard fuel types as specified in years (2001, 2005 and 2015)\n",
    "equipAux_fuel_2009 = [\"FURNFUEL\",\"RADFUEL\",\"PIPEFUEL\",\"RMHTFUEL\",\"HSFUEL\",\"FPFUEL\",\"RNGFUEL\",\"DIFFUEL\"]\n",
    "for e in equipAux_fuel_2009:\n",
    "    dfs[2009].loc[dfs[2009][e] == 1,\"UGASAUX\"] = 1\n",
    "    dfs[2009].loc[dfs[2009][e] == 2,'LPGAUX'] = 1\n",
    "    dfs[2009].loc[(dfs[2009][e] == 3) | (dfs[2009][e] == 4) ,'FOKRAUX'] = 1\n",
    "    dfs[2009].loc[dfs[2009][e] == 5,'ELECAUX'] = 1\n",
    "    dfs[2009].loc[dfs[2009][e] == 7,'WOODAUX'] = 1\n",
    "    dfs[2009].loc[dfs[2009][e] > 7,'OTHERAUX'] = 1\n",
    "    "
   ]
  },
  {
   "cell_type": "code",
   "execution_count": 13,
   "metadata": {},
   "outputs": [
    {
     "data": {
      "text/plain": [
       "0    7\n",
       "1    6\n",
       "2    3\n",
       "3    5\n",
       "4    5\n",
       "Name: YEARMADE, dtype: category\n",
       "Categories (8, int64): [1 < 2 < 3 < 4 < 5 < 6 < 7 < 8]"
      ]
     },
     "execution_count": 13,
     "metadata": {},
     "output_type": "execute_result"
    }
   ],
   "source": [
    "# The year Column in 2009 is actual year instead of coded so convert to Year Category\n",
    "yr_bins = [0, 1951, 1960,1970, 1980,1990, 2000, 2010, 2019]\n",
    "yr_labels = [1,2,3,4,5,6,7,8]\n",
    "\n",
    "dfs[2009].rename(columns = {\"YEARMADE\": \"YRBUILT\"}, inplace = True)\n",
    "dfs[2009]['YEARMADE'] = pd.cut(dfs[2009]['YRBUILT'], labels = yr_labels, bins = yr_bins)\n",
    "dfs[2009].YEARMADE.head()\n"
   ]
  },
  {
   "cell_type": "code",
   "execution_count": 14,
   "metadata": {},
   "outputs": [],
   "source": [
    "# Impute the value for Energy Star Dishwasher for 2001 based on other years\n",
    "# currently go with -9 as no data has been recorded for this\n",
    "dfs[2001]['ESDISHW'] = -9"
   ]
  },
  {
   "cell_type": "code",
   "execution_count": null,
   "metadata": {},
   "outputs": [],
   "source": []
  },
  {
   "cell_type": "code",
   "execution_count": 15,
   "metadata": {},
   "outputs": [],
   "source": [
    "# Combine all categories of BTU usage into BTUXXOTH\n",
    "# --- Electric\n",
    "dfs[2001]['BTUELOTH'] = dfs[2001][[\"BTUELAPL\",\"BTUELFZZ\",\"BTUELDWH\",\"BTUELCDR\"]].sum(axis = 1)\n",
    "dfs[2005]['BTUELOTH'] = dfs[2005][[\"BTUELAPL\",\"BTUELFZZ\",\"BTUELDWH\",\"BTUELCDR\"]].sum(axis = 1)\n",
    "dfs[2015]['BTUELOTH'] = dfs[2015][[\"BTUELRFG1\",\"BTUELRFG2\",\"BTUELFRZ\",\"BTUELCOK\",\"BTUELMICRO\",\"BTUELCW\",\"BTUELCDR\",\\\n",
    "                                \"BTUELDWH\",\"BTUELLGT\",\"BTUELTVREL\",\"BTUELTV1\",\"BTUELTV2\",\"BTUELAHUHEAT\",\"BTUELAHUCOL\",\\\n",
    "                                   \"BTUELEVAPCOL\",\"BTUELCFAN\",\"BTUELDHUM\",\"BTUELHUM\",\"BTUELPLPMP\",\"BTUELHTBPMP\",\"BTUELHTBHEAT\",\\\n",
    "                                   \"BTUELNEC\"]].sum(axis = 1)\n",
    "\n",
    "# --- LPG\n",
    "dfs[2001].rename(columns = {\"BTULPAPL\":\"BTULPOTH\"}, inplace = True)\n",
    "dfs[2005].rename(columns = {\"BTULPAPL\":\"BTULPOTH\"}, inplace = True)\n",
    "dfs[2015]['BTULPOTH'] = dfs[2015][[\"BTULPCOK\",\"BTULPCDR\",\"BTULPNEC\"]].sum(axis = 1)\n",
    "\n",
    "# --- Natural Gas\n",
    "dfs[2001].rename(columns = {\"BTUNGAPL\":\"BTUNGOTH\"}, inplace = True)\n",
    "dfs[2005].rename(columns = {\"BTUNGAPL\":\"BTUNGOTH\"}, inplace = True)\n",
    "dfs[2015]['BTUNGOTH'] = dfs[2015][[\"BTUNGCOK\",\"BTUNGCDR\",\"BTUNGPLHEAT\",\"BTUNGHTBHEAT\",\"BTUNGNEC\"]].sum(axis = 1)\n",
    "\n",
    "# --- Fuel Oil\n",
    "dfs[2001]['BTUFOOTH'] = dfs[2001][[\"BTUFOAPL\",\"BTUKRAPL\"]].sum(axis = 1)\n",
    "dfs[2005].rename(columns = {\"BTUFOAPL\":\"BTUFOOTH\"}, inplace = True)\n",
    "dfs[2015].rename(columns = {\"BTUFONEC\":\"BTUFOOTH\"}, inplace = True)\n",
    "\n",
    "# for 2001, merge the total for BTU from FO and Kerosene into one col\n",
    "dfs[2001]['BTUFOSPH'] = dfs[2001][[\"BTUFOSPH\",\"BTUKRSPH\"]].sum(axis = 1)\n",
    "dfs[2001]['BTUFOWTH'] = dfs[2001][[\"BTUFOWTH\",\"BTUKRWTH\"]].sum(axis = 1)\n"
   ]
  },
  {
   "cell_type": "code",
   "execution_count": 16,
   "metadata": {},
   "outputs": [],
   "source": [
    "# Combine all categories of DOL usage into DOLXXOTH\n",
    "# --- Electric\n",
    "dfs[2001]['DOLELOTH'] = dfs[2001][[\"DOLELAPL\",\"DOLELFZZ\",\"DOLELDWH\",\"DOLELCDR\"]].sum(axis = 1)\n",
    "dfs[2005]['DOLELOTH'] = dfs[2005][[\"DOLELAPL\",\"DOLELFZZ\",\"DOLELDWH\",\"DOLELCDR\"]].sum(axis = 1)\n",
    "dfs[2015]['DOLELOTH'] = dfs[2015][[\"DOLELRFG1\",\"DOLELRFG2\",\"DOLELFRZ\",\"DOLELCOK\",\"DOLELMICRO\",\"DOLELCW\",\"DOLELCDR\",\\\n",
    "                                   \"DOLELDWH\",\"DOLELLGT\",\"DOLELTVREL\",\"DOLELTV1\",\"DOLELTV2\",\"DOLELAHUHEAT\",\"DOLELAHUCOL\",\\\n",
    "                                   \"DOLELCFAN\",\"DOLELDHUM\",\"DOLELHUM\",\"DOLELPLPMP\",\"DOLELHTBPMP\",\"DOLELHTBHEAT\",\\\n",
    "                                   \"DOLELNEC\"]].sum(axis = 1)\n",
    "\n",
    "# --- LPG\n",
    "dfs[2001].rename(columns = {\"DOLLPAPL\":\"DOLLPOTH\"}, inplace = True)\n",
    "dfs[2005].rename(columns = {\"DOLLPAPL\":\"DOLLPOTH\"}, inplace = True)\n",
    "dfs[2015]['DOLLPOTH'] = dfs[2015][[\"DOLLPCOK\",\"DOLLPCDR\",\"DOLLPNEC\"]].sum(axis = 1)\n",
    "\n",
    "# --- Natural Gas\n",
    "dfs[2001].rename(columns = {\"DOLNGAPL\":\"DOLNGOTH\"}, inplace = True)\n",
    "dfs[2005].rename(columns = {\"DOLNGAPL\":\"DOLNGOTH\"}, inplace = True)\n",
    "dfs[2015]['DOLNGOTH'] = dfs[2015][[\"DOLNGCOK\",\"DOLNGCDR\",\"DOLNGPLHEAT\",\"DOLNGHTBHEAT\",\"DOLNGNEC\"]].sum(axis = 1)\n",
    "\n",
    "# --- Fuel Oil\n",
    "dfs[2001]['DOLFOOTH'] = dfs[2001][[\"DOLFOAPL\",\"DOLKRAPL\"]].sum(axis = 1)\n",
    "dfs[2005].rename(columns = {\"DOLFOAPL\":\"DOLFOOTH\"}, inplace = True)\n",
    "dfs[2015].rename(columns = {\"DOLFONEC\":\"DOLFOOTH\"}, inplace = True)\n",
    "\n",
    "# for 2001, merge the total for DOL from FO and Kerosene into one col\n",
    "dfs[2001]['DOLFOSPH'] = dfs[2001][[\"DOLFOSPH\",\"DOLKRSPH\"]].sum(axis = 1)\n",
    "dfs[2001]['DOLFOWTH'] = dfs[2001][[\"DOLFOWTH\",\"DOLKRWTH\"]].sum(axis = 1)\n",
    "\n"
   ]
  },
  {
   "cell_type": "code",
   "execution_count": 23,
   "metadata": {},
   "outputs": [
    {
     "data": {
      "text/html": [
       "<div>\n",
       "<style scoped>\n",
       "    .dataframe tbody tr th:only-of-type {\n",
       "        vertical-align: middle;\n",
       "    }\n",
       "\n",
       "    .dataframe tbody tr th {\n",
       "        vertical-align: top;\n",
       "    }\n",
       "\n",
       "    .dataframe thead th {\n",
       "        text-align: right;\n",
       "    }\n",
       "</style>\n",
       "<table border=\"1\" class=\"dataframe\">\n",
       "  <thead>\n",
       "    <tr style=\"text-align: right;\">\n",
       "      <th></th>\n",
       "      <th>DOLLAREL</th>\n",
       "      <th>DOLLARNG</th>\n",
       "      <th>DOLLARFO</th>\n",
       "      <th>DOLLARLP</th>\n",
       "    </tr>\n",
       "  </thead>\n",
       "  <tbody>\n",
       "    <tr>\n",
       "      <th>count</th>\n",
       "      <td>4822.000000</td>\n",
       "      <td>4822.000000</td>\n",
       "      <td>4822.000000</td>\n",
       "      <td>4822.000000</td>\n",
       "    </tr>\n",
       "    <tr>\n",
       "      <th>mean</th>\n",
       "      <td>926.929905</td>\n",
       "      <td>432.565118</td>\n",
       "      <td>82.316259</td>\n",
       "      <td>62.755703</td>\n",
       "    </tr>\n",
       "    <tr>\n",
       "      <th>std</th>\n",
       "      <td>560.754544</td>\n",
       "      <td>494.509689</td>\n",
       "      <td>283.665555</td>\n",
       "      <td>246.200100</td>\n",
       "    </tr>\n",
       "    <tr>\n",
       "      <th>min</th>\n",
       "      <td>0.000000</td>\n",
       "      <td>0.000000</td>\n",
       "      <td>0.000000</td>\n",
       "      <td>0.000000</td>\n",
       "    </tr>\n",
       "    <tr>\n",
       "      <th>25%</th>\n",
       "      <td>531.000000</td>\n",
       "      <td>0.000000</td>\n",
       "      <td>0.000000</td>\n",
       "      <td>0.000000</td>\n",
       "    </tr>\n",
       "    <tr>\n",
       "      <th>50%</th>\n",
       "      <td>810.000000</td>\n",
       "      <td>329.000000</td>\n",
       "      <td>0.000000</td>\n",
       "      <td>0.000000</td>\n",
       "    </tr>\n",
       "    <tr>\n",
       "      <th>75%</th>\n",
       "      <td>1184.500000</td>\n",
       "      <td>720.000000</td>\n",
       "      <td>0.000000</td>\n",
       "      <td>0.000000</td>\n",
       "    </tr>\n",
       "    <tr>\n",
       "      <th>max</th>\n",
       "      <td>4755.000000</td>\n",
       "      <td>5385.000000</td>\n",
       "      <td>2476.000000</td>\n",
       "      <td>3822.000000</td>\n",
       "    </tr>\n",
       "  </tbody>\n",
       "</table>\n",
       "</div>"
      ],
      "text/plain": [
       "          DOLLAREL     DOLLARNG     DOLLARFO     DOLLARLP\n",
       "count  4822.000000  4822.000000  4822.000000  4822.000000\n",
       "mean    926.929905   432.565118    82.316259    62.755703\n",
       "std     560.754544   494.509689   283.665555   246.200100\n",
       "min       0.000000     0.000000     0.000000     0.000000\n",
       "25%     531.000000     0.000000     0.000000     0.000000\n",
       "50%     810.000000   329.000000     0.000000     0.000000\n",
       "75%    1184.500000   720.000000     0.000000     0.000000\n",
       "max    4755.000000  5385.000000  2476.000000  3822.000000"
      ]
     },
     "execution_count": 23,
     "metadata": {},
     "output_type": "execute_result"
    }
   ],
   "source": [
    "dfs[2001][[\"DOLLAREL\", \"DOLLARNG\",\"DOLLARFO\",\"DOLLARLP\"]].describe()"
   ]
  },
  {
   "cell_type": "code",
   "execution_count": 24,
   "metadata": {},
   "outputs": [
    {
     "data": {
      "text/html": [
       "<div>\n",
       "<style scoped>\n",
       "    .dataframe tbody tr th:only-of-type {\n",
       "        vertical-align: middle;\n",
       "    }\n",
       "\n",
       "    .dataframe tbody tr th {\n",
       "        vertical-align: top;\n",
       "    }\n",
       "\n",
       "    .dataframe thead th {\n",
       "        text-align: right;\n",
       "    }\n",
       "</style>\n",
       "<table border=\"1\" class=\"dataframe\">\n",
       "  <thead>\n",
       "    <tr style=\"text-align: right;\">\n",
       "      <th></th>\n",
       "      <th>BTUEL</th>\n",
       "      <th>BTUNG</th>\n",
       "      <th>BTUFO</th>\n",
       "      <th>BTULP</th>\n",
       "    </tr>\n",
       "  </thead>\n",
       "  <tbody>\n",
       "    <tr>\n",
       "      <th>count</th>\n",
       "      <td>4822.000000</td>\n",
       "      <td>4822.000000</td>\n",
       "      <td>4822.000000</td>\n",
       "      <td>4822.000000</td>\n",
       "    </tr>\n",
       "    <tr>\n",
       "      <th>mean</th>\n",
       "      <td>36062.459146</td>\n",
       "      <td>44865.733513</td>\n",
       "      <td>9197.559104</td>\n",
       "      <td>4294.165906</td>\n",
       "    </tr>\n",
       "    <tr>\n",
       "      <th>std</th>\n",
       "      <td>25191.671439</td>\n",
       "      <td>52104.138034</td>\n",
       "      <td>31220.355409</td>\n",
       "      <td>17826.608432</td>\n",
       "    </tr>\n",
       "    <tr>\n",
       "      <th>min</th>\n",
       "      <td>0.000000</td>\n",
       "      <td>0.000000</td>\n",
       "      <td>0.000000</td>\n",
       "      <td>0.000000</td>\n",
       "    </tr>\n",
       "    <tr>\n",
       "      <th>25%</th>\n",
       "      <td>18067.250000</td>\n",
       "      <td>0.000000</td>\n",
       "      <td>0.000000</td>\n",
       "      <td>0.000000</td>\n",
       "    </tr>\n",
       "    <tr>\n",
       "      <th>50%</th>\n",
       "      <td>29442.500000</td>\n",
       "      <td>32141.000000</td>\n",
       "      <td>0.000000</td>\n",
       "      <td>0.000000</td>\n",
       "    </tr>\n",
       "    <tr>\n",
       "      <th>75%</th>\n",
       "      <td>47133.000000</td>\n",
       "      <td>76506.500000</td>\n",
       "      <td>0.000000</td>\n",
       "      <td>0.000000</td>\n",
       "    </tr>\n",
       "    <tr>\n",
       "      <th>max</th>\n",
       "      <td>224994.000000</td>\n",
       "      <td>502358.000000</td>\n",
       "      <td>262540.000000</td>\n",
       "      <td>305590.000000</td>\n",
       "    </tr>\n",
       "  </tbody>\n",
       "</table>\n",
       "</div>"
      ],
      "text/plain": [
       "               BTUEL          BTUNG          BTUFO          BTULP\n",
       "count    4822.000000    4822.000000    4822.000000    4822.000000\n",
       "mean    36062.459146   44865.733513    9197.559104    4294.165906\n",
       "std     25191.671439   52104.138034   31220.355409   17826.608432\n",
       "min         0.000000       0.000000       0.000000       0.000000\n",
       "25%     18067.250000       0.000000       0.000000       0.000000\n",
       "50%     29442.500000   32141.000000       0.000000       0.000000\n",
       "75%     47133.000000   76506.500000       0.000000       0.000000\n",
       "max    224994.000000  502358.000000  262540.000000  305590.000000"
      ]
     },
     "execution_count": 24,
     "metadata": {},
     "output_type": "execute_result"
    }
   ],
   "source": [
    "dfs[2001][[\"BTUEL\",\"BTUNG\",\"BTUFO\",\"BTULP\"]].describe()"
   ]
  },
  {
   "cell_type": "code",
   "execution_count": 26,
   "metadata": {},
   "outputs": [],
   "source": [
    "# Calculate the TOTAL BTU VALUES\n",
    "# --- BY end use\n",
    "# TOTALBTU = TOTALBTUSPH + TOTALBTUWTH + TOTALBTUOTH\n",
    "# TOTALBTUSPH = BTULPSPH + BTUNGSPH + BTUFOSPH + BTUELSPH\n",
    "# TOTALBTUWTH = BTULPWTH + BTUNGWTH + BTUFOWTH + BTUELWTH\n",
    "# TOTALBTUOTH = BTULPAPL + BTUNGOTH + BTUFOAPL + BTUELOTH + BTUELFRG +BTUELCOL\n",
    "# TOTALDOLLAR = TOTALDOLSPH + TOTALDOLWTH + TOTALDOLOTH\n",
    "# TOTALDOLSPH = DOLLPSPH+ DOLNGSPH + DOLFOSPH + DOLELSPH\n",
    "# TOTALDOLWTH = DOLLPWTH+ DOLNGWTH+ DOLFOWTH+ DOLELWTH\n",
    "# TOTALDOLOTH = DOLLPOTH + DOLNGOTH+ DOLFOOTH + DOLELOTH + DOLELFRG + DOLELCOL\n",
    "\n",
    "# --- Totals by end use\n",
    "# for y in years:\n",
    "#     dfs[y]['TOTALBTUSPH'] = dfs[y][[\"BTULPSPH\",\"BTUNGSPH\",\"BTUFOSPH\",\"BTUELSPH\"]].sum(axis = 1)\n",
    "#     dfs[y]['TOTALBTUWTH'] = dfs[y][[\"BTULPWTH\",\"BTUNGWTH\",\"BTUFOWTH\",\"BTUELWTH\"]].sum(axis = 1)\n",
    "#     dfs[y]['TOTALBTUOTH'] = dfs[y][[\"BTULPOTH\",\"BTUNGOTH\",\"BTUFOOTH\",\"BTUELOTH\",\"BTUELCOL\",\"BTUELRFG\"]].sum(axis = 1)\n",
    "#     dfs[y]['TOTALBTU'] = dfs[y][[\"TOTALBTUSPH\",\"TOTALBTUWTH\",\"TOTALBTUOTH\"]].sum(axis = 1)\n",
    "#     dfs[y]['TOTALDOLSPH'] = dfs[y][[\"DOLLPSPH\",\"DOLNGSPH\",\"DOLFOSPH\",\"DOLELSPH\"]].sum(axis = 1)\n",
    "#     dfs[y]['TOTALDOLWTH'] = dfs[y][[\"DOLLPWTH\",\"DOLNGWTH\",\"DOLFOWTH\",\"DOLELWTH\"]].sum(axis = 1)\n",
    "#     dfs[y]['TOTALDOLOTH'] = dfs[y][[\"DOLLPOTH\",\"DOLNGOTH\",\"DOLFOOTH\",\"DOLELOTH\",\"DOLELCOL\",\"DOLELRFG\"]].sum(axis = 1)\n",
    "#     dfs[y]['TOTALDOLLAR'] = dfs[y][[\"TOTALDOLSPH\",\"TOTALDOLWTH\",\"TOTALDOLOTH\"]].sum(axis = 1)\n",
    "    \n",
    "for y in years:\n",
    "    dfs[y]['TOTALBTU'] = dfs[y][[\"BTUEL\",\"BTUNG\",\"BTULP\",\"BTUFO\"]].sum(axis = 1)   \n",
    "    dfs[y]['TOTALDOLLAR'] = dfs[y][[\"DOLLAREL\", \"DOLLARNG\",\"DOLLARFO\",\"DOLLARLP\"]].sum(axis = 1)\n",
    "    \n",
    "   "
   ]
  },
  {
   "cell_type": "code",
   "execution_count": 28,
   "metadata": {},
   "outputs": [
    {
     "data": {
      "text/plain": [
       "count      4822.000000\n",
       "mean      94419.917669\n",
       "std       56346.511426\n",
       "min           0.000000\n",
       "25%       53404.750000\n",
       "50%       85784.000000\n",
       "75%      124241.750000\n",
       "max      892435.000000\n",
       "Name: TOTALBTU, dtype: float64"
      ]
     },
     "execution_count": 28,
     "metadata": {},
     "output_type": "execute_result"
    }
   ],
   "source": [
    "dfs[2001]['TOTALBTU'].describe()"
   ]
  },
  {
   "cell_type": "code",
   "execution_count": 34,
   "metadata": {},
   "outputs": [
    {
     "data": {
      "image/png": "[encoded data removed]",
      "text/plain": [
       "<Figure size 1080x504 with 1 Axes>"
      ]
     },
     "metadata": {},
     "output_type": "display_data"
    }
   ],
   "source": [
    "sns.set(style=\"whitegrid\")\n",
    "fig, ax = plt.subplots(figsize = (15,7))\n",
    "ax = sns.boxplot(x=dfs[2001]['TOTALBTU'])"
   ]
  },
  {
   "cell_type": "code",
   "execution_count": null,
   "metadata": {},
   "outputs": [],
   "source": []
  },
  {
   "cell_type": "code",
   "execution_count": 27,
   "metadata": {},
   "outputs": [
    {
     "data": {
      "text/plain": [
       "count     4822.000000\n",
       "mean      1504.566985\n",
       "std        766.709400\n",
       "min          0.000000\n",
       "25%        985.250000\n",
       "50%       1386.000000\n",
       "75%       1891.750000\n",
       "max      13441.000000\n",
       "Name: TOTALDOLLAR, dtype: float64"
      ]
     },
     "execution_count": 27,
     "metadata": {},
     "output_type": "execute_result"
    }
   ],
   "source": [
    "dfs[2001]['TOTALDOLLAR'].describe()"
   ]
  },
  {
   "cell_type": "code",
   "execution_count": 35,
   "metadata": {},
   "outputs": [
    {
     "data": {
      "image/png": "[encoded data removed]",
      "text/plain": [
       "<Figure size 1080x504 with 1 Axes>"
      ]
     },
     "metadata": {},
     "output_type": "display_data"
    }
   ],
   "source": [
    "sns.set(style=\"whitegrid\")\n",
    "fig, ax = plt.subplots(figsize = (15,7))\n",
    "ax = sns.boxplot(x=dfs[2001]['TOTALDOLLAR'])"
   ]
  },
  {
   "cell_type": "code",
   "execution_count": 36,
   "metadata": {},
   "outputs": [],
   "source": [
    "# Combine TV/AUDIO/STEREO into one col TVAUDIOEQUIP\n",
    "# 2001 - \"TVCOLOR\", \"BIGTV\", \"VCR\",\"STEREO\",\"BOOMBOX\",\"COMPCTST\",\"COMPNTST\",\"OTHSTER\"   \n",
    "\n",
    "dfs[2001]['TVAUDIOEQUIP'] = dfs[2001][[\"TVCOLOR\", \"BIGTV\", \"VCR\",\"STEREO\",\"BOOMBOX\",\"COMPCTST\",\"COMPNTST\",\"OTHSTER\"]].\\\n",
    "                                    sum(axis = 1)\n",
    "\n",
    "#2005 - first replace 99 with 0 and then add all fields\n",
    "appl_2005 = [\"TVCOLOR\",\"BIGTV\",\"PLASMANUM\",\"VCR\",\"DVD\",\"NCOMBOVCRDVD\",\"PLAYSTA\",\"STEREO\",\"BOOMBOX\",\"COMPCTST\",\"COMPNTST\",\"OTHSTER\"]\n",
    "for a in appl_2005:\n",
    "    dfs[2005][a] = dfs[2005][a].apply(lambda r : r if r != 99 else 0)\n",
    "\n",
    "dfs[2005]['TVAUDIOEQUIP'] = dfs[2005][appl_2005].sum(axis=1)\n",
    "\n",
    "#2009 - \n",
    "appl_2009 = [\"TVCOLOR\",\"COMBODVR1\",\"DVR1\",\"DIGITSTB1\",\"PLAYSTA1\",\"COMBOVCRDVD1\",\"VCR1\",\"DVD1\",\"TVAUDIOSYS1\",\"OTHERSTB1\",\"CABLESAT2\",\"COMBODVR2\",\"DVR2\",\"DIGITSTB2\",\"PLAYSTA2\",\"COMBOVCRDVD2\",\"VCR2\",\"DVD2\",\"TVAUDIOSYS2\",\"OTHERSTB2\",\"CABLESAT3\",\"COMBODVR3\",\"DVR3\",\"DIGITSTB3\",\"PLAYSTA3\",\"COMBOVCRDVD3\",\"VCR3\",\"DVD3\",\"TVAUDIOSYS3\",\"OTHERSTB3\"]\n",
    "\n",
    "for a in appl_2009:\n",
    "    dfs[2009][a] = dfs[2009][a].apply(lambda r : r if r != -2 else 0)\n",
    "\n",
    "dfs[2009]['TVAUDIOEQUIP'] = dfs[2009][appl_2009].sum(axis=1)\n",
    "\n",
    "#2015\n",
    "appl_2015 = [\"TVCOLOR\",\"CABLESAT\",\"COMBODVR\",\"SEPDVR\",\"PLAYSTA\",\"DVD\",\"VCR\",\"INTSTREAM\",\"TVAUDIOSYS\"]\n",
    "for a in appl_2015:\n",
    "    dfs[2015][a] = dfs[2015][a].apply(lambda r : r if r != -2 else 0)\n",
    "\n",
    "dfs[2015]['TVAUDIOEQUIP'] = dfs[2015][appl_2015].sum(axis = 1)"
   ]
  },
  {
   "cell_type": "code",
   "execution_count": 37,
   "metadata": {},
   "outputs": [],
   "source": [
    "# Combine PC and OFFICE  into one col PCOFFEQUIP\n",
    "\n",
    "pc_2001 = [\"NUMPC\",\"LAPTOPPC\",\"PCPRINT\",\"FXCOPIER\",\"FAX\",\"COPIER\"]\n",
    "for p in pc_2001:\n",
    "    dfs[2001][p] = dfs[2001][p].apply(lambda r : r if r != 99 else 0)\n",
    "    dfs[2001][p] = dfs[2001][p].apply(lambda r : r if r != 9 else 0)\n",
    "    \n",
    "dfs[2001]['PCOFFEQUIP'] = dfs[2001][pc_2001].sum(axis = 1)\n",
    "\n",
    "#2005 - first replace 99 or 9 with 0 and then add all fields\n",
    "pc_2005 = [\"NUMPC\",\"LAPTOPPC\",\"PCPRINT\",\"FXCOPIER\",\"FAX\",\"COPIER\"]\n",
    "monitor = [\"MONITOR1\",\"MONITOR2\",\"MONITOR3\"]\n",
    "for p in pc_2005:\n",
    "    dfs[2005][p] = dfs[2005][p].apply(lambda r : r if (r != 99) else 0)\n",
    "    dfs[2005][p] = dfs[2005][p].apply(lambda r : r if (r != 9) else 0)\n",
    "for m in monitor:\n",
    "    dfs[2005][m] = dfs[2005][m].apply(lambda r : r if (r != 99) else 0)\n",
    "    dfs[2005][m] = dfs[2005][m].apply(lambda r : r if (r != 9) else 0)\n",
    "    dfs[2005][m] = dfs[2005][m].apply(lambda r : r if (r != 2) else 1)    \n",
    "    \n",
    "dfs[2005]['PCOFFEQUIP'] = dfs[2005][pc_2005].sum(axis = 1) + dfs[2005][monitor].sum(axis = 1)\n",
    "\n",
    "#2009 - \n",
    "pc_2009 = [\"NUMPC\",\"PCPRINT\",\"FAX\",\"COPIER\"]\n",
    "monitor = [\"MONITOR1\",\"MONITOR2\",\"MONITOR3\"]\n",
    "for p in pc_2009:\n",
    "    dfs[2009][p] = dfs[2009][p].apply(lambda r : r if (r != -2) else 0)\n",
    "for m in monitor:\n",
    "    dfs[2009][m] = dfs[2009][m].apply(lambda r : r if (r != 0) else 1)\n",
    "    dfs[2009][m] = dfs[2009][m].apply(lambda r : r if (r != -2) else 0)    \n",
    "    \n",
    "dfs[2009]['PCOFFEQUIP'] = dfs[2009][pc_2009].sum(axis = 1) + dfs[2009][monitor].sum(axis = 1)\n",
    "\n",
    "#2015\n",
    "pc_2015 = [\"DESKTOP\",\"NUMLAPTOP\",\"NUMTABLET\",\"ELPERIPH\"]\n",
    "\n",
    "dfs[2015]['PCOFFEQUIP'] = dfs[2015][pc_2015].sum(axis = 1)"
   ]
  },
  {
   "cell_type": "code",
   "execution_count": 38,
   "metadata": {},
   "outputs": [
    {
     "data": {
      "text/plain": [
       "NUMSMPHONE     8\n",
       "CELLPHONE     10\n",
       "dtype: int64"
      ]
     },
     "execution_count": 38,
     "metadata": {},
     "output_type": "execute_result"
    }
   ],
   "source": [
    "dfs[2015][[\"NUMSMPHONE\",\"CELLPHONE\"]].max()"
   ]
  },
  {
   "cell_type": "code",
   "execution_count": 39,
   "metadata": {},
   "outputs": [],
   "source": [
    "# Combine All phone and phone related   into one col PHONE\n",
    "\n",
    "ph_01_05 = [\"NOCORD\",\"CELLPHON\",\"ANSMACH\"]\n",
    " \n",
    "#2001\n",
    "dfs[2001]['PHONE'] = dfs[2001][ph_01_05].sum(axis = 1)\n",
    "#2005\n",
    "dfs[2005]['PHONE'] = dfs[2005][ph_01_05].sum(axis = 1)\n",
    "\n",
    "#2009 - \n",
    "ph_2009 = [\"NOCORD\",\"ANSMACH\"]\n",
    "dfs[2009]['PHONE'] = dfs[2009][ph_2009].sum(axis = 1)\n",
    "\n",
    "#2015\n",
    "ph_2015 = [\"NUMSMPHONE\",\"CELLPHONE\"]\n",
    "\n",
    "dfs[2015]['PHONE'] = dfs[2015][ph_2015].sum(axis = 1)"
   ]
  },
  {
   "cell_type": "code",
   "execution_count": 40,
   "metadata": {},
   "outputs": [
    {
     "name": "stdout",
     "output_type": "stream",
     "text": [
      "231\n",
      "230\n",
      "242\n",
      "271\n"
     ]
    }
   ],
   "source": [
    "print(len(dfs[2001].columns))\n",
    "print(len(dfs[2005].columns))\n",
    "print(len(dfs[2009].columns))\n",
    "print(len(dfs[2015].columns))"
   ]
  },
  {
   "cell_type": "code",
   "execution_count": 44,
   "metadata": {},
   "outputs": [
    {
     "data": {
      "text/plain": [
       "193"
      ]
     },
     "execution_count": 44,
     "metadata": {},
     "output_type": "execute_result"
    }
   ],
   "source": [
    "fnl_cols = pd.read_csv(os.path.join(codebook_path, final_colList), header= None, names = ['cols']).cols.tolist()\n",
    "len(fnl_cols)"
   ]
  },
  {
   "cell_type": "code",
   "execution_count": 42,
   "metadata": {},
   "outputs": [
    {
     "name": "stdout",
     "output_type": "stream",
     "text": [
      "columns with NAN Values in 2001 datase : []\n",
      "columns with NAN Values in 2005 datase : ['CUFEETNG', 'BTUNG', 'BTUNGSPH', 'BTUNGWTH', 'BTUNGOTH', 'DOLLARNG', 'DOLNGSPH', 'DOLNGWTH', 'DOLNGOTH']\n",
      "columns with NAN Values in 2009 datase : []\n",
      "columns with NAN Values in 2015 datase : []\n"
     ]
    }
   ],
   "source": [
    "print(f\"columns with NAN Values in 2001 datase : {dfs[2001].columns[dfs[2001].isna().any()].tolist()}\")\n",
    "print(f\"columns with NAN Values in 2005 datase : {dfs[2005].columns[dfs[2005].isna().any()].tolist()}\")\n",
    "print(f\"columns with NAN Values in 2009 datase : {dfs[2009].columns[dfs[2009].isna().any()].tolist()}\")\n",
    "print(f\"columns with NAN Values in 2015 datase : {dfs[2015].columns[dfs[2015].isna().any()].tolist()}\")"
   ]
  },
  {
   "cell_type": "code",
   "execution_count": 45,
   "metadata": {},
   "outputs": [
    {
     "name": "stdout",
     "output_type": "stream",
     "text": [
      "columns with NAN Values in 2005 dataset after NA FIX : []\n"
     ]
    }
   ],
   "source": [
    "# This exists for only for 2005\n",
    "# for the columns with NA, fill it with Mean value of the column\n",
    "dfs[2005].fillna(dfs[2005].mean(), inplace = True)\n",
    "\n",
    "print(f\"columns with NAN Values in 2005 dataset after NA FIX : {dfs[2005].columns[dfs[2005].isna().any()].tolist()}\")"
   ]
  },
  {
   "cell_type": "code",
   "execution_count": 46,
   "metadata": {},
   "outputs": [],
   "source": [
    "dfs_frame = [dfs[2001][fnl_cols],dfs[2005][fnl_cols],dfs[2009][fnl_cols],dfs[2015][fnl_cols]]\n"
   ]
  },
  {
   "cell_type": "code",
   "execution_count": 47,
   "metadata": {},
   "outputs": [
    {
     "data": {
      "text/plain": [
       "(4382, 193)"
      ]
     },
     "execution_count": 47,
     "metadata": {},
     "output_type": "execute_result"
    }
   ],
   "source": [
    "dfs[2005][fnl_cols].shape"
   ]
  },
  {
   "cell_type": "code",
   "execution_count": 48,
   "metadata": {},
   "outputs": [],
   "source": [
    "# combined_DF = pd.DataFrame(columns = fnl_cols)\n",
    "# combined_DF = dfs_list[2].append(dfs_list[3], ignore_index = True)\n",
    "combined_df = pd.concat(dfs_frame)"
   ]
  },
  {
   "cell_type": "code",
   "execution_count": 59,
   "metadata": {},
   "outputs": [
    {
     "data": {
      "image/png": "[encoded data removed]",
      "text/plain": [
       "<Figure size 1080x504 with 1 Axes>"
      ]
     },
     "metadata": {},
     "output_type": "display_data"
    }
   ],
   "source": [
    "sns.set(style=\"whitegrid\")\n",
    "fig, ax = plt.subplots(figsize = (15,7))\n",
    "ax = sns.boxplot(x=dfs[2001]['TOTALBTU'])"
   ]
  },
  {
   "cell_type": "code",
   "execution_count": 49,
   "metadata": {},
   "outputs": [
    {
     "data": {
      "image/png": "[encoded data removed]",
      "text/plain": [
       "<Figure size 1080x504 with 1 Axes>"
      ]
     },
     "metadata": {},
     "output_type": "display_data"
    }
   ],
   "source": [
    "sns.set(style=\"whitegrid\")\n",
    "fig, ax = plt.subplots(figsize = (15,7))\n",
    "ax = sns.boxplot(x=combined_df['TOTALDOLLAR'])"
   ]
  },
  {
   "cell_type": "code",
   "execution_count": 66,
   "metadata": {},
   "outputs": [
    {
     "name": "stdout",
     "output_type": "stream",
     "text": [
      "columns with NAN Values in combined datase : []\n"
     ]
    }
   ],
   "source": [
    "print(f\"columns with NAN Values in combined datase : {combined_df.columns[combined_df.isna().any()].tolist()}\")"
   ]
  },
  {
   "cell_type": "code",
   "execution_count": 67,
   "metadata": {},
   "outputs": [
    {
     "name": "stdout",
     "output_type": "stream",
     "text": [
      "Total Count of records in Combined dataset: 26973\n"
     ]
    }
   ],
   "source": [
    "print(f\"Total Count of records in Combined dataset: {combined_df.DOEID.count()}\")"
   ]
  },
  {
   "cell_type": "code",
   "execution_count": 68,
   "metadata": {},
   "outputs": [],
   "source": [
    "#write file to csv\n",
    "combined_df.to_csv(os.path.join(\"./dataforfinalproject\", \"RECS_COMBINED_DATA.csv\"), index = False)"
   ]
  },
  {
   "cell_type": "code",
   "execution_count": null,
   "metadata": {},
   "outputs": [],
   "source": []
  }
 ],
 "metadata": {
  "kernelspec": {
   "display_name": "Python 3",
   "language": "python",
   "name": "python3"
  },
  "language_info": {
   "codemirror_mode": {
    "name": "ipython",
    "version": 3
   },
   "file_extension": ".py",
   "mimetype": "text/x-python",
   "name": "python",
   "nbconvert_exporter": "python",
   "pygments_lexer": "ipython3",
   "version": "3.7.0"
  }
 },
 "nbformat": 4,
 "nbformat_minor": 2
}
