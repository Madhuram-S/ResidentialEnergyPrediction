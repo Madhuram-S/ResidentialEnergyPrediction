{
 "cells": [
  {
   "cell_type": "markdown",
   "metadata": {},
   "source": [
    "## Python Script to transform data\n",
    "\n",
    "The script focuses on bring RECS data from 2001, 2005, 2009 and 2015 into \n",
    "1. common format\n",
    "2. columns mapped correctly to the correct fields\n",
    "3. calaculations done as required\n",
    "4. elimination of columns not needed\n",
    "\n",
    "### Rules:\n",
    "1.\tAll columns starting with \"Z\" is dropped\n",
    "2.\tYearMade is converted to a range as per 2015 standards\n",
    "3.\tDrop 1997\n",
    "4.\tClub all electronics into 3 categories TVREL, PCOFFEQUIP, PHONE\n",
    "5.\tAll comsumption will be BTU and KWH will not be used\n",
    "6.\tCalucaled Fields\n",
    "    - \"2001 - TOTROOMS - sum(BEDROOMS,NCOMBATH,NHAFBATH,OTHROOMS)\"\n",
    "\t- TOTALBTU = TOTALBTUSPH + TOTALBTUWTH + TOTALBTUOTH\n",
    "\t- TOTALBTUSPH = BTULPSPH + BTUNGSPH + BTUFOSPH + BTUELSPH\n",
    "\t- TOTALBTUWTH = BTULPWTH + BTUNGWTH + BTUFOWTH + BTUELWTH\n",
    "\t- TOTALBTUOTH = BTULPAPL + BTUNGOTH + BTUFOAPL + BTUELOTH + BTUELFRG +BTUELCOL\n",
    "\t- TOTALDOLLAR = TOTALBTUSPH + TOTALBTUWTH + TOTALBTUOTH\n",
    "\t- TOTALDOLSPH = DOLLPSPH+ DOLNGSPH + DOLFOSPH + DOLELSPH\n",
    "\t- TOTALDOLWTH = DOLLPWTH+ DOLNGWTH+ DOLFOWTH+ DOLELWTH\n",
    "\t- TOTALDOLOTH = DOLLPOTH + DOLNGOTH+ DOLFOOTH + DOLELOTH + DOLELFRG + DOLELCOL\n"
   ]
  },
  {
   "cell_type": "code",
   "execution_count": 1,
   "metadata": {},
   "outputs": [],
   "source": [
    "# import all dependecies\n",
    "import pandas as pd\n",
    "import os\n",
    "import csv"
   ]
  },
  {
   "cell_type": "code",
   "execution_count": 65,
   "metadata": {},
   "outputs": [],
   "source": [
    "# Global Notebook Variables and Initialization\n",
    "dataFilePath = \"dataforfinalproject/RawDataFiles\"\n",
    "\n",
    "codebook_path = \"dataforfinalproject/RawDataFiles/Codebooks\"\n",
    "\n",
    "years = [2001, 2005, 2009, 2015]\n",
    "\n",
    "dfs = {}\n",
    "\n",
    "dataFiles = ['target_final_2001.csv', \"RECS05alldata.csv\", \"recs2009_public.csv\", \"recs2015_public_v4.csv\"]\n",
    "\n",
    "col_list = ['2001_requiredCols.txt', '2005_requiredCols.txt', '2009_requiredCols.txt', '2015_requiredCols.txt']"
   ]
  },
  {
   "cell_type": "code",
   "execution_count": 66,
   "metadata": {},
   "outputs": [
    {
     "name": "stdout",
     "output_type": "stream",
     "text": [
      "2001\n",
      "2005\n",
      "2009\n",
      "2015\n"
     ]
    }
   ],
   "source": [
    "# read the files into a dataframe and compress dataframe to have only required cols\n",
    "for i, y in enumerate(years):\n",
    "    print(y)\n",
    "    df = pd.read_csv(os.path.join(dataFilePath, dataFiles[i]), low_memory=False)\n",
    "    l = pd.read_csv(os.path.join(codebook_path, col_list[i]), header= None, names = ['cols']).cols.tolist()\n",
    "    dfs[y] = df[l]"
   ]
  },
  {
   "cell_type": "markdown",
   "metadata": {},
   "source": [
    "### Format and tranform 2001 data"
   ]
  },
  {
   "cell_type": "code",
   "execution_count": 67,
   "metadata": {},
   "outputs": [
    {
     "name": "stderr",
     "output_type": "stream",
     "text": [
      "E:\\Anaconda3\\lib\\site-packages\\pandas\\core\\frame.py:3781: SettingWithCopyWarning: \n",
      "A value is trying to be set on a copy of a slice from a DataFrame\n",
      "\n",
      "See the caveats in the documentation: http://pandas.pydata.org/pandas-docs/stable/indexing.html#indexing-view-versus-copy\n",
      "  return super(DataFrame, self).rename(**kwargs)\n"
     ]
    }
   ],
   "source": [
    "# change columnname YearMade to YearMadeRange\n",
    "dfs[2015].rename(columns = {\"YEARMADERANGE\":\"YEARMADE\"}, inplace = True)\n",
    "\n",
    "# change columnname Basefin to Cellar\n",
    "dfs[2015].rename(columns = {\"BASEFIN\":\"CELLAR\"}, inplace = True)\n",
    "#dfs[2015].YEARMADE.head()\n",
    "\n",
    "# change OCCUPYYRANGE to OCCUPYY\n",
    "dfs[2015].rename(columns = {\"OCCUPYYRANGE\":\"OCCUPYY\"}, inplace = True)\n",
    "dfs[2009].rename(columns = {\"OCCUPYYRANGE\":\"OCCUPYY\"}, inplace = True)\n",
    "\n",
    "# change USENG to UGASHERE\n",
    "dfs[2009].rename(columns = {\"USENG\":\"UGASHERE\"}, inplace = True)\n",
    "\n",
    "# change \"STOVENFU\" to \"STOVENFUEL\"\n",
    "dfs[2001].rename(columns = {\"STOVENFU\":\"STOVENFUEL\"}, inplace = True)\n",
    "dfs[2005].rename(columns = {\"STOVENFU\":\"STOVENFUEL\"}, inplace = True)\n",
    "\n",
    "# rename columns OUTLGTNT(2001), NOUTLGTNT(2005, 2009) to LGTOUTNUM\n",
    "dfs[2001].rename(columns = {\"OUTLGTNT\":\"LGTOUTNUM\"}, inplace = True)\n",
    "dfs[2005].rename(columns = {\"NOUTLGTNT\":\"LGTOUTNUM\"}, inplace = True)\n",
    "dfs[2009].rename(columns = {\"NOUTLGTNT\":\"LGTOUTNUM\"}, inplace = True)\n",
    "\n",
    "# rename ORIGIN1 to Householder_Race in 2001 and 2005\n",
    "dfs[2001].rename(columns = {\"ORIGIN1\":\"HOUSEHOLDER_RACE\"}, inplace = True)\n",
    "dfs[2005].rename(columns = {\"ORIGIN1\":\"HOUSEHOLDER_RACE\"}, inplace = True)\n",
    "dfs[2009].rename(columns = {\"Householder_Race\":\"HOUSEHOLDER_RACE\"}, inplace = True)\n",
    "\n",
    "# rename CD65 and HD65 to CDD65 and HDD65\n",
    "dfs[2001].rename(columns = {\"CD65\":\"CDD65\", \"HD65\":\"HDD65\"}, inplace = True)"
   ]
  },
  {
   "cell_type": "code",
   "execution_count": 53,
   "metadata": {},
   "outputs": [],
   "source": []
  },
  {
   "cell_type": "code",
   "execution_count": 68,
   "metadata": {},
   "outputs": [],
   "source": [
    "# Calculate totrooms for 2001 data\n",
    "dfs[2001]['TOTROOMS'] = dfs[2001].BEDROOMS + dfs[2001].NCOMBATH  + dfs[2001].NHAFBATH +dfs[2001].OTHROOMS\n"
   ]
  },
  {
   "cell_type": "code",
   "execution_count": 69,
   "metadata": {},
   "outputs": [
    {
     "name": "stderr",
     "output_type": "stream",
     "text": [
      "E:\\Anaconda3\\lib\\site-packages\\ipykernel_launcher.py:4: SettingWithCopyWarning: \n",
      "A value is trying to be set on a copy of a slice from a DataFrame.\n",
      "Try using .loc[row_indexer,col_indexer] = value instead\n",
      "\n",
      "See the caveats in the documentation: http://pandas.pydata.org/pandas-docs/stable/indexing.html#indexing-view-versus-copy\n",
      "  after removing the cwd from sys.path.\n",
      "E:\\Anaconda3\\lib\\site-packages\\pandas\\core\\indexing.py:543: SettingWithCopyWarning: \n",
      "A value is trying to be set on a copy of a slice from a DataFrame.\n",
      "Try using .loc[row_indexer,col_indexer] = value instead\n",
      "\n",
      "See the caveats in the documentation: http://pandas.pydata.org/pandas-docs/stable/indexing.html#indexing-view-versus-copy\n",
      "  self.obj[item] = s\n"
     ]
    }
   ],
   "source": [
    "equipAux_type = [\"REVERSE\",\"WARMAIR\",\"STEAMR\",\"PERMELEC\",\"PIPELESS\",\"ROOMHEAT\",\"WOODKILN\",\"CARRYEL\",\"CARRYKER\",\n",
    "                 \"CHIMNEY\",\"RANGE\",\"DIFEQUIP\"]\n",
    "for e in equipAux_type:\n",
    "    dfs[2015][e] = 0\n",
    "    \n",
    "dfs[2015].loc[dfs[2015].EQUIPAUXTYPE == 1,\"CARRYEL\"] = 1\n",
    "dfs[2015].loc[dfs[2015].EQUIPAUXTYPE == 2,'WOODKILN'] = 1\n",
    "dfs[2015].loc[dfs[2015].EQUIPAUXTYPE == 3,'PIPELESS'] = 1\n",
    "dfs[2015].loc[dfs[2015].EQUIPAUXTYPE == 4,'CHIMNEY'] = 1\n",
    "dfs[2015].loc[dfs[2015].EQUIPAUXTYPE == 9,'DIFEQUIP'] = 1"
   ]
  },
  {
   "cell_type": "code",
   "execution_count": 70,
   "metadata": {},
   "outputs": [],
   "source": [
    "# For EquipAux types in 2001 to 2009, if value is -2 change it to 0\n",
    "for e in equipAux_type:\n",
    "    dfs[2001].loc[dfs[2001][e] == -2,e] = 0\n",
    "    dfs[2005].loc[dfs[2005][e] == -2,e] = 0\n",
    "    dfs[2009].loc[dfs[2009][e] == -2,e] = 0   \n"
   ]
  },
  {
   "cell_type": "code",
   "execution_count": 71,
   "metadata": {},
   "outputs": [
    {
     "name": "stderr",
     "output_type": "stream",
     "text": [
      "E:\\Anaconda3\\lib\\site-packages\\ipykernel_launcher.py:4: SettingWithCopyWarning: \n",
      "A value is trying to be set on a copy of a slice from a DataFrame.\n",
      "Try using .loc[row_indexer,col_indexer] = value instead\n",
      "\n",
      "See the caveats in the documentation: http://pandas.pydata.org/pandas-docs/stable/indexing.html#indexing-view-versus-copy\n",
      "  after removing the cwd from sys.path.\n",
      "E:\\Anaconda3\\lib\\site-packages\\pandas\\core\\indexing.py:543: SettingWithCopyWarning: \n",
      "A value is trying to be set on a copy of a slice from a DataFrame.\n",
      "Try using .loc[row_indexer,col_indexer] = value instead\n",
      "\n",
      "See the caveats in the documentation: http://pandas.pydata.org/pandas-docs/stable/indexing.html#indexing-view-versus-copy\n",
      "  self.obj[item] = s\n"
     ]
    }
   ],
   "source": [
    "equipAux_fuel = [\"ELECAUX\",\"UGASAUX\",\"LPGAUX\",\"FOKRAUX\",\"WOODAUX\",\"OTHERAUX\"]\n",
    "\n",
    "for e in equipAux_fuel:\n",
    "    dfs[2015][e] = 0\n",
    "    dfs[2009][e] = 0\n",
    "    \n",
    "\n",
    "#2015 changes\n",
    "dfs[2015].loc[dfs[2015].FUELAUX == 1,\"UGASAUX\"] = 1\n",
    "dfs[2015].loc[dfs[2015].FUELAUX == 2,'LPGAUX'] = 1\n",
    "dfs[2015].loc[dfs[2015].FUELAUX == 3,'FOKRAUX'] = 1\n",
    "dfs[2015].loc[dfs[2015].FUELAUX == 5,'ELECAUX'] = 1\n",
    "dfs[2015].loc[dfs[2015].FUELAUX == 7,'WOODAUX'] = 1\n",
    "dfs[2015].loc[dfs[2015].FUELAUX == 21,'OTHERAUX'] = 1\n",
    "\n",
    "\n"
   ]
  },
  {
   "cell_type": "code",
   "execution_count": 72,
   "metadata": {},
   "outputs": [],
   "source": [
    "# changes to 2001 to 2005\n",
    "# combine the value for FO and Kero to one column and Solar into Other columns\n",
    "\n",
    "dfs[2001]['FOKRAUX'] = 0\n",
    "dfs[2005]['FOKRAUX'] = 0\n",
    "\n",
    "\n",
    "dfs[2001].loc[(dfs[2001]['FOILAUX'] == 1) | (dfs[2001]['KEROAUX'] == 1),\"FOKRAUX\"] = 1\n",
    "dfs[2005].loc[(dfs[2005]['FOILAUX'] == 1) | (dfs[2005]['KEROAUX'] == 1),\"FOKRAUX\"] = 1\n",
    "\n",
    "dfs[2001].loc[(dfs[2001]['SOLARAUX'] == 1) | (dfs[2001]['OTHERAUX'] == 1),\"OTHERAUX\"] = 1\n",
    "dfs[2005].loc[(dfs[2005]['SOLARAUX'] == 1) | (dfs[2005]['OTHERAUX'] == 1),\"OTHERAUX\"] = 1\n"
   ]
  },
  {
   "cell_type": "code",
   "execution_count": 73,
   "metadata": {},
   "outputs": [],
   "source": [
    "for e in equipAux_fuel:\n",
    "    dfs[2001].loc[dfs[2001][e] == -2,e] = 0\n",
    "    dfs[2005].loc[dfs[2005][e] == -2,e] = 0   \n"
   ]
  },
  {
   "cell_type": "code",
   "execution_count": 74,
   "metadata": {},
   "outputs": [],
   "source": [
    "# transform 2009 Auxillary fuel type to standard fuel types as specified in years (2001, 2005 and 2015)\n",
    "equipAux_fuel_2009 = [\"FURNFUEL\",\"RADFUEL\",\"PIPEFUEL\",\"RMHTFUEL\",\"HSFUEL\",\"FPFUEL\",\"RNGFUEL\",\"DIFFUEL\"]\n",
    "for e in equipAux_fuel_2009:\n",
    "    dfs[2009].loc[dfs[2009][e] == 1,\"UGASAUX\"] = 1\n",
    "    dfs[2009].loc[dfs[2009][e] == 2,'LPGAUX'] = 1\n",
    "    dfs[2009].loc[(dfs[2009][e] == 3) | (dfs[2009][e] == 4) ,'FOKRAUX'] = 1\n",
    "    dfs[2009].loc[dfs[2009][e] == 5,'ELECAUX'] = 1\n",
    "    dfs[2009].loc[dfs[2009][e] == 7,'WOODAUX'] = 1\n",
    "    dfs[2009].loc[dfs[2009][e] > 7,'OTHERAUX'] = 1\n",
    "    "
   ]
  },
  {
   "cell_type": "code",
   "execution_count": 75,
   "metadata": {},
   "outputs": [],
   "source": [
    "# Impute the value for Energy Star Dishwasher for 2009 based on other years\n",
    "# currently go with -9 as no data has been recorded for this\n",
    "dfs[2009]['ESDISHW'] = -9"
   ]
  },
  {
   "cell_type": "code",
   "execution_count": null,
   "metadata": {},
   "outputs": [],
   "source": []
  },
  {
   "cell_type": "code",
   "execution_count": 76,
   "metadata": {},
   "outputs": [
    {
     "name": "stderr",
     "output_type": "stream",
     "text": [
      "E:\\Anaconda3\\lib\\site-packages\\ipykernel_launcher.py:5: SettingWithCopyWarning: \n",
      "A value is trying to be set on a copy of a slice from a DataFrame.\n",
      "Try using .loc[row_indexer,col_indexer] = value instead\n",
      "\n",
      "See the caveats in the documentation: http://pandas.pydata.org/pandas-docs/stable/indexing.html#indexing-view-versus-copy\n",
      "  \"\"\"\n",
      "E:\\Anaconda3\\lib\\site-packages\\ipykernel_launcher.py:10: SettingWithCopyWarning: \n",
      "A value is trying to be set on a copy of a slice from a DataFrame.\n",
      "Try using .loc[row_indexer,col_indexer] = value instead\n",
      "\n",
      "See the caveats in the documentation: http://pandas.pydata.org/pandas-docs/stable/indexing.html#indexing-view-versus-copy\n",
      "  # Remove the CWD from sys.path while we load stuff.\n",
      "E:\\Anaconda3\\lib\\site-packages\\ipykernel_launcher.py:15: SettingWithCopyWarning: \n",
      "A value is trying to be set on a copy of a slice from a DataFrame.\n",
      "Try using .loc[row_indexer,col_indexer] = value instead\n",
      "\n",
      "See the caveats in the documentation: http://pandas.pydata.org/pandas-docs/stable/indexing.html#indexing-view-versus-copy\n",
      "  from ipykernel import kernelapp as app\n",
      "E:\\Anaconda3\\lib\\site-packages\\pandas\\core\\frame.py:3781: SettingWithCopyWarning: \n",
      "A value is trying to be set on a copy of a slice from a DataFrame\n",
      "\n",
      "See the caveats in the documentation: http://pandas.pydata.org/pandas-docs/stable/indexing.html#indexing-view-versus-copy\n",
      "  return super(DataFrame, self).rename(**kwargs)\n"
     ]
    }
   ],
   "source": [
    "# Combine all categories of BTU usage into BTUXXOTH\n",
    "# --- Electric\n",
    "dfs[2001]['BTUELOTH'] = dfs[2001][[\"BTUELAPL\",\"BTUELRFG\",\"BTUELFZZ\",\"BTUELCOL\",\"BTUELDWH\",\"BTUELCDR\"]].sum(axis = 1)\n",
    "dfs[2005]['BTUELOTH'] = dfs[2005][[\"BTUELAPL\",\"BTUELRFG\",\"BTUELFZZ\",\"BTUELCOL\",\"BTUELDWH\",\"BTUELCDR\"]].sum(axis = 1)\n",
    "dfs[2015]['BTUELOTH'] = dfs[2015][[\"BTUELRFG1\",\"BTUELRFG2\",\"BTUELFRZ\",\"BTUELCOK\",\"BTUELMICRO\",\"BTUELCW\",\"BTUELCDR\",\\\n",
    "                                \"BTUELDWH\",\"BTUELLGT\",\"BTUELTVREL\",\"BTUELTV1\",\"BTUELTV2\",\"BTUELAHUHEAT\",\"BTUELAHUCOL\",\\\n",
    "                                   \"BTUELEVAPCOL\",\"BTUELCFAN\",\"BTUELDHUM\",\"BTUELHUM\",\"BTUELPLPMP\",\"BTUELHTBPMP\",\"BTUELHTBHEAT\",\\\n",
    "                                   \"BTUELNEC\"]].sum(axis = 1)\n",
    "\n",
    "# --- LPG\n",
    "dfs[2001].rename(columns = {\"BTULPAPL\":\"BTULPOTH\"}, inplace = True)\n",
    "dfs[2005].rename(columns = {\"BTULPAPL\":\"BTULPOTH\"}, inplace = True)\n",
    "dfs[2015]['BTULPOTH'] = dfs[2015][[\"BTULPCOK\",\"BTULPCDR\",\"BTULPNEC\"]].sum(axis = 1)\n",
    "\n",
    "# --- Natural Gas\n",
    "dfs[2001].rename(columns = {\"BTUNGAPL\":\"BTUNGOTH\"}, inplace = True)\n",
    "dfs[2005].rename(columns = {\"BTUNGAPL\":\"BTUNGOTH\"}, inplace = True)\n",
    "dfs[2015]['BTUNGOTH'] = dfs[2015][[\"BTUNGCOK\",\"BTUNGCDR\",\"BTUNGPLHEAT\",\"BTUNGHTBHEAT\",\"BTUNGNEC\"]].sum(axis = 1)\n",
    "\n",
    "# --- Fuel Oil\n",
    "dfs[2001]['BTUFOOTH'] = dfs[2001][[\"BTUFOAPL\",\"BTUKRAPL\"]].sum(axis = 1)\n",
    "dfs[2005].rename(columns = {\"BTUFOAPL\":\"BTUFOOTH\"}, inplace = True)\n",
    "dfs[2015].rename(columns = {\"BTUFONEC\":\"BTUFOOTH\"}, inplace = True)\n",
    "\n",
    "# for 2001, merge the total for BTU from FO and Kerosene into one col\n",
    "dfs[2001]['BTUFOSPH'] = dfs[2001][[\"BTUFOSPH\",\"BTUKRSPH\"]].sum(axis = 1)\n",
    "dfs[2001]['BTUFOWTH'] = dfs[2001][[\"BTUFOWTH\",\"BTUKRWTH\"]].sum(axis = 1)\n"
   ]
  },
  {
   "cell_type": "code",
   "execution_count": 77,
   "metadata": {},
   "outputs": [
    {
     "name": "stderr",
     "output_type": "stream",
     "text": [
      "E:\\Anaconda3\\lib\\site-packages\\ipykernel_launcher.py:5: SettingWithCopyWarning: \n",
      "A value is trying to be set on a copy of a slice from a DataFrame.\n",
      "Try using .loc[row_indexer,col_indexer] = value instead\n",
      "\n",
      "See the caveats in the documentation: http://pandas.pydata.org/pandas-docs/stable/indexing.html#indexing-view-versus-copy\n",
      "  \"\"\"\n",
      "E:\\Anaconda3\\lib\\site-packages\\ipykernel_launcher.py:10: SettingWithCopyWarning: \n",
      "A value is trying to be set on a copy of a slice from a DataFrame.\n",
      "Try using .loc[row_indexer,col_indexer] = value instead\n",
      "\n",
      "See the caveats in the documentation: http://pandas.pydata.org/pandas-docs/stable/indexing.html#indexing-view-versus-copy\n",
      "  # Remove the CWD from sys.path while we load stuff.\n",
      "E:\\Anaconda3\\lib\\site-packages\\ipykernel_launcher.py:15: SettingWithCopyWarning: \n",
      "A value is trying to be set on a copy of a slice from a DataFrame.\n",
      "Try using .loc[row_indexer,col_indexer] = value instead\n",
      "\n",
      "See the caveats in the documentation: http://pandas.pydata.org/pandas-docs/stable/indexing.html#indexing-view-versus-copy\n",
      "  from ipykernel import kernelapp as app\n",
      "E:\\Anaconda3\\lib\\site-packages\\pandas\\core\\frame.py:3781: SettingWithCopyWarning: \n",
      "A value is trying to be set on a copy of a slice from a DataFrame\n",
      "\n",
      "See the caveats in the documentation: http://pandas.pydata.org/pandas-docs/stable/indexing.html#indexing-view-versus-copy\n",
      "  return super(DataFrame, self).rename(**kwargs)\n"
     ]
    }
   ],
   "source": [
    "# Combine all categories of DOL usage into DOLXXOTH\n",
    "# --- Electric\n",
    "dfs[2001]['DOLELOTH'] = dfs[2001][[\"DOLELAPL\",\"DOLELRFG\",\"DOLELFZZ\",\"DOLELCOL\",\"DOLELDWH\",\"DOLELCDR\"]].sum(axis = 1)\n",
    "dfs[2005]['DOLELOTH'] = dfs[2005][[\"DOLELAPL\",\"DOLELRFG\",\"DOLELFZZ\",\"DOLELCOL\",\"DOLELDWH\",\"DOLELCDR\"]].sum(axis = 1)\n",
    "dfs[2015]['DOLELOTH'] = dfs[2015][[\"DOLELRFG1\",\"DOLELRFG2\",\"DOLELFRZ\",\"DOLELCOK\",\"DOLELMICRO\",\"DOLELCW\",\"DOLELCDR\",\\\n",
    "                                   \"DOLELDWH\",\"DOLELLGT\",\"DOLELTVREL\",\"DOLELTV1\",\"DOLELTV2\",\"DOLELAHUHEAT\",\"DOLELAHUCOL\",\\\n",
    "                                   \"DOLELCFAN\",\"DOLELDHUM\",\"DOLELHUM\",\"DOLELPLPMP\",\"DOLELHTBPMP\",\"DOLELHTBHEAT\",\\\n",
    "                                   \"DOLELNEC\"]].sum(axis = 1)\n",
    "\n",
    "# --- LPG\n",
    "dfs[2001].rename(columns = {\"DOLLPAPL\":\"DOLLPOTH\"}, inplace = True)\n",
    "dfs[2005].rename(columns = {\"DOLLPAPL\":\"DOLLPOTH\"}, inplace = True)\n",
    "dfs[2015]['DOLLPOTH'] = dfs[2015][[\"DOLLPCOK\",\"DOLLPCDR\",\"DOLLPNEC\"]].sum(axis = 1)\n",
    "\n",
    "# --- Natural Gas\n",
    "dfs[2001].rename(columns = {\"DOLNGAPL\":\"DOLNGOTH\"}, inplace = True)\n",
    "dfs[2005].rename(columns = {\"DOLNGAPL\":\"DOLNGOTH\"}, inplace = True)\n",
    "dfs[2015]['DOLNGOTH'] = dfs[2015][[\"DOLNGCOK\",\"DOLNGCDR\",\"DOLNGPLHEAT\",\"DOLNGHTBHEAT\",\"DOLNGNEC\"]].sum(axis = 1)\n",
    "\n",
    "# --- Fuel Oil\n",
    "dfs[2001]['DOLFOOTH'] = dfs[2001][[\"DOLFOAPL\",\"DOLKRAPL\"]].sum(axis = 1)\n",
    "dfs[2005].rename(columns = {\"DOLFOAPL\":\"DOLFOOTH\"}, inplace = True)\n",
    "dfs[2015].rename(columns = {\"DOLFONEC\":\"DOLFOOTH\"}, inplace = True)\n",
    "\n",
    "# for 2001, merge the total for DOL from FO and Kerosene into one col\n",
    "dfs[2001]['DOLFOSPH'] = dfs[2001][[\"DOLFOSPH\",\"DOLKRSPH\"]].sum(axis = 1)\n",
    "dfs[2001]['DOLFOWTH'] = dfs[2001][[\"DOLFOWTH\",\"DOLKRWTH\"]].sum(axis = 1)\n",
    "\n"
   ]
  },
  {
   "cell_type": "code",
   "execution_count": null,
   "metadata": {},
   "outputs": [],
   "source": [
    "# Calculate the TOTAL BTU VALUES\n",
    "# TOTALBTU = TOTALBTUSPH + TOTALBTUWTH + TOTALBTUOTH\n",
    "# TOTALBTUSPH = BTULPSPH + BTUNGSPH + BTUFOSPH + BTUELSPH\n",
    "# TOTALBTUWTH = BTULPWTH + BTUNGWTH + BTUFOWTH + BTUELWTH\n",
    "# TOTALBTUOTH = BTULPAPL + BTUNGOTH + BTUFOAPL + BTUELOTH + BTUELFRG +BTUELCOL\n",
    "# TOTALDOLLAR = TOTALBTUSPH + TOTALBTUWTH + TOTALBTUOTH\n",
    "# TOTALDOLSPH = DOLLPSPH+ DOLNGSPH + DOLFOSPH + DOLELSPH\n",
    "# TOTALDOLWTH = DOLLPWTH+ DOLNGWTH+ DOLFOWTH+ DOLELWTH\n",
    "# TOTALDOLOTH = DOLLPOTH + DOLNGOTH+ DOLFOOTH + DOLELOTH + DOLELFRG + DOLELCOL\n",
    "\n",
    "# --- Electric\n",
    "for y in years:\n",
    "    dfs[y]['']\n"
   ]
  },
  {
   "cell_type": "markdown",
   "metadata": {},
   "source": [
    "Columns to be dropped in 2001\n",
    "'SOLARAUX', 'FOILAUX', 'KEROAUX', \"BTUELAPL\",\"BTUELRFG\",\"BTUELFZZ\",\"BTUELCOL\",\"BTUELDWH\",\"BTUELCDR\", \"BTUFOAPL\",\"BTUKRAPL\", \"BTUKRSPH\", \"BTUKRWTH\", \"DOLELAPL\",\"DOLELRFG\",\"DOLELFZZ\",\"DOLELCOL\",\"DOLELDWH\",\"DOLELCDR\", \"DOLFOAPL\",\"DOLKRAPL\", \"DOLKRSPH\", \"DOLKRWTH\"\n",
    "\n",
    "Columns to be dropped inn 2005\n",
    "'SOLARAUX', 'FOILAUX', 'KEROAUX', \"BTUELAPL\",\"BTUELRFG\",\"BTUELFZZ\",\"BTUELCOL\",\"BTUELDWH\",\"BTUELCDR\", \"DOLELAPL\",\"DOLELRFG\",\"DOLELFZZ\",\"DOLELCOL\",\"DOLELDWH\",\"DOLELCDR\"\n",
    "\n",
    "\n",
    "columns to  be dropped in 2009\n",
    "\"FURNFUEL\",\"RADFUEL\",\"PIPEFUEL\",\"RMHTFUEL\",\"HSFUEL\",\"FPFUEL\",\"RNGFUEL\",\"DIFFUEL\", \"TOTSQFT_EN\"\n",
    "\n",
    "Columns to be dropped in 2015\n",
    "\"EQUIPAUXTYPE\",\"FUELAUX\", \"TOTSQFT_EN\", \"BTUELRFG1\",\"BTUELRFG2\",\"BTUELFRZ\",\"BTUELCOK\",\"BTUELMICRO\",\"BTUELCW\",\"BTUELCDR\",\"BTUELDWH\",\"BTUELLGT\",\"BTUELTVREL\",\"BTUELTV1\",\"BTUELTV2\",\"BTUELAHUHEAT\",\"BTUELAHUCOL\",\"BTUELEVAPCOL\",\"BTUELCFAN\",\"BTUELDHUM\",\"BTUELHUM\",\"BTUELPLPMP\",\"BTUELHTBPMP\",\"BTUELHTBHEAT\",\"BTUELNEC\", \"BTULPCOK\",\"BTULPCDR\",\"BTULPNEC\", \"BTUNGCOK\",\"BTUNGCDR\",\"BTUNGPLHEAT\",\"BTUNGHTBHEAT\",\"BTUNGNEC\", \"DOLELRFG1\",\"DOLELRFG2\",\"DOLELFRZ\",\"DOLELCOK\",\"DOLELMICRO\",\"DOLELCW\",\"DOLELCDR\",\"DOLELDWH\",\"DOLELLGT\",\"DOLELTVREL\",\"DOLELTV1\",\"DOLELTV2\",\"DOLELAHUHEAT\",\"DOLELAHUCOL\",\"DOLELCFAN\",\"DOLELDHUM\",\"DOLELHUM\",\"DOLELPLPMP\",\"DOLELHTBPMP\",\"DOLELHTBHEAT\",\"DOLELNEC\", \"DOLLPCOK\",\"DOLLPCDR\",\"DOLLPNEC\", \"DOLNGCOK\",\"DOLNGCDR\",\"DOLNGPLHEAT\",\"DOLNGHTBHEAT\",\"DOLNGNEC\"\n",
    "\n"
   ]
  }
 ],
 "metadata": {
  "kernelspec": {
   "display_name": "Python 3",
   "language": "python",
   "name": "python3"
  },
  "language_info": {
   "codemirror_mode": {
    "name": "ipython",
    "version": 3
   },
   "file_extension": ".py",
   "mimetype": "text/x-python",
   "name": "python",
   "nbconvert_exporter": "python",
   "pygments_lexer": "ipython3",
   "version": "3.7.0"
  }
 },
 "nbformat": 4,
 "nbformat_minor": 2
}
