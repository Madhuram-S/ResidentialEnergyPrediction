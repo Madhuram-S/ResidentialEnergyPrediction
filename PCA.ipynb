{
 "cells": [
  {
   "cell_type": "code",
   "execution_count": 1,
   "metadata": {},
   "outputs": [],
   "source": [
    "import numpy as np\n",
    "from sklearn.decomposition import PCA\n",
    "import pandas as pd\n",
    "import matplotlib.pyplot as plt\n",
    "from sklearn.preprocessing import scale\n",
    "%matplotlib inline"
   ]
  },
  {
   "cell_type": "code",
   "execution_count": 2,
   "metadata": {},
   "outputs": [
    {
     "name": "stderr",
     "output_type": "stream",
     "text": [
      "C:\\Users\\justi\\Anaconda3\\lib\\site-packages\\IPython\\core\\interactiveshell.py:2785: DtypeWarning: Columns (142,143,144,145) have mixed types. Specify dtype option on import or set low_memory=False.\n",
      "  interactivity=interactivity, compiler=compiler, result=result)\n"
     ]
    }
   ],
   "source": [
    "raw_df = pd.read_csv(\"../Project3/dataforfinalproject/RECS_COMBINED_DATA.csv\")\n",
    "raw_df = raw_df.drop(columns=['RECSYEAR', \n",
    "                              'DOEID', \n",
    "                              'PERIODFO', \n",
    "                              'PERIODLP', \n",
    "                              'PERIODEL', \n",
    "                              'PERIODNG'])"
   ]
  },
  {
   "cell_type": "code",
   "execution_count": 3,
   "metadata": {},
   "outputs": [],
   "source": [
    "#convert it to numpy arrays\n",
    "X=raw_df.values"
   ]
  },
  {
   "cell_type": "code",
   "execution_count": 4,
   "metadata": {},
   "outputs": [],
   "source": [
    "#scaling the values\n",
    "X = scale(X)"
   ]
  },
  {
   "cell_type": "code",
   "execution_count": 5,
   "metadata": {},
   "outputs": [],
   "source": [
    "pca = PCA(n_components=187)"
   ]
  },
  {
   "cell_type": "code",
   "execution_count": 6,
   "metadata": {},
   "outputs": [
    {
     "data": {
      "text/plain": [
       "PCA(copy=True, iterated_power='auto', n_components=187, random_state=None,\n",
       "  svd_solver='auto', tol=0.0, whiten=False)"
      ]
     },
     "execution_count": 6,
     "metadata": {},
     "output_type": "execute_result"
    }
   ],
   "source": [
    "pca.fit(X)"
   ]
  },
  {
   "cell_type": "code",
   "execution_count": 7,
   "metadata": {},
   "outputs": [],
   "source": [
    "var= pca.explained_variance_ratio_"
   ]
  },
  {
   "cell_type": "code",
   "execution_count": 8,
   "metadata": {},
   "outputs": [],
   "source": [
    "var1=np.cumsum(np.round(pca.explained_variance_ratio_, decimals=4)*100)"
   ]
  },
  {
   "cell_type": "code",
   "execution_count": 9,
   "metadata": {},
   "outputs": [
    {
     "name": "stdout",
     "output_type": "stream",
     "text": [
      "[12.71 21.06 28.84 35.3  40.16 43.91 46.32 48.55 50.49 52.29 54.02 55.48\n",
      " 56.82 58.04 59.21 60.36 61.5  62.57 63.61 64.63 65.61 66.55 67.41 68.24\n",
      " 69.05 69.84 70.59 71.32 72.01 72.68 73.32 73.94 74.54 75.13 75.7  76.26\n",
      " 76.81 77.35 77.88 78.4  78.91 79.42 79.93 80.43 80.91 81.39 81.86 82.32\n",
      " 82.77 83.22 83.66 84.09 84.52 84.94 85.35 85.75 86.14 86.52 86.9  87.26\n",
      " 87.61 87.95 88.29 88.62 88.94 89.26 89.57 89.87 90.17 90.46 90.75 91.03\n",
      " 91.31 91.58 91.85 92.1  92.35 92.6  92.83 93.06 93.28 93.5  93.72 93.94\n",
      " 94.15 94.36 94.57 94.77 94.96 95.14 95.32 95.5  95.67 95.84 96.01 96.17\n",
      " 96.32 96.46 96.6  96.74 96.87 97.   97.12 97.24 97.35 97.46 97.57 97.68\n",
      " 97.78 97.87 97.96 98.05 98.14 98.22 98.3  98.38 98.45 98.52 98.59 98.65\n",
      " 98.71 98.77 98.83 98.89 98.94 98.99 99.04 99.09 99.13 99.17 99.21 99.25\n",
      " 99.29 99.33 99.37 99.41 99.44 99.47 99.5  99.53 99.56 99.59 99.61 99.63\n",
      " 99.65 99.67 99.69 99.71 99.73 99.75 99.77 99.79 99.81 99.82 99.83 99.84\n",
      " 99.85 99.86 99.87 99.88 99.89 99.9  99.91 99.92 99.93 99.94 99.95 99.96\n",
      " 99.96 99.96 99.96 99.96 99.96 99.96 99.96 99.96 99.96 99.96 99.96 99.96\n",
      " 99.96 99.96 99.96 99.96 99.96 99.96 99.96]\n"
     ]
    }
   ],
   "source": [
    "print(var1)"
   ]
  },
  {
   "cell_type": "code",
   "execution_count": 15,
   "metadata": {},
   "outputs": [
    {
     "data": {
      "text/plain": [
       "[<matplotlib.lines.Line2D at 0x1b7cf549208>]"
      ]
     },
     "execution_count": 15,
     "metadata": {},
     "output_type": "execute_result"
    },
    {
     "data": {
      "image/png": "[encoded data removed]",
      "text/plain": [
       "<Figure size 432x288 with 1 Axes>"
      ]
     },
     "metadata": {
      "needs_background": "light"
     },
     "output_type": "display_data"
    }
   ],
   "source": [
    "plt.grid(which='major', linestyle='-', linewidth='0.5', color='red')\n",
    "plt.plot(var1)"
   ]
  },
  {
   "cell_type": "code",
   "execution_count": 17,
   "metadata": {},
   "outputs": [],
   "source": [
    "pca = PCA(n_components=150)\n",
    "pca.fit(X)\n",
    "X1=pca.fit_transform(X)"
   ]
  },
  {
   "cell_type": "code",
   "execution_count": 18,
   "metadata": {},
   "outputs": [
    {
     "name": "stdout",
     "output_type": "stream",
     "text": [
      "[[ 6.97497798e+00 -1.34765554e+00  4.68925316e+00 ...  1.05618227e-01\n",
      "   6.09685363e-02  3.64889257e-02]\n",
      " [ 6.57571004e+00 -2.02915833e+00  2.99152027e+00 ...  2.22063848e-01\n",
      "  -1.42926044e-02 -1.71629187e-01]\n",
      " [ 3.59130466e+01  9.20246968e+01 -2.78636495e+01 ...  1.37526107e-01\n",
      "   1.41040707e-02 -9.53149334e-02]\n",
      " ...\n",
      " [-2.69833998e+00 -1.57131324e+00 -7.19074813e+00 ... -5.94615784e-02\n",
      "   2.12528915e-02  4.97816588e-02]\n",
      " [-1.84629046e+00  1.04970962e+00 -1.64094088e-01 ...  1.78595276e-01\n",
      "   6.21546239e-02 -1.26682716e-01]\n",
      " [-3.17612977e+00 -8.16918273e-01 -6.06727821e+00 ... -1.32797129e-01\n",
      "   5.23811047e-02  5.43692174e-02]]\n"
     ]
    }
   ],
   "source": [
    "print(X1)"
   ]
  },
  {
   "cell_type": "code",
   "execution_count": null,
   "metadata": {},
   "outputs": [],
   "source": []
  }
 ],
 "metadata": {
  "kernelspec": {
   "display_name": "Python 3",
   "language": "python",
   "name": "python3"
  },
  "language_info": {
   "codemirror_mode": {
    "name": "ipython",
    "version": 3
   },
   "file_extension": ".py",
   "mimetype": "text/x-python",
   "name": "python",
   "nbconvert_exporter": "python",
   "pygments_lexer": "ipython3",
   "version": "3.7.0"
  }
 },
 "nbformat": 4,
 "nbformat_minor": 2
}
