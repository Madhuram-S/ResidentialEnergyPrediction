{
 "cells": [
  {
   "cell_type": "code",
   "execution_count": 154,
   "metadata": {},
   "outputs": [],
   "source": [
    "import pandas as pd\n",
    "import functools\n",
    "import glob\n",
    "import os"
   ]
  },
  {
   "cell_type": "code",
   "execution_count": 155,
   "metadata": {},
   "outputs": [],
   "source": [
    "def get_final_merge(file_path,target_file) :\n",
    "    pth=os.path.join(file_path)\n",
    "    files=glob.glob(pth)\n",
    "    print(files)\n",
    "    dfs = [pd.read_csv(f, sep=',') for f in files ]\n",
    "    for df in dfs:\n",
    "        #if (file_path == '1997/*.csv'):\n",
    "        df.dropna(how='any',axis=0,inplace=True)\n",
    "        df[['DOEID','NWEIGHT','MQRESULT','REGIONC','DIVISION','LRGSTATE','CDD65','HDD65','TYPEHUQ']]=df[['DOEID','NWEIGHT','MQRESULT','REGIONC','DIVISION','LRGSTATE','CDD65','HDD65','TYPEHUQ']].astype(int)\n",
    "    df = functools.reduce(lambda left,right: pd.merge(left,right,on=['DOEID','NWEIGHT','MQRESULT','REGIONC','DIVISION','LRGSTATE','CDD65','HDD65','TYPEHUQ'], how='inner'),dfs)\n",
    "    df.to_csv(target_file)\n",
    "    return"
   ]
  },
  {
   "cell_type": "code",
   "execution_count": 156,
   "metadata": {},
   "outputs": [
    {
     "name": "stdout",
     "output_type": "stream",
     "text": [
      "['1997\\\\file10os.csv', '1997\\\\file11os.csv', '1997\\\\file12os.csv', '1997\\\\file1os.csv', '1997\\\\file2os.csv', '1997\\\\file3os.csv', '1997\\\\file4os.csv', '1997\\\\file5os.csv', '1997\\\\file6os.csv', '1997\\\\file7os.csv', '1997\\\\file8os.csv', '1997\\\\file9os.csv']\n"
     ]
    }
   ],
   "source": [
    "get_final_merge('1997/*.csv','target_final_1997.csv')"
   ]
  },
  {
   "cell_type": "code",
   "execution_count": 157,
   "metadata": {},
   "outputs": [
    {
     "name": "stdout",
     "output_type": "stream",
     "text": [
      "['2001\\\\datafile102001.csv', '2001\\\\datafile112001.csv', '2001\\\\datafile122001.csv', '2001\\\\datafile2001.csv', '2001\\\\datafile22001.csv', '2001\\\\datafile32001.csv', '2001\\\\datafile42001.csv', '2001\\\\datafile52001.csv', '2001\\\\datafile62001.csv', '2001\\\\datafile72001.csv', '2001\\\\datafile82001.csv', '2001\\\\datafile92001.csv']\n"
     ]
    }
   ],
   "source": [
    "get_final_merge('2001/*.csv','target_final_2001.csv')"
   ]
  },
  {
   "cell_type": "code",
   "execution_count": null,
   "metadata": {},
   "outputs": [],
   "source": []
  }
 ],
 "metadata": {
  "kernelspec": {
   "display_name": "Python 3",
   "language": "python",
   "name": "python3"
  },
  "language_info": {
   "codemirror_mode": {
    "name": "ipython",
    "version": 3
   },
   "file_extension": ".py",
   "mimetype": "text/x-python",
   "name": "python",
   "nbconvert_exporter": "python",
   "pygments_lexer": "ipython3",
   "version": "3.6.7"
  }
 },
 "nbformat": 4,
 "nbformat_minor": 2
}
